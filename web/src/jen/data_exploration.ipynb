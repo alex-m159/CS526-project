{
 "cells": [
  {
   "cell_type": "code",
   "execution_count": 8,
   "id": "8618543d-a6fe-4471-a733-35982d3336c7",
   "metadata": {},
   "outputs": [],
   "source": [
    "import clickhouse_connect\n",
    "import pandas as pd\n",
    "import polars as pl\n",
    "import numpy as np\n",
    "import plotly.express as px\n",
    "import sys\n",
    "import json"
   ]
  },
  {
   "cell_type": "code",
   "execution_count": 9,
   "id": "7d10a957-8351-4d23-a343-ed742095d8a6",
   "metadata": {},
   "outputs": [],
   "source": [
    "client = clickhouse_connect.get_client(host='hub.publichealthhq.xyz', port=18123, username='default', password='Password123!')"
   ]
  },
  {
   "cell_type": "code",
   "execution_count": 3,
   "id": "a963e7ae-f90e-4b05-898a-8d4734d904b2",
   "metadata": {},
   "outputs": [
    {
     "data": {
      "text/plain": [
       "[(0, None),\n",
       " (999999999, None),\n",
       " (999999999, None),\n",
       " (1692, None),\n",
       " (1522, None),\n",
       " (1740, None),\n",
       " (2300, None),\n",
       " (0, None),\n",
       " (0, None),\n",
       " (0, None)]"
      ]
     },
     "execution_count": 3,
     "metadata": {},
     "output_type": "execute_result"
    }
   ],
   "source": [
    "client.command('USE cps_00004')\n",
    "#result = client.query('SELECT DISTINCT COUNTY FROM cps_00004 WHERE COUNTY IS NOT NULL LIMIT 100')\n",
    "#result = client.query('SELECT * FROM cps_00004 WHERE YEAR > 1999 LIMIT 1')\n",
    "result = client.query('SELECT INCTOT, FTOTVAL FROM cps_00004 LIMIT 10')\n",
    "result.result_rows"
   ]
  },
  {
   "cell_type": "code",
   "execution_count": 119,
   "id": "7f4c3c32-bd54-4c08-91f6-ab7a2481d024",
   "metadata": {},
   "outputs": [
    {
     "data": {
      "text/plain": [
       "' focus on income\\n important variables: \\n INCTOT - total personal income\\n FTOTVAL - total family income\\n ADJGINC - adjusted gross income\\n'"
      ]
     },
     "execution_count": 119,
     "metadata": {},
     "output_type": "execute_result"
    }
   ],
   "source": [
    "\"\"\" focus on income\n",
    " important variables: \n",
    " INCTOT - total personal income\n",
    " FTOTVAL - total family income\n",
    " ADJGINC - adjusted gross income\n",
    "\"\"\""
   ]
  },
  {
   "cell_type": "code",
   "execution_count": 133,
   "id": "93932a5d-6440-4f8c-a266-420a9b472f36",
   "metadata": {},
   "outputs": [],
   "source": [
    "#finding state to average income mapping\n",
    "client.command('USE cps_00004')\n",
    "result = client.query(\"\"\"\n",
    "SELECT\n",
    "    STATEFIP,\n",
    "    YEAR,\n",
    "    ROUND(AVG(INCTOT)) AS avg_INCTOT,\n",
    "    ROUND(AVG(FTOTVAL)) AS avg_FTOTVAL\n",
    "FROM\n",
    "    cps_00004\n",
    "WHERE\n",
    "    YEAR > 1999\n",
    "    AND\n",
    "    INCTOT != 999999999\n",
    "    AND \n",
    "    FTOTVAL != 9999999999\n",
    "GROUP BY \n",
    "    STATEFIP,\n",
    "    YEAR\n",
    "ORDER BY\n",
    "    STATEFIP, \n",
    "    YEAR\n",
    "\"\"\")"
   ]
  },
  {
   "cell_type": "code",
   "execution_count": 159,
   "id": "2348ab5d-af5f-49ac-b6f1-bb3cdb32f1bc",
   "metadata": {},
   "outputs": [
    {
     "data": {
      "text/html": [
       "<div>\n",
       "<style scoped>\n",
       "    .dataframe tbody tr th:only-of-type {\n",
       "        vertical-align: middle;\n",
       "    }\n",
       "\n",
       "    .dataframe tbody tr th {\n",
       "        vertical-align: top;\n",
       "    }\n",
       "\n",
       "    .dataframe thead th {\n",
       "        text-align: right;\n",
       "    }\n",
       "</style>\n",
       "<table border=\"1\" class=\"dataframe\">\n",
       "  <thead>\n",
       "    <tr style=\"text-align: right;\">\n",
       "      <th></th>\n",
       "      <th>STATEFIP</th>\n",
       "      <th>YEAR</th>\n",
       "      <th>avg_INCTOT</th>\n",
       "      <th>avg_FTOTVAL</th>\n",
       "      <th>STATE_NAME</th>\n",
       "      <th>STATE_ABBREV</th>\n",
       "    </tr>\n",
       "  </thead>\n",
       "  <tbody>\n",
       "    <tr>\n",
       "      <th>0</th>\n",
       "      <td>1</td>\n",
       "      <td>2000</td>\n",
       "      <td>22383.0</td>\n",
       "      <td>48455.0</td>\n",
       "      <td>Alabama</td>\n",
       "      <td>AL</td>\n",
       "    </tr>\n",
       "    <tr>\n",
       "      <th>1</th>\n",
       "      <td>1</td>\n",
       "      <td>2001</td>\n",
       "      <td>23447.0</td>\n",
       "      <td>53766.0</td>\n",
       "      <td>Alabama</td>\n",
       "      <td>AL</td>\n",
       "    </tr>\n",
       "    <tr>\n",
       "      <th>2</th>\n",
       "      <td>1</td>\n",
       "      <td>2002</td>\n",
       "      <td>24878.0</td>\n",
       "      <td>54886.0</td>\n",
       "      <td>Alabama</td>\n",
       "      <td>AL</td>\n",
       "    </tr>\n",
       "    <tr>\n",
       "      <th>3</th>\n",
       "      <td>1</td>\n",
       "      <td>2003</td>\n",
       "      <td>25527.0</td>\n",
       "      <td>56029.0</td>\n",
       "      <td>Alabama</td>\n",
       "      <td>AL</td>\n",
       "    </tr>\n",
       "    <tr>\n",
       "      <th>4</th>\n",
       "      <td>1</td>\n",
       "      <td>2004</td>\n",
       "      <td>26461.0</td>\n",
       "      <td>57530.0</td>\n",
       "      <td>Alabama</td>\n",
       "      <td>AL</td>\n",
       "    </tr>\n",
       "  </tbody>\n",
       "</table>\n",
       "</div>"
      ],
      "text/plain": [
       "  STATEFIP  YEAR  avg_INCTOT  avg_FTOTVAL STATE_NAME STATE_ABBREV\n",
       "0        1  2000     22383.0      48455.0    Alabama           AL\n",
       "1        1  2001     23447.0      53766.0    Alabama           AL\n",
       "2        1  2002     24878.0      54886.0    Alabama           AL\n",
       "3        1  2003     25527.0      56029.0    Alabama           AL\n",
       "4        1  2004     26461.0      57530.0    Alabama           AL"
      ]
     },
     "execution_count": 159,
     "metadata": {},
     "output_type": "execute_result"
    }
   ],
   "source": [
    "state_income = pd.DataFrame(result.named_results())\n",
    "#state_income.head()\n",
    "# merge with state name and state abbrev csv\n",
    "state_info = pd.read_csv('us-state-ansi-fips.csv', skipinitialspace=True)\n",
    "state_info.rename(columns={'st':'STATEFIP'}, inplace=True)\n",
    "state_info.rename(columns={'stusps':'STATE_ABBREV'}, inplace=True)\n",
    "state_info.rename(columns={'stname':'STATE_NAME'}, inplace=True)\n",
    "list(state_info.columns)\n",
    "# check types\n",
    "state_income['STATEFIP'] = state_income['STATEFIP'].astype(str)\n",
    "state_info['STATEFIP'] = state_info['STATEFIP'].astype(str)\n",
    "state_merged = pd.merge(state_income, state_info, on='STATEFIP', how='left')\n",
    "state_merged.head()"
   ]
  },
  {
   "cell_type": "code",
   "execution_count": 172,
   "id": "4e07b73b-bec7-46e3-8767-577e48af61cb",
   "metadata": {},
   "outputs": [
    {
     "data": {
      "application/vnd.plotly.v1+json": {
       "config": {
        "plotlyServerURL": "https://plot.ly"
       },
       "data": [
        {
         "coloraxis": "coloraxis",
         "geo": "geo",
         "hovertemplate": "YEAR=2000<br>STATE_ABBREV=%{location}<br>avg_INCTOT=%{z}<extra></extra>",
         "locationmode": "USA-states",
         "locations": [
          "AL",
          "AK",
          "AZ",
          "AR",
          "CA",
          "CO",
          "CT",
          "DE",
          "DC",
          "FL",
          "GA",
          "HI",
          "ID",
          "IL",
          "IN",
          "IA",
          "KS",
          "KY",
          "LA",
          "ME",
          "MD",
          "MA",
          "MI",
          "MN",
          "MS",
          "MO",
          "MT",
          "NE",
          "NV",
          "NH",
          "NJ",
          "NM",
          "NY",
          "NC",
          "ND",
          "OH",
          "OK",
          "OR",
          "PA",
          "RI",
          "SC",
          "SD",
          "TN",
          "TX",
          "UT",
          "VT",
          "VA",
          "WA",
          "WV",
          "WI",
          "WY"
         ],
         "name": "",
         "type": "choropleth",
         "z": [
          22383,
          32557,
          22798,
          20443,
          25413,
          29784,
          33619,
          28014,
          33447,
          24516,
          24611,
          27047,
          22117,
          28817,
          24621,
          26152,
          24813,
          22796,
          22297,
          25078,
          33174,
          30099,
          29586,
          29012,
          20758,
          26356,
          20686,
          23956,
          25276,
          30095,
          31128,
          21253,
          27156,
          25674,
          21280,
          27203,
          23227,
          26420,
          26743,
          27696,
          23556,
          22053,
          25200,
          23336,
          23802,
          25410,
          31165,
          28740,
          20269,
          27856,
          23240
         ]
        }
       ],
       "frames": [
        {
         "data": [
          {
           "coloraxis": "coloraxis",
           "geo": "geo",
           "hovertemplate": "YEAR=2000<br>STATE_ABBREV=%{location}<br>avg_INCTOT=%{z}<extra></extra>",
           "locationmode": "USA-states",
           "locations": [
            "AL",
            "AK",
            "AZ",
            "AR",
            "CA",
            "CO",
            "CT",
            "DE",
            "DC",
            "FL",
            "GA",
            "HI",
            "ID",
            "IL",
            "IN",
            "IA",
            "KS",
            "KY",
            "LA",
            "ME",
            "MD",
            "MA",
            "MI",
            "MN",
            "MS",
            "MO",
            "MT",
            "NE",
            "NV",
            "NH",
            "NJ",
            "NM",
            "NY",
            "NC",
            "ND",
            "OH",
            "OK",
            "OR",
            "PA",
            "RI",
            "SC",
            "SD",
            "TN",
            "TX",
            "UT",
            "VT",
            "VA",
            "WA",
            "WV",
            "WI",
            "WY"
           ],
           "name": "",
           "type": "choropleth",
           "z": [
            22383,
            32557,
            22798,
            20443,
            25413,
            29784,
            33619,
            28014,
            33447,
            24516,
            24611,
            27047,
            22117,
            28817,
            24621,
            26152,
            24813,
            22796,
            22297,
            25078,
            33174,
            30099,
            29586,
            29012,
            20758,
            26356,
            20686,
            23956,
            25276,
            30095,
            31128,
            21253,
            27156,
            25674,
            21280,
            27203,
            23227,
            26420,
            26743,
            27696,
            23556,
            22053,
            25200,
            23336,
            23802,
            25410,
            31165,
            28740,
            20269,
            27856,
            23240
           ]
          }
         ],
         "name": "2000"
        },
        {
         "data": [
          {
           "coloraxis": "coloraxis",
           "geo": "geo",
           "hovertemplate": "YEAR=2001<br>STATE_ABBREV=%{location}<br>avg_INCTOT=%{z}<extra></extra>",
           "locationmode": "USA-states",
           "locations": [
            "AL",
            "AK",
            "AZ",
            "AR",
            "CA",
            "CO",
            "CT",
            "DE",
            "DC",
            "FL",
            "GA",
            "HI",
            "ID",
            "IL",
            "IN",
            "IA",
            "KS",
            "KY",
            "LA",
            "ME",
            "MD",
            "MA",
            "MI",
            "MN",
            "MS",
            "MO",
            "MT",
            "NE",
            "NV",
            "NH",
            "NJ",
            "NM",
            "NY",
            "NC",
            "ND",
            "OH",
            "OK",
            "OR",
            "PA",
            "RI",
            "SC",
            "SD",
            "TN",
            "TX",
            "UT",
            "VT",
            "VA",
            "WA",
            "WV",
            "WI",
            "WY"
           ],
           "name": "",
           "type": "choropleth",
           "z": [
            23447,
            30989,
            25492,
            22263,
            28511,
            31356,
            34246,
            30709,
            32865,
            26540,
            27127,
            27389,
            25260,
            29878,
            27911,
            27197,
            27835,
            25725,
            22250,
            26068,
            36162,
            32525,
            30102,
            32970,
            22002,
            28745,
            21843,
            27837,
            27446,
            34440,
            33299,
            20718,
            28666,
            24854,
            23197,
            28467,
            24380,
            29269,
            29380,
            30621,
            25248,
            23547,
            26313,
            25360,
            27371,
            27829,
            32051,
            29429,
            21515,
            29466,
            24046
           ]
          }
         ],
         "name": "2001"
        },
        {
         "data": [
          {
           "coloraxis": "coloraxis",
           "geo": "geo",
           "hovertemplate": "YEAR=2002<br>STATE_ABBREV=%{location}<br>avg_INCTOT=%{z}<extra></extra>",
           "locationmode": "USA-states",
           "locations": [
            "AL",
            "AK",
            "AZ",
            "AR",
            "CA",
            "CO",
            "CT",
            "DE",
            "DC",
            "FL",
            "GA",
            "HI",
            "ID",
            "IL",
            "IN",
            "IA",
            "KS",
            "KY",
            "LA",
            "ME",
            "MD",
            "MA",
            "MI",
            "MN",
            "MS",
            "MO",
            "MT",
            "NE",
            "NV",
            "NH",
            "NJ",
            "NM",
            "NY",
            "NC",
            "ND",
            "OH",
            "OK",
            "OR",
            "PA",
            "RI",
            "SC",
            "SD",
            "TN",
            "TX",
            "UT",
            "VT",
            "VA",
            "WA",
            "WV",
            "WI",
            "WY"
           ],
           "name": "",
           "type": "choropleth",
           "z": [
            24878,
            32101,
            27146,
            22649,
            28980,
            34072,
            36278,
            31380,
            34043,
            26771,
            26903,
            26987,
            24780,
            29945,
            29457,
            26647,
            29828,
            26967,
            23428,
            26107,
            36725,
            35077,
            30510,
            32544,
            21723,
            28336,
            21534,
            26977,
            28150,
            34849,
            34763,
            21796,
            29338,
            26149,
            24073,
            28678,
            23629,
            27723,
            30787,
            31996,
            24758,
            24345,
            26147,
            26677,
            25540,
            27656,
            32468,
            30550,
            21964,
            30176,
            24129
           ]
          }
         ],
         "name": "2002"
        },
        {
         "data": [
          {
           "coloraxis": "coloraxis",
           "geo": "geo",
           "hovertemplate": "YEAR=2003<br>STATE_ABBREV=%{location}<br>avg_INCTOT=%{z}<extra></extra>",
           "locationmode": "USA-states",
           "locations": [
            "AL",
            "AK",
            "AZ",
            "AR",
            "CA",
            "CO",
            "CT",
            "DE",
            "DC",
            "FL",
            "GA",
            "HI",
            "ID",
            "IL",
            "IN",
            "IA",
            "KS",
            "KY",
            "LA",
            "ME",
            "MD",
            "MA",
            "MI",
            "MN",
            "MS",
            "MO",
            "MT",
            "NE",
            "NV",
            "NH",
            "NJ",
            "NM",
            "NY",
            "NC",
            "ND",
            "OH",
            "OK",
            "OR",
            "PA",
            "RI",
            "SC",
            "SD",
            "TN",
            "TX",
            "UT",
            "VT",
            "VA",
            "WA",
            "WV",
            "WI",
            "WY"
           ],
           "name": "",
           "type": "choropleth",
           "z": [
            25527,
            30462,
            26919,
            23424,
            28707,
            31248,
            35153,
            30717,
            36375,
            27106,
            27205,
            28801,
            23973,
            29078,
            28100,
            26525,
            28896,
            25654,
            23119,
            26399,
            37076,
            33775,
            29628,
            34670,
            22509,
            29332,
            22818,
            27263,
            27569,
            34878,
            35216,
            23276,
            28870,
            26290,
            24500,
            29384,
            24548,
            27613,
            30785,
            29558,
            24624,
            23660,
            26925,
            26530,
            25486,
            28501,
            32206,
            31118,
            21339,
            28480,
            25982
           ]
          }
         ],
         "name": "2003"
        },
        {
         "data": [
          {
           "coloraxis": "coloraxis",
           "geo": "geo",
           "hovertemplate": "YEAR=2004<br>STATE_ABBREV=%{location}<br>avg_INCTOT=%{z}<extra></extra>",
           "locationmode": "USA-states",
           "locations": [
            "AL",
            "AK",
            "AZ",
            "AR",
            "CA",
            "CO",
            "CT",
            "DE",
            "DC",
            "FL",
            "GA",
            "HI",
            "ID",
            "IL",
            "IN",
            "IA",
            "KS",
            "KY",
            "LA",
            "ME",
            "MD",
            "MA",
            "MI",
            "MN",
            "MS",
            "MO",
            "MT",
            "NE",
            "NV",
            "NH",
            "NJ",
            "NM",
            "NY",
            "NC",
            "ND",
            "OH",
            "OK",
            "OR",
            "PA",
            "RI",
            "SC",
            "SD",
            "TN",
            "TX",
            "UT",
            "VT",
            "VA",
            "WA",
            "WV",
            "WI",
            "WY"
           ],
           "name": "",
           "type": "choropleth",
           "z": [
            26461,
            29756,
            29366,
            23819,
            29735,
            32464,
            36222,
            30495,
            37045,
            27770,
            27270,
            29576,
            25379,
            30440,
            29088,
            28072,
            28451,
            25901,
            23125,
            25233,
            36366,
            35345,
            30196,
            34971,
            22967,
            28950,
            23668,
            28871,
            29633,
            36022,
            36172,
            24420,
            29808,
            26128,
            24922,
            29382,
            24854,
            27861,
            30130,
            29960,
            25783,
            26289,
            25100,
            25963,
            27322,
            30342,
            32643,
            30830,
            21917,
            29326,
            27572
           ]
          }
         ],
         "name": "2004"
        },
        {
         "data": [
          {
           "coloraxis": "coloraxis",
           "geo": "geo",
           "hovertemplate": "YEAR=2005<br>STATE_ABBREV=%{location}<br>avg_INCTOT=%{z}<extra></extra>",
           "locationmode": "USA-states",
           "locations": [
            "AL",
            "AK",
            "AZ",
            "AR",
            "CA",
            "CO",
            "CT",
            "DE",
            "DC",
            "FL",
            "GA",
            "HI",
            "ID",
            "IL",
            "IN",
            "IA",
            "KS",
            "KY",
            "LA",
            "ME",
            "MD",
            "MA",
            "MI",
            "MN",
            "MS",
            "MO",
            "MT",
            "NE",
            "NV",
            "NH",
            "NJ",
            "NM",
            "NY",
            "NC",
            "ND",
            "OH",
            "OK",
            "OR",
            "PA",
            "RI",
            "SC",
            "SD",
            "TN",
            "TX",
            "UT",
            "VT",
            "VA",
            "WA",
            "WV",
            "WI",
            "WY"
           ],
           "name": "",
           "type": "choropleth",
           "z": [
            25206,
            34294,
            28520,
            25292,
            29840,
            34097,
            37678,
            29667,
            36172,
            29159,
            28212,
            30839,
            26947,
            30441,
            29330,
            29217,
            29356,
            25226,
            24172,
            27167,
            38483,
            35815,
            30016,
            34977,
            25288,
            30660,
            23075,
            28970,
            29695,
            34166,
            37005,
            25315,
            30993,
            27263,
            28094,
            28604,
            27500,
            30060,
            30103,
            31047,
            25656,
            26942,
            26842,
            26793,
            28223,
            31669,
            34047,
            32087,
            23064,
            29426,
            28205
           ]
          }
         ],
         "name": "2005"
        },
        {
         "data": [
          {
           "coloraxis": "coloraxis",
           "geo": "geo",
           "hovertemplate": "YEAR=2006<br>STATE_ABBREV=%{location}<br>avg_INCTOT=%{z}<extra></extra>",
           "locationmode": "USA-states",
           "locations": [
            "AL",
            "AK",
            "AZ",
            "AR",
            "CA",
            "CO",
            "CT",
            "DE",
            "DC",
            "FL",
            "GA",
            "HI",
            "ID",
            "IL",
            "IN",
            "IA",
            "KS",
            "KY",
            "LA",
            "ME",
            "MD",
            "MA",
            "MI",
            "MN",
            "MS",
            "MO",
            "MT",
            "NE",
            "NV",
            "NH",
            "NJ",
            "NM",
            "NY",
            "NC",
            "ND",
            "OH",
            "OK",
            "OR",
            "PA",
            "RI",
            "SC",
            "SD",
            "TN",
            "TX",
            "UT",
            "VT",
            "VA",
            "WA",
            "WV",
            "WI",
            "WY"
           ],
           "name": "",
           "type": "choropleth",
           "z": [
            26149,
            34127,
            27688,
            24625,
            31598,
            34684,
            39068,
            32070,
            41859,
            30964,
            29163,
            32583,
            28370,
            31885,
            28428,
            30314,
            29949,
            27471,
            25175,
            28526,
            38381,
            38210,
            32060,
            34161,
            24936,
            30548,
            25520,
            29690,
            29831,
            35898,
            39830,
            25968,
            32432,
            28781,
            28987,
            29513,
            28452,
            30801,
            31471,
            33704,
            26414,
            29902,
            27517,
            27500,
            29277,
            31578,
            36717,
            34834,
            24159,
            31943,
            29769
           ]
          }
         ],
         "name": "2006"
        },
        {
         "data": [
          {
           "coloraxis": "coloraxis",
           "geo": "geo",
           "hovertemplate": "YEAR=2007<br>STATE_ABBREV=%{location}<br>avg_INCTOT=%{z}<extra></extra>",
           "locationmode": "USA-states",
           "locations": [
            "AL",
            "AK",
            "AZ",
            "AR",
            "CA",
            "CO",
            "CT",
            "DE",
            "DC",
            "FL",
            "GA",
            "HI",
            "ID",
            "IL",
            "IN",
            "IA",
            "KS",
            "KY",
            "LA",
            "ME",
            "MD",
            "MA",
            "MI",
            "MN",
            "MS",
            "MO",
            "MT",
            "NE",
            "NV",
            "NH",
            "NJ",
            "NM",
            "NY",
            "NC",
            "ND",
            "OH",
            "OK",
            "OR",
            "PA",
            "RI",
            "SC",
            "SD",
            "TN",
            "TX",
            "UT",
            "VT",
            "VA",
            "WA",
            "WV",
            "WI",
            "WY"
           ],
           "name": "",
           "type": "choropleth",
           "z": [
            27560,
            35507,
            30143,
            25206,
            34053,
            37663,
            44143,
            31983,
            44034,
            32143,
            30185,
            32520,
            29704,
            34073,
            31524,
            31364,
            34396,
            27701,
            27199,
            29927,
            40254,
            41391,
            31761,
            36040,
            23933,
            31946,
            27268,
            31726,
            32588,
            37851,
            41944,
            27648,
            34191,
            29617,
            30038,
            30493,
            28088,
            32199,
            31929,
            35668,
            28149,
            30506,
            28436,
            29027,
            30772,
            33962,
            38844,
            35629,
            26390,
            34652,
            31342
           ]
          }
         ],
         "name": "2007"
        },
        {
         "data": [
          {
           "coloraxis": "coloraxis",
           "geo": "geo",
           "hovertemplate": "YEAR=2008<br>STATE_ABBREV=%{location}<br>avg_INCTOT=%{z}<extra></extra>",
           "locationmode": "USA-states",
           "locations": [
            "AL",
            "AK",
            "AZ",
            "AR",
            "CA",
            "CO",
            "CT",
            "DE",
            "DC",
            "FL",
            "GA",
            "HI",
            "ID",
            "IL",
            "IN",
            "IA",
            "KS",
            "KY",
            "LA",
            "ME",
            "MD",
            "MA",
            "MI",
            "MN",
            "MS",
            "MO",
            "MT",
            "NE",
            "NV",
            "NH",
            "NJ",
            "NM",
            "NY",
            "NC",
            "ND",
            "OH",
            "OK",
            "OR",
            "PA",
            "RI",
            "SC",
            "SD",
            "TN",
            "TX",
            "UT",
            "VT",
            "VA",
            "WA",
            "WV",
            "WI",
            "WY"
           ],
           "name": "",
           "type": "choropleth",
           "z": [
            29381,
            37932,
            30809,
            27773,
            34111,
            40131,
            43640,
            35233,
            44386,
            31732,
            32889,
            33260,
            31490,
            36266,
            30976,
            33333,
            31872,
            28527,
            29054,
            30557,
            40070,
            39826,
            31882,
            37388,
            26297,
            31722,
            29608,
            33320,
            32831,
            39040,
            39856,
            31164,
            33500,
            29595,
            31696,
            31770,
            29410,
            32376,
            32706,
            36905,
            27876,
            33790,
            29775,
            29596,
            33965,
            33088,
            37601,
            35323,
            26469,
            33782,
            33453
           ]
          }
         ],
         "name": "2008"
        },
        {
         "data": [
          {
           "coloraxis": "coloraxis",
           "geo": "geo",
           "hovertemplate": "YEAR=2009<br>STATE_ABBREV=%{location}<br>avg_INCTOT=%{z}<extra></extra>",
           "locationmode": "USA-states",
           "locations": [
            "AL",
            "AK",
            "AZ",
            "AR",
            "CA",
            "CO",
            "CT",
            "DE",
            "DC",
            "FL",
            "GA",
            "HI",
            "ID",
            "IL",
            "IN",
            "IA",
            "KS",
            "KY",
            "LA",
            "ME",
            "MD",
            "MA",
            "MI",
            "MN",
            "MS",
            "MO",
            "MT",
            "NE",
            "NV",
            "NH",
            "NJ",
            "NM",
            "NY",
            "NC",
            "ND",
            "OH",
            "OK",
            "OR",
            "PA",
            "RI",
            "SC",
            "SD",
            "TN",
            "TX",
            "UT",
            "VT",
            "VA",
            "WA",
            "WV",
            "WI",
            "WY"
           ],
           "name": "",
           "type": "choropleth",
           "z": [
            28301,
            38753,
            31000,
            26255,
            34987,
            39006,
            42465,
            35005,
            47364,
            30902,
            32374,
            34785,
            28726,
            34338,
            30737,
            31967,
            33428,
            28262,
            29588,
            32507,
            40677,
            40344,
            31631,
            37921,
            25803,
            31707,
            30997,
            32427,
            33764,
            40770,
            41453,
            30304,
            34015,
            30074,
            32514,
            30922,
            30595,
            32289,
            34432,
            35772,
            27836,
            32686,
            29445,
            30284,
            33935,
            34201,
            39860,
            38202,
            26959,
            33785,
            34596
           ]
          }
         ],
         "name": "2009"
        },
        {
         "data": [
          {
           "coloraxis": "coloraxis",
           "geo": "geo",
           "hovertemplate": "YEAR=2010<br>STATE_ABBREV=%{location}<br>avg_INCTOT=%{z}<extra></extra>",
           "locationmode": "USA-states",
           "locations": [
            "AL",
            "AK",
            "AZ",
            "AR",
            "CA",
            "CO",
            "CT",
            "DE",
            "DC",
            "FL",
            "GA",
            "HI",
            "ID",
            "IL",
            "IN",
            "IA",
            "KS",
            "KY",
            "LA",
            "ME",
            "MD",
            "MA",
            "MI",
            "MN",
            "MS",
            "MO",
            "MT",
            "NE",
            "NV",
            "NH",
            "NJ",
            "NM",
            "NY",
            "NC",
            "ND",
            "OH",
            "OK",
            "OR",
            "PA",
            "RI",
            "SC",
            "SD",
            "TN",
            "TX",
            "UT",
            "VT",
            "VA",
            "WA",
            "WV",
            "WI",
            "WY"
           ],
           "name": "",
           "type": "choropleth",
           "z": [
            27896,
            38959,
            29901,
            24376,
            33256,
            37305,
            44211,
            33117,
            48143,
            30221,
            30928,
            31761,
            28736,
            33651,
            29324,
            32096,
            32509,
            28972,
            30262,
            32252,
            40084,
            41411,
            31188,
            36452,
            25027,
            31972,
            28872,
            33818,
            32579,
            38895,
            40221,
            28911,
            33906,
            29640,
            33793,
            30379,
            32877,
            32396,
            33732,
            34757,
            26729,
            30069,
            29517,
            29221,
            31681,
            33735,
            40037,
            37247,
            26200,
            33910,
            35305
           ]
          }
         ],
         "name": "2010"
        },
        {
         "data": [
          {
           "coloraxis": "coloraxis",
           "geo": "geo",
           "hovertemplate": "YEAR=2011<br>STATE_ABBREV=%{location}<br>avg_INCTOT=%{z}<extra></extra>",
           "locationmode": "USA-states",
           "locations": [
            "AL",
            "AK",
            "AZ",
            "AR",
            "CA",
            "CO",
            "CT",
            "DE",
            "DC",
            "FL",
            "GA",
            "HI",
            "ID",
            "IL",
            "IN",
            "IA",
            "KS",
            "KY",
            "LA",
            "ME",
            "MD",
            "MA",
            "MI",
            "MN",
            "MS",
            "MO",
            "MT",
            "NE",
            "NV",
            "NH",
            "NJ",
            "NM",
            "NY",
            "NC",
            "ND",
            "OH",
            "OK",
            "OR",
            "PA",
            "RI",
            "SC",
            "SD",
            "TN",
            "TX",
            "UT",
            "VT",
            "VA",
            "WA",
            "WV",
            "WI",
            "WY"
           ],
           "name": "",
           "type": "choropleth",
           "z": [
            28950,
            36669,
            30263,
            26697,
            32271,
            38501,
            43323,
            31905,
            46223,
            31000,
            30341,
            32285,
            28262,
            34164,
            29734,
            30954,
            32775,
            27760,
            28554,
            32110,
            39688,
            40534,
            30879,
            36330,
            26047,
            33040,
            30753,
            34155,
            30940,
            39864,
            39611,
            31466,
            33765,
            31446,
            36269,
            30809,
            29256,
            32449,
            32994,
            34273,
            28045,
            31452,
            28552,
            29605,
            31089,
            34844,
            39303,
            35973,
            29021,
            33491,
            32901
           ]
          }
         ],
         "name": "2011"
        },
        {
         "data": [
          {
           "coloraxis": "coloraxis",
           "geo": "geo",
           "hovertemplate": "YEAR=2012<br>STATE_ABBREV=%{location}<br>avg_INCTOT=%{z}<extra></extra>",
           "locationmode": "USA-states",
           "locations": [
            "AL",
            "AK",
            "AZ",
            "AR",
            "CA",
            "CO",
            "CT",
            "DE",
            "DC",
            "FL",
            "GA",
            "HI",
            "ID",
            "IL",
            "IN",
            "IA",
            "KS",
            "KY",
            "LA",
            "ME",
            "MD",
            "MA",
            "MI",
            "MN",
            "MS",
            "MO",
            "MT",
            "NE",
            "NV",
            "NH",
            "NJ",
            "NM",
            "NY",
            "NC",
            "ND",
            "OH",
            "OK",
            "OR",
            "PA",
            "RI",
            "SC",
            "SD",
            "TN",
            "TX",
            "UT",
            "VT",
            "VA",
            "WA",
            "WV",
            "WI",
            "WY"
           ],
           "name": "",
           "type": "choropleth",
           "z": [
            29857,
            37811,
            31354,
            27040,
            34138,
            37785,
            44535,
            32889,
            50294,
            32242,
            32645,
            34660,
            29042,
            35355,
            33011,
            32887,
            32961,
            28822,
            28129,
            34171,
            42548,
            40711,
            32537,
            38165,
            27268,
            33991,
            28839,
            36642,
            30346,
            39884,
            41944,
            30344,
            34048,
            32378,
            39276,
            32468,
            34150,
            32876,
            34688,
            35010,
            25940,
            31716,
            29641,
            32218,
            32451,
            34414,
            38979,
            37047,
            29165,
            33607,
            34921
           ]
          }
         ],
         "name": "2012"
        },
        {
         "data": [
          {
           "coloraxis": "coloraxis",
           "geo": "geo",
           "hovertemplate": "YEAR=2013<br>STATE_ABBREV=%{location}<br>avg_INCTOT=%{z}<extra></extra>",
           "locationmode": "USA-states",
           "locations": [
            "AL",
            "AK",
            "AZ",
            "AR",
            "CA",
            "CO",
            "CT",
            "DE",
            "DC",
            "FL",
            "GA",
            "HI",
            "ID",
            "IL",
            "IN",
            "IA",
            "KS",
            "KY",
            "LA",
            "ME",
            "MD",
            "MA",
            "MI",
            "MN",
            "MS",
            "MO",
            "MT",
            "NE",
            "NV",
            "NH",
            "NJ",
            "NM",
            "NY",
            "NC",
            "ND",
            "OH",
            "OK",
            "OR",
            "PA",
            "RI",
            "SC",
            "SD",
            "TN",
            "TX",
            "UT",
            "VT",
            "VA",
            "WA",
            "WV",
            "WI",
            "WY"
           ],
           "name": "",
           "type": "choropleth",
           "z": [
            29895,
            38465,
            30137,
            27655,
            35189,
            38840,
            45621,
            32656,
            54610,
            31592,
            32633,
            33316,
            31141,
            38189,
            31969,
            34641,
            35211,
            28290,
            28137,
            33796,
            43016,
            40289,
            34732,
            39489,
            26650,
            35569,
            31071,
            34485,
            31067,
            42256,
            42953,
            35927,
            35993,
            30488,
            40210,
            31873,
            32528,
            32366,
            34600,
            39372,
            28396,
            34072,
            29799,
            32022,
            33303,
            37036,
            42384,
            38649,
            30083,
            35665,
            36855
           ]
          }
         ],
         "name": "2013"
        },
        {
         "data": [
          {
           "coloraxis": "coloraxis",
           "geo": "geo",
           "hovertemplate": "YEAR=2014<br>STATE_ABBREV=%{location}<br>avg_INCTOT=%{z}<extra></extra>",
           "locationmode": "USA-states",
           "locations": [
            "AL",
            "AK",
            "AZ",
            "AR",
            "CA",
            "CO",
            "CT",
            "DE",
            "DC",
            "FL",
            "GA",
            "HI",
            "ID",
            "IL",
            "IN",
            "IA",
            "KS",
            "KY",
            "LA",
            "ME",
            "MD",
            "MA",
            "MI",
            "MN",
            "MS",
            "MO",
            "MT",
            "NE",
            "NV",
            "NH",
            "NJ",
            "NM",
            "NY",
            "NC",
            "ND",
            "OH",
            "OK",
            "OR",
            "PA",
            "RI",
            "SC",
            "SD",
            "TN",
            "TX",
            "UT",
            "VT",
            "VA",
            "WA",
            "WV",
            "WI",
            "WY"
           ],
           "name": "",
           "type": "choropleth",
           "z": [
            30746,
            40782,
            32333,
            27285,
            36154,
            43022,
            44178,
            35187,
            53805,
            32952,
            33863,
            34644,
            30653,
            38008,
            33157,
            37110,
            33499,
            29536,
            31912,
            36463,
            44302,
            44482,
            36550,
            40628,
            28827,
            35012,
            32616,
            36243,
            32248,
            42161,
            41436,
            30315,
            37747,
            31348,
            39514,
            34026,
            31282,
            34624,
            37395,
            38537,
            30767,
            37696,
            31627,
            32789,
            34000,
            38707,
            42528,
            41115,
            31639,
            38011,
            38127
           ]
          }
         ],
         "name": "2014"
        },
        {
         "data": [
          {
           "coloraxis": "coloraxis",
           "geo": "geo",
           "hovertemplate": "YEAR=2015<br>STATE_ABBREV=%{location}<br>avg_INCTOT=%{z}<extra></extra>",
           "locationmode": "USA-states",
           "locations": [
            "AL",
            "AK",
            "AZ",
            "AR",
            "CA",
            "CO",
            "CT",
            "DE",
            "DC",
            "FL",
            "GA",
            "HI",
            "ID",
            "IL",
            "IN",
            "IA",
            "KS",
            "KY",
            "LA",
            "ME",
            "MD",
            "MA",
            "MI",
            "MN",
            "MS",
            "MO",
            "MT",
            "NE",
            "NV",
            "NH",
            "NJ",
            "NM",
            "NY",
            "NC",
            "ND",
            "OH",
            "OK",
            "OR",
            "PA",
            "RI",
            "SC",
            "SD",
            "TN",
            "TX",
            "UT",
            "VT",
            "VA",
            "WA",
            "WV",
            "WI",
            "WY"
           ],
           "name": "",
           "type": "choropleth",
           "z": [
            31207,
            42000,
            31177,
            30002,
            37314,
            42209,
            46438,
            38119,
            57004,
            33180,
            34819,
            37651,
            34694,
            39003,
            33739,
            38508,
            36358,
            34282,
            30889,
            36595,
            47439,
            44075,
            35645,
            43684,
            26412,
            38273,
            36568,
            38085,
            32742,
            45032,
            41689,
            31543,
            39882,
            35438,
            41703,
            35191,
            33683,
            36600,
            38137,
            42372,
            33433,
            40647,
            34378,
            34678,
            35193,
            40624,
            43194,
            39243,
            30409,
            38843,
            39883
           ]
          }
         ],
         "name": "2015"
        },
        {
         "data": [
          {
           "coloraxis": "coloraxis",
           "geo": "geo",
           "hovertemplate": "YEAR=2016<br>STATE_ABBREV=%{location}<br>avg_INCTOT=%{z}<extra></extra>",
           "locationmode": "USA-states",
           "locations": [
            "AL",
            "AK",
            "AZ",
            "AR",
            "CA",
            "CO",
            "CT",
            "DE",
            "DC",
            "FL",
            "GA",
            "HI",
            "ID",
            "IL",
            "IN",
            "IA",
            "KS",
            "KY",
            "LA",
            "ME",
            "MD",
            "MA",
            "MI",
            "MN",
            "MS",
            "MO",
            "MT",
            "NE",
            "NV",
            "NH",
            "NJ",
            "NM",
            "NY",
            "NC",
            "ND",
            "OH",
            "OK",
            "OR",
            "PA",
            "RI",
            "SC",
            "SD",
            "TN",
            "TX",
            "UT",
            "VT",
            "VA",
            "WA",
            "WV",
            "WI",
            "WY"
           ],
           "name": "",
           "type": "choropleth",
           "z": [
            32470,
            45546,
            34076,
            32970,
            39652,
            43088,
            48888,
            39287,
            58385,
            34890,
            33895,
            38902,
            36028,
            42583,
            35144,
            41338,
            38328,
            32747,
            35054,
            36686,
            47389,
            47010,
            37464,
            44347,
            29016,
            39784,
            37118,
            38809,
            35420,
            45200,
            45555,
            30625,
            41298,
            36516,
            42266,
            35813,
            36504,
            37072,
            39816,
            40181,
            34239,
            39921,
            36540,
            37290,
            37204,
            42444,
            43730,
            42327,
            32362,
            36934,
            40463
           ]
          }
         ],
         "name": "2016"
        },
        {
         "data": [
          {
           "coloraxis": "coloraxis",
           "geo": "geo",
           "hovertemplate": "YEAR=2017<br>STATE_ABBREV=%{location}<br>avg_INCTOT=%{z}<extra></extra>",
           "locationmode": "USA-states",
           "locations": [
            "AL",
            "AK",
            "AZ",
            "AR",
            "CA",
            "CO",
            "CT",
            "DE",
            "DC",
            "FL",
            "GA",
            "HI",
            "ID",
            "IL",
            "IN",
            "IA",
            "KS",
            "KY",
            "LA",
            "ME",
            "MD",
            "MA",
            "MI",
            "MN",
            "MS",
            "MO",
            "MT",
            "NE",
            "NV",
            "NH",
            "NJ",
            "NM",
            "NY",
            "NC",
            "ND",
            "OH",
            "OK",
            "OR",
            "PA",
            "RI",
            "SC",
            "SD",
            "TN",
            "TX",
            "UT",
            "VT",
            "VA",
            "WA",
            "WV",
            "WI",
            "WY"
           ],
           "name": "",
           "type": "choropleth",
           "z": [
            35668,
            44539,
            37761,
            37109,
            41286,
            46770,
            48438,
            39071,
            61184,
            36323,
            37095,
            41382,
            36287,
            43241,
            39603,
            42396,
            38866,
            34127,
            33631,
            39776,
            51199,
            47706,
            38723,
            44890,
            29910,
            38275,
            38522,
            40269,
            35744,
            47378,
            47736,
            35158,
            44620,
            38140,
            42407,
            39603,
            37609,
            41703,
            40912,
            41499,
            40001,
            39651,
            37550,
            38033,
            43051,
            44216,
            45823,
            44470,
            31771,
            39789,
            38158
           ]
          }
         ],
         "name": "2017"
        },
        {
         "data": [
          {
           "coloraxis": "coloraxis",
           "geo": "geo",
           "hovertemplate": "YEAR=2018<br>STATE_ABBREV=%{location}<br>avg_INCTOT=%{z}<extra></extra>",
           "locationmode": "USA-states",
           "locations": [
            "AL",
            "AK",
            "AZ",
            "AR",
            "CA",
            "CO",
            "CT",
            "DE",
            "DC",
            "FL",
            "GA",
            "HI",
            "ID",
            "IL",
            "IN",
            "IA",
            "KS",
            "KY",
            "LA",
            "ME",
            "MD",
            "MA",
            "MI",
            "MN",
            "MS",
            "MO",
            "MT",
            "NE",
            "NV",
            "NH",
            "NJ",
            "NM",
            "NY",
            "NC",
            "ND",
            "OH",
            "OK",
            "OR",
            "PA",
            "RI",
            "SC",
            "SD",
            "TN",
            "TX",
            "UT",
            "VT",
            "VA",
            "WA",
            "WV",
            "WI",
            "WY"
           ],
           "name": "",
           "type": "choropleth",
           "z": [
            37568,
            43330,
            37047,
            35418,
            42521,
            48886,
            47935,
            43039,
            69629,
            37680,
            38679,
            44178,
            37394,
            45703,
            38713,
            42461,
            42554,
            37832,
            34886,
            38440,
            52108,
            51863,
            41401,
            46934,
            30029,
            41712,
            41314,
            42086,
            36977,
            48448,
            47319,
            33437,
            45350,
            39402,
            42158,
            41274,
            36292,
            43368,
            45419,
            44927,
            39195,
            41108,
            40593,
            38101,
            41935,
            46081,
            47362,
            48140,
            32718,
            43118,
            38426
           ]
          }
         ],
         "name": "2018"
        },
        {
         "data": [
          {
           "coloraxis": "coloraxis",
           "geo": "geo",
           "hovertemplate": "YEAR=2019<br>STATE_ABBREV=%{location}<br>avg_INCTOT=%{z}<extra></extra>",
           "locationmode": "USA-states",
           "locations": [
            "AL",
            "AK",
            "AZ",
            "AR",
            "CA",
            "CO",
            "CT",
            "DE",
            "DC",
            "FL",
            "GA",
            "HI",
            "ID",
            "IL",
            "IN",
            "IA",
            "KS",
            "KY",
            "LA",
            "ME",
            "MD",
            "MA",
            "MI",
            "MN",
            "MS",
            "MO",
            "MT",
            "NE",
            "NV",
            "NH",
            "NJ",
            "NM",
            "NY",
            "NC",
            "ND",
            "OH",
            "OK",
            "OR",
            "PA",
            "RI",
            "SC",
            "SD",
            "TN",
            "TX",
            "UT",
            "VT",
            "VA",
            "WA",
            "WV",
            "WI",
            "WY"
           ],
           "name": "",
           "type": "choropleth",
           "z": [
            35855,
            44082,
            40357,
            35607,
            44458,
            50593,
            52481,
            45695,
            75256,
            39279,
            39458,
            46883,
            37745,
            47283,
            40452,
            43267,
            44419,
            40675,
            37887,
            39512,
            52241,
            56324,
            42972,
            50502,
            31249,
            42836,
            39687,
            44624,
            40286,
            50304,
            53128,
            37513,
            47963,
            39272,
            46754,
            43351,
            38032,
            44935,
            44714,
            48653,
            39975,
            43880,
            39498,
            39732,
            42317,
            44077,
            51936,
            50181,
            34180,
            42286,
            42500
           ]
          }
         ],
         "name": "2019"
        },
        {
         "data": [
          {
           "coloraxis": "coloraxis",
           "geo": "geo",
           "hovertemplate": "YEAR=2020<br>STATE_ABBREV=%{location}<br>avg_INCTOT=%{z}<extra></extra>",
           "locationmode": "USA-states",
           "locations": [
            "AL",
            "AK",
            "AZ",
            "AR",
            "CA",
            "CO",
            "CT",
            "DE",
            "DC",
            "FL",
            "GA",
            "HI",
            "ID",
            "IL",
            "IN",
            "IA",
            "KS",
            "KY",
            "LA",
            "ME",
            "MD",
            "MA",
            "MI",
            "MN",
            "MS",
            "MO",
            "MT",
            "NE",
            "NV",
            "NH",
            "NJ",
            "NM",
            "NY",
            "NC",
            "ND",
            "OH",
            "OK",
            "OR",
            "PA",
            "RI",
            "SC",
            "SD",
            "TN",
            "TX",
            "UT",
            "VT",
            "VA",
            "WA",
            "WV",
            "WI",
            "WY"
           ],
           "name": "",
           "type": "choropleth",
           "z": [
            40266,
            47066,
            44910,
            41426,
            49045,
            55244,
            57408,
            50112,
            78575,
            42851,
            42076,
            46686,
            45449,
            51416,
            43397,
            44160,
            48010,
            43722,
            40379,
            43946,
            58909,
            61245,
            49356,
            53271,
            33595,
            43514,
            43977,
            47221,
            44098,
            56650,
            56497,
            36236,
            50555,
            42826,
            50177,
            47924,
            42963,
            53070,
            50661,
            51229,
            42414,
            44319,
            42747,
            44894,
            49348,
            51436,
            57827,
            54185,
            37634,
            47974,
            45661
           ]
          }
         ],
         "name": "2020"
        },
        {
         "data": [
          {
           "coloraxis": "coloraxis",
           "geo": "geo",
           "hovertemplate": "YEAR=2021<br>STATE_ABBREV=%{location}<br>avg_INCTOT=%{z}<extra></extra>",
           "locationmode": "USA-states",
           "locations": [
            "AL",
            "AK",
            "AZ",
            "AR",
            "CA",
            "CO",
            "CT",
            "DE",
            "DC",
            "FL",
            "GA",
            "HI",
            "ID",
            "IL",
            "IN",
            "IA",
            "KS",
            "KY",
            "LA",
            "ME",
            "MD",
            "MA",
            "MI",
            "MN",
            "MS",
            "MO",
            "MT",
            "NE",
            "NV",
            "NH",
            "NJ",
            "NM",
            "NY",
            "NC",
            "ND",
            "OH",
            "OK",
            "OR",
            "PA",
            "RI",
            "SC",
            "SD",
            "TN",
            "TX",
            "UT",
            "VT",
            "VA",
            "WA",
            "WV",
            "WI",
            "WY"
           ],
           "name": "",
           "type": "choropleth",
           "z": [
            41531,
            47482,
            46174,
            39597,
            47450,
            55387,
            57107,
            43846,
            79750,
            40677,
            42916,
            44772,
            42120,
            52960,
            47425,
            46671,
            47216,
            39592,
            38918,
            46362,
            63690,
            63006,
            52906,
            58393,
            33392,
            46081,
            45113,
            49261,
            40571,
            55936,
            58464,
            36497,
            48708,
            42539,
            47398,
            43639,
            38777,
            51681,
            51061,
            52509,
            42365,
            47553,
            40778,
            44201,
            48994,
            54507,
            56512,
            53101,
            39707,
            48958,
            43136
           ]
          }
         ],
         "name": "2021"
        },
        {
         "data": [
          {
           "coloraxis": "coloraxis",
           "geo": "geo",
           "hovertemplate": "YEAR=2022<br>STATE_ABBREV=%{location}<br>avg_INCTOT=%{z}<extra></extra>",
           "locationmode": "USA-states",
           "locations": [
            "AL",
            "AK",
            "AZ",
            "AR",
            "CA",
            "CO",
            "CT",
            "DE",
            "DC",
            "FL",
            "GA",
            "HI",
            "ID",
            "IL",
            "IN",
            "IA",
            "KS",
            "KY",
            "LA",
            "ME",
            "MD",
            "MA",
            "MI",
            "MN",
            "MS",
            "MO",
            "MT",
            "NE",
            "NV",
            "NH",
            "NJ",
            "NM",
            "NY",
            "NC",
            "ND",
            "OH",
            "OK",
            "OR",
            "PA",
            "RI",
            "SC",
            "SD",
            "TN",
            "TX",
            "UT",
            "VT",
            "VA",
            "WA",
            "WV",
            "WI",
            "WY"
           ],
           "name": "",
           "type": "choropleth",
           "z": [
            41482,
            51166,
            49273,
            42035,
            51807,
            60111,
            64951,
            50445,
            88836,
            42084,
            42600,
            47042,
            46304,
            55327,
            45986,
            53251,
            50595,
            40315,
            41158,
            47296,
            60888,
            64639,
            49895,
            57003,
            36279,
            45658,
            49591,
            54715,
            46396,
            60227,
            58979,
            38524,
            53204,
            47541,
            52034,
            46509,
            42849,
            56788,
            52778,
            56545,
            42893,
            48399,
            44745,
            46576,
            50213,
            56500,
            57231,
            59922,
            38364,
            52254,
            45655
           ]
          }
         ],
         "name": "2022"
        },
        {
         "data": [
          {
           "coloraxis": "coloraxis",
           "geo": "geo",
           "hovertemplate": "YEAR=2023<br>STATE_ABBREV=%{location}<br>avg_INCTOT=%{z}<extra></extra>",
           "locationmode": "USA-states",
           "locations": [
            "AL",
            "AK",
            "AZ",
            "AR",
            "CA",
            "CO",
            "CT",
            "DE",
            "DC",
            "FL",
            "GA",
            "HI",
            "ID",
            "IL",
            "IN",
            "IA",
            "KS",
            "KY",
            "LA",
            "ME",
            "MD",
            "MA",
            "MI",
            "MN",
            "MS",
            "MO",
            "MT",
            "NE",
            "NV",
            "NH",
            "NJ",
            "NM",
            "NY",
            "NC",
            "ND",
            "OH",
            "OK",
            "OR",
            "PA",
            "RI",
            "SC",
            "SD",
            "TN",
            "TX",
            "UT",
            "VT",
            "VA",
            "WA",
            "WV",
            "WI",
            "WY"
           ],
           "name": "",
           "type": "choropleth",
           "z": [
            43312,
            57001,
            47136,
            41126,
            54683,
            63707,
            62673,
            50190,
            90709,
            47721,
            46233,
            50323,
            47279,
            56244,
            49417,
            57834,
            59386,
            41930,
            40619,
            48016,
            64717,
            65796,
            50174,
            60463,
            35526,
            51015,
            50904,
            52818,
            45477,
            57749,
            59952,
            37997,
            53033,
            47300,
            55345,
            49179,
            44651,
            56132,
            54184,
            56464,
            45838,
            54949,
            48021,
            48421,
            56449,
            55265,
            63363,
            63847,
            38845,
            51696,
            50462
           ]
          }
         ],
         "name": "2023"
        }
       ],
       "layout": {
        "autosize": true,
        "coloraxis": {
         "colorbar": {
          "title": {
           "text": "avg_INCTOT"
          }
         },
         "colorscale": [
          [
           0,
           "rgb(247,251,255)"
          ],
          [
           0.125,
           "rgb(222,235,247)"
          ],
          [
           0.25,
           "rgb(198,219,239)"
          ],
          [
           0.375,
           "rgb(158,202,225)"
          ],
          [
           0.5,
           "rgb(107,174,214)"
          ],
          [
           0.625,
           "rgb(66,146,198)"
          ],
          [
           0.75,
           "rgb(33,113,181)"
          ],
          [
           0.875,
           "rgb(8,81,156)"
          ],
          [
           1,
           "rgb(8,48,107)"
          ]
         ]
        },
        "geo": {
         "center": {},
         "domain": {
          "x": [
           0,
           1
          ],
          "y": [
           0,
           1
          ]
         },
         "scope": "usa"
        },
        "legend": {
         "tracegroupgap": 0
        },
        "margin": {
         "t": 60
        },
        "sliders": [
         {
          "active": 0,
          "currentvalue": {
           "prefix": "YEAR="
          },
          "len": 0.9,
          "pad": {
           "b": 10,
           "t": 60
          },
          "steps": [
           {
            "args": [
             [
              "2000"
             ],
             {
              "frame": {
               "duration": 0,
               "redraw": true
              },
              "fromcurrent": true,
              "mode": "immediate",
              "transition": {
               "duration": 0,
               "easing": "linear"
              }
             }
            ],
            "label": "2000",
            "method": "animate"
           },
           {
            "args": [
             [
              "2001"
             ],
             {
              "frame": {
               "duration": 0,
               "redraw": true
              },
              "fromcurrent": true,
              "mode": "immediate",
              "transition": {
               "duration": 0,
               "easing": "linear"
              }
             }
            ],
            "label": "2001",
            "method": "animate"
           },
           {
            "args": [
             [
              "2002"
             ],
             {
              "frame": {
               "duration": 0,
               "redraw": true
              },
              "fromcurrent": true,
              "mode": "immediate",
              "transition": {
               "duration": 0,
               "easing": "linear"
              }
             }
            ],
            "label": "2002",
            "method": "animate"
           },
           {
            "args": [
             [
              "2003"
             ],
             {
              "frame": {
               "duration": 0,
               "redraw": true
              },
              "fromcurrent": true,
              "mode": "immediate",
              "transition": {
               "duration": 0,
               "easing": "linear"
              }
             }
            ],
            "label": "2003",
            "method": "animate"
           },
           {
            "args": [
             [
              "2004"
             ],
             {
              "frame": {
               "duration": 0,
               "redraw": true
              },
              "fromcurrent": true,
              "mode": "immediate",
              "transition": {
               "duration": 0,
               "easing": "linear"
              }
             }
            ],
            "label": "2004",
            "method": "animate"
           },
           {
            "args": [
             [
              "2005"
             ],
             {
              "frame": {
               "duration": 0,
               "redraw": true
              },
              "fromcurrent": true,
              "mode": "immediate",
              "transition": {
               "duration": 0,
               "easing": "linear"
              }
             }
            ],
            "label": "2005",
            "method": "animate"
           },
           {
            "args": [
             [
              "2006"
             ],
             {
              "frame": {
               "duration": 0,
               "redraw": true
              },
              "fromcurrent": true,
              "mode": "immediate",
              "transition": {
               "duration": 0,
               "easing": "linear"
              }
             }
            ],
            "label": "2006",
            "method": "animate"
           },
           {
            "args": [
             [
              "2007"
             ],
             {
              "frame": {
               "duration": 0,
               "redraw": true
              },
              "fromcurrent": true,
              "mode": "immediate",
              "transition": {
               "duration": 0,
               "easing": "linear"
              }
             }
            ],
            "label": "2007",
            "method": "animate"
           },
           {
            "args": [
             [
              "2008"
             ],
             {
              "frame": {
               "duration": 0,
               "redraw": true
              },
              "fromcurrent": true,
              "mode": "immediate",
              "transition": {
               "duration": 0,
               "easing": "linear"
              }
             }
            ],
            "label": "2008",
            "method": "animate"
           },
           {
            "args": [
             [
              "2009"
             ],
             {
              "frame": {
               "duration": 0,
               "redraw": true
              },
              "fromcurrent": true,
              "mode": "immediate",
              "transition": {
               "duration": 0,
               "easing": "linear"
              }
             }
            ],
            "label": "2009",
            "method": "animate"
           },
           {
            "args": [
             [
              "2010"
             ],
             {
              "frame": {
               "duration": 0,
               "redraw": true
              },
              "fromcurrent": true,
              "mode": "immediate",
              "transition": {
               "duration": 0,
               "easing": "linear"
              }
             }
            ],
            "label": "2010",
            "method": "animate"
           },
           {
            "args": [
             [
              "2011"
             ],
             {
              "frame": {
               "duration": 0,
               "redraw": true
              },
              "fromcurrent": true,
              "mode": "immediate",
              "transition": {
               "duration": 0,
               "easing": "linear"
              }
             }
            ],
            "label": "2011",
            "method": "animate"
           },
           {
            "args": [
             [
              "2012"
             ],
             {
              "frame": {
               "duration": 0,
               "redraw": true
              },
              "fromcurrent": true,
              "mode": "immediate",
              "transition": {
               "duration": 0,
               "easing": "linear"
              }
             }
            ],
            "label": "2012",
            "method": "animate"
           },
           {
            "args": [
             [
              "2013"
             ],
             {
              "frame": {
               "duration": 0,
               "redraw": true
              },
              "fromcurrent": true,
              "mode": "immediate",
              "transition": {
               "duration": 0,
               "easing": "linear"
              }
             }
            ],
            "label": "2013",
            "method": "animate"
           },
           {
            "args": [
             [
              "2014"
             ],
             {
              "frame": {
               "duration": 0,
               "redraw": true
              },
              "fromcurrent": true,
              "mode": "immediate",
              "transition": {
               "duration": 0,
               "easing": "linear"
              }
             }
            ],
            "label": "2014",
            "method": "animate"
           },
           {
            "args": [
             [
              "2015"
             ],
             {
              "frame": {
               "duration": 0,
               "redraw": true
              },
              "fromcurrent": true,
              "mode": "immediate",
              "transition": {
               "duration": 0,
               "easing": "linear"
              }
             }
            ],
            "label": "2015",
            "method": "animate"
           },
           {
            "args": [
             [
              "2016"
             ],
             {
              "frame": {
               "duration": 0,
               "redraw": true
              },
              "fromcurrent": true,
              "mode": "immediate",
              "transition": {
               "duration": 0,
               "easing": "linear"
              }
             }
            ],
            "label": "2016",
            "method": "animate"
           },
           {
            "args": [
             [
              "2017"
             ],
             {
              "frame": {
               "duration": 0,
               "redraw": true
              },
              "fromcurrent": true,
              "mode": "immediate",
              "transition": {
               "duration": 0,
               "easing": "linear"
              }
             }
            ],
            "label": "2017",
            "method": "animate"
           },
           {
            "args": [
             [
              "2018"
             ],
             {
              "frame": {
               "duration": 0,
               "redraw": true
              },
              "fromcurrent": true,
              "mode": "immediate",
              "transition": {
               "duration": 0,
               "easing": "linear"
              }
             }
            ],
            "label": "2018",
            "method": "animate"
           },
           {
            "args": [
             [
              "2019"
             ],
             {
              "frame": {
               "duration": 0,
               "redraw": true
              },
              "fromcurrent": true,
              "mode": "immediate",
              "transition": {
               "duration": 0,
               "easing": "linear"
              }
             }
            ],
            "label": "2019",
            "method": "animate"
           },
           {
            "args": [
             [
              "2020"
             ],
             {
              "frame": {
               "duration": 0,
               "redraw": true
              },
              "fromcurrent": true,
              "mode": "immediate",
              "transition": {
               "duration": 0,
               "easing": "linear"
              }
             }
            ],
            "label": "2020",
            "method": "animate"
           },
           {
            "args": [
             [
              "2021"
             ],
             {
              "frame": {
               "duration": 0,
               "redraw": true
              },
              "fromcurrent": true,
              "mode": "immediate",
              "transition": {
               "duration": 0,
               "easing": "linear"
              }
             }
            ],
            "label": "2021",
            "method": "animate"
           },
           {
            "args": [
             [
              "2022"
             ],
             {
              "frame": {
               "duration": 0,
               "redraw": true
              },
              "fromcurrent": true,
              "mode": "immediate",
              "transition": {
               "duration": 0,
               "easing": "linear"
              }
             }
            ],
            "label": "2022",
            "method": "animate"
           },
           {
            "args": [
             [
              "2023"
             ],
             {
              "frame": {
               "duration": 0,
               "redraw": true
              },
              "fromcurrent": true,
              "mode": "immediate",
              "transition": {
               "duration": 0,
               "easing": "linear"
              }
             }
            ],
            "label": "2023",
            "method": "animate"
           }
          ],
          "x": 0.1,
          "xanchor": "left",
          "y": 0,
          "yanchor": "top"
         }
        ],
        "template": {
         "data": {
          "bar": [
           {
            "error_x": {
             "color": "#2a3f5f"
            },
            "error_y": {
             "color": "#2a3f5f"
            },
            "marker": {
             "line": {
              "color": "#E5ECF6",
              "width": 0.5
             },
             "pattern": {
              "fillmode": "overlay",
              "size": 10,
              "solidity": 0.2
             }
            },
            "type": "bar"
           }
          ],
          "barpolar": [
           {
            "marker": {
             "line": {
              "color": "#E5ECF6",
              "width": 0.5
             },
             "pattern": {
              "fillmode": "overlay",
              "size": 10,
              "solidity": 0.2
             }
            },
            "type": "barpolar"
           }
          ],
          "carpet": [
           {
            "aaxis": {
             "endlinecolor": "#2a3f5f",
             "gridcolor": "white",
             "linecolor": "white",
             "minorgridcolor": "white",
             "startlinecolor": "#2a3f5f"
            },
            "baxis": {
             "endlinecolor": "#2a3f5f",
             "gridcolor": "white",
             "linecolor": "white",
             "minorgridcolor": "white",
             "startlinecolor": "#2a3f5f"
            },
            "type": "carpet"
           }
          ],
          "choropleth": [
           {
            "colorbar": {
             "outlinewidth": 0,
             "ticks": ""
            },
            "type": "choropleth"
           }
          ],
          "contour": [
           {
            "colorbar": {
             "outlinewidth": 0,
             "ticks": ""
            },
            "colorscale": [
             [
              0,
              "#0d0887"
             ],
             [
              0.1111111111111111,
              "#46039f"
             ],
             [
              0.2222222222222222,
              "#7201a8"
             ],
             [
              0.3333333333333333,
              "#9c179e"
             ],
             [
              0.4444444444444444,
              "#bd3786"
             ],
             [
              0.5555555555555556,
              "#d8576b"
             ],
             [
              0.6666666666666666,
              "#ed7953"
             ],
             [
              0.7777777777777778,
              "#fb9f3a"
             ],
             [
              0.8888888888888888,
              "#fdca26"
             ],
             [
              1,
              "#f0f921"
             ]
            ],
            "type": "contour"
           }
          ],
          "contourcarpet": [
           {
            "colorbar": {
             "outlinewidth": 0,
             "ticks": ""
            },
            "type": "contourcarpet"
           }
          ],
          "heatmap": [
           {
            "colorbar": {
             "outlinewidth": 0,
             "ticks": ""
            },
            "colorscale": [
             [
              0,
              "#0d0887"
             ],
             [
              0.1111111111111111,
              "#46039f"
             ],
             [
              0.2222222222222222,
              "#7201a8"
             ],
             [
              0.3333333333333333,
              "#9c179e"
             ],
             [
              0.4444444444444444,
              "#bd3786"
             ],
             [
              0.5555555555555556,
              "#d8576b"
             ],
             [
              0.6666666666666666,
              "#ed7953"
             ],
             [
              0.7777777777777778,
              "#fb9f3a"
             ],
             [
              0.8888888888888888,
              "#fdca26"
             ],
             [
              1,
              "#f0f921"
             ]
            ],
            "type": "heatmap"
           }
          ],
          "heatmapgl": [
           {
            "colorbar": {
             "outlinewidth": 0,
             "ticks": ""
            },
            "colorscale": [
             [
              0,
              "#0d0887"
             ],
             [
              0.1111111111111111,
              "#46039f"
             ],
             [
              0.2222222222222222,
              "#7201a8"
             ],
             [
              0.3333333333333333,
              "#9c179e"
             ],
             [
              0.4444444444444444,
              "#bd3786"
             ],
             [
              0.5555555555555556,
              "#d8576b"
             ],
             [
              0.6666666666666666,
              "#ed7953"
             ],
             [
              0.7777777777777778,
              "#fb9f3a"
             ],
             [
              0.8888888888888888,
              "#fdca26"
             ],
             [
              1,
              "#f0f921"
             ]
            ],
            "type": "heatmapgl"
           }
          ],
          "histogram": [
           {
            "marker": {
             "pattern": {
              "fillmode": "overlay",
              "size": 10,
              "solidity": 0.2
             }
            },
            "type": "histogram"
           }
          ],
          "histogram2d": [
           {
            "colorbar": {
             "outlinewidth": 0,
             "ticks": ""
            },
            "colorscale": [
             [
              0,
              "#0d0887"
             ],
             [
              0.1111111111111111,
              "#46039f"
             ],
             [
              0.2222222222222222,
              "#7201a8"
             ],
             [
              0.3333333333333333,
              "#9c179e"
             ],
             [
              0.4444444444444444,
              "#bd3786"
             ],
             [
              0.5555555555555556,
              "#d8576b"
             ],
             [
              0.6666666666666666,
              "#ed7953"
             ],
             [
              0.7777777777777778,
              "#fb9f3a"
             ],
             [
              0.8888888888888888,
              "#fdca26"
             ],
             [
              1,
              "#f0f921"
             ]
            ],
            "type": "histogram2d"
           }
          ],
          "histogram2dcontour": [
           {
            "colorbar": {
             "outlinewidth": 0,
             "ticks": ""
            },
            "colorscale": [
             [
              0,
              "#0d0887"
             ],
             [
              0.1111111111111111,
              "#46039f"
             ],
             [
              0.2222222222222222,
              "#7201a8"
             ],
             [
              0.3333333333333333,
              "#9c179e"
             ],
             [
              0.4444444444444444,
              "#bd3786"
             ],
             [
              0.5555555555555556,
              "#d8576b"
             ],
             [
              0.6666666666666666,
              "#ed7953"
             ],
             [
              0.7777777777777778,
              "#fb9f3a"
             ],
             [
              0.8888888888888888,
              "#fdca26"
             ],
             [
              1,
              "#f0f921"
             ]
            ],
            "type": "histogram2dcontour"
           }
          ],
          "mesh3d": [
           {
            "colorbar": {
             "outlinewidth": 0,
             "ticks": ""
            },
            "type": "mesh3d"
           }
          ],
          "parcoords": [
           {
            "line": {
             "colorbar": {
              "outlinewidth": 0,
              "ticks": ""
             }
            },
            "type": "parcoords"
           }
          ],
          "pie": [
           {
            "automargin": true,
            "type": "pie"
           }
          ],
          "scatter": [
           {
            "fillpattern": {
             "fillmode": "overlay",
             "size": 10,
             "solidity": 0.2
            },
            "type": "scatter"
           }
          ],
          "scatter3d": [
           {
            "line": {
             "colorbar": {
              "outlinewidth": 0,
              "ticks": ""
             }
            },
            "marker": {
             "colorbar": {
              "outlinewidth": 0,
              "ticks": ""
             }
            },
            "type": "scatter3d"
           }
          ],
          "scattercarpet": [
           {
            "marker": {
             "colorbar": {
              "outlinewidth": 0,
              "ticks": ""
             }
            },
            "type": "scattercarpet"
           }
          ],
          "scattergeo": [
           {
            "marker": {
             "colorbar": {
              "outlinewidth": 0,
              "ticks": ""
             }
            },
            "type": "scattergeo"
           }
          ],
          "scattergl": [
           {
            "marker": {
             "colorbar": {
              "outlinewidth": 0,
              "ticks": ""
             }
            },
            "type": "scattergl"
           }
          ],
          "scattermapbox": [
           {
            "marker": {
             "colorbar": {
              "outlinewidth": 0,
              "ticks": ""
             }
            },
            "type": "scattermapbox"
           }
          ],
          "scatterpolar": [
           {
            "marker": {
             "colorbar": {
              "outlinewidth": 0,
              "ticks": ""
             }
            },
            "type": "scatterpolar"
           }
          ],
          "scatterpolargl": [
           {
            "marker": {
             "colorbar": {
              "outlinewidth": 0,
              "ticks": ""
             }
            },
            "type": "scatterpolargl"
           }
          ],
          "scatterternary": [
           {
            "marker": {
             "colorbar": {
              "outlinewidth": 0,
              "ticks": ""
             }
            },
            "type": "scatterternary"
           }
          ],
          "surface": [
           {
            "colorbar": {
             "outlinewidth": 0,
             "ticks": ""
            },
            "colorscale": [
             [
              0,
              "#0d0887"
             ],
             [
              0.1111111111111111,
              "#46039f"
             ],
             [
              0.2222222222222222,
              "#7201a8"
             ],
             [
              0.3333333333333333,
              "#9c179e"
             ],
             [
              0.4444444444444444,
              "#bd3786"
             ],
             [
              0.5555555555555556,
              "#d8576b"
             ],
             [
              0.6666666666666666,
              "#ed7953"
             ],
             [
              0.7777777777777778,
              "#fb9f3a"
             ],
             [
              0.8888888888888888,
              "#fdca26"
             ],
             [
              1,
              "#f0f921"
             ]
            ],
            "type": "surface"
           }
          ],
          "table": [
           {
            "cells": {
             "fill": {
              "color": "#EBF0F8"
             },
             "line": {
              "color": "white"
             }
            },
            "header": {
             "fill": {
              "color": "#C8D4E3"
             },
             "line": {
              "color": "white"
             }
            },
            "type": "table"
           }
          ]
         },
         "layout": {
          "annotationdefaults": {
           "arrowcolor": "#2a3f5f",
           "arrowhead": 0,
           "arrowwidth": 1
          },
          "autotypenumbers": "strict",
          "coloraxis": {
           "colorbar": {
            "outlinewidth": 0,
            "ticks": ""
           }
          },
          "colorscale": {
           "diverging": [
            [
             0,
             "#8e0152"
            ],
            [
             0.1,
             "#c51b7d"
            ],
            [
             0.2,
             "#de77ae"
            ],
            [
             0.3,
             "#f1b6da"
            ],
            [
             0.4,
             "#fde0ef"
            ],
            [
             0.5,
             "#f7f7f7"
            ],
            [
             0.6,
             "#e6f5d0"
            ],
            [
             0.7,
             "#b8e186"
            ],
            [
             0.8,
             "#7fbc41"
            ],
            [
             0.9,
             "#4d9221"
            ],
            [
             1,
             "#276419"
            ]
           ],
           "sequential": [
            [
             0,
             "#0d0887"
            ],
            [
             0.1111111111111111,
             "#46039f"
            ],
            [
             0.2222222222222222,
             "#7201a8"
            ],
            [
             0.3333333333333333,
             "#9c179e"
            ],
            [
             0.4444444444444444,
             "#bd3786"
            ],
            [
             0.5555555555555556,
             "#d8576b"
            ],
            [
             0.6666666666666666,
             "#ed7953"
            ],
            [
             0.7777777777777778,
             "#fb9f3a"
            ],
            [
             0.8888888888888888,
             "#fdca26"
            ],
            [
             1,
             "#f0f921"
            ]
           ],
           "sequentialminus": [
            [
             0,
             "#0d0887"
            ],
            [
             0.1111111111111111,
             "#46039f"
            ],
            [
             0.2222222222222222,
             "#7201a8"
            ],
            [
             0.3333333333333333,
             "#9c179e"
            ],
            [
             0.4444444444444444,
             "#bd3786"
            ],
            [
             0.5555555555555556,
             "#d8576b"
            ],
            [
             0.6666666666666666,
             "#ed7953"
            ],
            [
             0.7777777777777778,
             "#fb9f3a"
            ],
            [
             0.8888888888888888,
             "#fdca26"
            ],
            [
             1,
             "#f0f921"
            ]
           ]
          },
          "colorway": [
           "#636efa",
           "#EF553B",
           "#00cc96",
           "#ab63fa",
           "#FFA15A",
           "#19d3f3",
           "#FF6692",
           "#B6E880",
           "#FF97FF",
           "#FECB52"
          ],
          "font": {
           "color": "#2a3f5f"
          },
          "geo": {
           "bgcolor": "white",
           "lakecolor": "white",
           "landcolor": "#E5ECF6",
           "showlakes": true,
           "showland": true,
           "subunitcolor": "white"
          },
          "hoverlabel": {
           "align": "left"
          },
          "hovermode": "closest",
          "mapbox": {
           "style": "light"
          },
          "paper_bgcolor": "white",
          "plot_bgcolor": "#E5ECF6",
          "polar": {
           "angularaxis": {
            "gridcolor": "white",
            "linecolor": "white",
            "ticks": ""
           },
           "bgcolor": "#E5ECF6",
           "radialaxis": {
            "gridcolor": "white",
            "linecolor": "white",
            "ticks": ""
           }
          },
          "scene": {
           "xaxis": {
            "backgroundcolor": "#E5ECF6",
            "gridcolor": "white",
            "gridwidth": 2,
            "linecolor": "white",
            "showbackground": true,
            "ticks": "",
            "zerolinecolor": "white"
           },
           "yaxis": {
            "backgroundcolor": "#E5ECF6",
            "gridcolor": "white",
            "gridwidth": 2,
            "linecolor": "white",
            "showbackground": true,
            "ticks": "",
            "zerolinecolor": "white"
           },
           "zaxis": {
            "backgroundcolor": "#E5ECF6",
            "gridcolor": "white",
            "gridwidth": 2,
            "linecolor": "white",
            "showbackground": true,
            "ticks": "",
            "zerolinecolor": "white"
           }
          },
          "shapedefaults": {
           "line": {
            "color": "#2a3f5f"
           }
          },
          "ternary": {
           "aaxis": {
            "gridcolor": "white",
            "linecolor": "white",
            "ticks": ""
           },
           "baxis": {
            "gridcolor": "white",
            "linecolor": "white",
            "ticks": ""
           },
           "bgcolor": "#E5ECF6",
           "caxis": {
            "gridcolor": "white",
            "linecolor": "white",
            "ticks": ""
           }
          },
          "title": {
           "x": 0.05
          },
          "xaxis": {
           "automargin": true,
           "gridcolor": "white",
           "linecolor": "white",
           "ticks": "",
           "title": {
            "standoff": 15
           },
           "zerolinecolor": "white",
           "zerolinewidth": 2
          },
          "yaxis": {
           "automargin": true,
           "gridcolor": "white",
           "linecolor": "white",
           "ticks": "",
           "title": {
            "standoff": 15
           },
           "zerolinecolor": "white",
           "zerolinewidth": 2
          }
         }
        },
        "title": {
         "text": "Average Individual Income"
        },
        "updatemenus": [
         {
          "buttons": [
           {
            "args": [
             null,
             {
              "frame": {
               "duration": 500,
               "redraw": true
              },
              "fromcurrent": true,
              "mode": "immediate",
              "transition": {
               "duration": 500,
               "easing": "linear"
              }
             }
            ],
            "label": "&#9654;",
            "method": "animate"
           },
           {
            "args": [
             [
              null
             ],
             {
              "frame": {
               "duration": 0,
               "redraw": true
              },
              "fromcurrent": true,
              "mode": "immediate",
              "transition": {
               "duration": 0,
               "easing": "linear"
              }
             }
            ],
            "label": "&#9724;",
            "method": "animate"
           }
          ],
          "direction": "left",
          "pad": {
           "r": 10,
           "t": 70
          },
          "showactive": false,
          "type": "buttons",
          "x": 0.1,
          "xanchor": "right",
          "y": 0,
          "yanchor": "top"
         }
        ]
       }
      },
      "image/png": "[encoded data removed]",
      "text/html": [
       "<div>                            <div id=\"62cb117a-2229-429a-8510-df011b2efd32\" class=\"plotly-graph-div\" style=\"height:525px; width:100%;\"></div>            <script type=\"text/javascript\">                require([\"plotly\"], function(Plotly) {                    window.PLOTLYENV=window.PLOTLYENV || {};                                    if (document.getElementById(\"62cb117a-2229-429a-8510-df011b2efd32\")) {                    Plotly.newPlot(                        \"62cb117a-2229-429a-8510-df011b2efd32\",                        [{\"coloraxis\":\"coloraxis\",\"geo\":\"geo\",\"hovertemplate\":\"YEAR=2000\\u003cbr\\u003eSTATE_ABBREV=%{location}\\u003cbr\\u003eavg_INCTOT=%{z}\\u003cextra\\u003e\\u003c\\u002fextra\\u003e\",\"locationmode\":\"USA-states\",\"locations\":[\"AL\",\"AK\",\"AZ\",\"AR\",\"CA\",\"CO\",\"CT\",\"DE\",\"DC\",\"FL\",\"GA\",\"HI\",\"ID\",\"IL\",\"IN\",\"IA\",\"KS\",\"KY\",\"LA\",\"ME\",\"MD\",\"MA\",\"MI\",\"MN\",\"MS\",\"MO\",\"MT\",\"NE\",\"NV\",\"NH\",\"NJ\",\"NM\",\"NY\",\"NC\",\"ND\",\"OH\",\"OK\",\"OR\",\"PA\",\"RI\",\"SC\",\"SD\",\"TN\",\"TX\",\"UT\",\"VT\",\"VA\",\"WA\",\"WV\",\"WI\",\"WY\"],\"name\":\"\",\"z\":[22383.0,32557.0,22798.0,20443.0,25413.0,29784.0,33619.0,28014.0,33447.0,24516.0,24611.0,27047.0,22117.0,28817.0,24621.0,26152.0,24813.0,22796.0,22297.0,25078.0,33174.0,30099.0,29586.0,29012.0,20758.0,26356.0,20686.0,23956.0,25276.0,30095.0,31128.0,21253.0,27156.0,25674.0,21280.0,27203.0,23227.0,26420.0,26743.0,27696.0,23556.0,22053.0,25200.0,23336.0,23802.0,25410.0,31165.0,28740.0,20269.0,27856.0,23240.0],\"type\":\"choropleth\"}],                        {\"template\":{\"data\":{\"histogram2dcontour\":[{\"type\":\"histogram2dcontour\",\"colorbar\":{\"outlinewidth\":0,\"ticks\":\"\"},\"colorscale\":[[0.0,\"#0d0887\"],[0.1111111111111111,\"#46039f\"],[0.2222222222222222,\"#7201a8\"],[0.3333333333333333,\"#9c179e\"],[0.4444444444444444,\"#bd3786\"],[0.5555555555555556,\"#d8576b\"],[0.6666666666666666,\"#ed7953\"],[0.7777777777777778,\"#fb9f3a\"],[0.8888888888888888,\"#fdca26\"],[1.0,\"#f0f921\"]]}],\"choropleth\":[{\"type\":\"choropleth\",\"colorbar\":{\"outlinewidth\":0,\"ticks\":\"\"}}],\"histogram2d\":[{\"type\":\"histogram2d\",\"colorbar\":{\"outlinewidth\":0,\"ticks\":\"\"},\"colorscale\":[[0.0,\"#0d0887\"],[0.1111111111111111,\"#46039f\"],[0.2222222222222222,\"#7201a8\"],[0.3333333333333333,\"#9c179e\"],[0.4444444444444444,\"#bd3786\"],[0.5555555555555556,\"#d8576b\"],[0.6666666666666666,\"#ed7953\"],[0.7777777777777778,\"#fb9f3a\"],[0.8888888888888888,\"#fdca26\"],[1.0,\"#f0f921\"]]}],\"heatmap\":[{\"type\":\"heatmap\",\"colorbar\":{\"outlinewidth\":0,\"ticks\":\"\"},\"colorscale\":[[0.0,\"#0d0887\"],[0.1111111111111111,\"#46039f\"],[0.2222222222222222,\"#7201a8\"],[0.3333333333333333,\"#9c179e\"],[0.4444444444444444,\"#bd3786\"],[0.5555555555555556,\"#d8576b\"],[0.6666666666666666,\"#ed7953\"],[0.7777777777777778,\"#fb9f3a\"],[0.8888888888888888,\"#fdca26\"],[1.0,\"#f0f921\"]]}],\"heatmapgl\":[{\"type\":\"heatmapgl\",\"colorbar\":{\"outlinewidth\":0,\"ticks\":\"\"},\"colorscale\":[[0.0,\"#0d0887\"],[0.1111111111111111,\"#46039f\"],[0.2222222222222222,\"#7201a8\"],[0.3333333333333333,\"#9c179e\"],[0.4444444444444444,\"#bd3786\"],[0.5555555555555556,\"#d8576b\"],[0.6666666666666666,\"#ed7953\"],[0.7777777777777778,\"#fb9f3a\"],[0.8888888888888888,\"#fdca26\"],[1.0,\"#f0f921\"]]}],\"contourcarpet\":[{\"type\":\"contourcarpet\",\"colorbar\":{\"outlinewidth\":0,\"ticks\":\"\"}}],\"contour\":[{\"type\":\"contour\",\"colorbar\":{\"outlinewidth\":0,\"ticks\":\"\"},\"colorscale\":[[0.0,\"#0d0887\"],[0.1111111111111111,\"#46039f\"],[0.2222222222222222,\"#7201a8\"],[0.3333333333333333,\"#9c179e\"],[0.4444444444444444,\"#bd3786\"],[0.5555555555555556,\"#d8576b\"],[0.6666666666666666,\"#ed7953\"],[0.7777777777777778,\"#fb9f3a\"],[0.8888888888888888,\"#fdca26\"],[1.0,\"#f0f921\"]]}],\"surface\":[{\"type\":\"surface\",\"colorbar\":{\"outlinewidth\":0,\"ticks\":\"\"},\"colorscale\":[[0.0,\"#0d0887\"],[0.1111111111111111,\"#46039f\"],[0.2222222222222222,\"#7201a8\"],[0.3333333333333333,\"#9c179e\"],[0.4444444444444444,\"#bd3786\"],[0.5555555555555556,\"#d8576b\"],[0.6666666666666666,\"#ed7953\"],[0.7777777777777778,\"#fb9f3a\"],[0.8888888888888888,\"#fdca26\"],[1.0,\"#f0f921\"]]}],\"mesh3d\":[{\"type\":\"mesh3d\",\"colorbar\":{\"outlinewidth\":0,\"ticks\":\"\"}}],\"scatter\":[{\"fillpattern\":{\"fillmode\":\"overlay\",\"size\":10,\"solidity\":0.2},\"type\":\"scatter\"}],\"parcoords\":[{\"type\":\"parcoords\",\"line\":{\"colorbar\":{\"outlinewidth\":0,\"ticks\":\"\"}}}],\"scatterpolargl\":[{\"type\":\"scatterpolargl\",\"marker\":{\"colorbar\":{\"outlinewidth\":0,\"ticks\":\"\"}}}],\"bar\":[{\"error_x\":{\"color\":\"#2a3f5f\"},\"error_y\":{\"color\":\"#2a3f5f\"},\"marker\":{\"line\":{\"color\":\"#E5ECF6\",\"width\":0.5},\"pattern\":{\"fillmode\":\"overlay\",\"size\":10,\"solidity\":0.2}},\"type\":\"bar\"}],\"scattergeo\":[{\"type\":\"scattergeo\",\"marker\":{\"colorbar\":{\"outlinewidth\":0,\"ticks\":\"\"}}}],\"scatterpolar\":[{\"type\":\"scatterpolar\",\"marker\":{\"colorbar\":{\"outlinewidth\":0,\"ticks\":\"\"}}}],\"histogram\":[{\"marker\":{\"pattern\":{\"fillmode\":\"overlay\",\"size\":10,\"solidity\":0.2}},\"type\":\"histogram\"}],\"scattergl\":[{\"type\":\"scattergl\",\"marker\":{\"colorbar\":{\"outlinewidth\":0,\"ticks\":\"\"}}}],\"scatter3d\":[{\"type\":\"scatter3d\",\"line\":{\"colorbar\":{\"outlinewidth\":0,\"ticks\":\"\"}},\"marker\":{\"colorbar\":{\"outlinewidth\":0,\"ticks\":\"\"}}}],\"scattermapbox\":[{\"type\":\"scattermapbox\",\"marker\":{\"colorbar\":{\"outlinewidth\":0,\"ticks\":\"\"}}}],\"scatterternary\":[{\"type\":\"scatterternary\",\"marker\":{\"colorbar\":{\"outlinewidth\":0,\"ticks\":\"\"}}}],\"scattercarpet\":[{\"type\":\"scattercarpet\",\"marker\":{\"colorbar\":{\"outlinewidth\":0,\"ticks\":\"\"}}}],\"carpet\":[{\"aaxis\":{\"endlinecolor\":\"#2a3f5f\",\"gridcolor\":\"white\",\"linecolor\":\"white\",\"minorgridcolor\":\"white\",\"startlinecolor\":\"#2a3f5f\"},\"baxis\":{\"endlinecolor\":\"#2a3f5f\",\"gridcolor\":\"white\",\"linecolor\":\"white\",\"minorgridcolor\":\"white\",\"startlinecolor\":\"#2a3f5f\"},\"type\":\"carpet\"}],\"table\":[{\"cells\":{\"fill\":{\"color\":\"#EBF0F8\"},\"line\":{\"color\":\"white\"}},\"header\":{\"fill\":{\"color\":\"#C8D4E3\"},\"line\":{\"color\":\"white\"}},\"type\":\"table\"}],\"barpolar\":[{\"marker\":{\"line\":{\"color\":\"#E5ECF6\",\"width\":0.5},\"pattern\":{\"fillmode\":\"overlay\",\"size\":10,\"solidity\":0.2}},\"type\":\"barpolar\"}],\"pie\":[{\"automargin\":true,\"type\":\"pie\"}]},\"layout\":{\"autotypenumbers\":\"strict\",\"colorway\":[\"#636efa\",\"#EF553B\",\"#00cc96\",\"#ab63fa\",\"#FFA15A\",\"#19d3f3\",\"#FF6692\",\"#B6E880\",\"#FF97FF\",\"#FECB52\"],\"font\":{\"color\":\"#2a3f5f\"},\"hovermode\":\"closest\",\"hoverlabel\":{\"align\":\"left\"},\"paper_bgcolor\":\"white\",\"plot_bgcolor\":\"#E5ECF6\",\"polar\":{\"bgcolor\":\"#E5ECF6\",\"angularaxis\":{\"gridcolor\":\"white\",\"linecolor\":\"white\",\"ticks\":\"\"},\"radialaxis\":{\"gridcolor\":\"white\",\"linecolor\":\"white\",\"ticks\":\"\"}},\"ternary\":{\"bgcolor\":\"#E5ECF6\",\"aaxis\":{\"gridcolor\":\"white\",\"linecolor\":\"white\",\"ticks\":\"\"},\"baxis\":{\"gridcolor\":\"white\",\"linecolor\":\"white\",\"ticks\":\"\"},\"caxis\":{\"gridcolor\":\"white\",\"linecolor\":\"white\",\"ticks\":\"\"}},\"coloraxis\":{\"colorbar\":{\"outlinewidth\":0,\"ticks\":\"\"}},\"colorscale\":{\"sequential\":[[0.0,\"#0d0887\"],[0.1111111111111111,\"#46039f\"],[0.2222222222222222,\"#7201a8\"],[0.3333333333333333,\"#9c179e\"],[0.4444444444444444,\"#bd3786\"],[0.5555555555555556,\"#d8576b\"],[0.6666666666666666,\"#ed7953\"],[0.7777777777777778,\"#fb9f3a\"],[0.8888888888888888,\"#fdca26\"],[1.0,\"#f0f921\"]],\"sequentialminus\":[[0.0,\"#0d0887\"],[0.1111111111111111,\"#46039f\"],[0.2222222222222222,\"#7201a8\"],[0.3333333333333333,\"#9c179e\"],[0.4444444444444444,\"#bd3786\"],[0.5555555555555556,\"#d8576b\"],[0.6666666666666666,\"#ed7953\"],[0.7777777777777778,\"#fb9f3a\"],[0.8888888888888888,\"#fdca26\"],[1.0,\"#f0f921\"]],\"diverging\":[[0,\"#8e0152\"],[0.1,\"#c51b7d\"],[0.2,\"#de77ae\"],[0.3,\"#f1b6da\"],[0.4,\"#fde0ef\"],[0.5,\"#f7f7f7\"],[0.6,\"#e6f5d0\"],[0.7,\"#b8e186\"],[0.8,\"#7fbc41\"],[0.9,\"#4d9221\"],[1,\"#276419\"]]},\"xaxis\":{\"gridcolor\":\"white\",\"linecolor\":\"white\",\"ticks\":\"\",\"title\":{\"standoff\":15},\"zerolinecolor\":\"white\",\"automargin\":true,\"zerolinewidth\":2},\"yaxis\":{\"gridcolor\":\"white\",\"linecolor\":\"white\",\"ticks\":\"\",\"title\":{\"standoff\":15},\"zerolinecolor\":\"white\",\"automargin\":true,\"zerolinewidth\":2},\"scene\":{\"xaxis\":{\"backgroundcolor\":\"#E5ECF6\",\"gridcolor\":\"white\",\"linecolor\":\"white\",\"showbackground\":true,\"ticks\":\"\",\"zerolinecolor\":\"white\",\"gridwidth\":2},\"yaxis\":{\"backgroundcolor\":\"#E5ECF6\",\"gridcolor\":\"white\",\"linecolor\":\"white\",\"showbackground\":true,\"ticks\":\"\",\"zerolinecolor\":\"white\",\"gridwidth\":2},\"zaxis\":{\"backgroundcolor\":\"#E5ECF6\",\"gridcolor\":\"white\",\"linecolor\":\"white\",\"showbackground\":true,\"ticks\":\"\",\"zerolinecolor\":\"white\",\"gridwidth\":2}},\"shapedefaults\":{\"line\":{\"color\":\"#2a3f5f\"}},\"annotationdefaults\":{\"arrowcolor\":\"#2a3f5f\",\"arrowhead\":0,\"arrowwidth\":1},\"geo\":{\"bgcolor\":\"white\",\"landcolor\":\"#E5ECF6\",\"subunitcolor\":\"white\",\"showland\":true,\"showlakes\":true,\"lakecolor\":\"white\"},\"title\":{\"x\":0.05},\"mapbox\":{\"style\":\"light\"}}},\"geo\":{\"domain\":{\"x\":[0.0,1.0],\"y\":[0.0,1.0]},\"center\":{},\"scope\":\"usa\"},\"coloraxis\":{\"colorbar\":{\"title\":{\"text\":\"avg_INCTOT\"}},\"colorscale\":[[0.0,\"rgb(247,251,255)\"],[0.125,\"rgb(222,235,247)\"],[0.25,\"rgb(198,219,239)\"],[0.375,\"rgb(158,202,225)\"],[0.5,\"rgb(107,174,214)\"],[0.625,\"rgb(66,146,198)\"],[0.75,\"rgb(33,113,181)\"],[0.875,\"rgb(8,81,156)\"],[1.0,\"rgb(8,48,107)\"]]},\"legend\":{\"tracegroupgap\":0},\"margin\":{\"t\":60},\"updatemenus\":[{\"buttons\":[{\"args\":[null,{\"frame\":{\"duration\":500,\"redraw\":true},\"mode\":\"immediate\",\"fromcurrent\":true,\"transition\":{\"duration\":500,\"easing\":\"linear\"}}],\"label\":\"&#9654;\",\"method\":\"animate\"},{\"args\":[[null],{\"frame\":{\"duration\":0,\"redraw\":true},\"mode\":\"immediate\",\"fromcurrent\":true,\"transition\":{\"duration\":0,\"easing\":\"linear\"}}],\"label\":\"&#9724;\",\"method\":\"animate\"}],\"direction\":\"left\",\"pad\":{\"r\":10,\"t\":70},\"showactive\":false,\"type\":\"buttons\",\"x\":0.1,\"xanchor\":\"right\",\"y\":0,\"yanchor\":\"top\"}],\"sliders\":[{\"active\":0,\"currentvalue\":{\"prefix\":\"YEAR=\"},\"len\":0.9,\"pad\":{\"b\":10,\"t\":60},\"steps\":[{\"args\":[[\"2000\"],{\"frame\":{\"duration\":0,\"redraw\":true},\"mode\":\"immediate\",\"fromcurrent\":true,\"transition\":{\"duration\":0,\"easing\":\"linear\"}}],\"label\":\"2000\",\"method\":\"animate\"},{\"args\":[[\"2001\"],{\"frame\":{\"duration\":0,\"redraw\":true},\"mode\":\"immediate\",\"fromcurrent\":true,\"transition\":{\"duration\":0,\"easing\":\"linear\"}}],\"label\":\"2001\",\"method\":\"animate\"},{\"args\":[[\"2002\"],{\"frame\":{\"duration\":0,\"redraw\":true},\"mode\":\"immediate\",\"fromcurrent\":true,\"transition\":{\"duration\":0,\"easing\":\"linear\"}}],\"label\":\"2002\",\"method\":\"animate\"},{\"args\":[[\"2003\"],{\"frame\":{\"duration\":0,\"redraw\":true},\"mode\":\"immediate\",\"fromcurrent\":true,\"transition\":{\"duration\":0,\"easing\":\"linear\"}}],\"label\":\"2003\",\"method\":\"animate\"},{\"args\":[[\"2004\"],{\"frame\":{\"duration\":0,\"redraw\":true},\"mode\":\"immediate\",\"fromcurrent\":true,\"transition\":{\"duration\":0,\"easing\":\"linear\"}}],\"label\":\"2004\",\"method\":\"animate\"},{\"args\":[[\"2005\"],{\"frame\":{\"duration\":0,\"redraw\":true},\"mode\":\"immediate\",\"fromcurrent\":true,\"transition\":{\"duration\":0,\"easing\":\"linear\"}}],\"label\":\"2005\",\"method\":\"animate\"},{\"args\":[[\"2006\"],{\"frame\":{\"duration\":0,\"redraw\":true},\"mode\":\"immediate\",\"fromcurrent\":true,\"transition\":{\"duration\":0,\"easing\":\"linear\"}}],\"label\":\"2006\",\"method\":\"animate\"},{\"args\":[[\"2007\"],{\"frame\":{\"duration\":0,\"redraw\":true},\"mode\":\"immediate\",\"fromcurrent\":true,\"transition\":{\"duration\":0,\"easing\":\"linear\"}}],\"label\":\"2007\",\"method\":\"animate\"},{\"args\":[[\"2008\"],{\"frame\":{\"duration\":0,\"redraw\":true},\"mode\":\"immediate\",\"fromcurrent\":true,\"transition\":{\"duration\":0,\"easing\":\"linear\"}}],\"label\":\"2008\",\"method\":\"animate\"},{\"args\":[[\"2009\"],{\"frame\":{\"duration\":0,\"redraw\":true},\"mode\":\"immediate\",\"fromcurrent\":true,\"transition\":{\"duration\":0,\"easing\":\"linear\"}}],\"label\":\"2009\",\"method\":\"animate\"},{\"args\":[[\"2010\"],{\"frame\":{\"duration\":0,\"redraw\":true},\"mode\":\"immediate\",\"fromcurrent\":true,\"transition\":{\"duration\":0,\"easing\":\"linear\"}}],\"label\":\"2010\",\"method\":\"animate\"},{\"args\":[[\"2011\"],{\"frame\":{\"duration\":0,\"redraw\":true},\"mode\":\"immediate\",\"fromcurrent\":true,\"transition\":{\"duration\":0,\"easing\":\"linear\"}}],\"label\":\"2011\",\"method\":\"animate\"},{\"args\":[[\"2012\"],{\"frame\":{\"duration\":0,\"redraw\":true},\"mode\":\"immediate\",\"fromcurrent\":true,\"transition\":{\"duration\":0,\"easing\":\"linear\"}}],\"label\":\"2012\",\"method\":\"animate\"},{\"args\":[[\"2013\"],{\"frame\":{\"duration\":0,\"redraw\":true},\"mode\":\"immediate\",\"fromcurrent\":true,\"transition\":{\"duration\":0,\"easing\":\"linear\"}}],\"label\":\"2013\",\"method\":\"animate\"},{\"args\":[[\"2014\"],{\"frame\":{\"duration\":0,\"redraw\":true},\"mode\":\"immediate\",\"fromcurrent\":true,\"transition\":{\"duration\":0,\"easing\":\"linear\"}}],\"label\":\"2014\",\"method\":\"animate\"},{\"args\":[[\"2015\"],{\"frame\":{\"duration\":0,\"redraw\":true},\"mode\":\"immediate\",\"fromcurrent\":true,\"transition\":{\"duration\":0,\"easing\":\"linear\"}}],\"label\":\"2015\",\"method\":\"animate\"},{\"args\":[[\"2016\"],{\"frame\":{\"duration\":0,\"redraw\":true},\"mode\":\"immediate\",\"fromcurrent\":true,\"transition\":{\"duration\":0,\"easing\":\"linear\"}}],\"label\":\"2016\",\"method\":\"animate\"},{\"args\":[[\"2017\"],{\"frame\":{\"duration\":0,\"redraw\":true},\"mode\":\"immediate\",\"fromcurrent\":true,\"transition\":{\"duration\":0,\"easing\":\"linear\"}}],\"label\":\"2017\",\"method\":\"animate\"},{\"args\":[[\"2018\"],{\"frame\":{\"duration\":0,\"redraw\":true},\"mode\":\"immediate\",\"fromcurrent\":true,\"transition\":{\"duration\":0,\"easing\":\"linear\"}}],\"label\":\"2018\",\"method\":\"animate\"},{\"args\":[[\"2019\"],{\"frame\":{\"duration\":0,\"redraw\":true},\"mode\":\"immediate\",\"fromcurrent\":true,\"transition\":{\"duration\":0,\"easing\":\"linear\"}}],\"label\":\"2019\",\"method\":\"animate\"},{\"args\":[[\"2020\"],{\"frame\":{\"duration\":0,\"redraw\":true},\"mode\":\"immediate\",\"fromcurrent\":true,\"transition\":{\"duration\":0,\"easing\":\"linear\"}}],\"label\":\"2020\",\"method\":\"animate\"},{\"args\":[[\"2021\"],{\"frame\":{\"duration\":0,\"redraw\":true},\"mode\":\"immediate\",\"fromcurrent\":true,\"transition\":{\"duration\":0,\"easing\":\"linear\"}}],\"label\":\"2021\",\"method\":\"animate\"},{\"args\":[[\"2022\"],{\"frame\":{\"duration\":0,\"redraw\":true},\"mode\":\"immediate\",\"fromcurrent\":true,\"transition\":{\"duration\":0,\"easing\":\"linear\"}}],\"label\":\"2022\",\"method\":\"animate\"},{\"args\":[[\"2023\"],{\"frame\":{\"duration\":0,\"redraw\":true},\"mode\":\"immediate\",\"fromcurrent\":true,\"transition\":{\"duration\":0,\"easing\":\"linear\"}}],\"label\":\"2023\",\"method\":\"animate\"}],\"x\":0.1,\"xanchor\":\"left\",\"y\":0,\"yanchor\":\"top\"}],\"title\":{\"text\":\"Average Individual Income\"}},                        {\"responsive\": true}                    ).then(function(){\n",
       "                            Plotly.addFrames('62cb117a-2229-429a-8510-df011b2efd32', [{\"data\":[{\"coloraxis\":\"coloraxis\",\"geo\":\"geo\",\"hovertemplate\":\"YEAR=2000\\u003cbr\\u003eSTATE_ABBREV=%{location}\\u003cbr\\u003eavg_INCTOT=%{z}\\u003cextra\\u003e\\u003c\\u002fextra\\u003e\",\"locationmode\":\"USA-states\",\"locations\":[\"AL\",\"AK\",\"AZ\",\"AR\",\"CA\",\"CO\",\"CT\",\"DE\",\"DC\",\"FL\",\"GA\",\"HI\",\"ID\",\"IL\",\"IN\",\"IA\",\"KS\",\"KY\",\"LA\",\"ME\",\"MD\",\"MA\",\"MI\",\"MN\",\"MS\",\"MO\",\"MT\",\"NE\",\"NV\",\"NH\",\"NJ\",\"NM\",\"NY\",\"NC\",\"ND\",\"OH\",\"OK\",\"OR\",\"PA\",\"RI\",\"SC\",\"SD\",\"TN\",\"TX\",\"UT\",\"VT\",\"VA\",\"WA\",\"WV\",\"WI\",\"WY\"],\"name\":\"\",\"z\":[22383.0,32557.0,22798.0,20443.0,25413.0,29784.0,33619.0,28014.0,33447.0,24516.0,24611.0,27047.0,22117.0,28817.0,24621.0,26152.0,24813.0,22796.0,22297.0,25078.0,33174.0,30099.0,29586.0,29012.0,20758.0,26356.0,20686.0,23956.0,25276.0,30095.0,31128.0,21253.0,27156.0,25674.0,21280.0,27203.0,23227.0,26420.0,26743.0,27696.0,23556.0,22053.0,25200.0,23336.0,23802.0,25410.0,31165.0,28740.0,20269.0,27856.0,23240.0],\"type\":\"choropleth\"}],\"name\":\"2000\"},{\"data\":[{\"coloraxis\":\"coloraxis\",\"geo\":\"geo\",\"hovertemplate\":\"YEAR=2001\\u003cbr\\u003eSTATE_ABBREV=%{location}\\u003cbr\\u003eavg_INCTOT=%{z}\\u003cextra\\u003e\\u003c\\u002fextra\\u003e\",\"locationmode\":\"USA-states\",\"locations\":[\"AL\",\"AK\",\"AZ\",\"AR\",\"CA\",\"CO\",\"CT\",\"DE\",\"DC\",\"FL\",\"GA\",\"HI\",\"ID\",\"IL\",\"IN\",\"IA\",\"KS\",\"KY\",\"LA\",\"ME\",\"MD\",\"MA\",\"MI\",\"MN\",\"MS\",\"MO\",\"MT\",\"NE\",\"NV\",\"NH\",\"NJ\",\"NM\",\"NY\",\"NC\",\"ND\",\"OH\",\"OK\",\"OR\",\"PA\",\"RI\",\"SC\",\"SD\",\"TN\",\"TX\",\"UT\",\"VT\",\"VA\",\"WA\",\"WV\",\"WI\",\"WY\"],\"name\":\"\",\"z\":[23447.0,30989.0,25492.0,22263.0,28511.0,31356.0,34246.0,30709.0,32865.0,26540.0,27127.0,27389.0,25260.0,29878.0,27911.0,27197.0,27835.0,25725.0,22250.0,26068.0,36162.0,32525.0,30102.0,32970.0,22002.0,28745.0,21843.0,27837.0,27446.0,34440.0,33299.0,20718.0,28666.0,24854.0,23197.0,28467.0,24380.0,29269.0,29380.0,30621.0,25248.0,23547.0,26313.0,25360.0,27371.0,27829.0,32051.0,29429.0,21515.0,29466.0,24046.0],\"type\":\"choropleth\"}],\"name\":\"2001\"},{\"data\":[{\"coloraxis\":\"coloraxis\",\"geo\":\"geo\",\"hovertemplate\":\"YEAR=2002\\u003cbr\\u003eSTATE_ABBREV=%{location}\\u003cbr\\u003eavg_INCTOT=%{z}\\u003cextra\\u003e\\u003c\\u002fextra\\u003e\",\"locationmode\":\"USA-states\",\"locations\":[\"AL\",\"AK\",\"AZ\",\"AR\",\"CA\",\"CO\",\"CT\",\"DE\",\"DC\",\"FL\",\"GA\",\"HI\",\"ID\",\"IL\",\"IN\",\"IA\",\"KS\",\"KY\",\"LA\",\"ME\",\"MD\",\"MA\",\"MI\",\"MN\",\"MS\",\"MO\",\"MT\",\"NE\",\"NV\",\"NH\",\"NJ\",\"NM\",\"NY\",\"NC\",\"ND\",\"OH\",\"OK\",\"OR\",\"PA\",\"RI\",\"SC\",\"SD\",\"TN\",\"TX\",\"UT\",\"VT\",\"VA\",\"WA\",\"WV\",\"WI\",\"WY\"],\"name\":\"\",\"z\":[24878.0,32101.0,27146.0,22649.0,28980.0,34072.0,36278.0,31380.0,34043.0,26771.0,26903.0,26987.0,24780.0,29945.0,29457.0,26647.0,29828.0,26967.0,23428.0,26107.0,36725.0,35077.0,30510.0,32544.0,21723.0,28336.0,21534.0,26977.0,28150.0,34849.0,34763.0,21796.0,29338.0,26149.0,24073.0,28678.0,23629.0,27723.0,30787.0,31996.0,24758.0,24345.0,26147.0,26677.0,25540.0,27656.0,32468.0,30550.0,21964.0,30176.0,24129.0],\"type\":\"choropleth\"}],\"name\":\"2002\"},{\"data\":[{\"coloraxis\":\"coloraxis\",\"geo\":\"geo\",\"hovertemplate\":\"YEAR=2003\\u003cbr\\u003eSTATE_ABBREV=%{location}\\u003cbr\\u003eavg_INCTOT=%{z}\\u003cextra\\u003e\\u003c\\u002fextra\\u003e\",\"locationmode\":\"USA-states\",\"locations\":[\"AL\",\"AK\",\"AZ\",\"AR\",\"CA\",\"CO\",\"CT\",\"DE\",\"DC\",\"FL\",\"GA\",\"HI\",\"ID\",\"IL\",\"IN\",\"IA\",\"KS\",\"KY\",\"LA\",\"ME\",\"MD\",\"MA\",\"MI\",\"MN\",\"MS\",\"MO\",\"MT\",\"NE\",\"NV\",\"NH\",\"NJ\",\"NM\",\"NY\",\"NC\",\"ND\",\"OH\",\"OK\",\"OR\",\"PA\",\"RI\",\"SC\",\"SD\",\"TN\",\"TX\",\"UT\",\"VT\",\"VA\",\"WA\",\"WV\",\"WI\",\"WY\"],\"name\":\"\",\"z\":[25527.0,30462.0,26919.0,23424.0,28707.0,31248.0,35153.0,30717.0,36375.0,27106.0,27205.0,28801.0,23973.0,29078.0,28100.0,26525.0,28896.0,25654.0,23119.0,26399.0,37076.0,33775.0,29628.0,34670.0,22509.0,29332.0,22818.0,27263.0,27569.0,34878.0,35216.0,23276.0,28870.0,26290.0,24500.0,29384.0,24548.0,27613.0,30785.0,29558.0,24624.0,23660.0,26925.0,26530.0,25486.0,28501.0,32206.0,31118.0,21339.0,28480.0,25982.0],\"type\":\"choropleth\"}],\"name\":\"2003\"},{\"data\":[{\"coloraxis\":\"coloraxis\",\"geo\":\"geo\",\"hovertemplate\":\"YEAR=2004\\u003cbr\\u003eSTATE_ABBREV=%{location}\\u003cbr\\u003eavg_INCTOT=%{z}\\u003cextra\\u003e\\u003c\\u002fextra\\u003e\",\"locationmode\":\"USA-states\",\"locations\":[\"AL\",\"AK\",\"AZ\",\"AR\",\"CA\",\"CO\",\"CT\",\"DE\",\"DC\",\"FL\",\"GA\",\"HI\",\"ID\",\"IL\",\"IN\",\"IA\",\"KS\",\"KY\",\"LA\",\"ME\",\"MD\",\"MA\",\"MI\",\"MN\",\"MS\",\"MO\",\"MT\",\"NE\",\"NV\",\"NH\",\"NJ\",\"NM\",\"NY\",\"NC\",\"ND\",\"OH\",\"OK\",\"OR\",\"PA\",\"RI\",\"SC\",\"SD\",\"TN\",\"TX\",\"UT\",\"VT\",\"VA\",\"WA\",\"WV\",\"WI\",\"WY\"],\"name\":\"\",\"z\":[26461.0,29756.0,29366.0,23819.0,29735.0,32464.0,36222.0,30495.0,37045.0,27770.0,27270.0,29576.0,25379.0,30440.0,29088.0,28072.0,28451.0,25901.0,23125.0,25233.0,36366.0,35345.0,30196.0,34971.0,22967.0,28950.0,23668.0,28871.0,29633.0,36022.0,36172.0,24420.0,29808.0,26128.0,24922.0,29382.0,24854.0,27861.0,30130.0,29960.0,25783.0,26289.0,25100.0,25963.0,27322.0,30342.0,32643.0,30830.0,21917.0,29326.0,27572.0],\"type\":\"choropleth\"}],\"name\":\"2004\"},{\"data\":[{\"coloraxis\":\"coloraxis\",\"geo\":\"geo\",\"hovertemplate\":\"YEAR=2005\\u003cbr\\u003eSTATE_ABBREV=%{location}\\u003cbr\\u003eavg_INCTOT=%{z}\\u003cextra\\u003e\\u003c\\u002fextra\\u003e\",\"locationmode\":\"USA-states\",\"locations\":[\"AL\",\"AK\",\"AZ\",\"AR\",\"CA\",\"CO\",\"CT\",\"DE\",\"DC\",\"FL\",\"GA\",\"HI\",\"ID\",\"IL\",\"IN\",\"IA\",\"KS\",\"KY\",\"LA\",\"ME\",\"MD\",\"MA\",\"MI\",\"MN\",\"MS\",\"MO\",\"MT\",\"NE\",\"NV\",\"NH\",\"NJ\",\"NM\",\"NY\",\"NC\",\"ND\",\"OH\",\"OK\",\"OR\",\"PA\",\"RI\",\"SC\",\"SD\",\"TN\",\"TX\",\"UT\",\"VT\",\"VA\",\"WA\",\"WV\",\"WI\",\"WY\"],\"name\":\"\",\"z\":[25206.0,34294.0,28520.0,25292.0,29840.0,34097.0,37678.0,29667.0,36172.0,29159.0,28212.0,30839.0,26947.0,30441.0,29330.0,29217.0,29356.0,25226.0,24172.0,27167.0,38483.0,35815.0,30016.0,34977.0,25288.0,30660.0,23075.0,28970.0,29695.0,34166.0,37005.0,25315.0,30993.0,27263.0,28094.0,28604.0,27500.0,30060.0,30103.0,31047.0,25656.0,26942.0,26842.0,26793.0,28223.0,31669.0,34047.0,32087.0,23064.0,29426.0,28205.0],\"type\":\"choropleth\"}],\"name\":\"2005\"},{\"data\":[{\"coloraxis\":\"coloraxis\",\"geo\":\"geo\",\"hovertemplate\":\"YEAR=2006\\u003cbr\\u003eSTATE_ABBREV=%{location}\\u003cbr\\u003eavg_INCTOT=%{z}\\u003cextra\\u003e\\u003c\\u002fextra\\u003e\",\"locationmode\":\"USA-states\",\"locations\":[\"AL\",\"AK\",\"AZ\",\"AR\",\"CA\",\"CO\",\"CT\",\"DE\",\"DC\",\"FL\",\"GA\",\"HI\",\"ID\",\"IL\",\"IN\",\"IA\",\"KS\",\"KY\",\"LA\",\"ME\",\"MD\",\"MA\",\"MI\",\"MN\",\"MS\",\"MO\",\"MT\",\"NE\",\"NV\",\"NH\",\"NJ\",\"NM\",\"NY\",\"NC\",\"ND\",\"OH\",\"OK\",\"OR\",\"PA\",\"RI\",\"SC\",\"SD\",\"TN\",\"TX\",\"UT\",\"VT\",\"VA\",\"WA\",\"WV\",\"WI\",\"WY\"],\"name\":\"\",\"z\":[26149.0,34127.0,27688.0,24625.0,31598.0,34684.0,39068.0,32070.0,41859.0,30964.0,29163.0,32583.0,28370.0,31885.0,28428.0,30314.0,29949.0,27471.0,25175.0,28526.0,38381.0,38210.0,32060.0,34161.0,24936.0,30548.0,25520.0,29690.0,29831.0,35898.0,39830.0,25968.0,32432.0,28781.0,28987.0,29513.0,28452.0,30801.0,31471.0,33704.0,26414.0,29902.0,27517.0,27500.0,29277.0,31578.0,36717.0,34834.0,24159.0,31943.0,29769.0],\"type\":\"choropleth\"}],\"name\":\"2006\"},{\"data\":[{\"coloraxis\":\"coloraxis\",\"geo\":\"geo\",\"hovertemplate\":\"YEAR=2007\\u003cbr\\u003eSTATE_ABBREV=%{location}\\u003cbr\\u003eavg_INCTOT=%{z}\\u003cextra\\u003e\\u003c\\u002fextra\\u003e\",\"locationmode\":\"USA-states\",\"locations\":[\"AL\",\"AK\",\"AZ\",\"AR\",\"CA\",\"CO\",\"CT\",\"DE\",\"DC\",\"FL\",\"GA\",\"HI\",\"ID\",\"IL\",\"IN\",\"IA\",\"KS\",\"KY\",\"LA\",\"ME\",\"MD\",\"MA\",\"MI\",\"MN\",\"MS\",\"MO\",\"MT\",\"NE\",\"NV\",\"NH\",\"NJ\",\"NM\",\"NY\",\"NC\",\"ND\",\"OH\",\"OK\",\"OR\",\"PA\",\"RI\",\"SC\",\"SD\",\"TN\",\"TX\",\"UT\",\"VT\",\"VA\",\"WA\",\"WV\",\"WI\",\"WY\"],\"name\":\"\",\"z\":[27560.0,35507.0,30143.0,25206.0,34053.0,37663.0,44143.0,31983.0,44034.0,32143.0,30185.0,32520.0,29704.0,34073.0,31524.0,31364.0,34396.0,27701.0,27199.0,29927.0,40254.0,41391.0,31761.0,36040.0,23933.0,31946.0,27268.0,31726.0,32588.0,37851.0,41944.0,27648.0,34191.0,29617.0,30038.0,30493.0,28088.0,32199.0,31929.0,35668.0,28149.0,30506.0,28436.0,29027.0,30772.0,33962.0,38844.0,35629.0,26390.0,34652.0,31342.0],\"type\":\"choropleth\"}],\"name\":\"2007\"},{\"data\":[{\"coloraxis\":\"coloraxis\",\"geo\":\"geo\",\"hovertemplate\":\"YEAR=2008\\u003cbr\\u003eSTATE_ABBREV=%{location}\\u003cbr\\u003eavg_INCTOT=%{z}\\u003cextra\\u003e\\u003c\\u002fextra\\u003e\",\"locationmode\":\"USA-states\",\"locations\":[\"AL\",\"AK\",\"AZ\",\"AR\",\"CA\",\"CO\",\"CT\",\"DE\",\"DC\",\"FL\",\"GA\",\"HI\",\"ID\",\"IL\",\"IN\",\"IA\",\"KS\",\"KY\",\"LA\",\"ME\",\"MD\",\"MA\",\"MI\",\"MN\",\"MS\",\"MO\",\"MT\",\"NE\",\"NV\",\"NH\",\"NJ\",\"NM\",\"NY\",\"NC\",\"ND\",\"OH\",\"OK\",\"OR\",\"PA\",\"RI\",\"SC\",\"SD\",\"TN\",\"TX\",\"UT\",\"VT\",\"VA\",\"WA\",\"WV\",\"WI\",\"WY\"],\"name\":\"\",\"z\":[29381.0,37932.0,30809.0,27773.0,34111.0,40131.0,43640.0,35233.0,44386.0,31732.0,32889.0,33260.0,31490.0,36266.0,30976.0,33333.0,31872.0,28527.0,29054.0,30557.0,40070.0,39826.0,31882.0,37388.0,26297.0,31722.0,29608.0,33320.0,32831.0,39040.0,39856.0,31164.0,33500.0,29595.0,31696.0,31770.0,29410.0,32376.0,32706.0,36905.0,27876.0,33790.0,29775.0,29596.0,33965.0,33088.0,37601.0,35323.0,26469.0,33782.0,33453.0],\"type\":\"choropleth\"}],\"name\":\"2008\"},{\"data\":[{\"coloraxis\":\"coloraxis\",\"geo\":\"geo\",\"hovertemplate\":\"YEAR=2009\\u003cbr\\u003eSTATE_ABBREV=%{location}\\u003cbr\\u003eavg_INCTOT=%{z}\\u003cextra\\u003e\\u003c\\u002fextra\\u003e\",\"locationmode\":\"USA-states\",\"locations\":[\"AL\",\"AK\",\"AZ\",\"AR\",\"CA\",\"CO\",\"CT\",\"DE\",\"DC\",\"FL\",\"GA\",\"HI\",\"ID\",\"IL\",\"IN\",\"IA\",\"KS\",\"KY\",\"LA\",\"ME\",\"MD\",\"MA\",\"MI\",\"MN\",\"MS\",\"MO\",\"MT\",\"NE\",\"NV\",\"NH\",\"NJ\",\"NM\",\"NY\",\"NC\",\"ND\",\"OH\",\"OK\",\"OR\",\"PA\",\"RI\",\"SC\",\"SD\",\"TN\",\"TX\",\"UT\",\"VT\",\"VA\",\"WA\",\"WV\",\"WI\",\"WY\"],\"name\":\"\",\"z\":[28301.0,38753.0,31000.0,26255.0,34987.0,39006.0,42465.0,35005.0,47364.0,30902.0,32374.0,34785.0,28726.0,34338.0,30737.0,31967.0,33428.0,28262.0,29588.0,32507.0,40677.0,40344.0,31631.0,37921.0,25803.0,31707.0,30997.0,32427.0,33764.0,40770.0,41453.0,30304.0,34015.0,30074.0,32514.0,30922.0,30595.0,32289.0,34432.0,35772.0,27836.0,32686.0,29445.0,30284.0,33935.0,34201.0,39860.0,38202.0,26959.0,33785.0,34596.0],\"type\":\"choropleth\"}],\"name\":\"2009\"},{\"data\":[{\"coloraxis\":\"coloraxis\",\"geo\":\"geo\",\"hovertemplate\":\"YEAR=2010\\u003cbr\\u003eSTATE_ABBREV=%{location}\\u003cbr\\u003eavg_INCTOT=%{z}\\u003cextra\\u003e\\u003c\\u002fextra\\u003e\",\"locationmode\":\"USA-states\",\"locations\":[\"AL\",\"AK\",\"AZ\",\"AR\",\"CA\",\"CO\",\"CT\",\"DE\",\"DC\",\"FL\",\"GA\",\"HI\",\"ID\",\"IL\",\"IN\",\"IA\",\"KS\",\"KY\",\"LA\",\"ME\",\"MD\",\"MA\",\"MI\",\"MN\",\"MS\",\"MO\",\"MT\",\"NE\",\"NV\",\"NH\",\"NJ\",\"NM\",\"NY\",\"NC\",\"ND\",\"OH\",\"OK\",\"OR\",\"PA\",\"RI\",\"SC\",\"SD\",\"TN\",\"TX\",\"UT\",\"VT\",\"VA\",\"WA\",\"WV\",\"WI\",\"WY\"],\"name\":\"\",\"z\":[27896.0,38959.0,29901.0,24376.0,33256.0,37305.0,44211.0,33117.0,48143.0,30221.0,30928.0,31761.0,28736.0,33651.0,29324.0,32096.0,32509.0,28972.0,30262.0,32252.0,40084.0,41411.0,31188.0,36452.0,25027.0,31972.0,28872.0,33818.0,32579.0,38895.0,40221.0,28911.0,33906.0,29640.0,33793.0,30379.0,32877.0,32396.0,33732.0,34757.0,26729.0,30069.0,29517.0,29221.0,31681.0,33735.0,40037.0,37247.0,26200.0,33910.0,35305.0],\"type\":\"choropleth\"}],\"name\":\"2010\"},{\"data\":[{\"coloraxis\":\"coloraxis\",\"geo\":\"geo\",\"hovertemplate\":\"YEAR=2011\\u003cbr\\u003eSTATE_ABBREV=%{location}\\u003cbr\\u003eavg_INCTOT=%{z}\\u003cextra\\u003e\\u003c\\u002fextra\\u003e\",\"locationmode\":\"USA-states\",\"locations\":[\"AL\",\"AK\",\"AZ\",\"AR\",\"CA\",\"CO\",\"CT\",\"DE\",\"DC\",\"FL\",\"GA\",\"HI\",\"ID\",\"IL\",\"IN\",\"IA\",\"KS\",\"KY\",\"LA\",\"ME\",\"MD\",\"MA\",\"MI\",\"MN\",\"MS\",\"MO\",\"MT\",\"NE\",\"NV\",\"NH\",\"NJ\",\"NM\",\"NY\",\"NC\",\"ND\",\"OH\",\"OK\",\"OR\",\"PA\",\"RI\",\"SC\",\"SD\",\"TN\",\"TX\",\"UT\",\"VT\",\"VA\",\"WA\",\"WV\",\"WI\",\"WY\"],\"name\":\"\",\"z\":[28950.0,36669.0,30263.0,26697.0,32271.0,38501.0,43323.0,31905.0,46223.0,31000.0,30341.0,32285.0,28262.0,34164.0,29734.0,30954.0,32775.0,27760.0,28554.0,32110.0,39688.0,40534.0,30879.0,36330.0,26047.0,33040.0,30753.0,34155.0,30940.0,39864.0,39611.0,31466.0,33765.0,31446.0,36269.0,30809.0,29256.0,32449.0,32994.0,34273.0,28045.0,31452.0,28552.0,29605.0,31089.0,34844.0,39303.0,35973.0,29021.0,33491.0,32901.0],\"type\":\"choropleth\"}],\"name\":\"2011\"},{\"data\":[{\"coloraxis\":\"coloraxis\",\"geo\":\"geo\",\"hovertemplate\":\"YEAR=2012\\u003cbr\\u003eSTATE_ABBREV=%{location}\\u003cbr\\u003eavg_INCTOT=%{z}\\u003cextra\\u003e\\u003c\\u002fextra\\u003e\",\"locationmode\":\"USA-states\",\"locations\":[\"AL\",\"AK\",\"AZ\",\"AR\",\"CA\",\"CO\",\"CT\",\"DE\",\"DC\",\"FL\",\"GA\",\"HI\",\"ID\",\"IL\",\"IN\",\"IA\",\"KS\",\"KY\",\"LA\",\"ME\",\"MD\",\"MA\",\"MI\",\"MN\",\"MS\",\"MO\",\"MT\",\"NE\",\"NV\",\"NH\",\"NJ\",\"NM\",\"NY\",\"NC\",\"ND\",\"OH\",\"OK\",\"OR\",\"PA\",\"RI\",\"SC\",\"SD\",\"TN\",\"TX\",\"UT\",\"VT\",\"VA\",\"WA\",\"WV\",\"WI\",\"WY\"],\"name\":\"\",\"z\":[29857.0,37811.0,31354.0,27040.0,34138.0,37785.0,44535.0,32889.0,50294.0,32242.0,32645.0,34660.0,29042.0,35355.0,33011.0,32887.0,32961.0,28822.0,28129.0,34171.0,42548.0,40711.0,32537.0,38165.0,27268.0,33991.0,28839.0,36642.0,30346.0,39884.0,41944.0,30344.0,34048.0,32378.0,39276.0,32468.0,34150.0,32876.0,34688.0,35010.0,25940.0,31716.0,29641.0,32218.0,32451.0,34414.0,38979.0,37047.0,29165.0,33607.0,34921.0],\"type\":\"choropleth\"}],\"name\":\"2012\"},{\"data\":[{\"coloraxis\":\"coloraxis\",\"geo\":\"geo\",\"hovertemplate\":\"YEAR=2013\\u003cbr\\u003eSTATE_ABBREV=%{location}\\u003cbr\\u003eavg_INCTOT=%{z}\\u003cextra\\u003e\\u003c\\u002fextra\\u003e\",\"locationmode\":\"USA-states\",\"locations\":[\"AL\",\"AK\",\"AZ\",\"AR\",\"CA\",\"CO\",\"CT\",\"DE\",\"DC\",\"FL\",\"GA\",\"HI\",\"ID\",\"IL\",\"IN\",\"IA\",\"KS\",\"KY\",\"LA\",\"ME\",\"MD\",\"MA\",\"MI\",\"MN\",\"MS\",\"MO\",\"MT\",\"NE\",\"NV\",\"NH\",\"NJ\",\"NM\",\"NY\",\"NC\",\"ND\",\"OH\",\"OK\",\"OR\",\"PA\",\"RI\",\"SC\",\"SD\",\"TN\",\"TX\",\"UT\",\"VT\",\"VA\",\"WA\",\"WV\",\"WI\",\"WY\"],\"name\":\"\",\"z\":[29895.0,38465.0,30137.0,27655.0,35189.0,38840.0,45621.0,32656.0,54610.0,31592.0,32633.0,33316.0,31141.0,38189.0,31969.0,34641.0,35211.0,28290.0,28137.0,33796.0,43016.0,40289.0,34732.0,39489.0,26650.0,35569.0,31071.0,34485.0,31067.0,42256.0,42953.0,35927.0,35993.0,30488.0,40210.0,31873.0,32528.0,32366.0,34600.0,39372.0,28396.0,34072.0,29799.0,32022.0,33303.0,37036.0,42384.0,38649.0,30083.0,35665.0,36855.0],\"type\":\"choropleth\"}],\"name\":\"2013\"},{\"data\":[{\"coloraxis\":\"coloraxis\",\"geo\":\"geo\",\"hovertemplate\":\"YEAR=2014\\u003cbr\\u003eSTATE_ABBREV=%{location}\\u003cbr\\u003eavg_INCTOT=%{z}\\u003cextra\\u003e\\u003c\\u002fextra\\u003e\",\"locationmode\":\"USA-states\",\"locations\":[\"AL\",\"AK\",\"AZ\",\"AR\",\"CA\",\"CO\",\"CT\",\"DE\",\"DC\",\"FL\",\"GA\",\"HI\",\"ID\",\"IL\",\"IN\",\"IA\",\"KS\",\"KY\",\"LA\",\"ME\",\"MD\",\"MA\",\"MI\",\"MN\",\"MS\",\"MO\",\"MT\",\"NE\",\"NV\",\"NH\",\"NJ\",\"NM\",\"NY\",\"NC\",\"ND\",\"OH\",\"OK\",\"OR\",\"PA\",\"RI\",\"SC\",\"SD\",\"TN\",\"TX\",\"UT\",\"VT\",\"VA\",\"WA\",\"WV\",\"WI\",\"WY\"],\"name\":\"\",\"z\":[30746.0,40782.0,32333.0,27285.0,36154.0,43022.0,44178.0,35187.0,53805.0,32952.0,33863.0,34644.0,30653.0,38008.0,33157.0,37110.0,33499.0,29536.0,31912.0,36463.0,44302.0,44482.0,36550.0,40628.0,28827.0,35012.0,32616.0,36243.0,32248.0,42161.0,41436.0,30315.0,37747.0,31348.0,39514.0,34026.0,31282.0,34624.0,37395.0,38537.0,30767.0,37696.0,31627.0,32789.0,34000.0,38707.0,42528.0,41115.0,31639.0,38011.0,38127.0],\"type\":\"choropleth\"}],\"name\":\"2014\"},{\"data\":[{\"coloraxis\":\"coloraxis\",\"geo\":\"geo\",\"hovertemplate\":\"YEAR=2015\\u003cbr\\u003eSTATE_ABBREV=%{location}\\u003cbr\\u003eavg_INCTOT=%{z}\\u003cextra\\u003e\\u003c\\u002fextra\\u003e\",\"locationmode\":\"USA-states\",\"locations\":[\"AL\",\"AK\",\"AZ\",\"AR\",\"CA\",\"CO\",\"CT\",\"DE\",\"DC\",\"FL\",\"GA\",\"HI\",\"ID\",\"IL\",\"IN\",\"IA\",\"KS\",\"KY\",\"LA\",\"ME\",\"MD\",\"MA\",\"MI\",\"MN\",\"MS\",\"MO\",\"MT\",\"NE\",\"NV\",\"NH\",\"NJ\",\"NM\",\"NY\",\"NC\",\"ND\",\"OH\",\"OK\",\"OR\",\"PA\",\"RI\",\"SC\",\"SD\",\"TN\",\"TX\",\"UT\",\"VT\",\"VA\",\"WA\",\"WV\",\"WI\",\"WY\"],\"name\":\"\",\"z\":[31207.0,42000.0,31177.0,30002.0,37314.0,42209.0,46438.0,38119.0,57004.0,33180.0,34819.0,37651.0,34694.0,39003.0,33739.0,38508.0,36358.0,34282.0,30889.0,36595.0,47439.0,44075.0,35645.0,43684.0,26412.0,38273.0,36568.0,38085.0,32742.0,45032.0,41689.0,31543.0,39882.0,35438.0,41703.0,35191.0,33683.0,36600.0,38137.0,42372.0,33433.0,40647.0,34378.0,34678.0,35193.0,40624.0,43194.0,39243.0,30409.0,38843.0,39883.0],\"type\":\"choropleth\"}],\"name\":\"2015\"},{\"data\":[{\"coloraxis\":\"coloraxis\",\"geo\":\"geo\",\"hovertemplate\":\"YEAR=2016\\u003cbr\\u003eSTATE_ABBREV=%{location}\\u003cbr\\u003eavg_INCTOT=%{z}\\u003cextra\\u003e\\u003c\\u002fextra\\u003e\",\"locationmode\":\"USA-states\",\"locations\":[\"AL\",\"AK\",\"AZ\",\"AR\",\"CA\",\"CO\",\"CT\",\"DE\",\"DC\",\"FL\",\"GA\",\"HI\",\"ID\",\"IL\",\"IN\",\"IA\",\"KS\",\"KY\",\"LA\",\"ME\",\"MD\",\"MA\",\"MI\",\"MN\",\"MS\",\"MO\",\"MT\",\"NE\",\"NV\",\"NH\",\"NJ\",\"NM\",\"NY\",\"NC\",\"ND\",\"OH\",\"OK\",\"OR\",\"PA\",\"RI\",\"SC\",\"SD\",\"TN\",\"TX\",\"UT\",\"VT\",\"VA\",\"WA\",\"WV\",\"WI\",\"WY\"],\"name\":\"\",\"z\":[32470.0,45546.0,34076.0,32970.0,39652.0,43088.0,48888.0,39287.0,58385.0,34890.0,33895.0,38902.0,36028.0,42583.0,35144.0,41338.0,38328.0,32747.0,35054.0,36686.0,47389.0,47010.0,37464.0,44347.0,29016.0,39784.0,37118.0,38809.0,35420.0,45200.0,45555.0,30625.0,41298.0,36516.0,42266.0,35813.0,36504.0,37072.0,39816.0,40181.0,34239.0,39921.0,36540.0,37290.0,37204.0,42444.0,43730.0,42327.0,32362.0,36934.0,40463.0],\"type\":\"choropleth\"}],\"name\":\"2016\"},{\"data\":[{\"coloraxis\":\"coloraxis\",\"geo\":\"geo\",\"hovertemplate\":\"YEAR=2017\\u003cbr\\u003eSTATE_ABBREV=%{location}\\u003cbr\\u003eavg_INCTOT=%{z}\\u003cextra\\u003e\\u003c\\u002fextra\\u003e\",\"locationmode\":\"USA-states\",\"locations\":[\"AL\",\"AK\",\"AZ\",\"AR\",\"CA\",\"CO\",\"CT\",\"DE\",\"DC\",\"FL\",\"GA\",\"HI\",\"ID\",\"IL\",\"IN\",\"IA\",\"KS\",\"KY\",\"LA\",\"ME\",\"MD\",\"MA\",\"MI\",\"MN\",\"MS\",\"MO\",\"MT\",\"NE\",\"NV\",\"NH\",\"NJ\",\"NM\",\"NY\",\"NC\",\"ND\",\"OH\",\"OK\",\"OR\",\"PA\",\"RI\",\"SC\",\"SD\",\"TN\",\"TX\",\"UT\",\"VT\",\"VA\",\"WA\",\"WV\",\"WI\",\"WY\"],\"name\":\"\",\"z\":[35668.0,44539.0,37761.0,37109.0,41286.0,46770.0,48438.0,39071.0,61184.0,36323.0,37095.0,41382.0,36287.0,43241.0,39603.0,42396.0,38866.0,34127.0,33631.0,39776.0,51199.0,47706.0,38723.0,44890.0,29910.0,38275.0,38522.0,40269.0,35744.0,47378.0,47736.0,35158.0,44620.0,38140.0,42407.0,39603.0,37609.0,41703.0,40912.0,41499.0,40001.0,39651.0,37550.0,38033.0,43051.0,44216.0,45823.0,44470.0,31771.0,39789.0,38158.0],\"type\":\"choropleth\"}],\"name\":\"2017\"},{\"data\":[{\"coloraxis\":\"coloraxis\",\"geo\":\"geo\",\"hovertemplate\":\"YEAR=2018\\u003cbr\\u003eSTATE_ABBREV=%{location}\\u003cbr\\u003eavg_INCTOT=%{z}\\u003cextra\\u003e\\u003c\\u002fextra\\u003e\",\"locationmode\":\"USA-states\",\"locations\":[\"AL\",\"AK\",\"AZ\",\"AR\",\"CA\",\"CO\",\"CT\",\"DE\",\"DC\",\"FL\",\"GA\",\"HI\",\"ID\",\"IL\",\"IN\",\"IA\",\"KS\",\"KY\",\"LA\",\"ME\",\"MD\",\"MA\",\"MI\",\"MN\",\"MS\",\"MO\",\"MT\",\"NE\",\"NV\",\"NH\",\"NJ\",\"NM\",\"NY\",\"NC\",\"ND\",\"OH\",\"OK\",\"OR\",\"PA\",\"RI\",\"SC\",\"SD\",\"TN\",\"TX\",\"UT\",\"VT\",\"VA\",\"WA\",\"WV\",\"WI\",\"WY\"],\"name\":\"\",\"z\":[37568.0,43330.0,37047.0,35418.0,42521.0,48886.0,47935.0,43039.0,69629.0,37680.0,38679.0,44178.0,37394.0,45703.0,38713.0,42461.0,42554.0,37832.0,34886.0,38440.0,52108.0,51863.0,41401.0,46934.0,30029.0,41712.0,41314.0,42086.0,36977.0,48448.0,47319.0,33437.0,45350.0,39402.0,42158.0,41274.0,36292.0,43368.0,45419.0,44927.0,39195.0,41108.0,40593.0,38101.0,41935.0,46081.0,47362.0,48140.0,32718.0,43118.0,38426.0],\"type\":\"choropleth\"}],\"name\":\"2018\"},{\"data\":[{\"coloraxis\":\"coloraxis\",\"geo\":\"geo\",\"hovertemplate\":\"YEAR=2019\\u003cbr\\u003eSTATE_ABBREV=%{location}\\u003cbr\\u003eavg_INCTOT=%{z}\\u003cextra\\u003e\\u003c\\u002fextra\\u003e\",\"locationmode\":\"USA-states\",\"locations\":[\"AL\",\"AK\",\"AZ\",\"AR\",\"CA\",\"CO\",\"CT\",\"DE\",\"DC\",\"FL\",\"GA\",\"HI\",\"ID\",\"IL\",\"IN\",\"IA\",\"KS\",\"KY\",\"LA\",\"ME\",\"MD\",\"MA\",\"MI\",\"MN\",\"MS\",\"MO\",\"MT\",\"NE\",\"NV\",\"NH\",\"NJ\",\"NM\",\"NY\",\"NC\",\"ND\",\"OH\",\"OK\",\"OR\",\"PA\",\"RI\",\"SC\",\"SD\",\"TN\",\"TX\",\"UT\",\"VT\",\"VA\",\"WA\",\"WV\",\"WI\",\"WY\"],\"name\":\"\",\"z\":[35855.0,44082.0,40357.0,35607.0,44458.0,50593.0,52481.0,45695.0,75256.0,39279.0,39458.0,46883.0,37745.0,47283.0,40452.0,43267.0,44419.0,40675.0,37887.0,39512.0,52241.0,56324.0,42972.0,50502.0,31249.0,42836.0,39687.0,44624.0,40286.0,50304.0,53128.0,37513.0,47963.0,39272.0,46754.0,43351.0,38032.0,44935.0,44714.0,48653.0,39975.0,43880.0,39498.0,39732.0,42317.0,44077.0,51936.0,50181.0,34180.0,42286.0,42500.0],\"type\":\"choropleth\"}],\"name\":\"2019\"},{\"data\":[{\"coloraxis\":\"coloraxis\",\"geo\":\"geo\",\"hovertemplate\":\"YEAR=2020\\u003cbr\\u003eSTATE_ABBREV=%{location}\\u003cbr\\u003eavg_INCTOT=%{z}\\u003cextra\\u003e\\u003c\\u002fextra\\u003e\",\"locationmode\":\"USA-states\",\"locations\":[\"AL\",\"AK\",\"AZ\",\"AR\",\"CA\",\"CO\",\"CT\",\"DE\",\"DC\",\"FL\",\"GA\",\"HI\",\"ID\",\"IL\",\"IN\",\"IA\",\"KS\",\"KY\",\"LA\",\"ME\",\"MD\",\"MA\",\"MI\",\"MN\",\"MS\",\"MO\",\"MT\",\"NE\",\"NV\",\"NH\",\"NJ\",\"NM\",\"NY\",\"NC\",\"ND\",\"OH\",\"OK\",\"OR\",\"PA\",\"RI\",\"SC\",\"SD\",\"TN\",\"TX\",\"UT\",\"VT\",\"VA\",\"WA\",\"WV\",\"WI\",\"WY\"],\"name\":\"\",\"z\":[40266.0,47066.0,44910.0,41426.0,49045.0,55244.0,57408.0,50112.0,78575.0,42851.0,42076.0,46686.0,45449.0,51416.0,43397.0,44160.0,48010.0,43722.0,40379.0,43946.0,58909.0,61245.0,49356.0,53271.0,33595.0,43514.0,43977.0,47221.0,44098.0,56650.0,56497.0,36236.0,50555.0,42826.0,50177.0,47924.0,42963.0,53070.0,50661.0,51229.0,42414.0,44319.0,42747.0,44894.0,49348.0,51436.0,57827.0,54185.0,37634.0,47974.0,45661.0],\"type\":\"choropleth\"}],\"name\":\"2020\"},{\"data\":[{\"coloraxis\":\"coloraxis\",\"geo\":\"geo\",\"hovertemplate\":\"YEAR=2021\\u003cbr\\u003eSTATE_ABBREV=%{location}\\u003cbr\\u003eavg_INCTOT=%{z}\\u003cextra\\u003e\\u003c\\u002fextra\\u003e\",\"locationmode\":\"USA-states\",\"locations\":[\"AL\",\"AK\",\"AZ\",\"AR\",\"CA\",\"CO\",\"CT\",\"DE\",\"DC\",\"FL\",\"GA\",\"HI\",\"ID\",\"IL\",\"IN\",\"IA\",\"KS\",\"KY\",\"LA\",\"ME\",\"MD\",\"MA\",\"MI\",\"MN\",\"MS\",\"MO\",\"MT\",\"NE\",\"NV\",\"NH\",\"NJ\",\"NM\",\"NY\",\"NC\",\"ND\",\"OH\",\"OK\",\"OR\",\"PA\",\"RI\",\"SC\",\"SD\",\"TN\",\"TX\",\"UT\",\"VT\",\"VA\",\"WA\",\"WV\",\"WI\",\"WY\"],\"name\":\"\",\"z\":[41531.0,47482.0,46174.0,39597.0,47450.0,55387.0,57107.0,43846.0,79750.0,40677.0,42916.0,44772.0,42120.0,52960.0,47425.0,46671.0,47216.0,39592.0,38918.0,46362.0,63690.0,63006.0,52906.0,58393.0,33392.0,46081.0,45113.0,49261.0,40571.0,55936.0,58464.0,36497.0,48708.0,42539.0,47398.0,43639.0,38777.0,51681.0,51061.0,52509.0,42365.0,47553.0,40778.0,44201.0,48994.0,54507.0,56512.0,53101.0,39707.0,48958.0,43136.0],\"type\":\"choropleth\"}],\"name\":\"2021\"},{\"data\":[{\"coloraxis\":\"coloraxis\",\"geo\":\"geo\",\"hovertemplate\":\"YEAR=2022\\u003cbr\\u003eSTATE_ABBREV=%{location}\\u003cbr\\u003eavg_INCTOT=%{z}\\u003cextra\\u003e\\u003c\\u002fextra\\u003e\",\"locationmode\":\"USA-states\",\"locations\":[\"AL\",\"AK\",\"AZ\",\"AR\",\"CA\",\"CO\",\"CT\",\"DE\",\"DC\",\"FL\",\"GA\",\"HI\",\"ID\",\"IL\",\"IN\",\"IA\",\"KS\",\"KY\",\"LA\",\"ME\",\"MD\",\"MA\",\"MI\",\"MN\",\"MS\",\"MO\",\"MT\",\"NE\",\"NV\",\"NH\",\"NJ\",\"NM\",\"NY\",\"NC\",\"ND\",\"OH\",\"OK\",\"OR\",\"PA\",\"RI\",\"SC\",\"SD\",\"TN\",\"TX\",\"UT\",\"VT\",\"VA\",\"WA\",\"WV\",\"WI\",\"WY\"],\"name\":\"\",\"z\":[41482.0,51166.0,49273.0,42035.0,51807.0,60111.0,64951.0,50445.0,88836.0,42084.0,42600.0,47042.0,46304.0,55327.0,45986.0,53251.0,50595.0,40315.0,41158.0,47296.0,60888.0,64639.0,49895.0,57003.0,36279.0,45658.0,49591.0,54715.0,46396.0,60227.0,58979.0,38524.0,53204.0,47541.0,52034.0,46509.0,42849.0,56788.0,52778.0,56545.0,42893.0,48399.0,44745.0,46576.0,50213.0,56500.0,57231.0,59922.0,38364.0,52254.0,45655.0],\"type\":\"choropleth\"}],\"name\":\"2022\"},{\"data\":[{\"coloraxis\":\"coloraxis\",\"geo\":\"geo\",\"hovertemplate\":\"YEAR=2023\\u003cbr\\u003eSTATE_ABBREV=%{location}\\u003cbr\\u003eavg_INCTOT=%{z}\\u003cextra\\u003e\\u003c\\u002fextra\\u003e\",\"locationmode\":\"USA-states\",\"locations\":[\"AL\",\"AK\",\"AZ\",\"AR\",\"CA\",\"CO\",\"CT\",\"DE\",\"DC\",\"FL\",\"GA\",\"HI\",\"ID\",\"IL\",\"IN\",\"IA\",\"KS\",\"KY\",\"LA\",\"ME\",\"MD\",\"MA\",\"MI\",\"MN\",\"MS\",\"MO\",\"MT\",\"NE\",\"NV\",\"NH\",\"NJ\",\"NM\",\"NY\",\"NC\",\"ND\",\"OH\",\"OK\",\"OR\",\"PA\",\"RI\",\"SC\",\"SD\",\"TN\",\"TX\",\"UT\",\"VT\",\"VA\",\"WA\",\"WV\",\"WI\",\"WY\"],\"name\":\"\",\"z\":[43312.0,57001.0,47136.0,41126.0,54683.0,63707.0,62673.0,50190.0,90709.0,47721.0,46233.0,50323.0,47279.0,56244.0,49417.0,57834.0,59386.0,41930.0,40619.0,48016.0,64717.0,65796.0,50174.0,60463.0,35526.0,51015.0,50904.0,52818.0,45477.0,57749.0,59952.0,37997.0,53033.0,47300.0,55345.0,49179.0,44651.0,56132.0,54184.0,56464.0,45838.0,54949.0,48021.0,48421.0,56449.0,55265.0,63363.0,63847.0,38845.0,51696.0,50462.0],\"type\":\"choropleth\"}],\"name\":\"2023\"}]);\n",
       "                        }).then(function(){\n",
       "                            \n",
       "var gd = document.getElementById('62cb117a-2229-429a-8510-df011b2efd32');\n",
       "var x = new MutationObserver(function (mutations, observer) {{\n",
       "        var display = window.getComputedStyle(gd).display;\n",
       "        if (!display || display === 'none') {{\n",
       "            console.log([gd, 'removed!']);\n",
       "            Plotly.purge(gd);\n",
       "            observer.disconnect();\n",
       "        }}\n",
       "}});\n",
       "\n",
       "// Listen for the removal of the full notebook cells\n",
       "var notebookContainer = gd.closest('#notebook-container');\n",
       "if (notebookContainer) {{\n",
       "    x.observe(notebookContainer, {childList: true});\n",
       "}}\n",
       "\n",
       "// Listen for the clearing of the current output cell\n",
       "var outputEl = gd.closest('.output');\n",
       "if (outputEl) {{\n",
       "    x.observe(outputEl, {childList: true});\n",
       "}}\n",
       "\n",
       "                        })                };                });            </script>        </div>"
      ]
     },
     "metadata": {},
     "output_type": "display_data"
    }
   ],
   "source": [
    "# choropleth map with geojson data\n",
    "# TODO: try bubble map as well\n",
    "# trying YEAR = 2005 on avg_INCTOT\n",
    "# nevermind, theres some kind of issue with the geojson data\n",
    "#with open('us-states.json', 'r') as file:\n",
    "    #geojson_states = json.load(file)\n",
    "\n",
    "income_2005 = state_merged[state_income['YEAR'] == 2005]\n",
    "fig = px.choropleth(state_merged, locations='STATE_ABBREV', locationmode='USA-states', color='avg_INCTOT', scope='usa',color_continuous_scale='Blues', animation_frame='YEAR')\n",
    "fig.update_layout(\n",
    "    title_text = 'Average Individual Income'\n",
    ")\n",
    "fig.show()"
   ]
  },
  {
   "cell_type": "code",
   "execution_count": 171,
   "id": "55682b74-00e5-469c-b97b-4b92cef2a378",
   "metadata": {},
   "outputs": [
    {
     "data": {
      "application/vnd.plotly.v1+json": {
       "config": {
        "plotlyServerURL": "https://plot.ly"
       },
       "data": [
        {
         "coloraxis": "coloraxis",
         "geo": "geo",
         "hovertemplate": "YEAR=2000<br>STATE_ABBREV=%{location}<br>avg_FTOTVAL=%{z}<extra></extra>",
         "locationmode": "USA-states",
         "locations": [
          "AL",
          "AK",
          "AZ",
          "AR",
          "CA",
          "CO",
          "CT",
          "DE",
          "DC",
          "FL",
          "GA",
          "HI",
          "ID",
          "IL",
          "IN",
          "IA",
          "KS",
          "KY",
          "LA",
          "ME",
          "MD",
          "MA",
          "MI",
          "MN",
          "MS",
          "MO",
          "MT",
          "NE",
          "NV",
          "NH",
          "NJ",
          "NM",
          "NY",
          "NC",
          "ND",
          "OH",
          "OK",
          "OR",
          "PA",
          "RI",
          "SC",
          "SD",
          "TN",
          "TX",
          "UT",
          "VT",
          "VA",
          "WA",
          "WV",
          "WI",
          "WY"
         ],
         "name": "",
         "type": "choropleth",
         "z": [
          48455,
          67578,
          47914,
          42250,
          55450,
          59470,
          72854,
          60184,
          60765,
          50985,
          51254,
          65892,
          46837,
          63007,
          53745,
          54513,
          53091,
          50478,
          49208,
          53558,
          69744,
          62565,
          65169,
          61344,
          45950,
          54753,
          43346,
          51405,
          52829,
          66634,
          69511,
          44483,
          57995,
          54078,
          43720,
          56776,
          49276,
          52133,
          59329,
          59946,
          50865,
          48837,
          55962,
          50008,
          57720,
          51735,
          66230,
          57366,
          42881,
          59845,
          48841
         ]
        }
       ],
       "frames": [
        {
         "data": [
          {
           "coloraxis": "coloraxis",
           "geo": "geo",
           "hovertemplate": "YEAR=2000<br>STATE_ABBREV=%{location}<br>avg_FTOTVAL=%{z}<extra></extra>",
           "locationmode": "USA-states",
           "locations": [
            "AL",
            "AK",
            "AZ",
            "AR",
            "CA",
            "CO",
            "CT",
            "DE",
            "DC",
            "FL",
            "GA",
            "HI",
            "ID",
            "IL",
            "IN",
            "IA",
            "KS",
            "KY",
            "LA",
            "ME",
            "MD",
            "MA",
            "MI",
            "MN",
            "MS",
            "MO",
            "MT",
            "NE",
            "NV",
            "NH",
            "NJ",
            "NM",
            "NY",
            "NC",
            "ND",
            "OH",
            "OK",
            "OR",
            "PA",
            "RI",
            "SC",
            "SD",
            "TN",
            "TX",
            "UT",
            "VT",
            "VA",
            "WA",
            "WV",
            "WI",
            "WY"
           ],
           "name": "",
           "type": "choropleth",
           "z": [
            48455,
            67578,
            47914,
            42250,
            55450,
            59470,
            72854,
            60184,
            60765,
            50985,
            51254,
            65892,
            46837,
            63007,
            53745,
            54513,
            53091,
            50478,
            49208,
            53558,
            69744,
            62565,
            65169,
            61344,
            45950,
            54753,
            43346,
            51405,
            52829,
            66634,
            69511,
            44483,
            57995,
            54078,
            43720,
            56776,
            49276,
            52133,
            59329,
            59946,
            50865,
            48837,
            55962,
            50008,
            57720,
            51735,
            66230,
            57366,
            42881,
            59845,
            48841
           ]
          }
         ],
         "name": "2000"
        },
        {
         "data": [
          {
           "coloraxis": "coloraxis",
           "geo": "geo",
           "hovertemplate": "YEAR=2001<br>STATE_ABBREV=%{location}<br>avg_FTOTVAL=%{z}<extra></extra>",
           "locationmode": "USA-states",
           "locations": [
            "AL",
            "AK",
            "AZ",
            "AR",
            "CA",
            "CO",
            "CT",
            "DE",
            "DC",
            "FL",
            "GA",
            "HI",
            "ID",
            "IL",
            "IN",
            "IA",
            "KS",
            "KY",
            "LA",
            "ME",
            "MD",
            "MA",
            "MI",
            "MN",
            "MS",
            "MO",
            "MT",
            "NE",
            "NV",
            "NH",
            "NJ",
            "NM",
            "NY",
            "NC",
            "ND",
            "OH",
            "OK",
            "OR",
            "PA",
            "RI",
            "SC",
            "SD",
            "TN",
            "TX",
            "UT",
            "VT",
            "VA",
            "WA",
            "WV",
            "WI",
            "WY"
           ],
           "name": "",
           "type": "choropleth",
           "z": [
            53766,
            68477,
            57246,
            49551,
            63834,
            67172,
            76313,
            66745,
            61666,
            56965,
            57894,
            68907,
            54984,
            69151,
            62553,
            59259,
            62166,
            57514,
            49285,
            55313,
            81744,
            74198,
            68810,
            72914,
            48468,
            62603,
            48033,
            60900,
            61237,
            76187,
            78124,
            45008,
            64132,
            54421,
            51797,
            64187,
            54913,
            61959,
            67150,
            69519,
            54731,
            51470,
            58334,
            56493,
            70069,
            58339,
            69982,
            62386,
            48942,
            67111,
            53188
           ]
          }
         ],
         "name": "2001"
        },
        {
         "data": [
          {
           "coloraxis": "coloraxis",
           "geo": "geo",
           "hovertemplate": "YEAR=2002<br>STATE_ABBREV=%{location}<br>avg_FTOTVAL=%{z}<extra></extra>",
           "locationmode": "USA-states",
           "locations": [
            "AL",
            "AK",
            "AZ",
            "AR",
            "CA",
            "CO",
            "CT",
            "DE",
            "DC",
            "FL",
            "GA",
            "HI",
            "ID",
            "IL",
            "IN",
            "IA",
            "KS",
            "KY",
            "LA",
            "ME",
            "MD",
            "MA",
            "MI",
            "MN",
            "MS",
            "MO",
            "MT",
            "NE",
            "NV",
            "NH",
            "NJ",
            "NM",
            "NY",
            "NC",
            "ND",
            "OH",
            "OK",
            "OR",
            "PA",
            "RI",
            "SC",
            "SD",
            "TN",
            "TX",
            "UT",
            "VT",
            "VA",
            "WA",
            "WV",
            "WI",
            "WY"
           ],
           "name": "",
           "type": "choropleth",
           "z": [
            54886,
            73299,
            60252,
            49325,
            65283,
            71459,
            78235,
            68705,
            59710,
            57310,
            56557,
            69061,
            55871,
            67630,
            66038,
            60413,
            67648,
            61532,
            52784,
            55482,
            81970,
            77877,
            69826,
            73106,
            46682,
            61703,
            46063,
            58573,
            61315,
            73707,
            82858,
            46854,
            66097,
            55708,
            53204,
            63583,
            51798,
            57932,
            70531,
            71995,
            56674,
            53792,
            58340,
            60120,
            66826,
            58062,
            71635,
            64984,
            48037,
            65927,
            54179
           ]
          }
         ],
         "name": "2002"
        },
        {
         "data": [
          {
           "coloraxis": "coloraxis",
           "geo": "geo",
           "hovertemplate": "YEAR=2003<br>STATE_ABBREV=%{location}<br>avg_FTOTVAL=%{z}<extra></extra>",
           "locationmode": "USA-states",
           "locations": [
            "AL",
            "AK",
            "AZ",
            "AR",
            "CA",
            "CO",
            "CT",
            "DE",
            "DC",
            "FL",
            "GA",
            "HI",
            "ID",
            "IL",
            "IN",
            "IA",
            "KS",
            "KY",
            "LA",
            "ME",
            "MD",
            "MA",
            "MI",
            "MN",
            "MS",
            "MO",
            "MT",
            "NE",
            "NV",
            "NH",
            "NJ",
            "NM",
            "NY",
            "NC",
            "ND",
            "OH",
            "OK",
            "OR",
            "PA",
            "RI",
            "SC",
            "SD",
            "TN",
            "TX",
            "UT",
            "VT",
            "VA",
            "WA",
            "WV",
            "WI",
            "WY"
           ],
           "name": "",
           "type": "choropleth",
           "z": [
            56029,
            69816,
            58698,
            49250,
            65243,
            65451,
            77206,
            65778,
            63322,
            58821,
            57282,
            73375,
            54473,
            65074,
            63080,
            59201,
            65210,
            57320,
            51719,
            57201,
            80932,
            73541,
            66939,
            74583,
            52734,
            65311,
            48547,
            58457,
            60657,
            79677,
            82283,
            49987,
            65940,
            56970,
            53787,
            64863,
            54431,
            59049,
            70449,
            66780,
            56596,
            53171,
            62558,
            59338,
            65789,
            61101,
            69624,
            66249,
            48158,
            62002,
            56368
           ]
          }
         ],
         "name": "2003"
        },
        {
         "data": [
          {
           "coloraxis": "coloraxis",
           "geo": "geo",
           "hovertemplate": "YEAR=2004<br>STATE_ABBREV=%{location}<br>avg_FTOTVAL=%{z}<extra></extra>",
           "locationmode": "USA-states",
           "locations": [
            "AL",
            "AK",
            "AZ",
            "AR",
            "CA",
            "CO",
            "CT",
            "DE",
            "DC",
            "FL",
            "GA",
            "HI",
            "ID",
            "IL",
            "IN",
            "IA",
            "KS",
            "KY",
            "LA",
            "ME",
            "MD",
            "MA",
            "MI",
            "MN",
            "MS",
            "MO",
            "MT",
            "NE",
            "NV",
            "NH",
            "NJ",
            "NM",
            "NY",
            "NC",
            "ND",
            "OH",
            "OK",
            "OR",
            "PA",
            "RI",
            "SC",
            "SD",
            "TN",
            "TX",
            "UT",
            "VT",
            "VA",
            "WA",
            "WV",
            "WI",
            "WY"
           ],
           "name": "",
           "type": "choropleth",
           "z": [
            57530,
            66786,
            62875,
            48106,
            66716,
            69061,
            81075,
            67208,
            62071,
            58873,
            57754,
            74710,
            55144,
            68352,
            62825,
            62959,
            63705,
            54802,
            52133,
            54086,
            78837,
            78257,
            66016,
            78171,
            53990,
            62286,
            48749,
            64979,
            62773,
            84068,
            83807,
            52549,
            67998,
            55924,
            53901,
            64541,
            52966,
            56342,
            68698,
            67554,
            55668,
            59507,
            54054,
            57673,
            69974,
            66283,
            70687,
            65669,
            47306,
            63762,
            57922
           ]
          }
         ],
         "name": "2004"
        },
        {
         "data": [
          {
           "coloraxis": "coloraxis",
           "geo": "geo",
           "hovertemplate": "YEAR=2005<br>STATE_ABBREV=%{location}<br>avg_FTOTVAL=%{z}<extra></extra>",
           "locationmode": "USA-states",
           "locations": [
            "AL",
            "AK",
            "AZ",
            "AR",
            "CA",
            "CO",
            "CT",
            "DE",
            "DC",
            "FL",
            "GA",
            "HI",
            "ID",
            "IL",
            "IN",
            "IA",
            "KS",
            "KY",
            "LA",
            "ME",
            "MD",
            "MA",
            "MI",
            "MN",
            "MS",
            "MO",
            "MT",
            "NE",
            "NV",
            "NH",
            "NJ",
            "NM",
            "NY",
            "NC",
            "ND",
            "OH",
            "OK",
            "OR",
            "PA",
            "RI",
            "SC",
            "SD",
            "TN",
            "TX",
            "UT",
            "VT",
            "VA",
            "WA",
            "WV",
            "WI",
            "WY"
           ],
           "name": "",
           "type": "choropleth",
           "z": [
            54835,
            73566,
            60589,
            53933,
            66334,
            71557,
            83740,
            64249,
            64840,
            62481,
            58829,
            73677,
            59912,
            69157,
            63318,
            62896,
            64973,
            53309,
            52553,
            59054,
            84328,
            83070,
            67296,
            77833,
            57028,
            64979,
            48248,
            63345,
            63018,
            78302,
            86379,
            52110,
            69512,
            59628,
            61412,
            63809,
            58901,
            63939,
            67276,
            72254,
            54863,
            57831,
            56815,
            59696,
            69570,
            69082,
            75955,
            69778,
            51708,
            63264,
            60021
           ]
          }
         ],
         "name": "2005"
        },
        {
         "data": [
          {
           "coloraxis": "coloraxis",
           "geo": "geo",
           "hovertemplate": "YEAR=2006<br>STATE_ABBREV=%{location}<br>avg_FTOTVAL=%{z}<extra></extra>",
           "locationmode": "USA-states",
           "locations": [
            "AL",
            "AK",
            "AZ",
            "AR",
            "CA",
            "CO",
            "CT",
            "DE",
            "DC",
            "FL",
            "GA",
            "HI",
            "ID",
            "IL",
            "IN",
            "IA",
            "KS",
            "KY",
            "LA",
            "ME",
            "MD",
            "MA",
            "MI",
            "MN",
            "MS",
            "MO",
            "MT",
            "NE",
            "NV",
            "NH",
            "NJ",
            "NM",
            "NY",
            "NC",
            "ND",
            "OH",
            "OK",
            "OR",
            "PA",
            "RI",
            "SC",
            "SD",
            "TN",
            "TX",
            "UT",
            "VT",
            "VA",
            "WA",
            "WV",
            "WI",
            "WY"
           ],
           "name": "",
           "type": "choropleth",
           "z": [
            57217,
            74747,
            58182,
            53563,
            70826,
            72231,
            86551,
            70274,
            72784,
            65208,
            62834,
            75680,
            63692,
            72844,
            63015,
            65103,
            66696,
            58304,
            54864,
            62768,
            87283,
            86833,
            70896,
            75897,
            55899,
            65453,
            53529,
            63120,
            63066,
            79651,
            93578,
            55174,
            72444,
            63095,
            63261,
            63900,
            60435,
            65768,
            72378,
            77707,
            56133,
            63881,
            59801,
            60674,
            70993,
            71198,
            79828,
            72894,
            51772,
            67283,
            64323
           ]
          }
         ],
         "name": "2006"
        },
        {
         "data": [
          {
           "coloraxis": "coloraxis",
           "geo": "geo",
           "hovertemplate": "YEAR=2007<br>STATE_ABBREV=%{location}<br>avg_FTOTVAL=%{z}<extra></extra>",
           "locationmode": "USA-states",
           "locations": [
            "AL",
            "AK",
            "AZ",
            "AR",
            "CA",
            "CO",
            "CT",
            "DE",
            "DC",
            "FL",
            "GA",
            "HI",
            "ID",
            "IL",
            "IN",
            "IA",
            "KS",
            "KY",
            "LA",
            "ME",
            "MD",
            "MA",
            "MI",
            "MN",
            "MS",
            "MO",
            "MT",
            "NE",
            "NV",
            "NH",
            "NJ",
            "NM",
            "NY",
            "NC",
            "ND",
            "OH",
            "OK",
            "OR",
            "PA",
            "RI",
            "SC",
            "SD",
            "TN",
            "TX",
            "UT",
            "VT",
            "VA",
            "WA",
            "WV",
            "WI",
            "WY"
           ],
           "name": "",
           "type": "choropleth",
           "z": [
            58487,
            77641,
            64666,
            53563,
            76479,
            80442,
            96521,
            70899,
            80898,
            67972,
            65242,
            79364,
            66425,
            77119,
            71100,
            68194,
            74026,
            60075,
            60779,
            66029,
            90774,
            94528,
            70210,
            80648,
            55853,
            67682,
            53721,
            67079,
            66950,
            84734,
            96499,
            60824,
            76684,
            63645,
            66308,
            67196,
            60569,
            68146,
            71679,
            81461,
            59198,
            64253,
            60803,
            63519,
            71889,
            74900,
            86634,
            76120,
            58309,
            76121,
            67548
           ]
          }
         ],
         "name": "2007"
        },
        {
         "data": [
          {
           "coloraxis": "coloraxis",
           "geo": "geo",
           "hovertemplate": "YEAR=2008<br>STATE_ABBREV=%{location}<br>avg_FTOTVAL=%{z}<extra></extra>",
           "locationmode": "USA-states",
           "locations": [
            "AL",
            "AK",
            "AZ",
            "AR",
            "CA",
            "CO",
            "CT",
            "DE",
            "DC",
            "FL",
            "GA",
            "HI",
            "ID",
            "IL",
            "IN",
            "IA",
            "KS",
            "KY",
            "LA",
            "ME",
            "MD",
            "MA",
            "MI",
            "MN",
            "MS",
            "MO",
            "MT",
            "NE",
            "NV",
            "NH",
            "NJ",
            "NM",
            "NY",
            "NC",
            "ND",
            "OH",
            "OK",
            "OR",
            "PA",
            "RI",
            "SC",
            "SD",
            "TN",
            "TX",
            "UT",
            "VT",
            "VA",
            "WA",
            "WV",
            "WI",
            "WY"
           ],
           "name": "",
           "type": "choropleth",
           "z": [
            62392,
            81937,
            65500,
            58466,
            76006,
            83968,
            98281,
            75994,
            73717,
            66663,
            70635,
            80321,
            72576,
            80275,
            68075,
            72122,
            67396,
            60324,
            64555,
            65941,
            91943,
            90708,
            70845,
            81736,
            57080,
            66278,
            60402,
            73114,
            68461,
            85957,
            90927,
            62568,
            74977,
            62016,
            67857,
            69582,
            63076,
            68730,
            73657,
            83949,
            59030,
            72042,
            63110,
            65806,
            78647,
            67238,
            83053,
            74540,
            57243,
            73785,
            71767
           ]
          }
         ],
         "name": "2008"
        },
        {
         "data": [
          {
           "coloraxis": "coloraxis",
           "geo": "geo",
           "hovertemplate": "YEAR=2009<br>STATE_ABBREV=%{location}<br>avg_FTOTVAL=%{z}<extra></extra>",
           "locationmode": "USA-states",
           "locations": [
            "AL",
            "AK",
            "AZ",
            "AR",
            "CA",
            "CO",
            "CT",
            "DE",
            "DC",
            "FL",
            "GA",
            "HI",
            "ID",
            "IL",
            "IN",
            "IA",
            "KS",
            "KY",
            "LA",
            "ME",
            "MD",
            "MA",
            "MI",
            "MN",
            "MS",
            "MO",
            "MT",
            "NE",
            "NV",
            "NH",
            "NJ",
            "NM",
            "NY",
            "NC",
            "ND",
            "OH",
            "OK",
            "OR",
            "PA",
            "RI",
            "SC",
            "SD",
            "TN",
            "TX",
            "UT",
            "VT",
            "VA",
            "WA",
            "WV",
            "WI",
            "WY"
           ],
           "name": "",
           "type": "choropleth",
           "z": [
            60658,
            82104,
            64700,
            54574,
            79578,
            80853,
            97309,
            74421,
            77840,
            66521,
            69668,
            82362,
            63959,
            76085,
            67831,
            69643,
            72226,
            60792,
            62978,
            70218,
            93390,
            90031,
            70104,
            80455,
            56284,
            69389,
            63039,
            73310,
            72579,
            92136,
            96040,
            62234,
            75883,
            64079,
            69096,
            67252,
            65709,
            67640,
            79076,
            80636,
            60686,
            70371,
            62490,
            66300,
            80413,
            71755,
            87473,
            81651,
            58287,
            71640,
            71784
           ]
          }
         ],
         "name": "2009"
        },
        {
         "data": [
          {
           "coloraxis": "coloraxis",
           "geo": "geo",
           "hovertemplate": "YEAR=2010<br>STATE_ABBREV=%{location}<br>avg_FTOTVAL=%{z}<extra></extra>",
           "locationmode": "USA-states",
           "locations": [
            "AL",
            "AK",
            "AZ",
            "AR",
            "CA",
            "CO",
            "CT",
            "DE",
            "DC",
            "FL",
            "GA",
            "HI",
            "ID",
            "IL",
            "IN",
            "IA",
            "KS",
            "KY",
            "LA",
            "ME",
            "MD",
            "MA",
            "MI",
            "MN",
            "MS",
            "MO",
            "MT",
            "NE",
            "NV",
            "NH",
            "NJ",
            "NM",
            "NY",
            "NC",
            "ND",
            "OH",
            "OK",
            "OR",
            "PA",
            "RI",
            "SC",
            "SD",
            "TN",
            "TX",
            "UT",
            "VT",
            "VA",
            "WA",
            "WV",
            "WI",
            "WY"
           ],
           "name": "",
           "type": "choropleth",
           "z": [
            59004,
            83778,
            63177,
            51162,
            75210,
            79834,
            101096,
            72800,
            80503,
            63660,
            68544,
            78466,
            64746,
            75259,
            66076,
            70993,
            70833,
            62616,
            69052,
            69890,
            88897,
            92582,
            69974,
            78822,
            53752,
            70349,
            59540,
            71596,
            70224,
            86098,
            94582,
            59477,
            74798,
            63332,
            71224,
            66635,
            71555,
            68579,
            78082,
            75768,
            58571,
            64658,
            62669,
            64176,
            75818,
            69078,
            88722,
            77955,
            56410,
            71398,
            73337
           ]
          }
         ],
         "name": "2010"
        },
        {
         "data": [
          {
           "coloraxis": "coloraxis",
           "geo": "geo",
           "hovertemplate": "YEAR=2011<br>STATE_ABBREV=%{location}<br>avg_FTOTVAL=%{z}<extra></extra>",
           "locationmode": "USA-states",
           "locations": [
            "AL",
            "AK",
            "AZ",
            "AR",
            "CA",
            "CO",
            "CT",
            "DE",
            "DC",
            "FL",
            "GA",
            "HI",
            "ID",
            "IL",
            "IN",
            "IA",
            "KS",
            "KY",
            "LA",
            "ME",
            "MD",
            "MA",
            "MI",
            "MN",
            "MS",
            "MO",
            "MT",
            "NE",
            "NV",
            "NH",
            "NJ",
            "NM",
            "NY",
            "NC",
            "ND",
            "OH",
            "OK",
            "OR",
            "PA",
            "RI",
            "SC",
            "SD",
            "TN",
            "TX",
            "UT",
            "VT",
            "VA",
            "WA",
            "WV",
            "WI",
            "WY"
           ],
           "name": "",
           "type": "choropleth",
           "z": [
            65439,
            77291,
            65962,
            60157,
            73030,
            82959,
            100910,
            71524,
            78150,
            65055,
            65604,
            78684,
            63985,
            74115,
            65084,
            66705,
            70032,
            59120,
            62368,
            68403,
            88695,
            92216,
            70605,
            79104,
            54254,
            71542,
            64609,
            74434,
            64997,
            91103,
            93363,
            66179,
            75395,
            69251,
            78371,
            66311,
            62652,
            68869,
            72424,
            76575,
            62170,
            67676,
            61411,
            64879,
            73774,
            72576,
            85091,
            76356,
            59422,
            71178,
            69310
           ]
          }
         ],
         "name": "2011"
        },
        {
         "data": [
          {
           "coloraxis": "coloraxis",
           "geo": "geo",
           "hovertemplate": "YEAR=2012<br>STATE_ABBREV=%{location}<br>avg_FTOTVAL=%{z}<extra></extra>",
           "locationmode": "USA-states",
           "locations": [
            "AL",
            "AK",
            "AZ",
            "AR",
            "CA",
            "CO",
            "CT",
            "DE",
            "DC",
            "FL",
            "GA",
            "HI",
            "ID",
            "IL",
            "IN",
            "IA",
            "KS",
            "KY",
            "LA",
            "ME",
            "MD",
            "MA",
            "MI",
            "MN",
            "MS",
            "MO",
            "MT",
            "NE",
            "NV",
            "NH",
            "NJ",
            "NM",
            "NY",
            "NC",
            "ND",
            "OH",
            "OK",
            "OR",
            "PA",
            "RI",
            "SC",
            "SD",
            "TN",
            "TX",
            "UT",
            "VT",
            "VA",
            "WA",
            "WV",
            "WI",
            "WY"
           ],
           "name": "",
           "type": "choropleth",
           "z": [
            66009,
            78730,
            67638,
            55703,
            77418,
            81626,
            103031,
            71541,
            85538,
            67659,
            70608,
            83870,
            65551,
            78153,
            71713,
            70308,
            70424,
            62374,
            60319,
            72485,
            99053,
            95144,
            73794,
            82966,
            59083,
            72733,
            55623,
            79403,
            64294,
            90511,
            100216,
            62442,
            75590,
            69146,
            81677,
            70164,
            74457,
            67162,
            76177,
            78287,
            53545,
            65322,
            60827,
            71204,
            80193,
            69753,
            86707,
            76486,
            58885,
            72719,
            72878
           ]
          }
         ],
         "name": "2012"
        },
        {
         "data": [
          {
           "coloraxis": "coloraxis",
           "geo": "geo",
           "hovertemplate": "YEAR=2013<br>STATE_ABBREV=%{location}<br>avg_FTOTVAL=%{z}<extra></extra>",
           "locationmode": "USA-states",
           "locations": [
            "AL",
            "AK",
            "AZ",
            "AR",
            "CA",
            "CO",
            "CT",
            "DE",
            "DC",
            "FL",
            "GA",
            "HI",
            "ID",
            "IL",
            "IN",
            "IA",
            "KS",
            "KY",
            "LA",
            "ME",
            "MD",
            "MA",
            "MI",
            "MN",
            "MS",
            "MO",
            "MT",
            "NE",
            "NV",
            "NH",
            "NJ",
            "NM",
            "NY",
            "NC",
            "ND",
            "OH",
            "OK",
            "OR",
            "PA",
            "RI",
            "SC",
            "SD",
            "TN",
            "TX",
            "UT",
            "VT",
            "VA",
            "WA",
            "WV",
            "WI",
            "WY"
           ],
           "name": "",
           "type": "choropleth",
           "z": [
            65685,
            87373,
            62950,
            57392,
            79606,
            84626,
            104506,
            69108,
            93013,
            67757,
            69749,
            79605,
            68533,
            82756,
            69495,
            74093,
            76417,
            60488,
            60486,
            71579,
            96309,
            93607,
            75974,
            88897,
            58043,
            77715,
            64731,
            74144,
            66404,
            94848,
            101904,
            75433,
            79485,
            63974,
            84280,
            69729,
            67544,
            67518,
            75373,
            88700,
            60741,
            72087,
            62035,
            69024,
            81344,
            75316,
            92270,
            81789,
            68361,
            77985,
            75903
           ]
          }
         ],
         "name": "2013"
        },
        {
         "data": [
          {
           "coloraxis": "coloraxis",
           "geo": "geo",
           "hovertemplate": "YEAR=2014<br>STATE_ABBREV=%{location}<br>avg_FTOTVAL=%{z}<extra></extra>",
           "locationmode": "USA-states",
           "locations": [
            "AL",
            "AK",
            "AZ",
            "AR",
            "CA",
            "CO",
            "CT",
            "DE",
            "DC",
            "FL",
            "GA",
            "HI",
            "ID",
            "IL",
            "IN",
            "IA",
            "KS",
            "KY",
            "LA",
            "ME",
            "MD",
            "MA",
            "MI",
            "MN",
            "MS",
            "MO",
            "MT",
            "NE",
            "NV",
            "NH",
            "NJ",
            "NM",
            "NY",
            "NC",
            "ND",
            "OH",
            "OK",
            "OR",
            "PA",
            "RI",
            "SC",
            "SD",
            "TN",
            "TX",
            "UT",
            "VT",
            "VA",
            "WA",
            "WV",
            "WI",
            "WY"
           ],
           "name": "",
           "type": "choropleth",
           "z": [
            65593,
            91221,
            68228,
            56551,
            83423,
            93663,
            102011,
            79477,
            92054,
            70362,
            71236,
            81086,
            69609,
            84790,
            71434,
            77200,
            73023,
            59970,
            68804,
            77156,
            98102,
            104163,
            78933,
            91379,
            64030,
            75371,
            68851,
            76809,
            68625,
            94362,
            100304,
            63833,
            82623,
            68557,
            82951,
            74280,
            66150,
            69943,
            83183,
            85581,
            63275,
            78529,
            67653,
            71242,
            78552,
            77937,
            92900,
            85350,
            67333,
            80713,
            78357
           ]
          }
         ],
         "name": "2014"
        },
        {
         "data": [
          {
           "coloraxis": "coloraxis",
           "geo": "geo",
           "hovertemplate": "YEAR=2015<br>STATE_ABBREV=%{location}<br>avg_FTOTVAL=%{z}<extra></extra>",
           "locationmode": "USA-states",
           "locations": [
            "AL",
            "AK",
            "AZ",
            "AR",
            "CA",
            "CO",
            "CT",
            "DE",
            "DC",
            "FL",
            "GA",
            "HI",
            "ID",
            "IL",
            "IN",
            "IA",
            "KS",
            "KY",
            "LA",
            "ME",
            "MD",
            "MA",
            "MI",
            "MN",
            "MS",
            "MO",
            "MT",
            "NE",
            "NV",
            "NH",
            "NJ",
            "NM",
            "NY",
            "NC",
            "ND",
            "OH",
            "OK",
            "OR",
            "PA",
            "RI",
            "SC",
            "SD",
            "TN",
            "TX",
            "UT",
            "VT",
            "VA",
            "WA",
            "WV",
            "WI",
            "WY"
           ],
           "name": "",
           "type": "choropleth",
           "z": [
            69075,
            92028,
            67561,
            62459,
            85449,
            87938,
            104933,
            82909,
            97371,
            70335,
            74078,
            86952,
            73283,
            87720,
            74723,
            84637,
            79879,
            71298,
            65502,
            74980,
            110483,
            99457,
            76382,
            93703,
            57844,
            84343,
            75708,
            81278,
            66550,
            102030,
            100517,
            64824,
            88086,
            76338,
            83228,
            76816,
            71843,
            76862,
            85243,
            90467,
            69433,
            86544,
            73901,
            76047,
            85638,
            83631,
            98121,
            84542,
            64481,
            82700,
            81438
           ]
          }
         ],
         "name": "2015"
        },
        {
         "data": [
          {
           "coloraxis": "coloraxis",
           "geo": "geo",
           "hovertemplate": "YEAR=2016<br>STATE_ABBREV=%{location}<br>avg_FTOTVAL=%{z}<extra></extra>",
           "locationmode": "USA-states",
           "locations": [
            "AL",
            "AK",
            "AZ",
            "AR",
            "CA",
            "CO",
            "CT",
            "DE",
            "DC",
            "FL",
            "GA",
            "HI",
            "ID",
            "IL",
            "IN",
            "IA",
            "KS",
            "KY",
            "LA",
            "ME",
            "MD",
            "MA",
            "MI",
            "MN",
            "MS",
            "MO",
            "MT",
            "NE",
            "NV",
            "NH",
            "NJ",
            "NM",
            "NY",
            "NC",
            "ND",
            "OH",
            "OK",
            "OR",
            "PA",
            "RI",
            "SC",
            "SD",
            "TN",
            "TX",
            "UT",
            "VT",
            "VA",
            "WA",
            "WV",
            "WI",
            "WY"
           ],
           "name": "",
           "type": "choropleth",
           "z": [
            70111,
            102372,
            72786,
            69953,
            90057,
            88159,
            109025,
            82820,
            100429,
            74191,
            74841,
            92352,
            77798,
            95381,
            76479,
            86695,
            82625,
            69119,
            73785,
            73186,
            105554,
            104618,
            81725,
            92892,
            63492,
            86095,
            77041,
            83954,
            73961,
            102860,
            105420,
            65232,
            91447,
            77847,
            84351,
            79982,
            75270,
            77070,
            88546,
            87599,
            72637,
            86121,
            78595,
            82312,
            88343,
            85913,
            96351,
            91358,
            69402,
            79667,
            85804
           ]
          }
         ],
         "name": "2016"
        },
        {
         "data": [
          {
           "coloraxis": "coloraxis",
           "geo": "geo",
           "hovertemplate": "YEAR=2017<br>STATE_ABBREV=%{location}<br>avg_FTOTVAL=%{z}<extra></extra>",
           "locationmode": "USA-states",
           "locations": [
            "AL",
            "AK",
            "AZ",
            "AR",
            "CA",
            "CO",
            "CT",
            "DE",
            "DC",
            "FL",
            "GA",
            "HI",
            "ID",
            "IL",
            "IN",
            "IA",
            "KS",
            "KY",
            "LA",
            "ME",
            "MD",
            "MA",
            "MI",
            "MN",
            "MS",
            "MO",
            "MT",
            "NE",
            "NV",
            "NH",
            "NJ",
            "NM",
            "NY",
            "NC",
            "ND",
            "OH",
            "OK",
            "OR",
            "PA",
            "RI",
            "SC",
            "SD",
            "TN",
            "TX",
            "UT",
            "VT",
            "VA",
            "WA",
            "WV",
            "WI",
            "WY"
           ],
           "name": "",
           "type": "choropleth",
           "z": [
            78291,
            95136,
            79452,
            78556,
            93387,
            96987,
            108892,
            81930,
            104327,
            79159,
            77807,
            98181,
            82655,
            97463,
            88513,
            86524,
            83472,
            73838,
            73428,
            83930,
            111597,
            107175,
            84396,
            96434,
            65028,
            80796,
            80031,
            87691,
            77329,
            104983,
            110130,
            74186,
            96384,
            79758,
            85646,
            86111,
            79858,
            84777,
            90706,
            92529,
            84234,
            82733,
            78133,
            85769,
            101140,
            96043,
            98746,
            95403,
            69642,
            86691,
            81209
           ]
          }
         ],
         "name": "2017"
        },
        {
         "data": [
          {
           "coloraxis": "coloraxis",
           "geo": "geo",
           "hovertemplate": "YEAR=2018<br>STATE_ABBREV=%{location}<br>avg_FTOTVAL=%{z}<extra></extra>",
           "locationmode": "USA-states",
           "locations": [
            "AL",
            "AK",
            "AZ",
            "AR",
            "CA",
            "CO",
            "CT",
            "DE",
            "DC",
            "FL",
            "GA",
            "HI",
            "ID",
            "IL",
            "IN",
            "IA",
            "KS",
            "KY",
            "LA",
            "ME",
            "MD",
            "MA",
            "MI",
            "MN",
            "MS",
            "MO",
            "MT",
            "NE",
            "NV",
            "NH",
            "NJ",
            "NM",
            "NY",
            "NC",
            "ND",
            "OH",
            "OK",
            "OR",
            "PA",
            "RI",
            "SC",
            "SD",
            "TN",
            "TX",
            "UT",
            "VT",
            "VA",
            "WA",
            "WV",
            "WI",
            "WY"
           ],
           "name": "",
           "type": "choropleth",
           "z": [
            83015,
            91349,
            81054,
            76723,
            96097,
            99671,
            105912,
            93151,
            119535,
            80140,
            82879,
            101625,
            81995,
            102894,
            83700,
            92670,
            89623,
            81515,
            74115,
            82174,
            117171,
            110435,
            91018,
            99056,
            64611,
            90375,
            83225,
            90415,
            78153,
            104400,
            113265,
            69457,
            97017,
            83710,
            85546,
            89312,
            77746,
            88305,
            100761,
            101285,
            83042,
            87471,
            82564,
            86593,
            105010,
            94033,
            102564,
            107797,
            72904,
            92846,
            80082
           ]
          }
         ],
         "name": "2018"
        },
        {
         "data": [
          {
           "coloraxis": "coloraxis",
           "geo": "geo",
           "hovertemplate": "YEAR=2019<br>STATE_ABBREV=%{location}<br>avg_FTOTVAL=%{z}<extra></extra>",
           "locationmode": "USA-states",
           "locations": [
            "AL",
            "AK",
            "AZ",
            "AR",
            "CA",
            "CO",
            "CT",
            "DE",
            "DC",
            "FL",
            "GA",
            "HI",
            "ID",
            "IL",
            "IN",
            "IA",
            "KS",
            "KY",
            "LA",
            "ME",
            "MD",
            "MA",
            "MI",
            "MN",
            "MS",
            "MO",
            "MT",
            "NE",
            "NV",
            "NH",
            "NJ",
            "NM",
            "NY",
            "NC",
            "ND",
            "OH",
            "OK",
            "OR",
            "PA",
            "RI",
            "SC",
            "SD",
            "TN",
            "TX",
            "UT",
            "VT",
            "VA",
            "WA",
            "WV",
            "WI",
            "WY"
           ],
           "name": "",
           "type": "choropleth",
           "z": [
            74017,
            93554,
            89881,
            76924,
            100817,
            105865,
            113116,
            99669,
            128942,
            83534,
            87975,
            108339,
            82817,
            108601,
            87939,
            93193,
            96294,
            86083,
            79644,
            84426,
            117462,
            126731,
            94095,
            108468,
            66397,
            89845,
            79876,
            96511,
            84114,
            111552,
            128413,
            78752,
            106617,
            81474,
            95258,
            94725,
            81297,
            94700,
            98910,
            104549,
            83179,
            93474,
            84628,
            88372,
            107186,
            91610,
            113338,
            109827,
            74948,
            89414,
            87387
           ]
          }
         ],
         "name": "2019"
        },
        {
         "data": [
          {
           "coloraxis": "coloraxis",
           "geo": "geo",
           "hovertemplate": "YEAR=2020<br>STATE_ABBREV=%{location}<br>avg_FTOTVAL=%{z}<extra></extra>",
           "locationmode": "USA-states",
           "locations": [
            "AL",
            "AK",
            "AZ",
            "AR",
            "CA",
            "CO",
            "CT",
            "DE",
            "DC",
            "FL",
            "GA",
            "HI",
            "ID",
            "IL",
            "IN",
            "IA",
            "KS",
            "KY",
            "LA",
            "ME",
            "MD",
            "MA",
            "MI",
            "MN",
            "MS",
            "MO",
            "MT",
            "NE",
            "NV",
            "NH",
            "NJ",
            "NM",
            "NY",
            "NC",
            "ND",
            "OH",
            "OK",
            "OR",
            "PA",
            "RI",
            "SC",
            "SD",
            "TN",
            "TX",
            "UT",
            "VT",
            "VA",
            "WA",
            "WV",
            "WI",
            "WY"
           ],
           "name": "",
           "type": "choropleth",
           "z": [
            86184,
            102580,
            103141,
            87562,
            109752,
            122959,
            132172,
            114994,
            137200,
            91455,
            92691,
            113129,
            99459,
            116142,
            99369,
            91785,
            104538,
            92432,
            86709,
            89519,
            131502,
            141238,
            107292,
            118273,
            75020,
            93465,
            89701,
            103956,
            93647,
            127382,
            133325,
            72310,
            112556,
            90501,
            100664,
            105137,
            91832,
            118317,
            109697,
            110837,
            89660,
            91583,
            92889,
            102119,
            119236,
            105836,
            124994,
            116731,
            81615,
            104411,
            95631
           ]
          }
         ],
         "name": "2020"
        },
        {
         "data": [
          {
           "coloraxis": "coloraxis",
           "geo": "geo",
           "hovertemplate": "YEAR=2021<br>STATE_ABBREV=%{location}<br>avg_FTOTVAL=%{z}<extra></extra>",
           "locationmode": "USA-states",
           "locations": [
            "AL",
            "AK",
            "AZ",
            "AR",
            "CA",
            "CO",
            "CT",
            "DE",
            "DC",
            "FL",
            "GA",
            "HI",
            "ID",
            "IL",
            "IN",
            "IA",
            "KS",
            "KY",
            "LA",
            "ME",
            "MD",
            "MA",
            "MI",
            "MN",
            "MS",
            "MO",
            "MT",
            "NE",
            "NV",
            "NH",
            "NJ",
            "NM",
            "NY",
            "NC",
            "ND",
            "OH",
            "OK",
            "OR",
            "PA",
            "RI",
            "SC",
            "SD",
            "TN",
            "TX",
            "UT",
            "VT",
            "VA",
            "WA",
            "WV",
            "WI",
            "WY"
           ],
           "name": "",
           "type": "choropleth",
           "z": [
            88884,
            105679,
            101384,
            83883,
            108484,
            119761,
            122387,
            93885,
            136280,
            85207,
            94519,
            105359,
            92352,
            120375,
            105241,
            99668,
            102539,
            82435,
            82205,
            88361,
            142878,
            136553,
            116392,
            130061,
            71801,
            99885,
            91610,
            102697,
            87137,
            125521,
            135291,
            71912,
            108738,
            89547,
            94962,
            93447,
            82633,
            108590,
            111372,
            109050,
            88111,
            100650,
            88352,
            99352,
            120050,
            111161,
            123028,
            110515,
            83249,
            104394,
            89094
           ]
          }
         ],
         "name": "2021"
        },
        {
         "data": [
          {
           "coloraxis": "coloraxis",
           "geo": "geo",
           "hovertemplate": "YEAR=2022<br>STATE_ABBREV=%{location}<br>avg_FTOTVAL=%{z}<extra></extra>",
           "locationmode": "USA-states",
           "locations": [
            "AL",
            "AK",
            "AZ",
            "AR",
            "CA",
            "CO",
            "CT",
            "DE",
            "DC",
            "FL",
            "GA",
            "HI",
            "ID",
            "IL",
            "IN",
            "IA",
            "KS",
            "KY",
            "LA",
            "ME",
            "MD",
            "MA",
            "MI",
            "MN",
            "MS",
            "MO",
            "MT",
            "NE",
            "NV",
            "NH",
            "NJ",
            "NM",
            "NY",
            "NC",
            "ND",
            "OH",
            "OK",
            "OR",
            "PA",
            "RI",
            "SC",
            "SD",
            "TN",
            "TX",
            "UT",
            "VT",
            "VA",
            "WA",
            "WV",
            "WI",
            "WY"
           ],
           "name": "",
           "type": "choropleth",
           "z": [
            88075,
            108326,
            103738,
            89322,
            115830,
            127302,
            129942,
            106799,
            157399,
            89920,
            94164,
            114729,
            99579,
            121020,
            99915,
            112683,
            111244,
            90117,
            89170,
            102046,
            135559,
            144166,
            110189,
            123978,
            75928,
            100736,
            104758,
            115176,
            99471,
            128043,
            142147,
            81906,
            115932,
            103219,
            106338,
            101487,
            90427,
            117693,
            117354,
            126845,
            91655,
            99669,
            91835,
            102061,
            123253,
            111625,
            124250,
            130371,
            80896,
            110155,
            96048
           ]
          }
         ],
         "name": "2022"
        },
        {
         "data": [
          {
           "coloraxis": "coloraxis",
           "geo": "geo",
           "hovertemplate": "YEAR=2023<br>STATE_ABBREV=%{location}<br>avg_FTOTVAL=%{z}<extra></extra>",
           "locationmode": "USA-states",
           "locations": [
            "AL",
            "AK",
            "AZ",
            "AR",
            "CA",
            "CO",
            "CT",
            "DE",
            "DC",
            "FL",
            "GA",
            "HI",
            "ID",
            "IL",
            "IN",
            "IA",
            "KS",
            "KY",
            "LA",
            "ME",
            "MD",
            "MA",
            "MI",
            "MN",
            "MS",
            "MO",
            "MT",
            "NE",
            "NV",
            "NH",
            "NJ",
            "NM",
            "NY",
            "NC",
            "ND",
            "OH",
            "OK",
            "OR",
            "PA",
            "RI",
            "SC",
            "SD",
            "TN",
            "TX",
            "UT",
            "VT",
            "VA",
            "WA",
            "WV",
            "WI",
            "WY"
           ],
           "name": "",
           "type": "choropleth",
           "z": [
            94218,
            125164,
            101846,
            84199,
            124065,
            137637,
            134960,
            107847,
            161853,
            102211,
            104152,
            119731,
            104846,
            127896,
            106974,
            118226,
            124413,
            89711,
            86402,
            104089,
            145755,
            147743,
            107017,
            133212,
            76063,
            109325,
            106161,
            109654,
            97010,
            124896,
            144567,
            77928,
            116796,
            100381,
            112103,
            104480,
            93935,
            119124,
            120632,
            122938,
            99494,
            114441,
            97855,
            107122,
            144755,
            114973,
            138875,
            133846,
            84871,
            109523,
            106871
           ]
          }
         ],
         "name": "2023"
        }
       ],
       "layout": {
        "autosize": true,
        "coloraxis": {
         "colorbar": {
          "title": {
           "text": "avg_FTOTVAL"
          }
         },
         "colorscale": [
          [
           0,
           "rgb(255,245,240)"
          ],
          [
           0.125,
           "rgb(254,224,210)"
          ],
          [
           0.25,
           "rgb(252,187,161)"
          ],
          [
           0.375,
           "rgb(252,146,114)"
          ],
          [
           0.5,
           "rgb(251,106,74)"
          ],
          [
           0.625,
           "rgb(239,59,44)"
          ],
          [
           0.75,
           "rgb(203,24,29)"
          ],
          [
           0.875,
           "rgb(165,15,21)"
          ],
          [
           1,
           "rgb(103,0,13)"
          ]
         ]
        },
        "geo": {
         "center": {
          "lat": 38.69974905886401,
          "lon": -96.64985841228786
         },
         "domain": {
          "x": [
           0,
           1
          ],
          "y": [
           0,
           1
          ]
         },
         "projection": {
          "scale": 1
         },
         "scope": "usa"
        },
        "legend": {
         "tracegroupgap": 0
        },
        "margin": {
         "t": 60
        },
        "sliders": [
         {
          "active": 0,
          "currentvalue": {
           "prefix": "YEAR="
          },
          "len": 0.9,
          "pad": {
           "b": 10,
           "t": 60
          },
          "steps": [
           {
            "args": [
             [
              "2000"
             ],
             {
              "frame": {
               "duration": 0,
               "redraw": true
              },
              "fromcurrent": true,
              "mode": "immediate",
              "transition": {
               "duration": 0,
               "easing": "linear"
              }
             }
            ],
            "label": "2000",
            "method": "animate"
           },
           {
            "args": [
             [
              "2001"
             ],
             {
              "frame": {
               "duration": 0,
               "redraw": true
              },
              "fromcurrent": true,
              "mode": "immediate",
              "transition": {
               "duration": 0,
               "easing": "linear"
              }
             }
            ],
            "label": "2001",
            "method": "animate"
           },
           {
            "args": [
             [
              "2002"
             ],
             {
              "frame": {
               "duration": 0,
               "redraw": true
              },
              "fromcurrent": true,
              "mode": "immediate",
              "transition": {
               "duration": 0,
               "easing": "linear"
              }
             }
            ],
            "label": "2002",
            "method": "animate"
           },
           {
            "args": [
             [
              "2003"
             ],
             {
              "frame": {
               "duration": 0,
               "redraw": true
              },
              "fromcurrent": true,
              "mode": "immediate",
              "transition": {
               "duration": 0,
               "easing": "linear"
              }
             }
            ],
            "label": "2003",
            "method": "animate"
           },
           {
            "args": [
             [
              "2004"
             ],
             {
              "frame": {
               "duration": 0,
               "redraw": true
              },
              "fromcurrent": true,
              "mode": "immediate",
              "transition": {
               "duration": 0,
               "easing": "linear"
              }
             }
            ],
            "label": "2004",
            "method": "animate"
           },
           {
            "args": [
             [
              "2005"
             ],
             {
              "frame": {
               "duration": 0,
               "redraw": true
              },
              "fromcurrent": true,
              "mode": "immediate",
              "transition": {
               "duration": 0,
               "easing": "linear"
              }
             }
            ],
            "label": "2005",
            "method": "animate"
           },
           {
            "args": [
             [
              "2006"
             ],
             {
              "frame": {
               "duration": 0,
               "redraw": true
              },
              "fromcurrent": true,
              "mode": "immediate",
              "transition": {
               "duration": 0,
               "easing": "linear"
              }
             }
            ],
            "label": "2006",
            "method": "animate"
           },
           {
            "args": [
             [
              "2007"
             ],
             {
              "frame": {
               "duration": 0,
               "redraw": true
              },
              "fromcurrent": true,
              "mode": "immediate",
              "transition": {
               "duration": 0,
               "easing": "linear"
              }
             }
            ],
            "label": "2007",
            "method": "animate"
           },
           {
            "args": [
             [
              "2008"
             ],
             {
              "frame": {
               "duration": 0,
               "redraw": true
              },
              "fromcurrent": true,
              "mode": "immediate",
              "transition": {
               "duration": 0,
               "easing": "linear"
              }
             }
            ],
            "label": "2008",
            "method": "animate"
           },
           {
            "args": [
             [
              "2009"
             ],
             {
              "frame": {
               "duration": 0,
               "redraw": true
              },
              "fromcurrent": true,
              "mode": "immediate",
              "transition": {
               "duration": 0,
               "easing": "linear"
              }
             }
            ],
            "label": "2009",
            "method": "animate"
           },
           {
            "args": [
             [
              "2010"
             ],
             {
              "frame": {
               "duration": 0,
               "redraw": true
              },
              "fromcurrent": true,
              "mode": "immediate",
              "transition": {
               "duration": 0,
               "easing": "linear"
              }
             }
            ],
            "label": "2010",
            "method": "animate"
           },
           {
            "args": [
             [
              "2011"
             ],
             {
              "frame": {
               "duration": 0,
               "redraw": true
              },
              "fromcurrent": true,
              "mode": "immediate",
              "transition": {
               "duration": 0,
               "easing": "linear"
              }
             }
            ],
            "label": "2011",
            "method": "animate"
           },
           {
            "args": [
             [
              "2012"
             ],
             {
              "frame": {
               "duration": 0,
               "redraw": true
              },
              "fromcurrent": true,
              "mode": "immediate",
              "transition": {
               "duration": 0,
               "easing": "linear"
              }
             }
            ],
            "label": "2012",
            "method": "animate"
           },
           {
            "args": [
             [
              "2013"
             ],
             {
              "frame": {
               "duration": 0,
               "redraw": true
              },
              "fromcurrent": true,
              "mode": "immediate",
              "transition": {
               "duration": 0,
               "easing": "linear"
              }
             }
            ],
            "label": "2013",
            "method": "animate"
           },
           {
            "args": [
             [
              "2014"
             ],
             {
              "frame": {
               "duration": 0,
               "redraw": true
              },
              "fromcurrent": true,
              "mode": "immediate",
              "transition": {
               "duration": 0,
               "easing": "linear"
              }
             }
            ],
            "label": "2014",
            "method": "animate"
           },
           {
            "args": [
             [
              "2015"
             ],
             {
              "frame": {
               "duration": 0,
               "redraw": true
              },
              "fromcurrent": true,
              "mode": "immediate",
              "transition": {
               "duration": 0,
               "easing": "linear"
              }
             }
            ],
            "label": "2015",
            "method": "animate"
           },
           {
            "args": [
             [
              "2016"
             ],
             {
              "frame": {
               "duration": 0,
               "redraw": true
              },
              "fromcurrent": true,
              "mode": "immediate",
              "transition": {
               "duration": 0,
               "easing": "linear"
              }
             }
            ],
            "label": "2016",
            "method": "animate"
           },
           {
            "args": [
             [
              "2017"
             ],
             {
              "frame": {
               "duration": 0,
               "redraw": true
              },
              "fromcurrent": true,
              "mode": "immediate",
              "transition": {
               "duration": 0,
               "easing": "linear"
              }
             }
            ],
            "label": "2017",
            "method": "animate"
           },
           {
            "args": [
             [
              "2018"
             ],
             {
              "frame": {
               "duration": 0,
               "redraw": true
              },
              "fromcurrent": true,
              "mode": "immediate",
              "transition": {
               "duration": 0,
               "easing": "linear"
              }
             }
            ],
            "label": "2018",
            "method": "animate"
           },
           {
            "args": [
             [
              "2019"
             ],
             {
              "frame": {
               "duration": 0,
               "redraw": true
              },
              "fromcurrent": true,
              "mode": "immediate",
              "transition": {
               "duration": 0,
               "easing": "linear"
              }
             }
            ],
            "label": "2019",
            "method": "animate"
           },
           {
            "args": [
             [
              "2020"
             ],
             {
              "frame": {
               "duration": 0,
               "redraw": true
              },
              "fromcurrent": true,
              "mode": "immediate",
              "transition": {
               "duration": 0,
               "easing": "linear"
              }
             }
            ],
            "label": "2020",
            "method": "animate"
           },
           {
            "args": [
             [
              "2021"
             ],
             {
              "frame": {
               "duration": 0,
               "redraw": true
              },
              "fromcurrent": true,
              "mode": "immediate",
              "transition": {
               "duration": 0,
               "easing": "linear"
              }
             }
            ],
            "label": "2021",
            "method": "animate"
           },
           {
            "args": [
             [
              "2022"
             ],
             {
              "frame": {
               "duration": 0,
               "redraw": true
              },
              "fromcurrent": true,
              "mode": "immediate",
              "transition": {
               "duration": 0,
               "easing": "linear"
              }
             }
            ],
            "label": "2022",
            "method": "animate"
           },
           {
            "args": [
             [
              "2023"
             ],
             {
              "frame": {
               "duration": 0,
               "redraw": true
              },
              "fromcurrent": true,
              "mode": "immediate",
              "transition": {
               "duration": 0,
               "easing": "linear"
              }
             }
            ],
            "label": "2023",
            "method": "animate"
           }
          ],
          "x": 0.1,
          "xanchor": "left",
          "y": 0,
          "yanchor": "top"
         }
        ],
        "template": {
         "data": {
          "bar": [
           {
            "error_x": {
             "color": "#2a3f5f"
            },
            "error_y": {
             "color": "#2a3f5f"
            },
            "marker": {
             "line": {
              "color": "#E5ECF6",
              "width": 0.5
             },
             "pattern": {
              "fillmode": "overlay",
              "size": 10,
              "solidity": 0.2
             }
            },
            "type": "bar"
           }
          ],
          "barpolar": [
           {
            "marker": {
             "line": {
              "color": "#E5ECF6",
              "width": 0.5
             },
             "pattern": {
              "fillmode": "overlay",
              "size": 10,
              "solidity": 0.2
             }
            },
            "type": "barpolar"
           }
          ],
          "carpet": [
           {
            "aaxis": {
             "endlinecolor": "#2a3f5f",
             "gridcolor": "white",
             "linecolor": "white",
             "minorgridcolor": "white",
             "startlinecolor": "#2a3f5f"
            },
            "baxis": {
             "endlinecolor": "#2a3f5f",
             "gridcolor": "white",
             "linecolor": "white",
             "minorgridcolor": "white",
             "startlinecolor": "#2a3f5f"
            },
            "type": "carpet"
           }
          ],
          "choropleth": [
           {
            "colorbar": {
             "outlinewidth": 0,
             "ticks": ""
            },
            "type": "choropleth"
           }
          ],
          "contour": [
           {
            "colorbar": {
             "outlinewidth": 0,
             "ticks": ""
            },
            "colorscale": [
             [
              0,
              "#0d0887"
             ],
             [
              0.1111111111111111,
              "#46039f"
             ],
             [
              0.2222222222222222,
              "#7201a8"
             ],
             [
              0.3333333333333333,
              "#9c179e"
             ],
             [
              0.4444444444444444,
              "#bd3786"
             ],
             [
              0.5555555555555556,
              "#d8576b"
             ],
             [
              0.6666666666666666,
              "#ed7953"
             ],
             [
              0.7777777777777778,
              "#fb9f3a"
             ],
             [
              0.8888888888888888,
              "#fdca26"
             ],
             [
              1,
              "#f0f921"
             ]
            ],
            "type": "contour"
           }
          ],
          "contourcarpet": [
           {
            "colorbar": {
             "outlinewidth": 0,
             "ticks": ""
            },
            "type": "contourcarpet"
           }
          ],
          "heatmap": [
           {
            "colorbar": {
             "outlinewidth": 0,
             "ticks": ""
            },
            "colorscale": [
             [
              0,
              "#0d0887"
             ],
             [
              0.1111111111111111,
              "#46039f"
             ],
             [
              0.2222222222222222,
              "#7201a8"
             ],
             [
              0.3333333333333333,
              "#9c179e"
             ],
             [
              0.4444444444444444,
              "#bd3786"
             ],
             [
              0.5555555555555556,
              "#d8576b"
             ],
             [
              0.6666666666666666,
              "#ed7953"
             ],
             [
              0.7777777777777778,
              "#fb9f3a"
             ],
             [
              0.8888888888888888,
              "#fdca26"
             ],
             [
              1,
              "#f0f921"
             ]
            ],
            "type": "heatmap"
           }
          ],
          "heatmapgl": [
           {
            "colorbar": {
             "outlinewidth": 0,
             "ticks": ""
            },
            "colorscale": [
             [
              0,
              "#0d0887"
             ],
             [
              0.1111111111111111,
              "#46039f"
             ],
             [
              0.2222222222222222,
              "#7201a8"
             ],
             [
              0.3333333333333333,
              "#9c179e"
             ],
             [
              0.4444444444444444,
              "#bd3786"
             ],
             [
              0.5555555555555556,
              "#d8576b"
             ],
             [
              0.6666666666666666,
              "#ed7953"
             ],
             [
              0.7777777777777778,
              "#fb9f3a"
             ],
             [
              0.8888888888888888,
              "#fdca26"
             ],
             [
              1,
              "#f0f921"
             ]
            ],
            "type": "heatmapgl"
           }
          ],
          "histogram": [
           {
            "marker": {
             "pattern": {
              "fillmode": "overlay",
              "size": 10,
              "solidity": 0.2
             }
            },
            "type": "histogram"
           }
          ],
          "histogram2d": [
           {
            "colorbar": {
             "outlinewidth": 0,
             "ticks": ""
            },
            "colorscale": [
             [
              0,
              "#0d0887"
             ],
             [
              0.1111111111111111,
              "#46039f"
             ],
             [
              0.2222222222222222,
              "#7201a8"
             ],
             [
              0.3333333333333333,
              "#9c179e"
             ],
             [
              0.4444444444444444,
              "#bd3786"
             ],
             [
              0.5555555555555556,
              "#d8576b"
             ],
             [
              0.6666666666666666,
              "#ed7953"
             ],
             [
              0.7777777777777778,
              "#fb9f3a"
             ],
             [
              0.8888888888888888,
              "#fdca26"
             ],
             [
              1,
              "#f0f921"
             ]
            ],
            "type": "histogram2d"
           }
          ],
          "histogram2dcontour": [
           {
            "colorbar": {
             "outlinewidth": 0,
             "ticks": ""
            },
            "colorscale": [
             [
              0,
              "#0d0887"
             ],
             [
              0.1111111111111111,
              "#46039f"
             ],
             [
              0.2222222222222222,
              "#7201a8"
             ],
             [
              0.3333333333333333,
              "#9c179e"
             ],
             [
              0.4444444444444444,
              "#bd3786"
             ],
             [
              0.5555555555555556,
              "#d8576b"
             ],
             [
              0.6666666666666666,
              "#ed7953"
             ],
             [
              0.7777777777777778,
              "#fb9f3a"
             ],
             [
              0.8888888888888888,
              "#fdca26"
             ],
             [
              1,
              "#f0f921"
             ]
            ],
            "type": "histogram2dcontour"
           }
          ],
          "mesh3d": [
           {
            "colorbar": {
             "outlinewidth": 0,
             "ticks": ""
            },
            "type": "mesh3d"
           }
          ],
          "parcoords": [
           {
            "line": {
             "colorbar": {
              "outlinewidth": 0,
              "ticks": ""
             }
            },
            "type": "parcoords"
           }
          ],
          "pie": [
           {
            "automargin": true,
            "type": "pie"
           }
          ],
          "scatter": [
           {
            "fillpattern": {
             "fillmode": "overlay",
             "size": 10,
             "solidity": 0.2
            },
            "type": "scatter"
           }
          ],
          "scatter3d": [
           {
            "line": {
             "colorbar": {
              "outlinewidth": 0,
              "ticks": ""
             }
            },
            "marker": {
             "colorbar": {
              "outlinewidth": 0,
              "ticks": ""
             }
            },
            "type": "scatter3d"
           }
          ],
          "scattercarpet": [
           {
            "marker": {
             "colorbar": {
              "outlinewidth": 0,
              "ticks": ""
             }
            },
            "type": "scattercarpet"
           }
          ],
          "scattergeo": [
           {
            "marker": {
             "colorbar": {
              "outlinewidth": 0,
              "ticks": ""
             }
            },
            "type": "scattergeo"
           }
          ],
          "scattergl": [
           {
            "marker": {
             "colorbar": {
              "outlinewidth": 0,
              "ticks": ""
             }
            },
            "type": "scattergl"
           }
          ],
          "scattermapbox": [
           {
            "marker": {
             "colorbar": {
              "outlinewidth": 0,
              "ticks": ""
             }
            },
            "type": "scattermapbox"
           }
          ],
          "scatterpolar": [
           {
            "marker": {
             "colorbar": {
              "outlinewidth": 0,
              "ticks": ""
             }
            },
            "type": "scatterpolar"
           }
          ],
          "scatterpolargl": [
           {
            "marker": {
             "colorbar": {
              "outlinewidth": 0,
              "ticks": ""
             }
            },
            "type": "scatterpolargl"
           }
          ],
          "scatterternary": [
           {
            "marker": {
             "colorbar": {
              "outlinewidth": 0,
              "ticks": ""
             }
            },
            "type": "scatterternary"
           }
          ],
          "surface": [
           {
            "colorbar": {
             "outlinewidth": 0,
             "ticks": ""
            },
            "colorscale": [
             [
              0,
              "#0d0887"
             ],
             [
              0.1111111111111111,
              "#46039f"
             ],
             [
              0.2222222222222222,
              "#7201a8"
             ],
             [
              0.3333333333333333,
              "#9c179e"
             ],
             [
              0.4444444444444444,
              "#bd3786"
             ],
             [
              0.5555555555555556,
              "#d8576b"
             ],
             [
              0.6666666666666666,
              "#ed7953"
             ],
             [
              0.7777777777777778,
              "#fb9f3a"
             ],
             [
              0.8888888888888888,
              "#fdca26"
             ],
             [
              1,
              "#f0f921"
             ]
            ],
            "type": "surface"
           }
          ],
          "table": [
           {
            "cells": {
             "fill": {
              "color": "#EBF0F8"
             },
             "line": {
              "color": "white"
             }
            },
            "header": {
             "fill": {
              "color": "#C8D4E3"
             },
             "line": {
              "color": "white"
             }
            },
            "type": "table"
           }
          ]
         },
         "layout": {
          "annotationdefaults": {
           "arrowcolor": "#2a3f5f",
           "arrowhead": 0,
           "arrowwidth": 1
          },
          "autotypenumbers": "strict",
          "coloraxis": {
           "colorbar": {
            "outlinewidth": 0,
            "ticks": ""
           }
          },
          "colorscale": {
           "diverging": [
            [
             0,
             "#8e0152"
            ],
            [
             0.1,
             "#c51b7d"
            ],
            [
             0.2,
             "#de77ae"
            ],
            [
             0.3,
             "#f1b6da"
            ],
            [
             0.4,
             "#fde0ef"
            ],
            [
             0.5,
             "#f7f7f7"
            ],
            [
             0.6,
             "#e6f5d0"
            ],
            [
             0.7,
             "#b8e186"
            ],
            [
             0.8,
             "#7fbc41"
            ],
            [
             0.9,
             "#4d9221"
            ],
            [
             1,
             "#276419"
            ]
           ],
           "sequential": [
            [
             0,
             "#0d0887"
            ],
            [
             0.1111111111111111,
             "#46039f"
            ],
            [
             0.2222222222222222,
             "#7201a8"
            ],
            [
             0.3333333333333333,
             "#9c179e"
            ],
            [
             0.4444444444444444,
             "#bd3786"
            ],
            [
             0.5555555555555556,
             "#d8576b"
            ],
            [
             0.6666666666666666,
             "#ed7953"
            ],
            [
             0.7777777777777778,
             "#fb9f3a"
            ],
            [
             0.8888888888888888,
             "#fdca26"
            ],
            [
             1,
             "#f0f921"
            ]
           ],
           "sequentialminus": [
            [
             0,
             "#0d0887"
            ],
            [
             0.1111111111111111,
             "#46039f"
            ],
            [
             0.2222222222222222,
             "#7201a8"
            ],
            [
             0.3333333333333333,
             "#9c179e"
            ],
            [
             0.4444444444444444,
             "#bd3786"
            ],
            [
             0.5555555555555556,
             "#d8576b"
            ],
            [
             0.6666666666666666,
             "#ed7953"
            ],
            [
             0.7777777777777778,
             "#fb9f3a"
            ],
            [
             0.8888888888888888,
             "#fdca26"
            ],
            [
             1,
             "#f0f921"
            ]
           ]
          },
          "colorway": [
           "#636efa",
           "#EF553B",
           "#00cc96",
           "#ab63fa",
           "#FFA15A",
           "#19d3f3",
           "#FF6692",
           "#B6E880",
           "#FF97FF",
           "#FECB52"
          ],
          "font": {
           "color": "#2a3f5f"
          },
          "geo": {
           "bgcolor": "white",
           "lakecolor": "white",
           "landcolor": "#E5ECF6",
           "showlakes": true,
           "showland": true,
           "subunitcolor": "white"
          },
          "hoverlabel": {
           "align": "left"
          },
          "hovermode": "closest",
          "mapbox": {
           "style": "light"
          },
          "paper_bgcolor": "white",
          "plot_bgcolor": "#E5ECF6",
          "polar": {
           "angularaxis": {
            "gridcolor": "white",
            "linecolor": "white",
            "ticks": ""
           },
           "bgcolor": "#E5ECF6",
           "radialaxis": {
            "gridcolor": "white",
            "linecolor": "white",
            "ticks": ""
           }
          },
          "scene": {
           "xaxis": {
            "backgroundcolor": "#E5ECF6",
            "gridcolor": "white",
            "gridwidth": 2,
            "linecolor": "white",
            "showbackground": true,
            "ticks": "",
            "zerolinecolor": "white"
           },
           "yaxis": {
            "backgroundcolor": "#E5ECF6",
            "gridcolor": "white",
            "gridwidth": 2,
            "linecolor": "white",
            "showbackground": true,
            "ticks": "",
            "zerolinecolor": "white"
           },
           "zaxis": {
            "backgroundcolor": "#E5ECF6",
            "gridcolor": "white",
            "gridwidth": 2,
            "linecolor": "white",
            "showbackground": true,
            "ticks": "",
            "zerolinecolor": "white"
           }
          },
          "shapedefaults": {
           "line": {
            "color": "#2a3f5f"
           }
          },
          "ternary": {
           "aaxis": {
            "gridcolor": "white",
            "linecolor": "white",
            "ticks": ""
           },
           "baxis": {
            "gridcolor": "white",
            "linecolor": "white",
            "ticks": ""
           },
           "bgcolor": "#E5ECF6",
           "caxis": {
            "gridcolor": "white",
            "linecolor": "white",
            "ticks": ""
           }
          },
          "title": {
           "x": 0.05
          },
          "xaxis": {
           "automargin": true,
           "gridcolor": "white",
           "linecolor": "white",
           "ticks": "",
           "title": {
            "standoff": 15
           },
           "zerolinecolor": "white",
           "zerolinewidth": 2
          },
          "yaxis": {
           "automargin": true,
           "gridcolor": "white",
           "linecolor": "white",
           "ticks": "",
           "title": {
            "standoff": 15
           },
           "zerolinecolor": "white",
           "zerolinewidth": 2
          }
         }
        },
        "title": {
         "text": "Average Family Income"
        },
        "updatemenus": [
         {
          "buttons": [
           {
            "args": [
             null,
             {
              "frame": {
               "duration": 500,
               "redraw": true
              },
              "fromcurrent": true,
              "mode": "immediate",
              "transition": {
               "duration": 500,
               "easing": "linear"
              }
             }
            ],
            "label": "&#9654;",
            "method": "animate"
           },
           {
            "args": [
             [
              null
             ],
             {
              "frame": {
               "duration": 0,
               "redraw": true
              },
              "fromcurrent": true,
              "mode": "immediate",
              "transition": {
               "duration": 0,
               "easing": "linear"
              }
             }
            ],
            "label": "&#9724;",
            "method": "animate"
           }
          ],
          "direction": "left",
          "pad": {
           "r": 10,
           "t": 70
          },
          "showactive": false,
          "type": "buttons",
          "x": 0.1,
          "xanchor": "right",
          "y": 0,
          "yanchor": "top"
         }
        ]
       }
      },
      "image/png": "[encoded data removed]",
      "text/html": [
       "<div>                            <div id=\"c78df956-c040-4097-b6ae-f66ce2ec6025\" class=\"plotly-graph-div\" style=\"height:525px; width:100%;\"></div>            <script type=\"text/javascript\">                require([\"plotly\"], function(Plotly) {                    window.PLOTLYENV=window.PLOTLYENV || {};                                    if (document.getElementById(\"c78df956-c040-4097-b6ae-f66ce2ec6025\")) {                    Plotly.newPlot(                        \"c78df956-c040-4097-b6ae-f66ce2ec6025\",                        [{\"coloraxis\":\"coloraxis\",\"geo\":\"geo\",\"hovertemplate\":\"YEAR=2000\\u003cbr\\u003eSTATE_ABBREV=%{location}\\u003cbr\\u003eavg_FTOTVAL=%{z}\\u003cextra\\u003e\\u003c\\u002fextra\\u003e\",\"locationmode\":\"USA-states\",\"locations\":[\"AL\",\"AK\",\"AZ\",\"AR\",\"CA\",\"CO\",\"CT\",\"DE\",\"DC\",\"FL\",\"GA\",\"HI\",\"ID\",\"IL\",\"IN\",\"IA\",\"KS\",\"KY\",\"LA\",\"ME\",\"MD\",\"MA\",\"MI\",\"MN\",\"MS\",\"MO\",\"MT\",\"NE\",\"NV\",\"NH\",\"NJ\",\"NM\",\"NY\",\"NC\",\"ND\",\"OH\",\"OK\",\"OR\",\"PA\",\"RI\",\"SC\",\"SD\",\"TN\",\"TX\",\"UT\",\"VT\",\"VA\",\"WA\",\"WV\",\"WI\",\"WY\"],\"name\":\"\",\"z\":[48455.0,67578.0,47914.0,42250.0,55450.0,59470.0,72854.0,60184.0,60765.0,50985.0,51254.0,65892.0,46837.0,63007.0,53745.0,54513.0,53091.0,50478.0,49208.0,53558.0,69744.0,62565.0,65169.0,61344.0,45950.0,54753.0,43346.0,51405.0,52829.0,66634.0,69511.0,44483.0,57995.0,54078.0,43720.0,56776.0,49276.0,52133.0,59329.0,59946.0,50865.0,48837.0,55962.0,50008.0,57720.0,51735.0,66230.0,57366.0,42881.0,59845.0,48841.0],\"type\":\"choropleth\"}],                        {\"template\":{\"data\":{\"histogram2dcontour\":[{\"type\":\"histogram2dcontour\",\"colorbar\":{\"outlinewidth\":0,\"ticks\":\"\"},\"colorscale\":[[0.0,\"#0d0887\"],[0.1111111111111111,\"#46039f\"],[0.2222222222222222,\"#7201a8\"],[0.3333333333333333,\"#9c179e\"],[0.4444444444444444,\"#bd3786\"],[0.5555555555555556,\"#d8576b\"],[0.6666666666666666,\"#ed7953\"],[0.7777777777777778,\"#fb9f3a\"],[0.8888888888888888,\"#fdca26\"],[1.0,\"#f0f921\"]]}],\"choropleth\":[{\"type\":\"choropleth\",\"colorbar\":{\"outlinewidth\":0,\"ticks\":\"\"}}],\"histogram2d\":[{\"type\":\"histogram2d\",\"colorbar\":{\"outlinewidth\":0,\"ticks\":\"\"},\"colorscale\":[[0.0,\"#0d0887\"],[0.1111111111111111,\"#46039f\"],[0.2222222222222222,\"#7201a8\"],[0.3333333333333333,\"#9c179e\"],[0.4444444444444444,\"#bd3786\"],[0.5555555555555556,\"#d8576b\"],[0.6666666666666666,\"#ed7953\"],[0.7777777777777778,\"#fb9f3a\"],[0.8888888888888888,\"#fdca26\"],[1.0,\"#f0f921\"]]}],\"heatmap\":[{\"type\":\"heatmap\",\"colorbar\":{\"outlinewidth\":0,\"ticks\":\"\"},\"colorscale\":[[0.0,\"#0d0887\"],[0.1111111111111111,\"#46039f\"],[0.2222222222222222,\"#7201a8\"],[0.3333333333333333,\"#9c179e\"],[0.4444444444444444,\"#bd3786\"],[0.5555555555555556,\"#d8576b\"],[0.6666666666666666,\"#ed7953\"],[0.7777777777777778,\"#fb9f3a\"],[0.8888888888888888,\"#fdca26\"],[1.0,\"#f0f921\"]]}],\"heatmapgl\":[{\"type\":\"heatmapgl\",\"colorbar\":{\"outlinewidth\":0,\"ticks\":\"\"},\"colorscale\":[[0.0,\"#0d0887\"],[0.1111111111111111,\"#46039f\"],[0.2222222222222222,\"#7201a8\"],[0.3333333333333333,\"#9c179e\"],[0.4444444444444444,\"#bd3786\"],[0.5555555555555556,\"#d8576b\"],[0.6666666666666666,\"#ed7953\"],[0.7777777777777778,\"#fb9f3a\"],[0.8888888888888888,\"#fdca26\"],[1.0,\"#f0f921\"]]}],\"contourcarpet\":[{\"type\":\"contourcarpet\",\"colorbar\":{\"outlinewidth\":0,\"ticks\":\"\"}}],\"contour\":[{\"type\":\"contour\",\"colorbar\":{\"outlinewidth\":0,\"ticks\":\"\"},\"colorscale\":[[0.0,\"#0d0887\"],[0.1111111111111111,\"#46039f\"],[0.2222222222222222,\"#7201a8\"],[0.3333333333333333,\"#9c179e\"],[0.4444444444444444,\"#bd3786\"],[0.5555555555555556,\"#d8576b\"],[0.6666666666666666,\"#ed7953\"],[0.7777777777777778,\"#fb9f3a\"],[0.8888888888888888,\"#fdca26\"],[1.0,\"#f0f921\"]]}],\"surface\":[{\"type\":\"surface\",\"colorbar\":{\"outlinewidth\":0,\"ticks\":\"\"},\"colorscale\":[[0.0,\"#0d0887\"],[0.1111111111111111,\"#46039f\"],[0.2222222222222222,\"#7201a8\"],[0.3333333333333333,\"#9c179e\"],[0.4444444444444444,\"#bd3786\"],[0.5555555555555556,\"#d8576b\"],[0.6666666666666666,\"#ed7953\"],[0.7777777777777778,\"#fb9f3a\"],[0.8888888888888888,\"#fdca26\"],[1.0,\"#f0f921\"]]}],\"mesh3d\":[{\"type\":\"mesh3d\",\"colorbar\":{\"outlinewidth\":0,\"ticks\":\"\"}}],\"scatter\":[{\"fillpattern\":{\"fillmode\":\"overlay\",\"size\":10,\"solidity\":0.2},\"type\":\"scatter\"}],\"parcoords\":[{\"type\":\"parcoords\",\"line\":{\"colorbar\":{\"outlinewidth\":0,\"ticks\":\"\"}}}],\"scatterpolargl\":[{\"type\":\"scatterpolargl\",\"marker\":{\"colorbar\":{\"outlinewidth\":0,\"ticks\":\"\"}}}],\"bar\":[{\"error_x\":{\"color\":\"#2a3f5f\"},\"error_y\":{\"color\":\"#2a3f5f\"},\"marker\":{\"line\":{\"color\":\"#E5ECF6\",\"width\":0.5},\"pattern\":{\"fillmode\":\"overlay\",\"size\":10,\"solidity\":0.2}},\"type\":\"bar\"}],\"scattergeo\":[{\"type\":\"scattergeo\",\"marker\":{\"colorbar\":{\"outlinewidth\":0,\"ticks\":\"\"}}}],\"scatterpolar\":[{\"type\":\"scatterpolar\",\"marker\":{\"colorbar\":{\"outlinewidth\":0,\"ticks\":\"\"}}}],\"histogram\":[{\"marker\":{\"pattern\":{\"fillmode\":\"overlay\",\"size\":10,\"solidity\":0.2}},\"type\":\"histogram\"}],\"scattergl\":[{\"type\":\"scattergl\",\"marker\":{\"colorbar\":{\"outlinewidth\":0,\"ticks\":\"\"}}}],\"scatter3d\":[{\"type\":\"scatter3d\",\"line\":{\"colorbar\":{\"outlinewidth\":0,\"ticks\":\"\"}},\"marker\":{\"colorbar\":{\"outlinewidth\":0,\"ticks\":\"\"}}}],\"scattermapbox\":[{\"type\":\"scattermapbox\",\"marker\":{\"colorbar\":{\"outlinewidth\":0,\"ticks\":\"\"}}}],\"scatterternary\":[{\"type\":\"scatterternary\",\"marker\":{\"colorbar\":{\"outlinewidth\":0,\"ticks\":\"\"}}}],\"scattercarpet\":[{\"type\":\"scattercarpet\",\"marker\":{\"colorbar\":{\"outlinewidth\":0,\"ticks\":\"\"}}}],\"carpet\":[{\"aaxis\":{\"endlinecolor\":\"#2a3f5f\",\"gridcolor\":\"white\",\"linecolor\":\"white\",\"minorgridcolor\":\"white\",\"startlinecolor\":\"#2a3f5f\"},\"baxis\":{\"endlinecolor\":\"#2a3f5f\",\"gridcolor\":\"white\",\"linecolor\":\"white\",\"minorgridcolor\":\"white\",\"startlinecolor\":\"#2a3f5f\"},\"type\":\"carpet\"}],\"table\":[{\"cells\":{\"fill\":{\"color\":\"#EBF0F8\"},\"line\":{\"color\":\"white\"}},\"header\":{\"fill\":{\"color\":\"#C8D4E3\"},\"line\":{\"color\":\"white\"}},\"type\":\"table\"}],\"barpolar\":[{\"marker\":{\"line\":{\"color\":\"#E5ECF6\",\"width\":0.5},\"pattern\":{\"fillmode\":\"overlay\",\"size\":10,\"solidity\":0.2}},\"type\":\"barpolar\"}],\"pie\":[{\"automargin\":true,\"type\":\"pie\"}]},\"layout\":{\"autotypenumbers\":\"strict\",\"colorway\":[\"#636efa\",\"#EF553B\",\"#00cc96\",\"#ab63fa\",\"#FFA15A\",\"#19d3f3\",\"#FF6692\",\"#B6E880\",\"#FF97FF\",\"#FECB52\"],\"font\":{\"color\":\"#2a3f5f\"},\"hovermode\":\"closest\",\"hoverlabel\":{\"align\":\"left\"},\"paper_bgcolor\":\"white\",\"plot_bgcolor\":\"#E5ECF6\",\"polar\":{\"bgcolor\":\"#E5ECF6\",\"angularaxis\":{\"gridcolor\":\"white\",\"linecolor\":\"white\",\"ticks\":\"\"},\"radialaxis\":{\"gridcolor\":\"white\",\"linecolor\":\"white\",\"ticks\":\"\"}},\"ternary\":{\"bgcolor\":\"#E5ECF6\",\"aaxis\":{\"gridcolor\":\"white\",\"linecolor\":\"white\",\"ticks\":\"\"},\"baxis\":{\"gridcolor\":\"white\",\"linecolor\":\"white\",\"ticks\":\"\"},\"caxis\":{\"gridcolor\":\"white\",\"linecolor\":\"white\",\"ticks\":\"\"}},\"coloraxis\":{\"colorbar\":{\"outlinewidth\":0,\"ticks\":\"\"}},\"colorscale\":{\"sequential\":[[0.0,\"#0d0887\"],[0.1111111111111111,\"#46039f\"],[0.2222222222222222,\"#7201a8\"],[0.3333333333333333,\"#9c179e\"],[0.4444444444444444,\"#bd3786\"],[0.5555555555555556,\"#d8576b\"],[0.6666666666666666,\"#ed7953\"],[0.7777777777777778,\"#fb9f3a\"],[0.8888888888888888,\"#fdca26\"],[1.0,\"#f0f921\"]],\"sequentialminus\":[[0.0,\"#0d0887\"],[0.1111111111111111,\"#46039f\"],[0.2222222222222222,\"#7201a8\"],[0.3333333333333333,\"#9c179e\"],[0.4444444444444444,\"#bd3786\"],[0.5555555555555556,\"#d8576b\"],[0.6666666666666666,\"#ed7953\"],[0.7777777777777778,\"#fb9f3a\"],[0.8888888888888888,\"#fdca26\"],[1.0,\"#f0f921\"]],\"diverging\":[[0,\"#8e0152\"],[0.1,\"#c51b7d\"],[0.2,\"#de77ae\"],[0.3,\"#f1b6da\"],[0.4,\"#fde0ef\"],[0.5,\"#f7f7f7\"],[0.6,\"#e6f5d0\"],[0.7,\"#b8e186\"],[0.8,\"#7fbc41\"],[0.9,\"#4d9221\"],[1,\"#276419\"]]},\"xaxis\":{\"gridcolor\":\"white\",\"linecolor\":\"white\",\"ticks\":\"\",\"title\":{\"standoff\":15},\"zerolinecolor\":\"white\",\"automargin\":true,\"zerolinewidth\":2},\"yaxis\":{\"gridcolor\":\"white\",\"linecolor\":\"white\",\"ticks\":\"\",\"title\":{\"standoff\":15},\"zerolinecolor\":\"white\",\"automargin\":true,\"zerolinewidth\":2},\"scene\":{\"xaxis\":{\"backgroundcolor\":\"#E5ECF6\",\"gridcolor\":\"white\",\"linecolor\":\"white\",\"showbackground\":true,\"ticks\":\"\",\"zerolinecolor\":\"white\",\"gridwidth\":2},\"yaxis\":{\"backgroundcolor\":\"#E5ECF6\",\"gridcolor\":\"white\",\"linecolor\":\"white\",\"showbackground\":true,\"ticks\":\"\",\"zerolinecolor\":\"white\",\"gridwidth\":2},\"zaxis\":{\"backgroundcolor\":\"#E5ECF6\",\"gridcolor\":\"white\",\"linecolor\":\"white\",\"showbackground\":true,\"ticks\":\"\",\"zerolinecolor\":\"white\",\"gridwidth\":2}},\"shapedefaults\":{\"line\":{\"color\":\"#2a3f5f\"}},\"annotationdefaults\":{\"arrowcolor\":\"#2a3f5f\",\"arrowhead\":0,\"arrowwidth\":1},\"geo\":{\"bgcolor\":\"white\",\"landcolor\":\"#E5ECF6\",\"subunitcolor\":\"white\",\"showland\":true,\"showlakes\":true,\"lakecolor\":\"white\"},\"title\":{\"x\":0.05},\"mapbox\":{\"style\":\"light\"}}},\"geo\":{\"domain\":{\"x\":[0.0,1.0],\"y\":[0.0,1.0]},\"center\":{},\"scope\":\"usa\"},\"coloraxis\":{\"colorbar\":{\"title\":{\"text\":\"avg_FTOTVAL\"}},\"colorscale\":[[0.0,\"rgb(255,245,240)\"],[0.125,\"rgb(254,224,210)\"],[0.25,\"rgb(252,187,161)\"],[0.375,\"rgb(252,146,114)\"],[0.5,\"rgb(251,106,74)\"],[0.625,\"rgb(239,59,44)\"],[0.75,\"rgb(203,24,29)\"],[0.875,\"rgb(165,15,21)\"],[1.0,\"rgb(103,0,13)\"]]},\"legend\":{\"tracegroupgap\":0},\"margin\":{\"t\":60},\"updatemenus\":[{\"buttons\":[{\"args\":[null,{\"frame\":{\"duration\":500,\"redraw\":true},\"mode\":\"immediate\",\"fromcurrent\":true,\"transition\":{\"duration\":500,\"easing\":\"linear\"}}],\"label\":\"&#9654;\",\"method\":\"animate\"},{\"args\":[[null],{\"frame\":{\"duration\":0,\"redraw\":true},\"mode\":\"immediate\",\"fromcurrent\":true,\"transition\":{\"duration\":0,\"easing\":\"linear\"}}],\"label\":\"&#9724;\",\"method\":\"animate\"}],\"direction\":\"left\",\"pad\":{\"r\":10,\"t\":70},\"showactive\":false,\"type\":\"buttons\",\"x\":0.1,\"xanchor\":\"right\",\"y\":0,\"yanchor\":\"top\"}],\"sliders\":[{\"active\":0,\"currentvalue\":{\"prefix\":\"YEAR=\"},\"len\":0.9,\"pad\":{\"b\":10,\"t\":60},\"steps\":[{\"args\":[[\"2000\"],{\"frame\":{\"duration\":0,\"redraw\":true},\"mode\":\"immediate\",\"fromcurrent\":true,\"transition\":{\"duration\":0,\"easing\":\"linear\"}}],\"label\":\"2000\",\"method\":\"animate\"},{\"args\":[[\"2001\"],{\"frame\":{\"duration\":0,\"redraw\":true},\"mode\":\"immediate\",\"fromcurrent\":true,\"transition\":{\"duration\":0,\"easing\":\"linear\"}}],\"label\":\"2001\",\"method\":\"animate\"},{\"args\":[[\"2002\"],{\"frame\":{\"duration\":0,\"redraw\":true},\"mode\":\"immediate\",\"fromcurrent\":true,\"transition\":{\"duration\":0,\"easing\":\"linear\"}}],\"label\":\"2002\",\"method\":\"animate\"},{\"args\":[[\"2003\"],{\"frame\":{\"duration\":0,\"redraw\":true},\"mode\":\"immediate\",\"fromcurrent\":true,\"transition\":{\"duration\":0,\"easing\":\"linear\"}}],\"label\":\"2003\",\"method\":\"animate\"},{\"args\":[[\"2004\"],{\"frame\":{\"duration\":0,\"redraw\":true},\"mode\":\"immediate\",\"fromcurrent\":true,\"transition\":{\"duration\":0,\"easing\":\"linear\"}}],\"label\":\"2004\",\"method\":\"animate\"},{\"args\":[[\"2005\"],{\"frame\":{\"duration\":0,\"redraw\":true},\"mode\":\"immediate\",\"fromcurrent\":true,\"transition\":{\"duration\":0,\"easing\":\"linear\"}}],\"label\":\"2005\",\"method\":\"animate\"},{\"args\":[[\"2006\"],{\"frame\":{\"duration\":0,\"redraw\":true},\"mode\":\"immediate\",\"fromcurrent\":true,\"transition\":{\"duration\":0,\"easing\":\"linear\"}}],\"label\":\"2006\",\"method\":\"animate\"},{\"args\":[[\"2007\"],{\"frame\":{\"duration\":0,\"redraw\":true},\"mode\":\"immediate\",\"fromcurrent\":true,\"transition\":{\"duration\":0,\"easing\":\"linear\"}}],\"label\":\"2007\",\"method\":\"animate\"},{\"args\":[[\"2008\"],{\"frame\":{\"duration\":0,\"redraw\":true},\"mode\":\"immediate\",\"fromcurrent\":true,\"transition\":{\"duration\":0,\"easing\":\"linear\"}}],\"label\":\"2008\",\"method\":\"animate\"},{\"args\":[[\"2009\"],{\"frame\":{\"duration\":0,\"redraw\":true},\"mode\":\"immediate\",\"fromcurrent\":true,\"transition\":{\"duration\":0,\"easing\":\"linear\"}}],\"label\":\"2009\",\"method\":\"animate\"},{\"args\":[[\"2010\"],{\"frame\":{\"duration\":0,\"redraw\":true},\"mode\":\"immediate\",\"fromcurrent\":true,\"transition\":{\"duration\":0,\"easing\":\"linear\"}}],\"label\":\"2010\",\"method\":\"animate\"},{\"args\":[[\"2011\"],{\"frame\":{\"duration\":0,\"redraw\":true},\"mode\":\"immediate\",\"fromcurrent\":true,\"transition\":{\"duration\":0,\"easing\":\"linear\"}}],\"label\":\"2011\",\"method\":\"animate\"},{\"args\":[[\"2012\"],{\"frame\":{\"duration\":0,\"redraw\":true},\"mode\":\"immediate\",\"fromcurrent\":true,\"transition\":{\"duration\":0,\"easing\":\"linear\"}}],\"label\":\"2012\",\"method\":\"animate\"},{\"args\":[[\"2013\"],{\"frame\":{\"duration\":0,\"redraw\":true},\"mode\":\"immediate\",\"fromcurrent\":true,\"transition\":{\"duration\":0,\"easing\":\"linear\"}}],\"label\":\"2013\",\"method\":\"animate\"},{\"args\":[[\"2014\"],{\"frame\":{\"duration\":0,\"redraw\":true},\"mode\":\"immediate\",\"fromcurrent\":true,\"transition\":{\"duration\":0,\"easing\":\"linear\"}}],\"label\":\"2014\",\"method\":\"animate\"},{\"args\":[[\"2015\"],{\"frame\":{\"duration\":0,\"redraw\":true},\"mode\":\"immediate\",\"fromcurrent\":true,\"transition\":{\"duration\":0,\"easing\":\"linear\"}}],\"label\":\"2015\",\"method\":\"animate\"},{\"args\":[[\"2016\"],{\"frame\":{\"duration\":0,\"redraw\":true},\"mode\":\"immediate\",\"fromcurrent\":true,\"transition\":{\"duration\":0,\"easing\":\"linear\"}}],\"label\":\"2016\",\"method\":\"animate\"},{\"args\":[[\"2017\"],{\"frame\":{\"duration\":0,\"redraw\":true},\"mode\":\"immediate\",\"fromcurrent\":true,\"transition\":{\"duration\":0,\"easing\":\"linear\"}}],\"label\":\"2017\",\"method\":\"animate\"},{\"args\":[[\"2018\"],{\"frame\":{\"duration\":0,\"redraw\":true},\"mode\":\"immediate\",\"fromcurrent\":true,\"transition\":{\"duration\":0,\"easing\":\"linear\"}}],\"label\":\"2018\",\"method\":\"animate\"},{\"args\":[[\"2019\"],{\"frame\":{\"duration\":0,\"redraw\":true},\"mode\":\"immediate\",\"fromcurrent\":true,\"transition\":{\"duration\":0,\"easing\":\"linear\"}}],\"label\":\"2019\",\"method\":\"animate\"},{\"args\":[[\"2020\"],{\"frame\":{\"duration\":0,\"redraw\":true},\"mode\":\"immediate\",\"fromcurrent\":true,\"transition\":{\"duration\":0,\"easing\":\"linear\"}}],\"label\":\"2020\",\"method\":\"animate\"},{\"args\":[[\"2021\"],{\"frame\":{\"duration\":0,\"redraw\":true},\"mode\":\"immediate\",\"fromcurrent\":true,\"transition\":{\"duration\":0,\"easing\":\"linear\"}}],\"label\":\"2021\",\"method\":\"animate\"},{\"args\":[[\"2022\"],{\"frame\":{\"duration\":0,\"redraw\":true},\"mode\":\"immediate\",\"fromcurrent\":true,\"transition\":{\"duration\":0,\"easing\":\"linear\"}}],\"label\":\"2022\",\"method\":\"animate\"},{\"args\":[[\"2023\"],{\"frame\":{\"duration\":0,\"redraw\":true},\"mode\":\"immediate\",\"fromcurrent\":true,\"transition\":{\"duration\":0,\"easing\":\"linear\"}}],\"label\":\"2023\",\"method\":\"animate\"}],\"x\":0.1,\"xanchor\":\"left\",\"y\":0,\"yanchor\":\"top\"}],\"title\":{\"text\":\"Average Family Income\"}},                        {\"responsive\": true}                    ).then(function(){\n",
       "                            Plotly.addFrames('c78df956-c040-4097-b6ae-f66ce2ec6025', [{\"data\":[{\"coloraxis\":\"coloraxis\",\"geo\":\"geo\",\"hovertemplate\":\"YEAR=2000\\u003cbr\\u003eSTATE_ABBREV=%{location}\\u003cbr\\u003eavg_FTOTVAL=%{z}\\u003cextra\\u003e\\u003c\\u002fextra\\u003e\",\"locationmode\":\"USA-states\",\"locations\":[\"AL\",\"AK\",\"AZ\",\"AR\",\"CA\",\"CO\",\"CT\",\"DE\",\"DC\",\"FL\",\"GA\",\"HI\",\"ID\",\"IL\",\"IN\",\"IA\",\"KS\",\"KY\",\"LA\",\"ME\",\"MD\",\"MA\",\"MI\",\"MN\",\"MS\",\"MO\",\"MT\",\"NE\",\"NV\",\"NH\",\"NJ\",\"NM\",\"NY\",\"NC\",\"ND\",\"OH\",\"OK\",\"OR\",\"PA\",\"RI\",\"SC\",\"SD\",\"TN\",\"TX\",\"UT\",\"VT\",\"VA\",\"WA\",\"WV\",\"WI\",\"WY\"],\"name\":\"\",\"z\":[48455.0,67578.0,47914.0,42250.0,55450.0,59470.0,72854.0,60184.0,60765.0,50985.0,51254.0,65892.0,46837.0,63007.0,53745.0,54513.0,53091.0,50478.0,49208.0,53558.0,69744.0,62565.0,65169.0,61344.0,45950.0,54753.0,43346.0,51405.0,52829.0,66634.0,69511.0,44483.0,57995.0,54078.0,43720.0,56776.0,49276.0,52133.0,59329.0,59946.0,50865.0,48837.0,55962.0,50008.0,57720.0,51735.0,66230.0,57366.0,42881.0,59845.0,48841.0],\"type\":\"choropleth\"}],\"name\":\"2000\"},{\"data\":[{\"coloraxis\":\"coloraxis\",\"geo\":\"geo\",\"hovertemplate\":\"YEAR=2001\\u003cbr\\u003eSTATE_ABBREV=%{location}\\u003cbr\\u003eavg_FTOTVAL=%{z}\\u003cextra\\u003e\\u003c\\u002fextra\\u003e\",\"locationmode\":\"USA-states\",\"locations\":[\"AL\",\"AK\",\"AZ\",\"AR\",\"CA\",\"CO\",\"CT\",\"DE\",\"DC\",\"FL\",\"GA\",\"HI\",\"ID\",\"IL\",\"IN\",\"IA\",\"KS\",\"KY\",\"LA\",\"ME\",\"MD\",\"MA\",\"MI\",\"MN\",\"MS\",\"MO\",\"MT\",\"NE\",\"NV\",\"NH\",\"NJ\",\"NM\",\"NY\",\"NC\",\"ND\",\"OH\",\"OK\",\"OR\",\"PA\",\"RI\",\"SC\",\"SD\",\"TN\",\"TX\",\"UT\",\"VT\",\"VA\",\"WA\",\"WV\",\"WI\",\"WY\"],\"name\":\"\",\"z\":[53766.0,68477.0,57246.0,49551.0,63834.0,67172.0,76313.0,66745.0,61666.0,56965.0,57894.0,68907.0,54984.0,69151.0,62553.0,59259.0,62166.0,57514.0,49285.0,55313.0,81744.0,74198.0,68810.0,72914.0,48468.0,62603.0,48033.0,60900.0,61237.0,76187.0,78124.0,45008.0,64132.0,54421.0,51797.0,64187.0,54913.0,61959.0,67150.0,69519.0,54731.0,51470.0,58334.0,56493.0,70069.0,58339.0,69982.0,62386.0,48942.0,67111.0,53188.0],\"type\":\"choropleth\"}],\"name\":\"2001\"},{\"data\":[{\"coloraxis\":\"coloraxis\",\"geo\":\"geo\",\"hovertemplate\":\"YEAR=2002\\u003cbr\\u003eSTATE_ABBREV=%{location}\\u003cbr\\u003eavg_FTOTVAL=%{z}\\u003cextra\\u003e\\u003c\\u002fextra\\u003e\",\"locationmode\":\"USA-states\",\"locations\":[\"AL\",\"AK\",\"AZ\",\"AR\",\"CA\",\"CO\",\"CT\",\"DE\",\"DC\",\"FL\",\"GA\",\"HI\",\"ID\",\"IL\",\"IN\",\"IA\",\"KS\",\"KY\",\"LA\",\"ME\",\"MD\",\"MA\",\"MI\",\"MN\",\"MS\",\"MO\",\"MT\",\"NE\",\"NV\",\"NH\",\"NJ\",\"NM\",\"NY\",\"NC\",\"ND\",\"OH\",\"OK\",\"OR\",\"PA\",\"RI\",\"SC\",\"SD\",\"TN\",\"TX\",\"UT\",\"VT\",\"VA\",\"WA\",\"WV\",\"WI\",\"WY\"],\"name\":\"\",\"z\":[54886.0,73299.0,60252.0,49325.0,65283.0,71459.0,78235.0,68705.0,59710.0,57310.0,56557.0,69061.0,55871.0,67630.0,66038.0,60413.0,67648.0,61532.0,52784.0,55482.0,81970.0,77877.0,69826.0,73106.0,46682.0,61703.0,46063.0,58573.0,61315.0,73707.0,82858.0,46854.0,66097.0,55708.0,53204.0,63583.0,51798.0,57932.0,70531.0,71995.0,56674.0,53792.0,58340.0,60120.0,66826.0,58062.0,71635.0,64984.0,48037.0,65927.0,54179.0],\"type\":\"choropleth\"}],\"name\":\"2002\"},{\"data\":[{\"coloraxis\":\"coloraxis\",\"geo\":\"geo\",\"hovertemplate\":\"YEAR=2003\\u003cbr\\u003eSTATE_ABBREV=%{location}\\u003cbr\\u003eavg_FTOTVAL=%{z}\\u003cextra\\u003e\\u003c\\u002fextra\\u003e\",\"locationmode\":\"USA-states\",\"locations\":[\"AL\",\"AK\",\"AZ\",\"AR\",\"CA\",\"CO\",\"CT\",\"DE\",\"DC\",\"FL\",\"GA\",\"HI\",\"ID\",\"IL\",\"IN\",\"IA\",\"KS\",\"KY\",\"LA\",\"ME\",\"MD\",\"MA\",\"MI\",\"MN\",\"MS\",\"MO\",\"MT\",\"NE\",\"NV\",\"NH\",\"NJ\",\"NM\",\"NY\",\"NC\",\"ND\",\"OH\",\"OK\",\"OR\",\"PA\",\"RI\",\"SC\",\"SD\",\"TN\",\"TX\",\"UT\",\"VT\",\"VA\",\"WA\",\"WV\",\"WI\",\"WY\"],\"name\":\"\",\"z\":[56029.0,69816.0,58698.0,49250.0,65243.0,65451.0,77206.0,65778.0,63322.0,58821.0,57282.0,73375.0,54473.0,65074.0,63080.0,59201.0,65210.0,57320.0,51719.0,57201.0,80932.0,73541.0,66939.0,74583.0,52734.0,65311.0,48547.0,58457.0,60657.0,79677.0,82283.0,49987.0,65940.0,56970.0,53787.0,64863.0,54431.0,59049.0,70449.0,66780.0,56596.0,53171.0,62558.0,59338.0,65789.0,61101.0,69624.0,66249.0,48158.0,62002.0,56368.0],\"type\":\"choropleth\"}],\"name\":\"2003\"},{\"data\":[{\"coloraxis\":\"coloraxis\",\"geo\":\"geo\",\"hovertemplate\":\"YEAR=2004\\u003cbr\\u003eSTATE_ABBREV=%{location}\\u003cbr\\u003eavg_FTOTVAL=%{z}\\u003cextra\\u003e\\u003c\\u002fextra\\u003e\",\"locationmode\":\"USA-states\",\"locations\":[\"AL\",\"AK\",\"AZ\",\"AR\",\"CA\",\"CO\",\"CT\",\"DE\",\"DC\",\"FL\",\"GA\",\"HI\",\"ID\",\"IL\",\"IN\",\"IA\",\"KS\",\"KY\",\"LA\",\"ME\",\"MD\",\"MA\",\"MI\",\"MN\",\"MS\",\"MO\",\"MT\",\"NE\",\"NV\",\"NH\",\"NJ\",\"NM\",\"NY\",\"NC\",\"ND\",\"OH\",\"OK\",\"OR\",\"PA\",\"RI\",\"SC\",\"SD\",\"TN\",\"TX\",\"UT\",\"VT\",\"VA\",\"WA\",\"WV\",\"WI\",\"WY\"],\"name\":\"\",\"z\":[57530.0,66786.0,62875.0,48106.0,66716.0,69061.0,81075.0,67208.0,62071.0,58873.0,57754.0,74710.0,55144.0,68352.0,62825.0,62959.0,63705.0,54802.0,52133.0,54086.0,78837.0,78257.0,66016.0,78171.0,53990.0,62286.0,48749.0,64979.0,62773.0,84068.0,83807.0,52549.0,67998.0,55924.0,53901.0,64541.0,52966.0,56342.0,68698.0,67554.0,55668.0,59507.0,54054.0,57673.0,69974.0,66283.0,70687.0,65669.0,47306.0,63762.0,57922.0],\"type\":\"choropleth\"}],\"name\":\"2004\"},{\"data\":[{\"coloraxis\":\"coloraxis\",\"geo\":\"geo\",\"hovertemplate\":\"YEAR=2005\\u003cbr\\u003eSTATE_ABBREV=%{location}\\u003cbr\\u003eavg_FTOTVAL=%{z}\\u003cextra\\u003e\\u003c\\u002fextra\\u003e\",\"locationmode\":\"USA-states\",\"locations\":[\"AL\",\"AK\",\"AZ\",\"AR\",\"CA\",\"CO\",\"CT\",\"DE\",\"DC\",\"FL\",\"GA\",\"HI\",\"ID\",\"IL\",\"IN\",\"IA\",\"KS\",\"KY\",\"LA\",\"ME\",\"MD\",\"MA\",\"MI\",\"MN\",\"MS\",\"MO\",\"MT\",\"NE\",\"NV\",\"NH\",\"NJ\",\"NM\",\"NY\",\"NC\",\"ND\",\"OH\",\"OK\",\"OR\",\"PA\",\"RI\",\"SC\",\"SD\",\"TN\",\"TX\",\"UT\",\"VT\",\"VA\",\"WA\",\"WV\",\"WI\",\"WY\"],\"name\":\"\",\"z\":[54835.0,73566.0,60589.0,53933.0,66334.0,71557.0,83740.0,64249.0,64840.0,62481.0,58829.0,73677.0,59912.0,69157.0,63318.0,62896.0,64973.0,53309.0,52553.0,59054.0,84328.0,83070.0,67296.0,77833.0,57028.0,64979.0,48248.0,63345.0,63018.0,78302.0,86379.0,52110.0,69512.0,59628.0,61412.0,63809.0,58901.0,63939.0,67276.0,72254.0,54863.0,57831.0,56815.0,59696.0,69570.0,69082.0,75955.0,69778.0,51708.0,63264.0,60021.0],\"type\":\"choropleth\"}],\"name\":\"2005\"},{\"data\":[{\"coloraxis\":\"coloraxis\",\"geo\":\"geo\",\"hovertemplate\":\"YEAR=2006\\u003cbr\\u003eSTATE_ABBREV=%{location}\\u003cbr\\u003eavg_FTOTVAL=%{z}\\u003cextra\\u003e\\u003c\\u002fextra\\u003e\",\"locationmode\":\"USA-states\",\"locations\":[\"AL\",\"AK\",\"AZ\",\"AR\",\"CA\",\"CO\",\"CT\",\"DE\",\"DC\",\"FL\",\"GA\",\"HI\",\"ID\",\"IL\",\"IN\",\"IA\",\"KS\",\"KY\",\"LA\",\"ME\",\"MD\",\"MA\",\"MI\",\"MN\",\"MS\",\"MO\",\"MT\",\"NE\",\"NV\",\"NH\",\"NJ\",\"NM\",\"NY\",\"NC\",\"ND\",\"OH\",\"OK\",\"OR\",\"PA\",\"RI\",\"SC\",\"SD\",\"TN\",\"TX\",\"UT\",\"VT\",\"VA\",\"WA\",\"WV\",\"WI\",\"WY\"],\"name\":\"\",\"z\":[57217.0,74747.0,58182.0,53563.0,70826.0,72231.0,86551.0,70274.0,72784.0,65208.0,62834.0,75680.0,63692.0,72844.0,63015.0,65103.0,66696.0,58304.0,54864.0,62768.0,87283.0,86833.0,70896.0,75897.0,55899.0,65453.0,53529.0,63120.0,63066.0,79651.0,93578.0,55174.0,72444.0,63095.0,63261.0,63900.0,60435.0,65768.0,72378.0,77707.0,56133.0,63881.0,59801.0,60674.0,70993.0,71198.0,79828.0,72894.0,51772.0,67283.0,64323.0],\"type\":\"choropleth\"}],\"name\":\"2006\"},{\"data\":[{\"coloraxis\":\"coloraxis\",\"geo\":\"geo\",\"hovertemplate\":\"YEAR=2007\\u003cbr\\u003eSTATE_ABBREV=%{location}\\u003cbr\\u003eavg_FTOTVAL=%{z}\\u003cextra\\u003e\\u003c\\u002fextra\\u003e\",\"locationmode\":\"USA-states\",\"locations\":[\"AL\",\"AK\",\"AZ\",\"AR\",\"CA\",\"CO\",\"CT\",\"DE\",\"DC\",\"FL\",\"GA\",\"HI\",\"ID\",\"IL\",\"IN\",\"IA\",\"KS\",\"KY\",\"LA\",\"ME\",\"MD\",\"MA\",\"MI\",\"MN\",\"MS\",\"MO\",\"MT\",\"NE\",\"NV\",\"NH\",\"NJ\",\"NM\",\"NY\",\"NC\",\"ND\",\"OH\",\"OK\",\"OR\",\"PA\",\"RI\",\"SC\",\"SD\",\"TN\",\"TX\",\"UT\",\"VT\",\"VA\",\"WA\",\"WV\",\"WI\",\"WY\"],\"name\":\"\",\"z\":[58487.0,77641.0,64666.0,53563.0,76479.0,80442.0,96521.0,70899.0,80898.0,67972.0,65242.0,79364.0,66425.0,77119.0,71100.0,68194.0,74026.0,60075.0,60779.0,66029.0,90774.0,94528.0,70210.0,80648.0,55853.0,67682.0,53721.0,67079.0,66950.0,84734.0,96499.0,60824.0,76684.0,63645.0,66308.0,67196.0,60569.0,68146.0,71679.0,81461.0,59198.0,64253.0,60803.0,63519.0,71889.0,74900.0,86634.0,76120.0,58309.0,76121.0,67548.0],\"type\":\"choropleth\"}],\"name\":\"2007\"},{\"data\":[{\"coloraxis\":\"coloraxis\",\"geo\":\"geo\",\"hovertemplate\":\"YEAR=2008\\u003cbr\\u003eSTATE_ABBREV=%{location}\\u003cbr\\u003eavg_FTOTVAL=%{z}\\u003cextra\\u003e\\u003c\\u002fextra\\u003e\",\"locationmode\":\"USA-states\",\"locations\":[\"AL\",\"AK\",\"AZ\",\"AR\",\"CA\",\"CO\",\"CT\",\"DE\",\"DC\",\"FL\",\"GA\",\"HI\",\"ID\",\"IL\",\"IN\",\"IA\",\"KS\",\"KY\",\"LA\",\"ME\",\"MD\",\"MA\",\"MI\",\"MN\",\"MS\",\"MO\",\"MT\",\"NE\",\"NV\",\"NH\",\"NJ\",\"NM\",\"NY\",\"NC\",\"ND\",\"OH\",\"OK\",\"OR\",\"PA\",\"RI\",\"SC\",\"SD\",\"TN\",\"TX\",\"UT\",\"VT\",\"VA\",\"WA\",\"WV\",\"WI\",\"WY\"],\"name\":\"\",\"z\":[62392.0,81937.0,65500.0,58466.0,76006.0,83968.0,98281.0,75994.0,73717.0,66663.0,70635.0,80321.0,72576.0,80275.0,68075.0,72122.0,67396.0,60324.0,64555.0,65941.0,91943.0,90708.0,70845.0,81736.0,57080.0,66278.0,60402.0,73114.0,68461.0,85957.0,90927.0,62568.0,74977.0,62016.0,67857.0,69582.0,63076.0,68730.0,73657.0,83949.0,59030.0,72042.0,63110.0,65806.0,78647.0,67238.0,83053.0,74540.0,57243.0,73785.0,71767.0],\"type\":\"choropleth\"}],\"name\":\"2008\"},{\"data\":[{\"coloraxis\":\"coloraxis\",\"geo\":\"geo\",\"hovertemplate\":\"YEAR=2009\\u003cbr\\u003eSTATE_ABBREV=%{location}\\u003cbr\\u003eavg_FTOTVAL=%{z}\\u003cextra\\u003e\\u003c\\u002fextra\\u003e\",\"locationmode\":\"USA-states\",\"locations\":[\"AL\",\"AK\",\"AZ\",\"AR\",\"CA\",\"CO\",\"CT\",\"DE\",\"DC\",\"FL\",\"GA\",\"HI\",\"ID\",\"IL\",\"IN\",\"IA\",\"KS\",\"KY\",\"LA\",\"ME\",\"MD\",\"MA\",\"MI\",\"MN\",\"MS\",\"MO\",\"MT\",\"NE\",\"NV\",\"NH\",\"NJ\",\"NM\",\"NY\",\"NC\",\"ND\",\"OH\",\"OK\",\"OR\",\"PA\",\"RI\",\"SC\",\"SD\",\"TN\",\"TX\",\"UT\",\"VT\",\"VA\",\"WA\",\"WV\",\"WI\",\"WY\"],\"name\":\"\",\"z\":[60658.0,82104.0,64700.0,54574.0,79578.0,80853.0,97309.0,74421.0,77840.0,66521.0,69668.0,82362.0,63959.0,76085.0,67831.0,69643.0,72226.0,60792.0,62978.0,70218.0,93390.0,90031.0,70104.0,80455.0,56284.0,69389.0,63039.0,73310.0,72579.0,92136.0,96040.0,62234.0,75883.0,64079.0,69096.0,67252.0,65709.0,67640.0,79076.0,80636.0,60686.0,70371.0,62490.0,66300.0,80413.0,71755.0,87473.0,81651.0,58287.0,71640.0,71784.0],\"type\":\"choropleth\"}],\"name\":\"2009\"},{\"data\":[{\"coloraxis\":\"coloraxis\",\"geo\":\"geo\",\"hovertemplate\":\"YEAR=2010\\u003cbr\\u003eSTATE_ABBREV=%{location}\\u003cbr\\u003eavg_FTOTVAL=%{z}\\u003cextra\\u003e\\u003c\\u002fextra\\u003e\",\"locationmode\":\"USA-states\",\"locations\":[\"AL\",\"AK\",\"AZ\",\"AR\",\"CA\",\"CO\",\"CT\",\"DE\",\"DC\",\"FL\",\"GA\",\"HI\",\"ID\",\"IL\",\"IN\",\"IA\",\"KS\",\"KY\",\"LA\",\"ME\",\"MD\",\"MA\",\"MI\",\"MN\",\"MS\",\"MO\",\"MT\",\"NE\",\"NV\",\"NH\",\"NJ\",\"NM\",\"NY\",\"NC\",\"ND\",\"OH\",\"OK\",\"OR\",\"PA\",\"RI\",\"SC\",\"SD\",\"TN\",\"TX\",\"UT\",\"VT\",\"VA\",\"WA\",\"WV\",\"WI\",\"WY\"],\"name\":\"\",\"z\":[59004.0,83778.0,63177.0,51162.0,75210.0,79834.0,101096.0,72800.0,80503.0,63660.0,68544.0,78466.0,64746.0,75259.0,66076.0,70993.0,70833.0,62616.0,69052.0,69890.0,88897.0,92582.0,69974.0,78822.0,53752.0,70349.0,59540.0,71596.0,70224.0,86098.0,94582.0,59477.0,74798.0,63332.0,71224.0,66635.0,71555.0,68579.0,78082.0,75768.0,58571.0,64658.0,62669.0,64176.0,75818.0,69078.0,88722.0,77955.0,56410.0,71398.0,73337.0],\"type\":\"choropleth\"}],\"name\":\"2010\"},{\"data\":[{\"coloraxis\":\"coloraxis\",\"geo\":\"geo\",\"hovertemplate\":\"YEAR=2011\\u003cbr\\u003eSTATE_ABBREV=%{location}\\u003cbr\\u003eavg_FTOTVAL=%{z}\\u003cextra\\u003e\\u003c\\u002fextra\\u003e\",\"locationmode\":\"USA-states\",\"locations\":[\"AL\",\"AK\",\"AZ\",\"AR\",\"CA\",\"CO\",\"CT\",\"DE\",\"DC\",\"FL\",\"GA\",\"HI\",\"ID\",\"IL\",\"IN\",\"IA\",\"KS\",\"KY\",\"LA\",\"ME\",\"MD\",\"MA\",\"MI\",\"MN\",\"MS\",\"MO\",\"MT\",\"NE\",\"NV\",\"NH\",\"NJ\",\"NM\",\"NY\",\"NC\",\"ND\",\"OH\",\"OK\",\"OR\",\"PA\",\"RI\",\"SC\",\"SD\",\"TN\",\"TX\",\"UT\",\"VT\",\"VA\",\"WA\",\"WV\",\"WI\",\"WY\"],\"name\":\"\",\"z\":[65439.0,77291.0,65962.0,60157.0,73030.0,82959.0,100910.0,71524.0,78150.0,65055.0,65604.0,78684.0,63985.0,74115.0,65084.0,66705.0,70032.0,59120.0,62368.0,68403.0,88695.0,92216.0,70605.0,79104.0,54254.0,71542.0,64609.0,74434.0,64997.0,91103.0,93363.0,66179.0,75395.0,69251.0,78371.0,66311.0,62652.0,68869.0,72424.0,76575.0,62170.0,67676.0,61411.0,64879.0,73774.0,72576.0,85091.0,76356.0,59422.0,71178.0,69310.0],\"type\":\"choropleth\"}],\"name\":\"2011\"},{\"data\":[{\"coloraxis\":\"coloraxis\",\"geo\":\"geo\",\"hovertemplate\":\"YEAR=2012\\u003cbr\\u003eSTATE_ABBREV=%{location}\\u003cbr\\u003eavg_FTOTVAL=%{z}\\u003cextra\\u003e\\u003c\\u002fextra\\u003e\",\"locationmode\":\"USA-states\",\"locations\":[\"AL\",\"AK\",\"AZ\",\"AR\",\"CA\",\"CO\",\"CT\",\"DE\",\"DC\",\"FL\",\"GA\",\"HI\",\"ID\",\"IL\",\"IN\",\"IA\",\"KS\",\"KY\",\"LA\",\"ME\",\"MD\",\"MA\",\"MI\",\"MN\",\"MS\",\"MO\",\"MT\",\"NE\",\"NV\",\"NH\",\"NJ\",\"NM\",\"NY\",\"NC\",\"ND\",\"OH\",\"OK\",\"OR\",\"PA\",\"RI\",\"SC\",\"SD\",\"TN\",\"TX\",\"UT\",\"VT\",\"VA\",\"WA\",\"WV\",\"WI\",\"WY\"],\"name\":\"\",\"z\":[66009.0,78730.0,67638.0,55703.0,77418.0,81626.0,103031.0,71541.0,85538.0,67659.0,70608.0,83870.0,65551.0,78153.0,71713.0,70308.0,70424.0,62374.0,60319.0,72485.0,99053.0,95144.0,73794.0,82966.0,59083.0,72733.0,55623.0,79403.0,64294.0,90511.0,100216.0,62442.0,75590.0,69146.0,81677.0,70164.0,74457.0,67162.0,76177.0,78287.0,53545.0,65322.0,60827.0,71204.0,80193.0,69753.0,86707.0,76486.0,58885.0,72719.0,72878.0],\"type\":\"choropleth\"}],\"name\":\"2012\"},{\"data\":[{\"coloraxis\":\"coloraxis\",\"geo\":\"geo\",\"hovertemplate\":\"YEAR=2013\\u003cbr\\u003eSTATE_ABBREV=%{location}\\u003cbr\\u003eavg_FTOTVAL=%{z}\\u003cextra\\u003e\\u003c\\u002fextra\\u003e\",\"locationmode\":\"USA-states\",\"locations\":[\"AL\",\"AK\",\"AZ\",\"AR\",\"CA\",\"CO\",\"CT\",\"DE\",\"DC\",\"FL\",\"GA\",\"HI\",\"ID\",\"IL\",\"IN\",\"IA\",\"KS\",\"KY\",\"LA\",\"ME\",\"MD\",\"MA\",\"MI\",\"MN\",\"MS\",\"MO\",\"MT\",\"NE\",\"NV\",\"NH\",\"NJ\",\"NM\",\"NY\",\"NC\",\"ND\",\"OH\",\"OK\",\"OR\",\"PA\",\"RI\",\"SC\",\"SD\",\"TN\",\"TX\",\"UT\",\"VT\",\"VA\",\"WA\",\"WV\",\"WI\",\"WY\"],\"name\":\"\",\"z\":[65685.0,87373.0,62950.0,57392.0,79606.0,84626.0,104506.0,69108.0,93013.0,67757.0,69749.0,79605.0,68533.0,82756.0,69495.0,74093.0,76417.0,60488.0,60486.0,71579.0,96309.0,93607.0,75974.0,88897.0,58043.0,77715.0,64731.0,74144.0,66404.0,94848.0,101904.0,75433.0,79485.0,63974.0,84280.0,69729.0,67544.0,67518.0,75373.0,88700.0,60741.0,72087.0,62035.0,69024.0,81344.0,75316.0,92270.0,81789.0,68361.0,77985.0,75903.0],\"type\":\"choropleth\"}],\"name\":\"2013\"},{\"data\":[{\"coloraxis\":\"coloraxis\",\"geo\":\"geo\",\"hovertemplate\":\"YEAR=2014\\u003cbr\\u003eSTATE_ABBREV=%{location}\\u003cbr\\u003eavg_FTOTVAL=%{z}\\u003cextra\\u003e\\u003c\\u002fextra\\u003e\",\"locationmode\":\"USA-states\",\"locations\":[\"AL\",\"AK\",\"AZ\",\"AR\",\"CA\",\"CO\",\"CT\",\"DE\",\"DC\",\"FL\",\"GA\",\"HI\",\"ID\",\"IL\",\"IN\",\"IA\",\"KS\",\"KY\",\"LA\",\"ME\",\"MD\",\"MA\",\"MI\",\"MN\",\"MS\",\"MO\",\"MT\",\"NE\",\"NV\",\"NH\",\"NJ\",\"NM\",\"NY\",\"NC\",\"ND\",\"OH\",\"OK\",\"OR\",\"PA\",\"RI\",\"SC\",\"SD\",\"TN\",\"TX\",\"UT\",\"VT\",\"VA\",\"WA\",\"WV\",\"WI\",\"WY\"],\"name\":\"\",\"z\":[65593.0,91221.0,68228.0,56551.0,83423.0,93663.0,102011.0,79477.0,92054.0,70362.0,71236.0,81086.0,69609.0,84790.0,71434.0,77200.0,73023.0,59970.0,68804.0,77156.0,98102.0,104163.0,78933.0,91379.0,64030.0,75371.0,68851.0,76809.0,68625.0,94362.0,100304.0,63833.0,82623.0,68557.0,82951.0,74280.0,66150.0,69943.0,83183.0,85581.0,63275.0,78529.0,67653.0,71242.0,78552.0,77937.0,92900.0,85350.0,67333.0,80713.0,78357.0],\"type\":\"choropleth\"}],\"name\":\"2014\"},{\"data\":[{\"coloraxis\":\"coloraxis\",\"geo\":\"geo\",\"hovertemplate\":\"YEAR=2015\\u003cbr\\u003eSTATE_ABBREV=%{location}\\u003cbr\\u003eavg_FTOTVAL=%{z}\\u003cextra\\u003e\\u003c\\u002fextra\\u003e\",\"locationmode\":\"USA-states\",\"locations\":[\"AL\",\"AK\",\"AZ\",\"AR\",\"CA\",\"CO\",\"CT\",\"DE\",\"DC\",\"FL\",\"GA\",\"HI\",\"ID\",\"IL\",\"IN\",\"IA\",\"KS\",\"KY\",\"LA\",\"ME\",\"MD\",\"MA\",\"MI\",\"MN\",\"MS\",\"MO\",\"MT\",\"NE\",\"NV\",\"NH\",\"NJ\",\"NM\",\"NY\",\"NC\",\"ND\",\"OH\",\"OK\",\"OR\",\"PA\",\"RI\",\"SC\",\"SD\",\"TN\",\"TX\",\"UT\",\"VT\",\"VA\",\"WA\",\"WV\",\"WI\",\"WY\"],\"name\":\"\",\"z\":[69075.0,92028.0,67561.0,62459.0,85449.0,87938.0,104933.0,82909.0,97371.0,70335.0,74078.0,86952.0,73283.0,87720.0,74723.0,84637.0,79879.0,71298.0,65502.0,74980.0,110483.0,99457.0,76382.0,93703.0,57844.0,84343.0,75708.0,81278.0,66550.0,102030.0,100517.0,64824.0,88086.0,76338.0,83228.0,76816.0,71843.0,76862.0,85243.0,90467.0,69433.0,86544.0,73901.0,76047.0,85638.0,83631.0,98121.0,84542.0,64481.0,82700.0,81438.0],\"type\":\"choropleth\"}],\"name\":\"2015\"},{\"data\":[{\"coloraxis\":\"coloraxis\",\"geo\":\"geo\",\"hovertemplate\":\"YEAR=2016\\u003cbr\\u003eSTATE_ABBREV=%{location}\\u003cbr\\u003eavg_FTOTVAL=%{z}\\u003cextra\\u003e\\u003c\\u002fextra\\u003e\",\"locationmode\":\"USA-states\",\"locations\":[\"AL\",\"AK\",\"AZ\",\"AR\",\"CA\",\"CO\",\"CT\",\"DE\",\"DC\",\"FL\",\"GA\",\"HI\",\"ID\",\"IL\",\"IN\",\"IA\",\"KS\",\"KY\",\"LA\",\"ME\",\"MD\",\"MA\",\"MI\",\"MN\",\"MS\",\"MO\",\"MT\",\"NE\",\"NV\",\"NH\",\"NJ\",\"NM\",\"NY\",\"NC\",\"ND\",\"OH\",\"OK\",\"OR\",\"PA\",\"RI\",\"SC\",\"SD\",\"TN\",\"TX\",\"UT\",\"VT\",\"VA\",\"WA\",\"WV\",\"WI\",\"WY\"],\"name\":\"\",\"z\":[70111.0,102372.0,72786.0,69953.0,90057.0,88159.0,109025.0,82820.0,100429.0,74191.0,74841.0,92352.0,77798.0,95381.0,76479.0,86695.0,82625.0,69119.0,73785.0,73186.0,105554.0,104618.0,81725.0,92892.0,63492.0,86095.0,77041.0,83954.0,73961.0,102860.0,105420.0,65232.0,91447.0,77847.0,84351.0,79982.0,75270.0,77070.0,88546.0,87599.0,72637.0,86121.0,78595.0,82312.0,88343.0,85913.0,96351.0,91358.0,69402.0,79667.0,85804.0],\"type\":\"choropleth\"}],\"name\":\"2016\"},{\"data\":[{\"coloraxis\":\"coloraxis\",\"geo\":\"geo\",\"hovertemplate\":\"YEAR=2017\\u003cbr\\u003eSTATE_ABBREV=%{location}\\u003cbr\\u003eavg_FTOTVAL=%{z}\\u003cextra\\u003e\\u003c\\u002fextra\\u003e\",\"locationmode\":\"USA-states\",\"locations\":[\"AL\",\"AK\",\"AZ\",\"AR\",\"CA\",\"CO\",\"CT\",\"DE\",\"DC\",\"FL\",\"GA\",\"HI\",\"ID\",\"IL\",\"IN\",\"IA\",\"KS\",\"KY\",\"LA\",\"ME\",\"MD\",\"MA\",\"MI\",\"MN\",\"MS\",\"MO\",\"MT\",\"NE\",\"NV\",\"NH\",\"NJ\",\"NM\",\"NY\",\"NC\",\"ND\",\"OH\",\"OK\",\"OR\",\"PA\",\"RI\",\"SC\",\"SD\",\"TN\",\"TX\",\"UT\",\"VT\",\"VA\",\"WA\",\"WV\",\"WI\",\"WY\"],\"name\":\"\",\"z\":[78291.0,95136.0,79452.0,78556.0,93387.0,96987.0,108892.0,81930.0,104327.0,79159.0,77807.0,98181.0,82655.0,97463.0,88513.0,86524.0,83472.0,73838.0,73428.0,83930.0,111597.0,107175.0,84396.0,96434.0,65028.0,80796.0,80031.0,87691.0,77329.0,104983.0,110130.0,74186.0,96384.0,79758.0,85646.0,86111.0,79858.0,84777.0,90706.0,92529.0,84234.0,82733.0,78133.0,85769.0,101140.0,96043.0,98746.0,95403.0,69642.0,86691.0,81209.0],\"type\":\"choropleth\"}],\"name\":\"2017\"},{\"data\":[{\"coloraxis\":\"coloraxis\",\"geo\":\"geo\",\"hovertemplate\":\"YEAR=2018\\u003cbr\\u003eSTATE_ABBREV=%{location}\\u003cbr\\u003eavg_FTOTVAL=%{z}\\u003cextra\\u003e\\u003c\\u002fextra\\u003e\",\"locationmode\":\"USA-states\",\"locations\":[\"AL\",\"AK\",\"AZ\",\"AR\",\"CA\",\"CO\",\"CT\",\"DE\",\"DC\",\"FL\",\"GA\",\"HI\",\"ID\",\"IL\",\"IN\",\"IA\",\"KS\",\"KY\",\"LA\",\"ME\",\"MD\",\"MA\",\"MI\",\"MN\",\"MS\",\"MO\",\"MT\",\"NE\",\"NV\",\"NH\",\"NJ\",\"NM\",\"NY\",\"NC\",\"ND\",\"OH\",\"OK\",\"OR\",\"PA\",\"RI\",\"SC\",\"SD\",\"TN\",\"TX\",\"UT\",\"VT\",\"VA\",\"WA\",\"WV\",\"WI\",\"WY\"],\"name\":\"\",\"z\":[83015.0,91349.0,81054.0,76723.0,96097.0,99671.0,105912.0,93151.0,119535.0,80140.0,82879.0,101625.0,81995.0,102894.0,83700.0,92670.0,89623.0,81515.0,74115.0,82174.0,117171.0,110435.0,91018.0,99056.0,64611.0,90375.0,83225.0,90415.0,78153.0,104400.0,113265.0,69457.0,97017.0,83710.0,85546.0,89312.0,77746.0,88305.0,100761.0,101285.0,83042.0,87471.0,82564.0,86593.0,105010.0,94033.0,102564.0,107797.0,72904.0,92846.0,80082.0],\"type\":\"choropleth\"}],\"name\":\"2018\"},{\"data\":[{\"coloraxis\":\"coloraxis\",\"geo\":\"geo\",\"hovertemplate\":\"YEAR=2019\\u003cbr\\u003eSTATE_ABBREV=%{location}\\u003cbr\\u003eavg_FTOTVAL=%{z}\\u003cextra\\u003e\\u003c\\u002fextra\\u003e\",\"locationmode\":\"USA-states\",\"locations\":[\"AL\",\"AK\",\"AZ\",\"AR\",\"CA\",\"CO\",\"CT\",\"DE\",\"DC\",\"FL\",\"GA\",\"HI\",\"ID\",\"IL\",\"IN\",\"IA\",\"KS\",\"KY\",\"LA\",\"ME\",\"MD\",\"MA\",\"MI\",\"MN\",\"MS\",\"MO\",\"MT\",\"NE\",\"NV\",\"NH\",\"NJ\",\"NM\",\"NY\",\"NC\",\"ND\",\"OH\",\"OK\",\"OR\",\"PA\",\"RI\",\"SC\",\"SD\",\"TN\",\"TX\",\"UT\",\"VT\",\"VA\",\"WA\",\"WV\",\"WI\",\"WY\"],\"name\":\"\",\"z\":[74017.0,93554.0,89881.0,76924.0,100817.0,105865.0,113116.0,99669.0,128942.0,83534.0,87975.0,108339.0,82817.0,108601.0,87939.0,93193.0,96294.0,86083.0,79644.0,84426.0,117462.0,126731.0,94095.0,108468.0,66397.0,89845.0,79876.0,96511.0,84114.0,111552.0,128413.0,78752.0,106617.0,81474.0,95258.0,94725.0,81297.0,94700.0,98910.0,104549.0,83179.0,93474.0,84628.0,88372.0,107186.0,91610.0,113338.0,109827.0,74948.0,89414.0,87387.0],\"type\":\"choropleth\"}],\"name\":\"2019\"},{\"data\":[{\"coloraxis\":\"coloraxis\",\"geo\":\"geo\",\"hovertemplate\":\"YEAR=2020\\u003cbr\\u003eSTATE_ABBREV=%{location}\\u003cbr\\u003eavg_FTOTVAL=%{z}\\u003cextra\\u003e\\u003c\\u002fextra\\u003e\",\"locationmode\":\"USA-states\",\"locations\":[\"AL\",\"AK\",\"AZ\",\"AR\",\"CA\",\"CO\",\"CT\",\"DE\",\"DC\",\"FL\",\"GA\",\"HI\",\"ID\",\"IL\",\"IN\",\"IA\",\"KS\",\"KY\",\"LA\",\"ME\",\"MD\",\"MA\",\"MI\",\"MN\",\"MS\",\"MO\",\"MT\",\"NE\",\"NV\",\"NH\",\"NJ\",\"NM\",\"NY\",\"NC\",\"ND\",\"OH\",\"OK\",\"OR\",\"PA\",\"RI\",\"SC\",\"SD\",\"TN\",\"TX\",\"UT\",\"VT\",\"VA\",\"WA\",\"WV\",\"WI\",\"WY\"],\"name\":\"\",\"z\":[86184.0,102580.0,103141.0,87562.0,109752.0,122959.0,132172.0,114994.0,137200.0,91455.0,92691.0,113129.0,99459.0,116142.0,99369.0,91785.0,104538.0,92432.0,86709.0,89519.0,131502.0,141238.0,107292.0,118273.0,75020.0,93465.0,89701.0,103956.0,93647.0,127382.0,133325.0,72310.0,112556.0,90501.0,100664.0,105137.0,91832.0,118317.0,109697.0,110837.0,89660.0,91583.0,92889.0,102119.0,119236.0,105836.0,124994.0,116731.0,81615.0,104411.0,95631.0],\"type\":\"choropleth\"}],\"name\":\"2020\"},{\"data\":[{\"coloraxis\":\"coloraxis\",\"geo\":\"geo\",\"hovertemplate\":\"YEAR=2021\\u003cbr\\u003eSTATE_ABBREV=%{location}\\u003cbr\\u003eavg_FTOTVAL=%{z}\\u003cextra\\u003e\\u003c\\u002fextra\\u003e\",\"locationmode\":\"USA-states\",\"locations\":[\"AL\",\"AK\",\"AZ\",\"AR\",\"CA\",\"CO\",\"CT\",\"DE\",\"DC\",\"FL\",\"GA\",\"HI\",\"ID\",\"IL\",\"IN\",\"IA\",\"KS\",\"KY\",\"LA\",\"ME\",\"MD\",\"MA\",\"MI\",\"MN\",\"MS\",\"MO\",\"MT\",\"NE\",\"NV\",\"NH\",\"NJ\",\"NM\",\"NY\",\"NC\",\"ND\",\"OH\",\"OK\",\"OR\",\"PA\",\"RI\",\"SC\",\"SD\",\"TN\",\"TX\",\"UT\",\"VT\",\"VA\",\"WA\",\"WV\",\"WI\",\"WY\"],\"name\":\"\",\"z\":[88884.0,105679.0,101384.0,83883.0,108484.0,119761.0,122387.0,93885.0,136280.0,85207.0,94519.0,105359.0,92352.0,120375.0,105241.0,99668.0,102539.0,82435.0,82205.0,88361.0,142878.0,136553.0,116392.0,130061.0,71801.0,99885.0,91610.0,102697.0,87137.0,125521.0,135291.0,71912.0,108738.0,89547.0,94962.0,93447.0,82633.0,108590.0,111372.0,109050.0,88111.0,100650.0,88352.0,99352.0,120050.0,111161.0,123028.0,110515.0,83249.0,104394.0,89094.0],\"type\":\"choropleth\"}],\"name\":\"2021\"},{\"data\":[{\"coloraxis\":\"coloraxis\",\"geo\":\"geo\",\"hovertemplate\":\"YEAR=2022\\u003cbr\\u003eSTATE_ABBREV=%{location}\\u003cbr\\u003eavg_FTOTVAL=%{z}\\u003cextra\\u003e\\u003c\\u002fextra\\u003e\",\"locationmode\":\"USA-states\",\"locations\":[\"AL\",\"AK\",\"AZ\",\"AR\",\"CA\",\"CO\",\"CT\",\"DE\",\"DC\",\"FL\",\"GA\",\"HI\",\"ID\",\"IL\",\"IN\",\"IA\",\"KS\",\"KY\",\"LA\",\"ME\",\"MD\",\"MA\",\"MI\",\"MN\",\"MS\",\"MO\",\"MT\",\"NE\",\"NV\",\"NH\",\"NJ\",\"NM\",\"NY\",\"NC\",\"ND\",\"OH\",\"OK\",\"OR\",\"PA\",\"RI\",\"SC\",\"SD\",\"TN\",\"TX\",\"UT\",\"VT\",\"VA\",\"WA\",\"WV\",\"WI\",\"WY\"],\"name\":\"\",\"z\":[88075.0,108326.0,103738.0,89322.0,115830.0,127302.0,129942.0,106799.0,157399.0,89920.0,94164.0,114729.0,99579.0,121020.0,99915.0,112683.0,111244.0,90117.0,89170.0,102046.0,135559.0,144166.0,110189.0,123978.0,75928.0,100736.0,104758.0,115176.0,99471.0,128043.0,142147.0,81906.0,115932.0,103219.0,106338.0,101487.0,90427.0,117693.0,117354.0,126845.0,91655.0,99669.0,91835.0,102061.0,123253.0,111625.0,124250.0,130371.0,80896.0,110155.0,96048.0],\"type\":\"choropleth\"}],\"name\":\"2022\"},{\"data\":[{\"coloraxis\":\"coloraxis\",\"geo\":\"geo\",\"hovertemplate\":\"YEAR=2023\\u003cbr\\u003eSTATE_ABBREV=%{location}\\u003cbr\\u003eavg_FTOTVAL=%{z}\\u003cextra\\u003e\\u003c\\u002fextra\\u003e\",\"locationmode\":\"USA-states\",\"locations\":[\"AL\",\"AK\",\"AZ\",\"AR\",\"CA\",\"CO\",\"CT\",\"DE\",\"DC\",\"FL\",\"GA\",\"HI\",\"ID\",\"IL\",\"IN\",\"IA\",\"KS\",\"KY\",\"LA\",\"ME\",\"MD\",\"MA\",\"MI\",\"MN\",\"MS\",\"MO\",\"MT\",\"NE\",\"NV\",\"NH\",\"NJ\",\"NM\",\"NY\",\"NC\",\"ND\",\"OH\",\"OK\",\"OR\",\"PA\",\"RI\",\"SC\",\"SD\",\"TN\",\"TX\",\"UT\",\"VT\",\"VA\",\"WA\",\"WV\",\"WI\",\"WY\"],\"name\":\"\",\"z\":[94218.0,125164.0,101846.0,84199.0,124065.0,137637.0,134960.0,107847.0,161853.0,102211.0,104152.0,119731.0,104846.0,127896.0,106974.0,118226.0,124413.0,89711.0,86402.0,104089.0,145755.0,147743.0,107017.0,133212.0,76063.0,109325.0,106161.0,109654.0,97010.0,124896.0,144567.0,77928.0,116796.0,100381.0,112103.0,104480.0,93935.0,119124.0,120632.0,122938.0,99494.0,114441.0,97855.0,107122.0,144755.0,114973.0,138875.0,133846.0,84871.0,109523.0,106871.0],\"type\":\"choropleth\"}],\"name\":\"2023\"}]);\n",
       "                        }).then(function(){\n",
       "                            \n",
       "var gd = document.getElementById('c78df956-c040-4097-b6ae-f66ce2ec6025');\n",
       "var x = new MutationObserver(function (mutations, observer) {{\n",
       "        var display = window.getComputedStyle(gd).display;\n",
       "        if (!display || display === 'none') {{\n",
       "            console.log([gd, 'removed!']);\n",
       "            Plotly.purge(gd);\n",
       "            observer.disconnect();\n",
       "        }}\n",
       "}});\n",
       "\n",
       "// Listen for the removal of the full notebook cells\n",
       "var notebookContainer = gd.closest('#notebook-container');\n",
       "if (notebookContainer) {{\n",
       "    x.observe(notebookContainer, {childList: true});\n",
       "}}\n",
       "\n",
       "// Listen for the clearing of the current output cell\n",
       "var outputEl = gd.closest('.output');\n",
       "if (outputEl) {{\n",
       "    x.observe(outputEl, {childList: true});\n",
       "}}\n",
       "\n",
       "                        })                };                });            </script>        </div>"
      ]
     },
     "metadata": {},
     "output_type": "display_data"
    }
   ],
   "source": [
    "#avg family income\n",
    "fig = px.choropleth(state_merged, locations='STATE_ABBREV', locationmode='USA-states', color='avg_FTOTVAL', scope='usa',color_continuous_scale='Reds', animation_frame='YEAR')\n",
    "fig.update_layout(\n",
    "    title_text = 'Average Family Income'\n",
    ")\n",
    "fig.show()"
   ]
  },
  {
   "cell_type": "code",
   "execution_count": 10,
   "id": "628d825f-44cb-4405-84de-cc748f6df7b6",
   "metadata": {},
   "outputs": [],
   "source": [
    "result = client.query(\"\"\"\n",
    "SELECT STATE_NAME, LIFE_EXPECTANCY\n",
    "    FROM cps_00004.life_expectancy\n",
    "    WHERE COUNTY IS NULL\n",
    "\"\"\")"
   ]
  },
  {
   "cell_type": "code",
   "execution_count": 11,
   "id": "74bf9725-dcfd-445e-ba5c-0ea884f712c4",
   "metadata": {},
   "outputs": [
    {
     "name": "stdout",
     "output_type": "stream",
     "text": [
      "{'STATE_NAME': '\\ufeffAlabama', 'LIFE_EXPECTANCY': Decimal('75.5')}\n"
     ]
    }
   ],
   "source": [
    "print(next(result.named_results()))"
   ]
  },
  {
   "cell_type": "code",
   "execution_count": 12,
   "id": "195afa1a-af42-4499-84cf-b28ec1091e5a",
   "metadata": {},
   "outputs": [],
   "source": [
    "life_expec = pd.DataFrame(result.named_results())"
   ]
  },
  {
   "cell_type": "code",
   "execution_count": 13,
   "id": "d00f9441-f67e-41c7-8c77-9a65196c4ec9",
   "metadata": {},
   "outputs": [
    {
     "data": {
      "text/html": [
       "<div>\n",
       "<style scoped>\n",
       "    .dataframe tbody tr th:only-of-type {\n",
       "        vertical-align: middle;\n",
       "    }\n",
       "\n",
       "    .dataframe tbody tr th {\n",
       "        vertical-align: top;\n",
       "    }\n",
       "\n",
       "    .dataframe thead th {\n",
       "        text-align: right;\n",
       "    }\n",
       "</style>\n",
       "<table border=\"1\" class=\"dataframe\">\n",
       "  <thead>\n",
       "    <tr style=\"text-align: right;\">\n",
       "      <th></th>\n",
       "      <th>STATE_NAME</th>\n",
       "      <th>LIFE_EXPECTANCY</th>\n",
       "    </tr>\n",
       "  </thead>\n",
       "  <tbody>\n",
       "    <tr>\n",
       "      <th>0</th>\n",
       "      <td>﻿Alabama</td>\n",
       "      <td>75.5</td>\n",
       "    </tr>\n",
       "    <tr>\n",
       "      <th>1</th>\n",
       "      <td>Alaska</td>\n",
       "      <td>78.8</td>\n",
       "    </tr>\n",
       "    <tr>\n",
       "      <th>2</th>\n",
       "      <td>Arizona</td>\n",
       "      <td>79.9</td>\n",
       "    </tr>\n",
       "    <tr>\n",
       "      <th>3</th>\n",
       "      <td>Arkansas</td>\n",
       "      <td>76.0</td>\n",
       "    </tr>\n",
       "    <tr>\n",
       "      <th>4</th>\n",
       "      <td>California</td>\n",
       "      <td>81.3</td>\n",
       "    </tr>\n",
       "  </tbody>\n",
       "</table>\n",
       "</div>"
      ],
      "text/plain": [
       "   STATE_NAME LIFE_EXPECTANCY\n",
       "0    ﻿Alabama            75.5\n",
       "1      Alaska            78.8\n",
       "2     Arizona            79.9\n",
       "3    Arkansas            76.0\n",
       "4  California            81.3"
      ]
     },
     "execution_count": 13,
     "metadata": {},
     "output_type": "execute_result"
    }
   ],
   "source": [
    "life_expec.head()"
   ]
  },
  {
   "cell_type": "code",
   "execution_count": 14,
   "id": "13ed9973-9198-450c-944b-6a2f3cb6a955",
   "metadata": {},
   "outputs": [
    {
     "data": {
      "text/html": [
       "<div>\n",
       "<style scoped>\n",
       "    .dataframe tbody tr th:only-of-type {\n",
       "        vertical-align: middle;\n",
       "    }\n",
       "\n",
       "    .dataframe tbody tr th {\n",
       "        vertical-align: top;\n",
       "    }\n",
       "\n",
       "    .dataframe thead th {\n",
       "        text-align: right;\n",
       "    }\n",
       "</style>\n",
       "<table border=\"1\" class=\"dataframe\">\n",
       "  <thead>\n",
       "    <tr style=\"text-align: right;\">\n",
       "      <th></th>\n",
       "      <th>STATE_NAME</th>\n",
       "      <th>LIFE_EXPECTANCY</th>\n",
       "    </tr>\n",
       "  </thead>\n",
       "  <tbody>\n",
       "    <tr>\n",
       "      <th>0</th>\n",
       "      <td>﻿Alabama</td>\n",
       "      <td>75.5</td>\n",
       "    </tr>\n",
       "    <tr>\n",
       "      <th>1</th>\n",
       "      <td>Alaska</td>\n",
       "      <td>78.8</td>\n",
       "    </tr>\n",
       "    <tr>\n",
       "      <th>2</th>\n",
       "      <td>Arizona</td>\n",
       "      <td>79.9</td>\n",
       "    </tr>\n",
       "    <tr>\n",
       "      <th>3</th>\n",
       "      <td>Arkansas</td>\n",
       "      <td>76.0</td>\n",
       "    </tr>\n",
       "    <tr>\n",
       "      <th>4</th>\n",
       "      <td>California</td>\n",
       "      <td>81.3</td>\n",
       "    </tr>\n",
       "    <tr>\n",
       "      <th>5</th>\n",
       "      <td>Colorado</td>\n",
       "      <td>80.5</td>\n",
       "    </tr>\n",
       "    <tr>\n",
       "      <th>6</th>\n",
       "      <td>Connecticut</td>\n",
       "      <td>80.9</td>\n",
       "    </tr>\n",
       "    <tr>\n",
       "      <th>7</th>\n",
       "      <td>Delaware</td>\n",
       "      <td>78.7</td>\n",
       "    </tr>\n",
       "    <tr>\n",
       "      <th>8</th>\n",
       "      <td>District of Columbia</td>\n",
       "      <td>78.5</td>\n",
       "    </tr>\n",
       "    <tr>\n",
       "      <th>9</th>\n",
       "      <td>Florida</td>\n",
       "      <td>80.1</td>\n",
       "    </tr>\n",
       "    <tr>\n",
       "      <th>10</th>\n",
       "      <td>Georgia</td>\n",
       "      <td>77.7</td>\n",
       "    </tr>\n",
       "    <tr>\n",
       "      <th>11</th>\n",
       "      <td>Hawaii</td>\n",
       "      <td>82.0</td>\n",
       "    </tr>\n",
       "    <tr>\n",
       "      <th>12</th>\n",
       "      <td>Idaho</td>\n",
       "      <td>79.4</td>\n",
       "    </tr>\n",
       "    <tr>\n",
       "      <th>13</th>\n",
       "      <td>Illinois</td>\n",
       "      <td>79.3</td>\n",
       "    </tr>\n",
       "    <tr>\n",
       "      <th>14</th>\n",
       "      <td>Indiana</td>\n",
       "      <td>77.4</td>\n",
       "    </tr>\n",
       "    <tr>\n",
       "      <th>15</th>\n",
       "      <td>Iowa</td>\n",
       "      <td>79.6</td>\n",
       "    </tr>\n",
       "    <tr>\n",
       "      <th>16</th>\n",
       "      <td>Kansas</td>\n",
       "      <td>78.6</td>\n",
       "    </tr>\n",
       "    <tr>\n",
       "      <th>17</th>\n",
       "      <td>Kentucky</td>\n",
       "      <td>75.9</td>\n",
       "    </tr>\n",
       "    <tr>\n",
       "      <th>18</th>\n",
       "      <td>Louisiana</td>\n",
       "      <td>76.0</td>\n",
       "    </tr>\n",
       "    <tr>\n",
       "      <th>19</th>\n",
       "      <td>Maine</td>\n",
       "      <td>79.0</td>\n",
       "    </tr>\n",
       "    <tr>\n",
       "      <th>20</th>\n",
       "      <td>Maryland</td>\n",
       "      <td>79.6</td>\n",
       "    </tr>\n",
       "    <tr>\n",
       "      <th>21</th>\n",
       "      <td>Massachusetts</td>\n",
       "      <td>80.7</td>\n",
       "    </tr>\n",
       "    <tr>\n",
       "      <th>22</th>\n",
       "      <td>Michigan</td>\n",
       "      <td>78.2</td>\n",
       "    </tr>\n",
       "    <tr>\n",
       "      <th>23</th>\n",
       "      <td>Minnesota</td>\n",
       "      <td>81.0</td>\n",
       "    </tr>\n",
       "    <tr>\n",
       "      <th>24</th>\n",
       "      <td>Mississippi</td>\n",
       "      <td>74.9</td>\n",
       "    </tr>\n",
       "    <tr>\n",
       "      <th>25</th>\n",
       "      <td>Missouri</td>\n",
       "      <td>77.6</td>\n",
       "    </tr>\n",
       "    <tr>\n",
       "      <th>26</th>\n",
       "      <td>Montana</td>\n",
       "      <td>78.6</td>\n",
       "    </tr>\n",
       "    <tr>\n",
       "      <th>27</th>\n",
       "      <td>Nebraska</td>\n",
       "      <td>79.6</td>\n",
       "    </tr>\n",
       "    <tr>\n",
       "      <th>28</th>\n",
       "      <td>Nevada</td>\n",
       "      <td>78.4</td>\n",
       "    </tr>\n",
       "    <tr>\n",
       "      <th>29</th>\n",
       "      <td>New Hampshire</td>\n",
       "      <td>80.1</td>\n",
       "    </tr>\n",
       "    <tr>\n",
       "      <th>30</th>\n",
       "      <td>New Jersey</td>\n",
       "      <td>80.5</td>\n",
       "    </tr>\n",
       "    <tr>\n",
       "      <th>31</th>\n",
       "      <td>New Mexico</td>\n",
       "      <td>78.4</td>\n",
       "    </tr>\n",
       "    <tr>\n",
       "      <th>32</th>\n",
       "      <td>New York</td>\n",
       "      <td>81.0</td>\n",
       "    </tr>\n",
       "    <tr>\n",
       "      <th>33</th>\n",
       "      <td>North Carolina</td>\n",
       "      <td>78.1</td>\n",
       "    </tr>\n",
       "    <tr>\n",
       "      <th>34</th>\n",
       "      <td>North Dakota</td>\n",
       "      <td>79.7</td>\n",
       "    </tr>\n",
       "    <tr>\n",
       "      <th>35</th>\n",
       "      <td>Ohio</td>\n",
       "      <td>77.6</td>\n",
       "    </tr>\n",
       "    <tr>\n",
       "      <th>36</th>\n",
       "      <td>Oklahoma</td>\n",
       "      <td>75.8</td>\n",
       "    </tr>\n",
       "    <tr>\n",
       "      <th>37</th>\n",
       "      <td>Oregon</td>\n",
       "      <td>79.6</td>\n",
       "    </tr>\n",
       "    <tr>\n",
       "      <th>38</th>\n",
       "      <td>Pennsylvania</td>\n",
       "      <td>78.6</td>\n",
       "    </tr>\n",
       "    <tr>\n",
       "      <th>39</th>\n",
       "      <td>Rhode Island</td>\n",
       "      <td>79.9</td>\n",
       "    </tr>\n",
       "    <tr>\n",
       "      <th>40</th>\n",
       "      <td>South Carolina</td>\n",
       "      <td>77.0</td>\n",
       "    </tr>\n",
       "    <tr>\n",
       "      <th>41</th>\n",
       "      <td>South Dakota</td>\n",
       "      <td>79.4</td>\n",
       "    </tr>\n",
       "    <tr>\n",
       "      <th>42</th>\n",
       "      <td>Tennessee</td>\n",
       "      <td>76.3</td>\n",
       "    </tr>\n",
       "    <tr>\n",
       "      <th>43</th>\n",
       "      <td>Texas</td>\n",
       "      <td>78.8</td>\n",
       "    </tr>\n",
       "    <tr>\n",
       "      <th>44</th>\n",
       "      <td>Utah</td>\n",
       "      <td>79.8</td>\n",
       "    </tr>\n",
       "    <tr>\n",
       "      <th>45</th>\n",
       "      <td>Vermont</td>\n",
       "      <td>80.0</td>\n",
       "    </tr>\n",
       "    <tr>\n",
       "      <th>46</th>\n",
       "      <td>Virginia</td>\n",
       "      <td>79.4</td>\n",
       "    </tr>\n",
       "    <tr>\n",
       "      <th>47</th>\n",
       "      <td>Washington</td>\n",
       "      <td>80.3</td>\n",
       "    </tr>\n",
       "    <tr>\n",
       "      <th>48</th>\n",
       "      <td>West Virginia</td>\n",
       "      <td>75.3</td>\n",
       "    </tr>\n",
       "    <tr>\n",
       "      <th>49</th>\n",
       "      <td>Wisconsin</td>\n",
       "      <td>79.6</td>\n",
       "    </tr>\n",
       "    <tr>\n",
       "      <th>50</th>\n",
       "      <td>Wyoming</td>\n",
       "      <td>78.8</td>\n",
       "    </tr>\n",
       "  </tbody>\n",
       "</table>\n",
       "</div>"
      ],
      "text/plain": [
       "              STATE_NAME LIFE_EXPECTANCY\n",
       "0               ﻿Alabama            75.5\n",
       "1                 Alaska            78.8\n",
       "2                Arizona            79.9\n",
       "3               Arkansas            76.0\n",
       "4             California            81.3\n",
       "5               Colorado            80.5\n",
       "6            Connecticut            80.9\n",
       "7               Delaware            78.7\n",
       "8   District of Columbia            78.5\n",
       "9                Florida            80.1\n",
       "10               Georgia            77.7\n",
       "11                Hawaii            82.0\n",
       "12                 Idaho            79.4\n",
       "13              Illinois            79.3\n",
       "14               Indiana            77.4\n",
       "15                  Iowa            79.6\n",
       "16                Kansas            78.6\n",
       "17              Kentucky            75.9\n",
       "18             Louisiana            76.0\n",
       "19                 Maine            79.0\n",
       "20              Maryland            79.6\n",
       "21         Massachusetts            80.7\n",
       "22              Michigan            78.2\n",
       "23             Minnesota            81.0\n",
       "24           Mississippi            74.9\n",
       "25              Missouri            77.6\n",
       "26               Montana            78.6\n",
       "27              Nebraska            79.6\n",
       "28                Nevada            78.4\n",
       "29         New Hampshire            80.1\n",
       "30            New Jersey            80.5\n",
       "31            New Mexico            78.4\n",
       "32              New York            81.0\n",
       "33        North Carolina            78.1\n",
       "34          North Dakota            79.7\n",
       "35                  Ohio            77.6\n",
       "36              Oklahoma            75.8\n",
       "37                Oregon            79.6\n",
       "38          Pennsylvania            78.6\n",
       "39          Rhode Island            79.9\n",
       "40        South Carolina            77.0\n",
       "41          South Dakota            79.4\n",
       "42             Tennessee            76.3\n",
       "43                 Texas            78.8\n",
       "44                  Utah            79.8\n",
       "45               Vermont            80.0\n",
       "46              Virginia            79.4\n",
       "47            Washington            80.3\n",
       "48         West Virginia            75.3\n",
       "49             Wisconsin            79.6\n",
       "50               Wyoming            78.8"
      ]
     },
     "execution_count": 14,
     "metadata": {},
     "output_type": "execute_result"
    }
   ],
   "source": [
    "life_expec"
   ]
  },
  {
   "cell_type": "code",
   "execution_count": null,
   "id": "09980195-f643-497a-a3e1-ba9cde28f7d0",
   "metadata": {},
   "outputs": [],
   "source": []
  }
 ],
 "metadata": {
  "kernelspec": {
   "display_name": "Python 3 (ipykernel)",
   "language": "python",
   "name": "python3"
  },
  "language_info": {
   "codemirror_mode": {
    "name": "ipython",
    "version": 3
   },
   "file_extension": ".py",
   "mimetype": "text/x-python",
   "name": "python",
   "nbconvert_exporter": "python",
   "pygments_lexer": "ipython3",
   "version": "3.10.12"
  }
 },
 "nbformat": 4,
 "nbformat_minor": 5
}
