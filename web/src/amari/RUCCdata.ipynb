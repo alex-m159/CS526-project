{
 "cells": [
  {
   "cell_type": "code",
   "execution_count": 11,
   "id": "3ce2a658-cf49-4592-bfc4-de693250133b",
   "metadata": {},
   "outputs": [],
   "source": [
    "import clickhouse_connect\n",
    "import polars as pl\n",
    "import matplotlib.pyplot as plt\n",
    "import numpy as np\n",
    "import pandas as pd\n",
    "client = clickhouse_connect.get_client(host='hub.publichealthhq.xyz', port=18123, username='default', password='Password123!')\n",
    "result = client.query(\"\"\"\n",
    "SELECT DISTINCT STATE_NAME, COUNTY_NAME, TOTAL_POPULATION, RUCC\n",
    "FROM cps_00004.places_county \n",
    "JOIN cps_00004.rural_urban_codes \n",
    "ON cps_00004.places_county.COUNTY_FIPS = rural_urban_codes.FIPS \n",
    "\"\"\")\n",
    "\n",
    "df = pl.from_dicts(result.named_results(), infer_schema_length=400)"
   ]
  },
  {
   "cell_type": "code",
   "execution_count": 2,
   "id": "7632af68-cb59-44d0-a945-c33bcab683d0",
   "metadata": {},
   "outputs": [
    {
     "data": {
      "text/plain": [
       "3135"
      ]
     },
     "execution_count": 2,
     "metadata": {},
     "output_type": "execute_result"
    }
   ],
   "source": [
    "len(df)"
   ]
  },
  {
   "cell_type": "code",
   "execution_count": 3,
   "id": "74018d48-6f97-4554-88e2-11499ca2c9e2",
   "metadata": {},
   "outputs": [
    {
     "data": {
      "text/html": [
       "<div><style>\n",
       ".dataframe > thead > tr,\n",
       ".dataframe > tbody > tr {\n",
       "  text-align: right;\n",
       "  white-space: pre-wrap;\n",
       "}\n",
       "</style>\n",
       "<small>shape: (50, 2)</small><table border=\"1\" class=\"dataframe\"><thead><tr><th>STATE_NAME</th><th>TOTAL_POPULATION</th></tr><tr><td>str</td><td>i64</td></tr></thead><tbody><tr><td>&quot;New Hampshire&quot;</td><td>1388992</td></tr><tr><td>&quot;South Carolina…</td><td>5190705</td></tr><tr><td>&quot;Arkansas&quot;</td><td>3025891</td></tr><tr><td>&quot;North Dakota&quot;</td><td>774948</td></tr><tr><td>&quot;Montana&quot;</td><td>1104271</td></tr><tr><td>&quot;Georgia&quot;</td><td>10799566</td></tr><tr><td>&quot;Vermont&quot;</td><td>645570</td></tr><tr><td>&quot;West Virginia&quot;</td><td>1782959</td></tr><tr><td>&quot;Arizona&quot;</td><td>7276316</td></tr><tr><td>&quot;Hawaii&quot;</td><td>1441553</td></tr><tr><td>&quot;Idaho&quot;</td><td>1900923</td></tr><tr><td>&quot;Michigan&quot;</td><td>10050811</td></tr><tr><td>&hellip;</td><td>&hellip;</td></tr><tr><td>&quot;Texas&quot;</td><td>29527941</td></tr><tr><td>&quot;Rhode Island&quot;</td><td>1095610</td></tr><tr><td>&quot;Kansas&quot;</td><td>2934582</td></tr><tr><td>&quot;Oregon&quot;</td><td>4246155</td></tr><tr><td>&quot;South Dakota&quot;</td><td>895376</td></tr><tr><td>&quot;District of Co…</td><td>670050</td></tr><tr><td>&quot;Nevada&quot;</td><td>3143991</td></tr><tr><td>&quot;Oklahoma&quot;</td><td>3986639</td></tr><tr><td>&quot;Colorado&quot;</td><td>5812069</td></tr><tr><td>&quot;Minnesota&quot;</td><td>5707390</td></tr><tr><td>&quot;Tennessee&quot;</td><td>6975218</td></tr><tr><td>&quot;New Mexico&quot;</td><td>2115877</td></tr></tbody></table></div>"
      ],
      "text/plain": [
       "shape: (50, 2)\n",
       "┌────────────────┬──────────────────┐\n",
       "│ STATE_NAME     ┆ TOTAL_POPULATION │\n",
       "│ ---            ┆ ---              │\n",
       "│ str            ┆ i64              │\n",
       "╞════════════════╪══════════════════╡\n",
       "│ New Hampshire  ┆ 1388992          │\n",
       "│ South Carolina ┆ 5190705          │\n",
       "│ Arkansas       ┆ 3025891          │\n",
       "│ North Dakota   ┆ 774948           │\n",
       "│ Montana        ┆ 1104271          │\n",
       "│ …              ┆ …                │\n",
       "│ Oklahoma       ┆ 3986639          │\n",
       "│ Colorado       ┆ 5812069          │\n",
       "│ Minnesota      ┆ 5707390          │\n",
       "│ Tennessee      ┆ 6975218          │\n",
       "│ New Mexico     ┆ 2115877          │\n",
       "└────────────────┴──────────────────┘"
      ]
     },
     "execution_count": 3,
     "metadata": {},
     "output_type": "execute_result"
    }
   ],
   "source": [
    "total_pop = df.group_by(['STATE_NAME']).agg( pl.col('TOTAL_POPULATION').sum() )\n",
    "total_pop"
   ]
  },
  {
   "cell_type": "code",
   "execution_count": 4,
   "id": "1fec1776-51e1-47c9-ac4d-43bb5cfee6a9",
   "metadata": {},
   "outputs": [],
   "source": [
    "pop_by_county = df.join(total_pop, 'STATE_NAME')\\\n",
    ".group_by(['STATE_NAME', 'COUNTY_NAME'])\\\n",
    ".agg( pl.col('TOTAL_POPULATION').sum() / pl.col('TOTAL_POPULATION_right').first() )"
   ]
  },
  {
   "cell_type": "code",
   "execution_count": 5,
   "id": "6c2185d2-ce26-4636-9b39-62e58a81dddf",
   "metadata": {},
   "outputs": [
    {
     "data": {
      "text/html": [
       "<div><style>\n",
       ".dataframe > thead > tr,\n",
       ".dataframe > tbody > tr {\n",
       "  text-align: right;\n",
       "  white-space: pre-wrap;\n",
       "}\n",
       "</style>\n",
       "<small>shape: (3_135, 3)</small><table border=\"1\" class=\"dataframe\"><thead><tr><th>STATE_NAME</th><th>COUNTY_NAME</th><th>TOTAL_POPULATION</th></tr><tr><td>str</td><td>str</td><td>f64</td></tr></thead><tbody><tr><td>&quot;Texas&quot;</td><td>&quot;Wood&quot;</td><td>0.001554</td></tr><tr><td>&quot;Washington&quot;</td><td>&quot;Asotin&quot;</td><td>0.002894</td></tr><tr><td>&quot;Texas&quot;</td><td>&quot;Swisher&quot;</td><td>0.000237</td></tr><tr><td>&quot;Virginia&quot;</td><td>&quot;Nottoway&quot;</td><td>0.001804</td></tr><tr><td>&quot;Utah&quot;</td><td>&quot;Emery&quot;</td><td>0.002986</td></tr><tr><td>&quot;Virginia&quot;</td><td>&quot;Richmond City&quot;</td><td>0.02622</td></tr><tr><td>&quot;Utah&quot;</td><td>&quot;Uintah&quot;</td><td>0.010846</td></tr><tr><td>&quot;Virginia&quot;</td><td>&quot;Highland&quot;</td><td>0.000258</td></tr><tr><td>&quot;Virginia&quot;</td><td>&quot;Albemarle&quot;</td><td>0.013137</td></tr><tr><td>&quot;Virginia&quot;</td><td>&quot;Augusta&quot;</td><td>0.008975</td></tr><tr><td>&quot;Texas&quot;</td><td>&quot;Rusk&quot;</td><td>0.001786</td></tr><tr><td>&quot;Virginia&quot;</td><td>&quot;Radford&quot;</td><td>0.001909</td></tr><tr><td>&hellip;</td><td>&hellip;</td><td>&hellip;</td></tr><tr><td>&quot;North Dakota&quot;</td><td>&quot;Pembina&quot;</td><td>0.008732</td></tr><tr><td>&quot;Oklahoma&quot;</td><td>&quot;Comanche&quot;</td><td>0.030618</td></tr><tr><td>&quot;Ohio&quot;</td><td>&quot;Portage&quot;</td><td>0.013785</td></tr><tr><td>&quot;Ohio&quot;</td><td>&quot;Highland&quot;</td><td>0.00368</td></tr><tr><td>&quot;Oklahoma&quot;</td><td>&quot;Washington&quot;</td><td>0.013237</td></tr><tr><td>&quot;Ohio&quot;</td><td>&quot;Pickaway&quot;</td><td>0.005037</td></tr><tr><td>&quot;Oklahoma&quot;</td><td>&quot;Harper&quot;</td><td>0.000798</td></tr><tr><td>&quot;Ohio&quot;</td><td>&quot;Clinton&quot;</td><td>0.003566</td></tr><tr><td>&quot;Oklahoma&quot;</td><td>&quot;Caddo&quot;</td><td>0.006614</td></tr><tr><td>&quot;Oklahoma&quot;</td><td>&quot;Cotton&quot;</td><td>0.001375</td></tr><tr><td>&quot;Ohio&quot;</td><td>&quot;Lucas&quot;</td><td>0.036434</td></tr><tr><td>&quot;Oklahoma&quot;</td><td>&quot;Oklahoma&quot;</td><td>0.200313</td></tr></tbody></table></div>"
      ],
      "text/plain": [
       "shape: (3_135, 3)\n",
       "┌────────────┬─────────────┬──────────────────┐\n",
       "│ STATE_NAME ┆ COUNTY_NAME ┆ TOTAL_POPULATION │\n",
       "│ ---        ┆ ---         ┆ ---              │\n",
       "│ str        ┆ str         ┆ f64              │\n",
       "╞════════════╪═════════════╪══════════════════╡\n",
       "│ Texas      ┆ Wood        ┆ 0.001554         │\n",
       "│ Washington ┆ Asotin      ┆ 0.002894         │\n",
       "│ Texas      ┆ Swisher     ┆ 0.000237         │\n",
       "│ Virginia   ┆ Nottoway    ┆ 0.001804         │\n",
       "│ Utah       ┆ Emery       ┆ 0.002986         │\n",
       "│ …          ┆ …           ┆ …                │\n",
       "│ Ohio       ┆ Clinton     ┆ 0.003566         │\n",
       "│ Oklahoma   ┆ Caddo       ┆ 0.006614         │\n",
       "│ Oklahoma   ┆ Cotton      ┆ 0.001375         │\n",
       "│ Ohio       ┆ Lucas       ┆ 0.036434         │\n",
       "│ Oklahoma   ┆ Oklahoma    ┆ 0.200313         │\n",
       "└────────────┴─────────────┴──────────────────┘"
      ]
     },
     "execution_count": 5,
     "metadata": {},
     "output_type": "execute_result"
    }
   ],
   "source": [
    "pop_by_county"
   ]
  },
  {
   "cell_type": "code",
   "execution_count": 6,
   "id": "fba13490-1791-4f8e-a32f-87fd00e6f231",
   "metadata": {},
   "outputs": [],
   "source": [
    "pop_rcc_by_county = pop_by_county.join(\n",
    "    df.select(['STATE_NAME', 'COUNTY_NAME', 'RUCC']), on=['STATE_NAME', 'COUNTY_NAME'], how='inner')\\\n",
    ".select(['STATE_NAME', 'COUNTY_NAME', 'TOTAL_POPULATION', 'RUCC'])"
   ]
  },
  {
   "cell_type": "code",
   "execution_count": 7,
   "id": "1e061d1a-8165-4c24-919b-c9961110c520",
   "metadata": {},
   "outputs": [],
   "source": [
    "result = pop_rcc_by_county\\\n",
    ".with_columns( WEIGHTED_RUCC=pl.col('TOTAL_POPULATION') * pl.col('RUCC'))\\\n",
    ".group_by(['STATE_NAME'])\\\n",
    ".agg( pl.col('WEIGHTED_RUCC').sum()).sort('WEIGHTED_RUCC', descending=True)"
   ]
  },
  {
   "cell_type": "code",
   "execution_count": 8,
   "id": "a128931d-2bd3-4312-a6ba-7d014ee3e237",
   "metadata": {},
   "outputs": [
    {
     "data": {
      "text/plain": [
       "polars.dataframe.frame.DataFrame"
      ]
     },
     "execution_count": 8,
     "metadata": {},
     "output_type": "execute_result"
    }
   ],
   "source": [
    "type(result)"
   ]
  },
  {
   "cell_type": "code",
   "execution_count": 9,
   "id": "b2b5ff4f-b3ad-4aa8-bb7f-66f33d6ac6b2",
   "metadata": {},
   "outputs": [
    {
     "ename": "TypeError",
     "evalue": "the truth value of a DataFrame is ambiguous\n\nHint: to check if a DataFrame contains any values, use `is_empty()`.",
     "output_type": "error",
     "traceback": [
      "\u001b[0;31m---------------------------------------------------------------------------\u001b[0m",
      "\u001b[0;31mTypeError\u001b[0m                                 Traceback (most recent call last)",
      "\u001b[0;32m/tmp/ipykernel_1072983/3215708580.py\u001b[0m in \u001b[0;36m?\u001b[0;34m()\u001b[0m\n\u001b[1;32m      1\u001b[0m \u001b[0mresult\u001b[0m\u001b[0;34m\u001b[0m\u001b[0;34m\u001b[0m\u001b[0m\n\u001b[0;32m----> 2\u001b[0;31m \u001b[0mdf\u001b[0m \u001b[0;34m=\u001b[0m \u001b[0mpl\u001b[0m\u001b[0;34m.\u001b[0m\u001b[0mfrom_dicts\u001b[0m\u001b[0;34m(\u001b[0m\u001b[0mresult\u001b[0m\u001b[0;34m,\u001b[0m \u001b[0minfer_schema_length\u001b[0m\u001b[0;34m=\u001b[0m\u001b[0;36m400\u001b[0m\u001b[0;34m)\u001b[0m\u001b[0;34m\u001b[0m\u001b[0;34m\u001b[0m\u001b[0m\n\u001b[0m",
      "\u001b[0;32m~/cs526/CS526-project/web/venv/lib/python3.10/site-packages/polars/convert.py\u001b[0m in \u001b[0;36m?\u001b[0;34m(data, schema, schema_overrides, infer_schema_length)\u001b[0m\n\u001b[1;32m    163\u001b[0m     \u001b[0;31m│\u001b[0m \u001b[0;36m2\u001b[0m\u001b[0;31m \u001b[0m\u001b[0;31m \u001b[0m\u001b[0;31m \u001b[0m\u001b[0;31m┆\u001b[0m \u001b[0;36m5\u001b[0m\u001b[0;31m \u001b[0m\u001b[0;31m \u001b[0m\u001b[0;31m \u001b[0m\u001b[0;31m┆\u001b[0m \u001b[0mnull\u001b[0m\u001b[0;31m \u001b[0m\u001b[0;31m┆\u001b[0m \u001b[0mnull\u001b[0m\u001b[0;31m \u001b[0m\u001b[0;31m│\u001b[0m\u001b[0;34m\u001b[0m\u001b[0;34m\u001b[0m\u001b[0m\n\u001b[1;32m    164\u001b[0m     \u001b[0;31m│\u001b[0m \u001b[0;36m3\u001b[0m\u001b[0;31m \u001b[0m\u001b[0;31m \u001b[0m\u001b[0;31m \u001b[0m\u001b[0;31m┆\u001b[0m \u001b[0;36m6\u001b[0m\u001b[0;31m \u001b[0m\u001b[0;31m \u001b[0m\u001b[0;31m \u001b[0m\u001b[0;31m┆\u001b[0m \u001b[0mnull\u001b[0m\u001b[0;31m \u001b[0m\u001b[0;31m┆\u001b[0m \u001b[0mnull\u001b[0m\u001b[0;31m \u001b[0m\u001b[0;31m│\u001b[0m\u001b[0;34m\u001b[0m\u001b[0;34m\u001b[0m\u001b[0m\n\u001b[1;32m    165\u001b[0m     \u001b[0;31m└\u001b[0m\u001b[0;31m─\u001b[0m\u001b[0;31m─\u001b[0m\u001b[0;31m─\u001b[0m\u001b[0;31m─\u001b[0m\u001b[0;31m─\u001b[0m\u001b[0;31m┴\u001b[0m\u001b[0;31m─\u001b[0m\u001b[0;31m─\u001b[0m\u001b[0;31m─\u001b[0m\u001b[0;31m─\u001b[0m\u001b[0;31m─\u001b[0m\u001b[0;31m┴\u001b[0m\u001b[0;31m─\u001b[0m\u001b[0;31m─\u001b[0m\u001b[0;31m─\u001b[0m\u001b[0;31m─\u001b[0m\u001b[0;31m─\u001b[0m\u001b[0;31m─\u001b[0m\u001b[0;31m┴\u001b[0m\u001b[0;31m─\u001b[0m\u001b[0;31m─\u001b[0m\u001b[0;31m─\u001b[0m\u001b[0;31m─\u001b[0m\u001b[0;31m─\u001b[0m\u001b[0;31m─\u001b[0m\u001b[0;31m┘\u001b[0m\u001b[0;34m\u001b[0m\u001b[0;34m\u001b[0m\u001b[0m\n\u001b[1;32m    166\u001b[0m     \"\"\"\n\u001b[0;32m--> 167\u001b[0;31m     \u001b[0;32mif\u001b[0m \u001b[0;32mnot\u001b[0m \u001b[0mdata\u001b[0m \u001b[0;32mand\u001b[0m \u001b[0;32mnot\u001b[0m \u001b[0;34m(\u001b[0m\u001b[0mschema\u001b[0m \u001b[0;32mor\u001b[0m \u001b[0mschema_overrides\u001b[0m\u001b[0;34m)\u001b[0m\u001b[0;34m:\u001b[0m\u001b[0;34m\u001b[0m\u001b[0;34m\u001b[0m\u001b[0m\n\u001b[0m\u001b[1;32m    168\u001b[0m         \u001b[0mmsg\u001b[0m \u001b[0;34m=\u001b[0m \u001b[0;34m\"no data, cannot infer schema\"\u001b[0m\u001b[0;34m\u001b[0m\u001b[0;34m\u001b[0m\u001b[0m\n\u001b[1;32m    169\u001b[0m         \u001b[0;32mraise\u001b[0m \u001b[0mNoDataError\u001b[0m\u001b[0;34m(\u001b[0m\u001b[0mmsg\u001b[0m\u001b[0;34m)\u001b[0m\u001b[0;34m\u001b[0m\u001b[0;34m\u001b[0m\u001b[0m\n\u001b[1;32m    170\u001b[0m \u001b[0;34m\u001b[0m\u001b[0m\n",
      "\u001b[0;32m~/cs526/CS526-project/web/venv/lib/python3.10/site-packages/polars/dataframe/frame.py\u001b[0m in \u001b[0;36m?\u001b[0;34m(self)\u001b[0m\n\u001b[1;32m   1448\u001b[0m         msg = (\n\u001b[1;32m   1449\u001b[0m             \u001b[0;34m\"the truth value of a DataFrame is ambiguous\"\u001b[0m\u001b[0;34m\u001b[0m\u001b[0;34m\u001b[0m\u001b[0m\n\u001b[1;32m   1450\u001b[0m             \u001b[0;34m\"\\n\\nHint: to check if a DataFrame contains any values, use `is_empty()`.\"\u001b[0m\u001b[0;34m\u001b[0m\u001b[0;34m\u001b[0m\u001b[0m\n\u001b[1;32m   1451\u001b[0m         )\n\u001b[0;32m-> 1452\u001b[0;31m         \u001b[0;32mraise\u001b[0m \u001b[0mTypeError\u001b[0m\u001b[0;34m(\u001b[0m\u001b[0mmsg\u001b[0m\u001b[0;34m)\u001b[0m\u001b[0;34m\u001b[0m\u001b[0;34m\u001b[0m\u001b[0m\n\u001b[0m",
      "\u001b[0;31mTypeError\u001b[0m: the truth value of a DataFrame is ambiguous\n\nHint: to check if a DataFrame contains any values, use `is_empty()`."
     ]
    }
   ],
   "source": [
    "result\n",
    "df = pl.from_dicts(result, infer_schema_length=400)"
   ]
  },
  {
   "cell_type": "code",
   "execution_count": null,
   "id": "ad14a9c3-09fa-40f1-8ef3-d23b2dcfdc15",
   "metadata": {},
   "outputs": [],
   "source": [
    "result.write_csv(\"testfile9999.csv\")"
   ]
  },
  {
   "cell_type": "code",
   "execution_count": 74,
   "id": "38b517fa-9e57-4bc7-8bbe-ef89defc68c1",
   "metadata": {},
   "outputs": [],
   "source": [
    "result = client.query(\"\"\"\n",
    "SELECT any(STATE_FIPS) as STATE_FIPS, any(STATE_NAME) as STATE_NAME, COUNTY as COUNTY_NAME, round(avg(LIFE_EXPECTANCY), 2) as LIFE_EXP \n",
    "FROM cps_00004.life_expectancy \n",
    "JOIN cps_00004.state_fips \n",
    "ON state_fips.STATE_NAME = life_expectancy.STATE_NAME \n",
    "WHERE COUNTY_NAME IS NOT NULL\n",
    "GROUP BY COUNTY_NAME\n",
    "ORDER BY STATE_FIPS\n",
    "\"\"\")\n",
    "df = pl.from_dicts(result.named_results(), infer_schema_length=400)"
   ]
  },
  {
   "cell_type": "code",
   "execution_count": 75,
   "id": "2dc83a38-7b42-4547-9915-dfc5c252d434",
   "metadata": {},
   "outputs": [
    {
     "data": {
      "text/html": [
       "<div><style>\n",
       ".dataframe > thead > tr,\n",
       ".dataframe > tbody > tr {\n",
       "  text-align: right;\n",
       "  white-space: pre-wrap;\n",
       "}\n",
       "</style>\n",
       "<small>shape: (3_386, 4)</small><table border=\"1\" class=\"dataframe\"><thead><tr><th>STATE_FIPS</th><th>STATE_NAME</th><th>COUNTY_NAME</th><th>LIFE_EXP</th></tr><tr><td>i64</td><td>str</td><td>str</td><td>f64</td></tr></thead><tbody><tr><td>1</td><td>&quot;Alabama&quot;</td><td>&quot;Henry County, …</td><td>75.82</td></tr><tr><td>1</td><td>&quot;Alabama&quot;</td><td>&quot;Bibb County, A…</td><td>73.55</td></tr><tr><td>1</td><td>&quot;Alabama&quot;</td><td>&quot;Mobile County&quot;</td><td>null</td></tr><tr><td>1</td><td>&quot;Alabama&quot;</td><td>&quot;Lee County, AL…</td><td>77.55</td></tr><tr><td>1</td><td>&quot;Alabama&quot;</td><td>&quot;Perry County, …</td><td>73.9</td></tr><tr><td>1</td><td>&quot;Alabama&quot;</td><td>&quot;Coosa County, …</td><td>77.9</td></tr><tr><td>1</td><td>&quot;Alabama&quot;</td><td>&quot;Dale County, A…</td><td>76.45</td></tr><tr><td>1</td><td>&quot;Alabama&quot;</td><td>&quot;Clay County, A…</td><td>74.6</td></tr><tr><td>1</td><td>&quot;Alabama&quot;</td><td>&quot;Pike County, A…</td><td>75.43</td></tr><tr><td>1</td><td>&quot;Alabama&quot;</td><td>&quot;Baldwin County…</td><td>null</td></tr><tr><td>1</td><td>&quot;Alabama&quot;</td><td>&quot;Hale County, A…</td><td>75.48</td></tr><tr><td>1</td><td>&quot;Alabama&quot;</td><td>&quot;Lamar County, …</td><td>74.87</td></tr><tr><td>&hellip;</td><td>&hellip;</td><td>&hellip;</td><td>&hellip;</td></tr><tr><td>56</td><td>&quot;Wyoming&quot;</td><td>&quot;Lincoln County…</td><td>80.55</td></tr><tr><td>56</td><td>&quot;Wyoming&quot;</td><td>&quot;Johnson County…</td><td>83.9</td></tr><tr><td>56</td><td>&quot;Wyoming&quot;</td><td>&quot;Niobrara Count…</td><td>77.9</td></tr><tr><td>56</td><td>&quot;Wyoming&quot;</td><td>&quot;Natrona County…</td><td>79.53</td></tr><tr><td>56</td><td>&quot;Wyoming&quot;</td><td>&quot;Laramie County…</td><td>80.44</td></tr><tr><td>56</td><td>&quot;Wyoming&quot;</td><td>&quot;Platte County,…</td><td>78.95</td></tr><tr><td>56</td><td>&quot;Wyoming&quot;</td><td>&quot;Goshen County,…</td><td>81.2</td></tr><tr><td>56</td><td>&quot;Wyoming&quot;</td><td>&quot;Campbell Count…</td><td>78.42</td></tr><tr><td>56</td><td>&quot;Wyoming&quot;</td><td>&quot;Fremont County…</td><td>78.9</td></tr><tr><td>56</td><td>&quot;Wyoming&quot;</td><td>&quot;Washakie Count…</td><td>80.6</td></tr><tr><td>56</td><td>&quot;Wyoming&quot;</td><td>&quot;Big Horn Count…</td><td>81.13</td></tr><tr><td>56</td><td>&quot;Wyoming&quot;</td><td>&quot;Converse Count…</td><td>82.0</td></tr></tbody></table></div>"
      ],
      "text/plain": [
       "shape: (3_386, 4)\n",
       "┌────────────┬────────────┬─────────────────────┬──────────┐\n",
       "│ STATE_FIPS ┆ STATE_NAME ┆ COUNTY_NAME         ┆ LIFE_EXP │\n",
       "│ ---        ┆ ---        ┆ ---                 ┆ ---      │\n",
       "│ i64        ┆ str        ┆ str                 ┆ f64      │\n",
       "╞════════════╪════════════╪═════════════════════╪══════════╡\n",
       "│ 1          ┆ Alabama    ┆ Henry County, AL    ┆ 75.82    │\n",
       "│ 1          ┆ Alabama    ┆ Bibb County, AL     ┆ 73.55    │\n",
       "│ 1          ┆ Alabama    ┆ Mobile County       ┆ null     │\n",
       "│ 1          ┆ Alabama    ┆ Lee County, AL      ┆ 77.55    │\n",
       "│ 1          ┆ Alabama    ┆ Perry County, AL    ┆ 73.9     │\n",
       "│ …          ┆ …          ┆ …                   ┆ …        │\n",
       "│ 56         ┆ Wyoming    ┆ Campbell County, WY ┆ 78.42    │\n",
       "│ 56         ┆ Wyoming    ┆ Fremont County, WY  ┆ 78.9     │\n",
       "│ 56         ┆ Wyoming    ┆ Washakie County, WY ┆ 80.6     │\n",
       "│ 56         ┆ Wyoming    ┆ Big Horn County, WY ┆ 81.13    │\n",
       "│ 56         ┆ Wyoming    ┆ Converse County, WY ┆ 82.0     │\n",
       "└────────────┴────────────┴─────────────────────┴──────────┘"
      ]
     },
     "execution_count": 75,
     "metadata": {},
     "output_type": "execute_result"
    }
   ],
   "source": [
    "df"
   ]
  },
  {
   "cell_type": "code",
   "execution_count": 79,
   "id": "1dbab86e-4078-4797-97c1-54d3278b33a7",
   "metadata": {},
   "outputs": [
    {
     "data": {
      "text/plain": [
       "3386"
      ]
     },
     "execution_count": 79,
     "metadata": {},
     "output_type": "execute_result"
    }
   ],
   "source": [
    "updated = df.map_rows(lambda row: (row[0], row[1], ''.join(row[2].split(',')[0:-1]), row[3]) ).rename({\n",
    "    'column_0': 'STATE_FIPS',\n",
    "    'column_1': 'STATE_NAME',\n",
    "    'column_2': 'COUNTY_NAME',\n",
    "    'column_3': 'LIFE_EXP',\n",
    "}) \n",
    "len(updated)"
   ]
  },
  {
   "cell_type": "code",
   "execution_count": 90,
   "id": "e0b6872b-a582-4b03-ad8f-d935cc5341fe",
   "metadata": {},
   "outputs": [],
   "source": [
    "county_result = client.query(\"SELECT STATE_FIPS, COUNTY_NAME, COUNTY_FIPS FROM cps_00004.county_fips ORDER BY STATE_FIPS, COUNTY_NAME\")\n",
    "county_df = pl.from_dicts(county_result.named_results(), infer_schema_length=400)"
   ]
  },
  {
   "cell_type": "code",
   "execution_count": 114,
   "id": "8c1a922f-d4ad-471c-8c89-18b51897f614",
   "metadata": {},
   "outputs": [],
   "source": [
    "le_with_fips = updated\\\n",
    ".join(county_df, on=['STATE_FIPS', 'COUNTY_NAME'], how='inner')\\\n",
    ".sort(['STATE_NAME', 'COUNTY_NAME'])\\\n",
    ".map_rows(lambda row: (row[0], row[1], row[2], row[3], row[4], int(f'{row[0]}{row[4]:03d}')  ) )\\\n",
    ".rename({\n",
    "    'column_0': 'STATE_FIPS',\n",
    "    'column_1': 'STATE_NAME',\n",
    "    'column_2': 'COUNTY_NAME',\n",
    "    'column_3': 'LIFE_EXP',\n",
    "    'column_4': 'COUNTY_FIPS',\n",
    "    'column_5': 'STATE_COUNTY_FIPS'\n",
    "})"
   ]
  },
  {
   "cell_type": "code",
   "execution_count": 115,
   "id": "f8912051-6742-4f80-9af6-7a6aa202f826",
   "metadata": {},
   "outputs": [],
   "source": [
    "rucc_result = client.query(\"\"\" SELECT * FROM cps_00004.rural_urban_codes \"\"\")\n",
    "rucc_df = pl.from_dicts(rucc_result.named_results(), infer_schema_length=400).rename({'FIPS': 'STATE_COUNTY_FIPS'})"
   ]
  },
  {
   "cell_type": "code",
   "execution_count": 116,
   "id": "6c2a15b7-ca70-40c8-a602-cc5f5707d3e4",
   "metadata": {},
   "outputs": [
    {
     "data": {
      "text/html": [
       "<div><style>\n",
       ".dataframe > thead > tr,\n",
       ".dataframe > tbody > tr {\n",
       "  text-align: right;\n",
       "  white-space: pre-wrap;\n",
       "}\n",
       "</style>\n",
       "<small>shape: (3_235, 6)</small><table border=\"1\" class=\"dataframe\"><thead><tr><th>STATE_COUNTY_FIPS</th><th>STATE_ABBREV</th><th>COUNTY_NAME</th><th>POP</th><th>RUCC</th><th>DESCR</th></tr><tr><td>i64</td><td>str</td><td>str</td><td>i64</td><td>i64</td><td>str</td></tr></thead><tbody><tr><td>1001</td><td>&quot;AL&quot;</td><td>&quot;Autauga County…</td><td>58805</td><td>2</td><td>&quot;Metro - Counti…</td></tr><tr><td>1003</td><td>&quot;AL&quot;</td><td>&quot;Baldwin County…</td><td>231767</td><td>3</td><td>&quot;Metro - Counti…</td></tr><tr><td>1005</td><td>&quot;AL&quot;</td><td>&quot;Barbour County…</td><td>25223</td><td>6</td><td>&quot;Nonmetro - Urb…</td></tr><tr><td>1007</td><td>&quot;AL&quot;</td><td>&quot;Bibb County&quot;</td><td>22293</td><td>1</td><td>&quot;Metro - Counti…</td></tr><tr><td>1009</td><td>&quot;AL&quot;</td><td>&quot;Blount County&quot;</td><td>59134</td><td>1</td><td>&quot;Metro - Counti…</td></tr><tr><td>1011</td><td>&quot;AL&quot;</td><td>&quot;Bullock County…</td><td>10357</td><td>8</td><td>&quot;Nonmetro - Urb…</td></tr><tr><td>1013</td><td>&quot;AL&quot;</td><td>&quot;Butler County&quot;</td><td>19051</td><td>6</td><td>&quot;Nonmetro - Urb…</td></tr><tr><td>1015</td><td>&quot;AL&quot;</td><td>&quot;Calhoun County…</td><td>116441</td><td>3</td><td>&quot;Metro - Counti…</td></tr><tr><td>1017</td><td>&quot;AL&quot;</td><td>&quot;Chambers Count…</td><td>34772</td><td>6</td><td>&quot;Nonmetro - Urb…</td></tr><tr><td>1019</td><td>&quot;AL&quot;</td><td>&quot;Cherokee Count…</td><td>24971</td><td>8</td><td>&quot;Nonmetro - Urb…</td></tr><tr><td>1021</td><td>&quot;AL&quot;</td><td>&quot;Chilton County…</td><td>45014</td><td>1</td><td>&quot;Metro - Counti…</td></tr><tr><td>1023</td><td>&quot;AL&quot;</td><td>&quot;Choctaw County…</td><td>12665</td><td>9</td><td>&quot;Nonmetro - Urb…</td></tr><tr><td>&hellip;</td><td>&hellip;</td><td>&hellip;</td><td>&hellip;</td><td>&hellip;</td><td>&hellip;</td></tr><tr><td>72137</td><td>&quot;PR&quot;</td><td>&quot;Toa Baja Munic…</td><td>75293</td><td>1</td><td>&quot;Metro - Counti…</td></tr><tr><td>72139</td><td>&quot;PR&quot;</td><td>&quot;Trujillo Alto …</td><td>67740</td><td>1</td><td>&quot;Metro - Counti…</td></tr><tr><td>72141</td><td>&quot;PR&quot;</td><td>&quot;Utuado Municip…</td><td>28287</td><td>6</td><td>&quot;Nonmetro - Urb…</td></tr><tr><td>72143</td><td>&quot;PR&quot;</td><td>&quot;Vega Alta Muni…</td><td>35395</td><td>1</td><td>&quot;Metro - Counti…</td></tr><tr><td>72145</td><td>&quot;PR&quot;</td><td>&quot;Vega Baja Muni…</td><td>54414</td><td>1</td><td>&quot;Metro - Counti…</td></tr><tr><td>72147</td><td>&quot;PR&quot;</td><td>&quot;Vieques Munici…</td><td>8249</td><td>6</td><td>&quot;Nonmetro - Urb…</td></tr><tr><td>72149</td><td>&quot;PR&quot;</td><td>&quot;Villalba Munic…</td><td>22093</td><td>2</td><td>&quot;Metro - Counti…</td></tr><tr><td>72151</td><td>&quot;PR&quot;</td><td>&quot;Yabucoa Munici…</td><td>30426</td><td>1</td><td>&quot;Metro - Counti…</td></tr><tr><td>72153</td><td>&quot;PR&quot;</td><td>&quot;Yauco Municipi…</td><td>34172</td><td>2</td><td>&quot;Metro - Counti…</td></tr><tr><td>78010</td><td>&quot;VI&quot;</td><td>&quot;St. Croix Isla…</td><td>41004</td><td>5</td><td>&quot;Nonmetro - Urb…</td></tr><tr><td>78020</td><td>&quot;VI&quot;</td><td>&quot;St. John Islan…</td><td>3881</td><td>9</td><td>&quot;Nonmetro - Urb…</td></tr><tr><td>78030</td><td>&quot;VI&quot;</td><td>&quot;St. Thomas Isl…</td><td>42261</td><td>5</td><td>&quot;Nonmetro - Urb…</td></tr></tbody></table></div>"
      ],
      "text/plain": [
       "shape: (3_235, 6)\n",
       "┌───────────────────┬──────────────┬───────────────────┬────────┬──────┬───────────────────────────┐\n",
       "│ STATE_COUNTY_FIPS ┆ STATE_ABBREV ┆ COUNTY_NAME       ┆ POP    ┆ RUCC ┆ DESCR                     │\n",
       "│ ---               ┆ ---          ┆ ---               ┆ ---    ┆ ---  ┆ ---                       │\n",
       "│ i64               ┆ str          ┆ str               ┆ i64    ┆ i64  ┆ str                       │\n",
       "╞═══════════════════╪══════════════╪═══════════════════╪════════╪══════╪═══════════════════════════╡\n",
       "│ 1001              ┆ AL           ┆ Autauga County    ┆ 58805  ┆ 2    ┆ Metro - Counties in metro │\n",
       "│                   ┆              ┆                   ┆        ┆      ┆ areas …                   │\n",
       "│ 1003              ┆ AL           ┆ Baldwin County    ┆ 231767 ┆ 3    ┆ Metro - Counties in metro │\n",
       "│                   ┆              ┆                   ┆        ┆      ┆ areas …                   │\n",
       "│ 1005              ┆ AL           ┆ Barbour County    ┆ 25223  ┆ 6    ┆ Nonmetro - Urban          │\n",
       "│                   ┆              ┆                   ┆        ┆      ┆ population of 5…          │\n",
       "│ 1007              ┆ AL           ┆ Bibb County       ┆ 22293  ┆ 1    ┆ Metro - Counties in metro │\n",
       "│                   ┆              ┆                   ┆        ┆      ┆ areas …                   │\n",
       "│ 1009              ┆ AL           ┆ Blount County     ┆ 59134  ┆ 1    ┆ Metro - Counties in metro │\n",
       "│                   ┆              ┆                   ┆        ┆      ┆ areas …                   │\n",
       "│ …                 ┆ …            ┆ …                 ┆ …      ┆ …    ┆ …                         │\n",
       "│ 72151             ┆ PR           ┆ Yabucoa Municipio ┆ 30426  ┆ 1    ┆ Metro - Counties in metro │\n",
       "│                   ┆              ┆                   ┆        ┆      ┆ areas …                   │\n",
       "│ 72153             ┆ PR           ┆ Yauco Municipio   ┆ 34172  ┆ 2    ┆ Metro - Counties in metro │\n",
       "│                   ┆              ┆                   ┆        ┆      ┆ areas …                   │\n",
       "│ 78010             ┆ VI           ┆ St. Croix Island  ┆ 41004  ┆ 5    ┆ Nonmetro - Urban          │\n",
       "│                   ┆              ┆                   ┆        ┆      ┆ population of 2…          │\n",
       "│ 78020             ┆ VI           ┆ St. John Island   ┆ 3881   ┆ 9    ┆ Nonmetro - Urban          │\n",
       "│                   ┆              ┆                   ┆        ┆      ┆ population of f…          │\n",
       "│ 78030             ┆ VI           ┆ St. Thomas Island ┆ 42261  ┆ 5    ┆ Nonmetro - Urban          │\n",
       "│                   ┆              ┆                   ┆        ┆      ┆ population of 2…          │\n",
       "└───────────────────┴──────────────┴───────────────────┴────────┴──────┴───────────────────────────┘"
      ]
     },
     "execution_count": 116,
     "metadata": {},
     "output_type": "execute_result"
    }
   ],
   "source": [
    "rucc_df"
   ]
  },
  {
   "cell_type": "code",
   "execution_count": 119,
   "id": "966b223e-8cf2-4278-8ca3-01b2eb1622b6",
   "metadata": {},
   "outputs": [],
   "source": [
    "rucc_le_fips = le_with_fips.join(rucc_df, on='STATE_COUNTY_FIPS')\\\n",
    ".select('STATE_FIPS', 'STATE_NAME', 'COUNTY_NAME', 'LIFE_EXP', 'STATE_COUNTY_FIPS', 'POP', 'RUCC', 'DESCR')"
   ]
  },
  {
   "cell_type": "code",
   "execution_count": 127,
   "id": "259c43b9-de50-447f-b244-8dc7b8fbf236",
   "metadata": {},
   "outputs": [],
   "source": [
    "places_result = client.query(\"\"\"SELECT COUNTY_FIPS, MEASURE, DATA_VALUE FROM cps_00004.places_county\"\"\")\n",
    "places_df = pl.from_dicts(places_result.named_results(), infer_schema_length=400).rename({'COUNTY_FIPS': 'STATE_COUNTY_FIPS'})"
   ]
  },
  {
   "cell_type": "code",
   "execution_count": 128,
   "id": "fef3ad1a-0504-492e-a035-bb64d1a59d49",
   "metadata": {},
   "outputs": [
    {
     "data": {
      "text/html": [
       "<div><style>\n",
       ".dataframe > thead > tr,\n",
       ".dataframe > tbody > tr {\n",
       "  text-align: right;\n",
       "  white-space: pre-wrap;\n",
       "}\n",
       "</style>\n",
       "<small>shape: (228_770, 3)</small><table border=\"1\" class=\"dataframe\"><thead><tr><th>STATE_COUNTY_FIPS</th><th>MEASURE</th><th>DATA_VALUE</th></tr><tr><td>i64</td><td>str</td><td>decimal[*,1]</td></tr></thead><tbody><tr><td>13299</td><td>&quot;Stroke among a…</td><td>4.6</td></tr><tr><td>18115</td><td>&quot;Stroke among a…</td><td>3.8</td></tr><tr><td>18119</td><td>&quot;Stroke among a…</td><td>4</td></tr><tr><td>19095</td><td>&quot;Stroke among a…</td><td>3.3</td></tr><tr><td>19125</td><td>&quot;Stroke among a…</td><td>3</td></tr><tr><td>48117</td><td>&quot;Obesity among …</td><td>42</td></tr><tr><td>48175</td><td>&quot;Chronic obstru…</td><td>8.5</td></tr><tr><td>1047</td><td>&quot;Obesity among …</td><td>44.3</td></tr><tr><td>2195</td><td>&quot;Obesity among …</td><td>31</td></tr><tr><td>2275</td><td>&quot;Stroke among a…</td><td>4.4</td></tr><tr><td>6009</td><td>&quot;Current asthma…</td><td>10.3</td></tr><tr><td>1057</td><td>&quot;Coronary heart…</td><td>6.9</td></tr><tr><td>&hellip;</td><td>&hellip;</td><td>&hellip;</td></tr><tr><td>24023</td><td>&quot;Chronic kidney…</td><td>2.7</td></tr><tr><td>22009</td><td>&quot;Older adult me…</td><td>34.3</td></tr><tr><td>22115</td><td>&quot;Diagnosed diab…</td><td>11.8</td></tr><tr><td>22095</td><td>&quot;Arthritis amon…</td><td>29.2</td></tr><tr><td>21205</td><td>&quot;Stroke among a…</td><td>3.2</td></tr><tr><td>23029</td><td>&quot;Any disability…</td><td>33.2</td></tr><tr><td>21173</td><td>&quot;Self-care disa…</td><td>4.3</td></tr><tr><td>24021</td><td>&quot;Visits to doct…</td><td>72.5</td></tr><tr><td>26059</td><td>&quot;Taking medicin…</td><td>60.8</td></tr><tr><td>26025</td><td>&quot;Mammography us…</td><td>73</td></tr><tr><td>21093</td><td>&quot;Binge drinking…</td><td>14.3</td></tr><tr><td>22031</td><td>&quot;Mobility disab…</td><td>18.7</td></tr></tbody></table></div>"
      ],
      "text/plain": [
       "shape: (228_770, 3)\n",
       "┌───────────────────┬───────────────────────────────────┬──────────────┐\n",
       "│ STATE_COUNTY_FIPS ┆ MEASURE                           ┆ DATA_VALUE   │\n",
       "│ ---               ┆ ---                               ┆ ---          │\n",
       "│ i64               ┆ str                               ┆ decimal[*,1] │\n",
       "╞═══════════════════╪═══════════════════════════════════╪══════════════╡\n",
       "│ 13299             ┆ Stroke among adults aged >=18 ye… ┆ 4.6          │\n",
       "│ 18115             ┆ Stroke among adults aged >=18 ye… ┆ 3.8          │\n",
       "│ 18119             ┆ Stroke among adults aged >=18 ye… ┆ 4            │\n",
       "│ 19095             ┆ Stroke among adults aged >=18 ye… ┆ 3.3          │\n",
       "│ 19125             ┆ Stroke among adults aged >=18 ye… ┆ 3            │\n",
       "│ …                 ┆ …                                 ┆ …            │\n",
       "│ 24021             ┆ Visits to doctor for routine che… ┆ 72.5         │\n",
       "│ 26059             ┆ Taking medicine for high blood p… ┆ 60.8         │\n",
       "│ 26025             ┆ Mammography use among women aged… ┆ 73           │\n",
       "│ 21093             ┆ Binge drinking among adults aged… ┆ 14.3         │\n",
       "│ 22031             ┆ Mobility disability among adults… ┆ 18.7         │\n",
       "└───────────────────┴───────────────────────────────────┴──────────────┘"
      ]
     },
     "execution_count": 128,
     "metadata": {},
     "output_type": "execute_result"
    }
   ],
   "source": [
    "places_df"
   ]
  },
  {
   "cell_type": "code",
   "execution_count": 131,
   "id": "18c2faf5-893c-4641-a930-a0df1696dbf4",
   "metadata": {},
   "outputs": [],
   "source": [
    "triple_df = rucc_le_fips.join(places_df, on='STATE_COUNTY_FIPS', how='inner').sort(['STATE_NAME', 'COUNTY_NAME'])"
   ]
  },
  {
   "cell_type": "code",
   "execution_count": 132,
   "id": "3fa4a676-d98f-41db-8a90-b0fde371cdc4",
   "metadata": {},
   "outputs": [
    {
     "data": {
      "text/html": [
       "<div><style>\n",
       ".dataframe > thead > tr,\n",
       ".dataframe > tbody > tr {\n",
       "  text-align: right;\n",
       "  white-space: pre-wrap;\n",
       "}\n",
       "</style>\n",
       "<small>shape: (226_312, 10)</small><table border=\"1\" class=\"dataframe\"><thead><tr><th>STATE_FIPS</th><th>STATE_NAME</th><th>COUNTY_NAME</th><th>LIFE_EXP</th><th>STATE_COUNTY_FIPS</th><th>POP</th><th>RUCC</th><th>DESCR</th><th>MEASURE</th><th>DATA_VALUE</th></tr><tr><td>i64</td><td>str</td><td>str</td><td>f64</td><td>i64</td><td>i64</td><td>i64</td><td>str</td><td>str</td><td>decimal[*,1]</td></tr></thead><tbody><tr><td>1</td><td>&quot;Alabama&quot;</td><td>&quot;Autauga County…</td><td>75.32</td><td>1001</td><td>58805</td><td>2</td><td>&quot;Metro - Counti…</td><td>&quot;Self-care disa…</td><td>4</td></tr><tr><td>1</td><td>&quot;Alabama&quot;</td><td>&quot;Autauga County…</td><td>75.32</td><td>1001</td><td>58805</td><td>2</td><td>&quot;Metro - Counti…</td><td>&quot;Chronic obstru…</td><td>6.8</td></tr><tr><td>1</td><td>&quot;Alabama&quot;</td><td>&quot;Autauga County…</td><td>75.32</td><td>1001</td><td>58805</td><td>2</td><td>&quot;Metro - Counti…</td><td>&quot;Cervical cance…</td><td>84.1</td></tr><tr><td>1</td><td>&quot;Alabama&quot;</td><td>&quot;Autauga County…</td><td>75.32</td><td>1001</td><td>58805</td><td>2</td><td>&quot;Metro - Counti…</td><td>&quot;Any disability…</td><td>30.2</td></tr><tr><td>1</td><td>&quot;Alabama&quot;</td><td>&quot;Autauga County…</td><td>75.32</td><td>1001</td><td>58805</td><td>2</td><td>&quot;Metro - Counti…</td><td>&quot;High cholester…</td><td>36.9</td></tr><tr><td>1</td><td>&quot;Alabama&quot;</td><td>&quot;Autauga County…</td><td>75.32</td><td>1001</td><td>58805</td><td>2</td><td>&quot;Metro - Counti…</td><td>&quot;Stroke among a…</td><td>3.4</td></tr><tr><td>1</td><td>&quot;Alabama&quot;</td><td>&quot;Autauga County…</td><td>75.32</td><td>1001</td><td>58805</td><td>2</td><td>&quot;Metro - Counti…</td><td>&quot;Depression amo…</td><td>22.2</td></tr><tr><td>1</td><td>&quot;Alabama&quot;</td><td>&quot;Autauga County…</td><td>75.32</td><td>1001</td><td>58805</td><td>2</td><td>&quot;Metro - Counti…</td><td>&quot;Chronic kidney…</td><td>2.9</td></tr><tr><td>1</td><td>&quot;Alabama&quot;</td><td>&quot;Autauga County…</td><td>75.32</td><td>1001</td><td>58805</td><td>2</td><td>&quot;Metro - Counti…</td><td>&quot;Visits to doct…</td><td>76</td></tr><tr><td>1</td><td>&quot;Alabama&quot;</td><td>&quot;Autauga County…</td><td>75.32</td><td>1001</td><td>58805</td><td>2</td><td>&quot;Metro - Counti…</td><td>&quot;Binge drinking…</td><td>14.4</td></tr><tr><td>1</td><td>&quot;Alabama&quot;</td><td>&quot;Autauga County…</td><td>75.32</td><td>1001</td><td>58805</td><td>2</td><td>&quot;Metro - Counti…</td><td>&quot;Current smokin…</td><td>16.8</td></tr><tr><td>1</td><td>&quot;Alabama&quot;</td><td>&quot;Autauga County…</td><td>75.32</td><td>1001</td><td>58805</td><td>2</td><td>&quot;Metro - Counti…</td><td>&quot;High cholester…</td><td>32.1</td></tr><tr><td>&hellip;</td><td>&hellip;</td><td>&hellip;</td><td>&hellip;</td><td>&hellip;</td><td>&hellip;</td><td>&hellip;</td><td>&hellip;</td><td>&hellip;</td><td>&hellip;</td></tr><tr><td>56</td><td>&quot;Wyoming&quot;</td><td>&quot;Weston County&quot;</td><td>78.8</td><td>56045</td><td>6838</td><td>9</td><td>&quot;Nonmetro - Urb…</td><td>&quot;Mental health …</td><td>14.3</td></tr><tr><td>56</td><td>&quot;Wyoming&quot;</td><td>&quot;Weston County&quot;</td><td>78.8</td><td>56045</td><td>6838</td><td>9</td><td>&quot;Nonmetro - Urb…</td><td>&quot;Arthritis amon…</td><td>28.4</td></tr><tr><td>56</td><td>&quot;Wyoming&quot;</td><td>&quot;Weston County&quot;</td><td>78.8</td><td>56045</td><td>6838</td><td>9</td><td>&quot;Nonmetro - Urb…</td><td>&quot;Binge drinking…</td><td>18.2</td></tr><tr><td>56</td><td>&quot;Wyoming&quot;</td><td>&quot;Weston County&quot;</td><td>78.8</td><td>56045</td><td>6838</td><td>9</td><td>&quot;Nonmetro - Urb…</td><td>&quot;Sleeping less …</td><td>33.6</td></tr><tr><td>56</td><td>&quot;Wyoming&quot;</td><td>&quot;Weston County&quot;</td><td>78.8</td><td>56045</td><td>6838</td><td>9</td><td>&quot;Nonmetro - Urb…</td><td>&quot;Depression amo…</td><td>20.7</td></tr><tr><td>56</td><td>&quot;Wyoming&quot;</td><td>&quot;Weston County&quot;</td><td>78.8</td><td>56045</td><td>6838</td><td>9</td><td>&quot;Nonmetro - Urb…</td><td>&quot;Visits to dent…</td><td>63.7</td></tr><tr><td>56</td><td>&quot;Wyoming&quot;</td><td>&quot;Weston County&quot;</td><td>78.8</td><td>56045</td><td>6838</td><td>9</td><td>&quot;Nonmetro - Urb…</td><td>&quot;Fecal occult b…</td><td>60.9</td></tr><tr><td>56</td><td>&quot;Wyoming&quot;</td><td>&quot;Weston County&quot;</td><td>78.8</td><td>56045</td><td>6838</td><td>9</td><td>&quot;Nonmetro - Urb…</td><td>&quot;Taking medicin…</td><td>56.1</td></tr><tr><td>56</td><td>&quot;Wyoming&quot;</td><td>&quot;Weston County&quot;</td><td>78.8</td><td>56045</td><td>6838</td><td>9</td><td>&quot;Nonmetro - Urb…</td><td>&quot;Independent li…</td><td>7.2</td></tr><tr><td>56</td><td>&quot;Wyoming&quot;</td><td>&quot;Weston County&quot;</td><td>78.8</td><td>56045</td><td>6838</td><td>9</td><td>&quot;Nonmetro - Urb…</td><td>&quot;Stroke among a…</td><td>2.8</td></tr><tr><td>56</td><td>&quot;Wyoming&quot;</td><td>&quot;Weston County&quot;</td><td>78.8</td><td>56045</td><td>6838</td><td>9</td><td>&quot;Nonmetro - Urb…</td><td>&quot;Older adult me…</td><td>36.9</td></tr><tr><td>56</td><td>&quot;Wyoming&quot;</td><td>&quot;Weston County&quot;</td><td>78.8</td><td>56045</td><td>6838</td><td>9</td><td>&quot;Nonmetro - Urb…</td><td>&quot;Hearing disabi…</td><td>7.7</td></tr></tbody></table></div>"
      ],
      "text/plain": [
       "shape: (226_312, 10)\n",
       "┌────────────┬────────────┬────────────┬──────────┬───┬──────┬────────────┬────────────┬───────────┐\n",
       "│ STATE_FIPS ┆ STATE_NAME ┆ COUNTY_NAM ┆ LIFE_EXP ┆ … ┆ RUCC ┆ DESCR      ┆ MEASURE    ┆ DATA_VALU │\n",
       "│ ---        ┆ ---        ┆ E          ┆ ---      ┆   ┆ ---  ┆ ---        ┆ ---        ┆ E         │\n",
       "│ i64        ┆ str        ┆ ---        ┆ f64      ┆   ┆ i64  ┆ str        ┆ str        ┆ ---       │\n",
       "│            ┆            ┆ str        ┆          ┆   ┆      ┆            ┆            ┆ decimal[* │\n",
       "│            ┆            ┆            ┆          ┆   ┆      ┆            ┆            ┆ ,1]       │\n",
       "╞════════════╪════════════╪════════════╪══════════╪═══╪══════╪════════════╪════════════╪═══════════╡\n",
       "│ 1          ┆ Alabama    ┆ Autauga    ┆ 75.32    ┆ … ┆ 2    ┆ Metro -    ┆ Self-care  ┆ 4         │\n",
       "│            ┆            ┆ County     ┆          ┆   ┆      ┆ Counties   ┆ disability ┆           │\n",
       "│            ┆            ┆            ┆          ┆   ┆      ┆ in metro   ┆ among      ┆           │\n",
       "│            ┆            ┆            ┆          ┆   ┆      ┆ areas …    ┆ adult…     ┆           │\n",
       "│ 1          ┆ Alabama    ┆ Autauga    ┆ 75.32    ┆ … ┆ 2    ┆ Metro -    ┆ Chronic    ┆ 6.8       │\n",
       "│            ┆            ┆ County     ┆          ┆   ┆      ┆ Counties   ┆ obstructiv ┆           │\n",
       "│            ┆            ┆            ┆          ┆   ┆      ┆ in metro   ┆ e          ┆           │\n",
       "│            ┆            ┆            ┆          ┆   ┆      ┆ areas …    ┆ pulmonary  ┆           │\n",
       "│            ┆            ┆            ┆          ┆   ┆      ┆            ┆ di…        ┆           │\n",
       "│ 1          ┆ Alabama    ┆ Autauga    ┆ 75.32    ┆ … ┆ 2    ┆ Metro -    ┆ Cervical   ┆ 84.1      │\n",
       "│            ┆            ┆ County     ┆          ┆   ┆      ┆ Counties   ┆ cancer     ┆           │\n",
       "│            ┆            ┆            ┆          ┆   ┆      ┆ in metro   ┆ screening  ┆           │\n",
       "│            ┆            ┆            ┆          ┆   ┆      ┆ areas …    ┆ among …    ┆           │\n",
       "│ 1          ┆ Alabama    ┆ Autauga    ┆ 75.32    ┆ … ┆ 2    ┆ Metro -    ┆ Any        ┆ 30.2      │\n",
       "│            ┆            ┆ County     ┆          ┆   ┆      ┆ Counties   ┆ disability ┆           │\n",
       "│            ┆            ┆            ┆          ┆   ┆      ┆ in metro   ┆ among      ┆           │\n",
       "│            ┆            ┆            ┆          ┆   ┆      ┆ areas …    ┆ adults     ┆           │\n",
       "│            ┆            ┆            ┆          ┆   ┆      ┆            ┆ aged…      ┆           │\n",
       "│ 1          ┆ Alabama    ┆ Autauga    ┆ 75.32    ┆ … ┆ 2    ┆ Metro -    ┆ High chole ┆ 36.9      │\n",
       "│            ┆            ┆ County     ┆          ┆   ┆      ┆ Counties   ┆ sterol     ┆           │\n",
       "│            ┆            ┆            ┆          ┆   ┆      ┆ in metro   ┆ among      ┆           │\n",
       "│            ┆            ┆            ┆          ┆   ┆      ┆ areas …    ┆ adults ag… ┆           │\n",
       "│ …          ┆ …          ┆ …          ┆ …        ┆ … ┆ …    ┆ …          ┆ …          ┆ …         │\n",
       "│ 56         ┆ Wyoming    ┆ Weston     ┆ 78.8     ┆ … ┆ 9    ┆ Nonmetro - ┆ Taking     ┆ 56.1      │\n",
       "│            ┆            ┆ County     ┆          ┆   ┆      ┆ Urban      ┆ medicine   ┆           │\n",
       "│            ┆            ┆            ┆          ┆   ┆      ┆ population ┆ for high   ┆           │\n",
       "│            ┆            ┆            ┆          ┆   ┆      ┆ of f…      ┆ blood p…   ┆           │\n",
       "│ 56         ┆ Wyoming    ┆ Weston     ┆ 78.8     ┆ … ┆ 9    ┆ Nonmetro - ┆ Independen ┆ 7.2       │\n",
       "│            ┆            ┆ County     ┆          ┆   ┆      ┆ Urban      ┆ t living   ┆           │\n",
       "│            ┆            ┆            ┆          ┆   ┆      ┆ population ┆ disability ┆           │\n",
       "│            ┆            ┆            ┆          ┆   ┆      ┆ of f…      ┆ am…        ┆           │\n",
       "│ 56         ┆ Wyoming    ┆ Weston     ┆ 78.8     ┆ … ┆ 9    ┆ Nonmetro - ┆ Stroke     ┆ 2.8       │\n",
       "│            ┆            ┆ County     ┆          ┆   ┆      ┆ Urban      ┆ among      ┆           │\n",
       "│            ┆            ┆            ┆          ┆   ┆      ┆ population ┆ adults     ┆           │\n",
       "│            ┆            ┆            ┆          ┆   ┆      ┆ of f…      ┆ aged >=18  ┆           │\n",
       "│            ┆            ┆            ┆          ┆   ┆      ┆            ┆ ye…        ┆           │\n",
       "│ 56         ┆ Wyoming    ┆ Weston     ┆ 78.8     ┆ … ┆ 9    ┆ Nonmetro - ┆ Older      ┆ 36.9      │\n",
       "│            ┆            ┆ County     ┆          ┆   ┆      ┆ Urban      ┆ adult men  ┆           │\n",
       "│            ┆            ┆            ┆          ┆   ┆      ┆ population ┆ aged >=65  ┆           │\n",
       "│            ┆            ┆            ┆          ┆   ┆      ┆ of f…      ┆ years …    ┆           │\n",
       "│ 56         ┆ Wyoming    ┆ Weston     ┆ 78.8     ┆ … ┆ 9    ┆ Nonmetro - ┆ Hearing    ┆ 7.7       │\n",
       "│            ┆            ┆ County     ┆          ┆   ┆      ┆ Urban      ┆ disability ┆           │\n",
       "│            ┆            ┆            ┆          ┆   ┆      ┆ population ┆ among      ┆           │\n",
       "│            ┆            ┆            ┆          ┆   ┆      ┆ of f…      ┆ adults …   ┆           │\n",
       "└────────────┴────────────┴────────────┴──────────┴───┴──────┴────────────┴────────────┴───────────┘"
      ]
     },
     "execution_count": 132,
     "metadata": {},
     "output_type": "execute_result"
    }
   ],
   "source": [
    "triple_df"
   ]
  },
  {
   "cell_type": "code",
   "execution_count": 151,
   "id": "fcaa0f05-519a-481a-8a07-28ed6fe8a4fd",
   "metadata": {},
   "outputs": [
    {
     "name": "stdout",
     "output_type": "stream",
     "text": [
      "[Int64, String, String, Float64, Int64, Int64, Int64, String, String, Decimal(precision=None, scale=1)]\n"
     ]
    },
    {
     "data": {
      "text/html": [
       "<div>\n",
       "<style scoped>\n",
       "    .dataframe tbody tr th:only-of-type {\n",
       "        vertical-align: middle;\n",
       "    }\n",
       "\n",
       "    .dataframe tbody tr th {\n",
       "        vertical-align: top;\n",
       "    }\n",
       "\n",
       "    .dataframe thead th {\n",
       "        text-align: right;\n",
       "    }\n",
       "</style>\n",
       "<table border=\"1\" class=\"dataframe\">\n",
       "  <thead>\n",
       "    <tr style=\"text-align: right;\">\n",
       "      <th></th>\n",
       "      <th>STATE_FIPS</th>\n",
       "      <th>STATE_NAME</th>\n",
       "      <th>COUNTY_NAME</th>\n",
       "      <th>LIFE_EXP</th>\n",
       "      <th>STATE_COUNTY_FIPS</th>\n",
       "      <th>POP</th>\n",
       "      <th>RUCC</th>\n",
       "      <th>DESCR</th>\n",
       "      <th>MEASURE</th>\n",
       "      <th>DATA_VALUE</th>\n",
       "    </tr>\n",
       "  </thead>\n",
       "  <tbody>\n",
       "    <tr>\n",
       "      <th>0</th>\n",
       "      <td>1</td>\n",
       "      <td>Alabama</td>\n",
       "      <td>Autauga County</td>\n",
       "      <td>75.32</td>\n",
       "      <td>1001</td>\n",
       "      <td>58805</td>\n",
       "      <td>2</td>\n",
       "      <td>Metro - Counties in metro areas of 250,000 to ...</td>\n",
       "      <td>Self-care disability among adults aged &gt;=18 years</td>\n",
       "      <td>4.0</td>\n",
       "    </tr>\n",
       "    <tr>\n",
       "      <th>1</th>\n",
       "      <td>1</td>\n",
       "      <td>Alabama</td>\n",
       "      <td>Autauga County</td>\n",
       "      <td>75.32</td>\n",
       "      <td>1001</td>\n",
       "      <td>58805</td>\n",
       "      <td>2</td>\n",
       "      <td>Metro - Counties in metro areas of 250,000 to ...</td>\n",
       "      <td>Chronic obstructive pulmonary disease among ad...</td>\n",
       "      <td>6.8</td>\n",
       "    </tr>\n",
       "    <tr>\n",
       "      <th>2</th>\n",
       "      <td>1</td>\n",
       "      <td>Alabama</td>\n",
       "      <td>Autauga County</td>\n",
       "      <td>75.32</td>\n",
       "      <td>1001</td>\n",
       "      <td>58805</td>\n",
       "      <td>2</td>\n",
       "      <td>Metro - Counties in metro areas of 250,000 to ...</td>\n",
       "      <td>Cervical cancer screening among adult women ag...</td>\n",
       "      <td>84.1</td>\n",
       "    </tr>\n",
       "    <tr>\n",
       "      <th>3</th>\n",
       "      <td>1</td>\n",
       "      <td>Alabama</td>\n",
       "      <td>Autauga County</td>\n",
       "      <td>75.32</td>\n",
       "      <td>1001</td>\n",
       "      <td>58805</td>\n",
       "      <td>2</td>\n",
       "      <td>Metro - Counties in metro areas of 250,000 to ...</td>\n",
       "      <td>Any disability among adults aged &gt;=18 years</td>\n",
       "      <td>30.2</td>\n",
       "    </tr>\n",
       "    <tr>\n",
       "      <th>4</th>\n",
       "      <td>1</td>\n",
       "      <td>Alabama</td>\n",
       "      <td>Autauga County</td>\n",
       "      <td>75.32</td>\n",
       "      <td>1001</td>\n",
       "      <td>58805</td>\n",
       "      <td>2</td>\n",
       "      <td>Metro - Counties in metro areas of 250,000 to ...</td>\n",
       "      <td>High cholesterol among adults aged &gt;=18 years ...</td>\n",
       "      <td>36.9</td>\n",
       "    </tr>\n",
       "    <tr>\n",
       "      <th>...</th>\n",
       "      <td>...</td>\n",
       "      <td>...</td>\n",
       "      <td>...</td>\n",
       "      <td>...</td>\n",
       "      <td>...</td>\n",
       "      <td>...</td>\n",
       "      <td>...</td>\n",
       "      <td>...</td>\n",
       "      <td>...</td>\n",
       "      <td>...</td>\n",
       "    </tr>\n",
       "    <tr>\n",
       "      <th>226307</th>\n",
       "      <td>56</td>\n",
       "      <td>Wyoming</td>\n",
       "      <td>Weston County</td>\n",
       "      <td>78.80</td>\n",
       "      <td>56045</td>\n",
       "      <td>6838</td>\n",
       "      <td>9</td>\n",
       "      <td>Nonmetro - Urban population of fewer than 5,00...</td>\n",
       "      <td>Taking medicine for high blood pressure contro...</td>\n",
       "      <td>56.1</td>\n",
       "    </tr>\n",
       "    <tr>\n",
       "      <th>226308</th>\n",
       "      <td>56</td>\n",
       "      <td>Wyoming</td>\n",
       "      <td>Weston County</td>\n",
       "      <td>78.80</td>\n",
       "      <td>56045</td>\n",
       "      <td>6838</td>\n",
       "      <td>9</td>\n",
       "      <td>Nonmetro - Urban population of fewer than 5,00...</td>\n",
       "      <td>Independent living disability among adults age...</td>\n",
       "      <td>7.2</td>\n",
       "    </tr>\n",
       "    <tr>\n",
       "      <th>226309</th>\n",
       "      <td>56</td>\n",
       "      <td>Wyoming</td>\n",
       "      <td>Weston County</td>\n",
       "      <td>78.80</td>\n",
       "      <td>56045</td>\n",
       "      <td>6838</td>\n",
       "      <td>9</td>\n",
       "      <td>Nonmetro - Urban population of fewer than 5,00...</td>\n",
       "      <td>Stroke among adults aged &gt;=18 years</td>\n",
       "      <td>2.8</td>\n",
       "    </tr>\n",
       "    <tr>\n",
       "      <th>226310</th>\n",
       "      <td>56</td>\n",
       "      <td>Wyoming</td>\n",
       "      <td>Weston County</td>\n",
       "      <td>78.80</td>\n",
       "      <td>56045</td>\n",
       "      <td>6838</td>\n",
       "      <td>9</td>\n",
       "      <td>Nonmetro - Urban population of fewer than 5,00...</td>\n",
       "      <td>Older adult men aged &gt;=65 years who are up to ...</td>\n",
       "      <td>36.9</td>\n",
       "    </tr>\n",
       "    <tr>\n",
       "      <th>226311</th>\n",
       "      <td>56</td>\n",
       "      <td>Wyoming</td>\n",
       "      <td>Weston County</td>\n",
       "      <td>78.80</td>\n",
       "      <td>56045</td>\n",
       "      <td>6838</td>\n",
       "      <td>9</td>\n",
       "      <td>Nonmetro - Urban population of fewer than 5,00...</td>\n",
       "      <td>Hearing disability among adults aged &gt;=18 years</td>\n",
       "      <td>7.7</td>\n",
       "    </tr>\n",
       "  </tbody>\n",
       "</table>\n",
       "<p>226312 rows × 10 columns</p>\n",
       "</div>"
      ],
      "text/plain": [
       "        STATE_FIPS STATE_NAME     COUNTY_NAME  LIFE_EXP  STATE_COUNTY_FIPS  \\\n",
       "0                1    Alabama  Autauga County     75.32               1001   \n",
       "1                1    Alabama  Autauga County     75.32               1001   \n",
       "2                1    Alabama  Autauga County     75.32               1001   \n",
       "3                1    Alabama  Autauga County     75.32               1001   \n",
       "4                1    Alabama  Autauga County     75.32               1001   \n",
       "...            ...        ...             ...       ...                ...   \n",
       "226307          56    Wyoming   Weston County     78.80              56045   \n",
       "226308          56    Wyoming   Weston County     78.80              56045   \n",
       "226309          56    Wyoming   Weston County     78.80              56045   \n",
       "226310          56    Wyoming   Weston County     78.80              56045   \n",
       "226311          56    Wyoming   Weston County     78.80              56045   \n",
       "\n",
       "          POP  RUCC                                              DESCR  \\\n",
       "0       58805     2  Metro - Counties in metro areas of 250,000 to ...   \n",
       "1       58805     2  Metro - Counties in metro areas of 250,000 to ...   \n",
       "2       58805     2  Metro - Counties in metro areas of 250,000 to ...   \n",
       "3       58805     2  Metro - Counties in metro areas of 250,000 to ...   \n",
       "4       58805     2  Metro - Counties in metro areas of 250,000 to ...   \n",
       "...       ...   ...                                                ...   \n",
       "226307   6838     9  Nonmetro - Urban population of fewer than 5,00...   \n",
       "226308   6838     9  Nonmetro - Urban population of fewer than 5,00...   \n",
       "226309   6838     9  Nonmetro - Urban population of fewer than 5,00...   \n",
       "226310   6838     9  Nonmetro - Urban population of fewer than 5,00...   \n",
       "226311   6838     9  Nonmetro - Urban population of fewer than 5,00...   \n",
       "\n",
       "                                                  MEASURE  DATA_VALUE  \n",
       "0       Self-care disability among adults aged >=18 years         4.0  \n",
       "1       Chronic obstructive pulmonary disease among ad...         6.8  \n",
       "2       Cervical cancer screening among adult women ag...        84.1  \n",
       "3             Any disability among adults aged >=18 years        30.2  \n",
       "4       High cholesterol among adults aged >=18 years ...        36.9  \n",
       "...                                                   ...         ...  \n",
       "226307  Taking medicine for high blood pressure contro...        56.1  \n",
       "226308  Independent living disability among adults age...         7.2  \n",
       "226309                Stroke among adults aged >=18 years         2.8  \n",
       "226310  Older adult men aged >=65 years who are up to ...        36.9  \n",
       "226311    Hearing disability among adults aged >=18 years         7.7  \n",
       "\n",
       "[226312 rows x 10 columns]"
      ]
     },
     "execution_count": 151,
     "metadata": {},
     "output_type": "execute_result"
    }
   ],
   "source": [
    "print(triple_df.dtypes)\n",
    "pandas_df = triple_df.to_pandas()\n",
    "pandas_df['DATA_VALUE'] = pandas_df['DATA_VALUE'].astype('Float64')\n",
    "pandas_df.to_csv('statecountyrucchealthmetrics.csv', index=False)\n",
    "pandas_df\n"
   ]
  },
  {
   "cell_type": "code",
   "execution_count": null,
   "id": "75f33a0b-8c27-4304-ab21-36af41d8766f",
   "metadata": {},
   "outputs": [],
   "source": []
  },
  {
   "cell_type": "code",
   "execution_count": null,
   "id": "a590574a-b026-471a-809b-01c4b4a0b4b8",
   "metadata": {},
   "outputs": [],
   "source": []
  }
 ],
 "metadata": {
  "kernelspec": {
   "display_name": "Python 3 (ipykernel)",
   "language": "python",
   "name": "python3"
  },
  "language_info": {
   "codemirror_mode": {
    "name": "ipython",
    "version": 3
   },
   "file_extension": ".py",
   "mimetype": "text/x-python",
   "name": "python",
   "nbconvert_exporter": "python",
   "pygments_lexer": "ipython3",
   "version": "3.10.12"
  }
 },
 "nbformat": 4,
 "nbformat_minor": 5
}
