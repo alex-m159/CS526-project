{
 "cells": [
  {
   "cell_type": "code",
   "execution_count": 1,
   "id": "1dc116f3-5585-4c60-97b3-f424a837e139",
   "metadata": {},
   "outputs": [],
   "source": [
    "import clickhouse_connect\n",
    "import polars as pl\n",
    "import matplotlib.pyplot as plt\n",
    "import numpy as np"
   ]
  },
  {
   "cell_type": "code",
   "execution_count": 2,
   "id": "8c76341d-43da-4d1f-9491-506a3288c54b",
   "metadata": {},
   "outputs": [],
   "source": [
    "client = clickhouse_connect.get_client(host='hub.publichealthhq.xyz', port=18123, username='default', password='Password123!')"
   ]
  },
  {
   "cell_type": "code",
   "execution_count": 3,
   "id": "a985f485-725e-407d-a2eb-8097cdcaea4d",
   "metadata": {},
   "outputs": [
    {
     "name": "stdout",
     "output_type": "stream",
     "text": [
      "{'ROWNUM': 40960, 'YEAR': 2021, 'STATE_ABBREV': 'IL', 'STATE_NAME': 'Illinois', 'COUNTY_NAME': 'Vermilion', 'DATASOURCE': 'BRFSS', 'CATEGORY': 'Health Outcomes', 'MEASURE': 'Arthritis among adults aged >=18 years', 'DATA_VALUE_UNIT': '%', 'DATA_VALUE_TYPE': 'Age-adjusted prevalence', 'DATA_VALUE': Decimal('23.9'), 'DATA_VALUE_FOOTNOTE_SYMBOL': '', 'DATA_VALUE_FOOTNOTE': '', 'LOW_CONFIDENCE_LIMIT': Decimal('20.1'), 'HIGH_CONFIDENCE_LIMIT': Decimal('28.0'), 'TOTAL_POPULATION': 73095, 'COUNTY_FIPS': 17183, 'CATEGORY_ID': 'HLTHOUT', 'MEASURE_ID': 'ARTHRITIS', 'DATA_VALUE_TYPE_ID': 'AgeAdjPrv', 'SHORT_QUESTION_TEXT': 'Arthritis', 'GEOLOCATION': (-87.7267779, 40.1867542), 'FIPS': 17183, 'rural_urban_codes.STATE_ABBREV': 'IL', 'rural_urban_codes.COUNTY_NAME': 'Vermilion County', 'POP': 74188, 'RUCC': 4, 'DESCR': 'Nonmetro - Urban population of 20,000 or more, adjacent to a metro area'}\n"
     ]
    }
   ],
   "source": [
    "result = client.query(\"\"\"\n",
    "SELECT * \n",
    "FROM cps_00004.places_county\n",
    "JOIN cps_00004.rural_urban_codes \n",
    "ON cps_00004.places_county.COUNTY_FIPS = rural_urban_codes.FIPS\n",
    "WHERE cps_00004.places_county.YEAR > 1994\n",
    "\"\"\")\n",
    "print(next(result.named_results()))\n",
    "df = pl.from_dicts(result.named_results(), infer_schema_length=400)"
   ]
  },
  {
   "cell_type": "code",
   "execution_count": null,
   "id": "cd96e86b-dcb3-45ba-8cdd-055a1f9aa8fb",
   "metadata": {},
   "outputs": [],
   "source": []
  }
 ],
 "metadata": {
  "kernelspec": {
   "display_name": "Python 3 (ipykernel)",
   "language": "python",
   "name": "python3"
  },
  "language_info": {
   "codemirror_mode": {
    "name": "ipython",
    "version": 3
   },
   "file_extension": ".py",
   "mimetype": "text/x-python",
   "name": "python",
   "nbconvert_exporter": "python",
   "pygments_lexer": "ipython3",
   "version": "3.10.12"
  }
 },
 "nbformat": 4,
 "nbformat_minor": 5
}
