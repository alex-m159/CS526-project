{
 "cells": [
  {
   "cell_type": "code",
   "execution_count": 13,
   "id": "d4e5c95e-1f89-4ae2-aadd-cc23282d0705",
   "metadata": {},
   "outputs": [],
   "source": [
    "import clickhouse_connect\n",
    "import polars as pl\n",
    "import matplotlib.pyplot as plt\n",
    "import numpy as np\n",
    "client = clickhouse_connect.get_client(host='hub.publichealthhq.xyz', port=18123, username='default', password='Password123!')\n",
    "result = client.query(\"\"\"\n",
    "SELECT STATE_FIPS, STATE_NAME, COUNTY_FIPS, TOTAL_POPULATION, RUCC\n",
    "FROM (\n",
    "    SELECT DISTINCT STATE_NAME, FIPS as COUNTY_FIPS, TOTAL_POPULATION, RUCC\n",
    "    FROM cps_00004.places_county \n",
    "    JOIN cps_00004.rural_urban_codes \n",
    "    ON cps_00004.places_county.COUNTY_FIPS = rural_urban_codes.FIPS \n",
    ") as inside\n",
    "JOIN cps_00004.state_fips\n",
    "ON cps_00004.state_fips.STATE_NAME = inside.STATE_NAME\n",
    "\"\"\")\n",
    "\n",
    "df = pl.from_dicts(result.named_results(), infer_schema_length=400)"
   ]
  },
  {
   "cell_type": "code",
   "execution_count": 14,
   "id": "7dee78cc-8550-4b7f-b0b4-e4ce044d17d2",
   "metadata": {},
   "outputs": [],
   "source": [
    "statepop = df.group_by(['STATE_FIPS']).agg( pl.col('TOTAL_POPULATION').sum() )\n",
    "statepopstep = df.join(statepop, 'STATE_FIPS')\\\n",
    ".group_by(['STATE_FIPS', 'COUNTY_FIPS'])\\\n",
    ".agg( pl.col('TOTAL_POPULATION').sum() / pl.col('TOTAL_POPULATION_right').first() )\n",
    "statepopstep\n",
    "stateweighted = statepopstep.join(\n",
    "    df.select(['STATE_FIPS', 'COUNTY_FIPS', 'RUCC']), on=['STATE_FIPS', 'COUNTY_FIPS'], how='inner')\\\n",
    ".select(['STATE_FIPS', 'COUNTY_FIPS', 'TOTAL_POPULATION', 'RUCC'])\n",
    "\n",
    "weighted_rucc = stateweighted\\\n",
    ".with_columns( WEIGHTED_RUCC=pl.col('TOTAL_POPULATION') * pl.col('RUCC'))\\\n",
    ".group_by(['STATE_FIPS'])\\\n",
    ".agg( pl.col('WEIGHTED_RUCC').sum()).sort('WEIGHTED_RUCC', descending=True)"
   ]
  },
  {
   "cell_type": "code",
   "execution_count": 15,
   "id": "8f42ba16-bc70-412a-97e7-48f2da2207a5",
   "metadata": {},
   "outputs": [],
   "source": [
    "weighted_rucc.write_csv('weighted_rucc.csv')"
   ]
  },
  {
   "cell_type": "code",
   "execution_count": 7,
   "id": "09795487-8536-45b7-be53-8902dac46812",
   "metadata": {},
   "outputs": [
    {
     "data": {
      "text/html": [
       "<div><style>\n",
       ".dataframe > thead > tr,\n",
       ".dataframe > tbody > tr {\n",
       "  text-align: right;\n",
       "  white-space: pre-wrap;\n",
       "}\n",
       "</style>\n",
       "<small>shape: (3_134, 3)</small><table border=\"1\" class=\"dataframe\"><thead><tr><th>STATE_NAME</th><th>COUNTY_FIPS</th><th>RUCC</th></tr><tr><td>str</td><td>i64</td><td>i64</td></tr></thead><tbody><tr><td>&quot;Vermont&quot;</td><td>50011</td><td>3</td></tr><tr><td>&quot;Virginia&quot;</td><td>51147</td><td>6</td></tr><tr><td>&quot;Texas&quot;</td><td>48447</td><td>9</td></tr><tr><td>&quot;Virginia&quot;</td><td>51169</td><td>2</td></tr><tr><td>&quot;Virginia&quot;</td><td>51127</td><td>1</td></tr><tr><td>&quot;Texas&quot;</td><td>48419</td><td>7</td></tr><tr><td>&quot;Virginia&quot;</td><td>51790</td><td>3</td></tr><tr><td>&quot;Virginia&quot;</td><td>51067</td><td>2</td></tr><tr><td>&quot;Virginia&quot;</td><td>51021</td><td>8</td></tr><tr><td>&quot;Virginia&quot;</td><td>51177</td><td>1</td></tr><tr><td>&quot;Texas&quot;</td><td>48431</td><td>8</td></tr><tr><td>&quot;Virginia&quot;</td><td>51840</td><td>3</td></tr><tr><td>&hellip;</td><td>&hellip;</td><td>&hellip;</td></tr><tr><td>&quot;Iowa&quot;</td><td>19007</td><td>7</td></tr><tr><td>&quot;Kansas&quot;</td><td>20045</td><td>3</td></tr><tr><td>&quot;Kansas&quot;</td><td>20125</td><td>7</td></tr><tr><td>&quot;Iowa&quot;</td><td>19081</td><td>9</td></tr><tr><td>&quot;Kansas&quot;</td><td>20017</td><td>8</td></tr><tr><td>&quot;Kansas&quot;</td><td>20161</td><td>3</td></tr><tr><td>&quot;Kansas&quot;</td><td>20019</td><td>9</td></tr><tr><td>&quot;Iowa&quot;</td><td>19073</td><td>8</td></tr><tr><td>&quot;Kansas&quot;</td><td>20015</td><td>2</td></tr><tr><td>&quot;Kentucky&quot;</td><td>21025</td><td>9</td></tr><tr><td>&quot;Kansas&quot;</td><td>20095</td><td>8</td></tr><tr><td>&quot;Iowa&quot;</td><td>19183</td><td>3</td></tr></tbody></table></div>"
      ],
      "text/plain": [
       "shape: (3_134, 3)\n",
       "┌────────────┬─────────────┬──────┐\n",
       "│ STATE_NAME ┆ COUNTY_FIPS ┆ RUCC │\n",
       "│ ---        ┆ ---         ┆ ---  │\n",
       "│ str        ┆ i64         ┆ i64  │\n",
       "╞════════════╪═════════════╪══════╡\n",
       "│ Vermont    ┆ 50011       ┆ 3    │\n",
       "│ Virginia   ┆ 51147       ┆ 6    │\n",
       "│ Texas      ┆ 48447       ┆ 9    │\n",
       "│ Virginia   ┆ 51169       ┆ 2    │\n",
       "│ Virginia   ┆ 51127       ┆ 1    │\n",
       "│ …          ┆ …           ┆ …    │\n",
       "│ Iowa       ┆ 19073       ┆ 8    │\n",
       "│ Kansas     ┆ 20015       ┆ 2    │\n",
       "│ Kentucky   ┆ 21025       ┆ 9    │\n",
       "│ Kansas     ┆ 20095       ┆ 8    │\n",
       "│ Iowa       ┆ 19183       ┆ 3    │\n",
       "└────────────┴─────────────┴──────┘"
      ]
     },
     "execution_count": 7,
     "metadata": {},
     "output_type": "execute_result"
    }
   ],
   "source": [
    "countyRUCC = df.group_by(['STATE_NAME', 'COUNTY_FIPS']).agg( pl.col('RUCC').sum() )\n",
    "countyRUCC"
   ]
  },
  {
   "cell_type": "code",
   "execution_count": null,
   "id": "12815c7f-5dff-4654-a190-0cc0bcd2618f",
   "metadata": {},
   "outputs": [],
   "source": []
  },
  {
   "cell_type": "code",
   "execution_count": null,
   "id": "874fce2f-1a5f-4640-82c8-12e2839aeab5",
   "metadata": {},
   "outputs": [],
   "source": []
  }
 ],
 "metadata": {
  "kernelspec": {
   "display_name": "Python 3 (ipykernel)",
   "language": "python",
   "name": "python3"
  },
  "language_info": {
   "codemirror_mode": {
    "name": "ipython",
    "version": 3
   },
   "file_extension": ".py",
   "mimetype": "text/x-python",
   "name": "python",
   "nbconvert_exporter": "python",
   "pygments_lexer": "ipython3",
   "version": "3.10.12"
  }
 },
 "nbformat": 4,
 "nbformat_minor": 5
}
