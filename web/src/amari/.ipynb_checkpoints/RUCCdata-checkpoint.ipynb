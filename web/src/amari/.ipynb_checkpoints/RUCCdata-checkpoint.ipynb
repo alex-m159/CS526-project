{
 "cells": [
  {
   "cell_type": "code",
   "execution_count": 20,
   "id": "3ce2a658-cf49-4592-bfc4-de693250133b",
   "metadata": {},
   "outputs": [],
   "source": [
    "import clickhouse_connect\n",
    "import polars as pl\n",
    "import matplotlib.pyplot as plt\n",
    "import numpy as np\n",
    "client = clickhouse_connect.get_client(host='hub.publichealthhq.xyz', port=18123, username='default', password='Password123!')\n",
    "result = client.query(\"\"\"\n",
    "SELECT DISTINCT STATE_NAME, COUNTY_NAME, TOTAL_POPULATION, RUCC\n",
    "FROM cps_00004.places_county \n",
    "JOIN cps_00004.rural_urban_codes \n",
    "ON cps_00004.places_county.COUNTY_FIPS = rural_urban_codes.FIPS \n",
    "\"\"\")\n",
    "\n",
    "df = pl.from_dicts(result.named_results(), infer_schema_length=400)"
   ]
  },
  {
   "cell_type": "code",
   "execution_count": 21,
   "id": "7632af68-cb59-44d0-a945-c33bcab683d0",
   "metadata": {},
   "outputs": [
    {
     "data": {
      "text/plain": [
       "3135"
      ]
     },
     "execution_count": 21,
     "metadata": {},
     "output_type": "execute_result"
    }
   ],
   "source": [
    "len(df)"
   ]
  },
  {
   "cell_type": "code",
   "execution_count": 22,
   "id": "74018d48-6f97-4554-88e2-11499ca2c9e2",
   "metadata": {},
   "outputs": [],
   "source": [
    "total_pop = df.group_by(['STATE_NAME']).agg( pl.col('TOTAL_POPULATION').sum() )\n"
   ]
  },
  {
   "cell_type": "code",
   "execution_count": null,
   "id": "07fe18ae-4fb4-4eed-8e2a-a4dabaac2451",
   "metadata": {},
   "outputs": [],
   "source": []
  },
  {
   "cell_type": "code",
   "execution_count": 23,
   "id": "1fec1776-51e1-47c9-ac4d-43bb5cfee6a9",
   "metadata": {},
   "outputs": [],
   "source": [
    "pop_by_county = df.join(total_pop, 'STATE_NAME')\\\n",
    ".group_by(['STATE_NAME', 'COUNTY_NAME'])\\\n",
    ".agg( pl.col('TOTAL_POPULATION').sum() / pl.col('TOTAL_POPULATION_right').first() )"
   ]
  },
  {
   "cell_type": "code",
   "execution_count": 24,
   "id": "6c2185d2-ce26-4636-9b39-62e58a81dddf",
   "metadata": {},
   "outputs": [
    {
     "data": {
      "text/html": [
       "<div><style>\n",
       ".dataframe > thead > tr,\n",
       ".dataframe > tbody > tr {\n",
       "  text-align: right;\n",
       "  white-space: pre-wrap;\n",
       "}\n",
       "</style>\n",
       "<small>shape: (3_135, 3)</small><table border=\"1\" class=\"dataframe\"><thead><tr><th>STATE_NAME</th><th>COUNTY_NAME</th><th>TOTAL_POPULATION</th></tr><tr><td>str</td><td>str</td><td>f64</td></tr></thead><tbody><tr><td>&quot;Vermont&quot;</td><td>&quot;Franklin&quot;</td><td>0.077954</td></tr><tr><td>&quot;Texas&quot;</td><td>&quot;Upshur&quot;</td><td>0.001415</td></tr><tr><td>&quot;Vermont&quot;</td><td>&quot;Windham&quot;</td><td>0.071394</td></tr><tr><td>&quot;Utah&quot;</td><td>&quot;Grand&quot;</td><td>0.002895</td></tr><tr><td>&quot;Vermont&quot;</td><td>&quot;Orange&quot;</td><td>0.04576</td></tr><tr><td>&quot;Texas&quot;</td><td>&quot;Stonewall&quot;</td><td>0.000041</td></tr><tr><td>&quot;Virginia&quot;</td><td>&quot;Hopewell&quot;</td><td>0.002678</td></tr><tr><td>&quot;Virginia&quot;</td><td>&quot;Winchester&quot;</td><td>0.003256</td></tr><tr><td>&quot;Virginia&quot;</td><td>&quot;Danville&quot;</td><td>0.004885</td></tr><tr><td>&quot;Texas&quot;</td><td>&quot;Tom Green&quot;</td><td>0.004044</td></tr><tr><td>&quot;Virginia&quot;</td><td>&quot;Augusta&quot;</td><td>0.008975</td></tr><tr><td>&quot;Texas&quot;</td><td>&quot;Tyler&quot;</td><td>0.00068</td></tr><tr><td>&hellip;</td><td>&hellip;</td><td>&hellip;</td></tr><tr><td>&quot;Oklahoma&quot;</td><td>&quot;Rogers&quot;</td><td>0.024255</td></tr><tr><td>&quot;Oklahoma&quot;</td><td>&quot;Adair&quot;</td><td>0.00487</td></tr><tr><td>&quot;North Dakota&quot;</td><td>&quot;Sioux&quot;</td><td>0.004824</td></tr><tr><td>&quot;North Dakota&quot;</td><td>&quot;Golden Valley&quot;</td><td>0.002284</td></tr><tr><td>&quot;Oklahoma&quot;</td><td>&quot;Murray&quot;</td><td>0.003441</td></tr><tr><td>&quot;Ohio&quot;</td><td>&quot;Lake&quot;</td><td>0.019696</td></tr><tr><td>&quot;Ohio&quot;</td><td>&quot;Geauga&quot;</td><td>0.008112</td></tr><tr><td>&quot;Ohio&quot;</td><td>&quot;Knox&quot;</td><td>0.005339</td></tr><tr><td>&quot;Ohio&quot;</td><td>&quot;Noble&quot;</td><td>0.001203</td></tr><tr><td>&quot;Ohio&quot;</td><td>&quot;Carroll&quot;</td><td>0.002266</td></tr><tr><td>&quot;Ohio&quot;</td><td>&quot;Highland&quot;</td><td>0.00368</td></tr><tr><td>&quot;North Dakota&quot;</td><td>&quot;Ramsey&quot;</td><td>0.014933</td></tr></tbody></table></div>"
      ],
      "text/plain": [
       "shape: (3_135, 3)\n",
       "┌──────────────┬─────────────┬──────────────────┐\n",
       "│ STATE_NAME   ┆ COUNTY_NAME ┆ TOTAL_POPULATION │\n",
       "│ ---          ┆ ---         ┆ ---              │\n",
       "│ str          ┆ str         ┆ f64              │\n",
       "╞══════════════╪═════════════╪══════════════════╡\n",
       "│ Vermont      ┆ Franklin    ┆ 0.077954         │\n",
       "│ Texas        ┆ Upshur      ┆ 0.001415         │\n",
       "│ Vermont      ┆ Windham     ┆ 0.071394         │\n",
       "│ Utah         ┆ Grand       ┆ 0.002895         │\n",
       "│ Vermont      ┆ Orange      ┆ 0.04576          │\n",
       "│ …            ┆ …           ┆ …                │\n",
       "│ Ohio         ┆ Knox        ┆ 0.005339         │\n",
       "│ Ohio         ┆ Noble       ┆ 0.001203         │\n",
       "│ Ohio         ┆ Carroll     ┆ 0.002266         │\n",
       "│ Ohio         ┆ Highland    ┆ 0.00368          │\n",
       "│ North Dakota ┆ Ramsey      ┆ 0.014933         │\n",
       "└──────────────┴─────────────┴──────────────────┘"
      ]
     },
     "execution_count": 24,
     "metadata": {},
     "output_type": "execute_result"
    }
   ],
   "source": [
    "pop_by_county"
   ]
  },
  {
   "cell_type": "code",
   "execution_count": 25,
   "id": "28de2351-a75b-4e17-bc04-e68d30fe7eee",
   "metadata": {},
   "outputs": [
    {
     "data": {
      "text/html": [
       "<div><style>\n",
       ".dataframe > thead > tr,\n",
       ".dataframe > tbody > tr {\n",
       "  text-align: right;\n",
       "  white-space: pre-wrap;\n",
       "}\n",
       "</style>\n",
       "<small>shape: (3_135, 4)</small><table border=\"1\" class=\"dataframe\"><thead><tr><th>STATE_NAME</th><th>COUNTY_NAME</th><th>TOTAL_POPULATION</th><th>RUCC</th></tr><tr><td>str</td><td>str</td><td>i64</td><td>i64</td></tr></thead><tbody><tr><td>&quot;Vermont&quot;</td><td>&quot;Franklin&quot;</td><td>50325</td><td>3</td></tr><tr><td>&quot;Virginia&quot;</td><td>&quot;Craig&quot;</td><td>4865</td><td>2</td></tr><tr><td>&quot;Virginia&quot;</td><td>&quot;Prince Edward&quot;</td><td>21932</td><td>6</td></tr><tr><td>&quot;Texas&quot;</td><td>&quot;Smith&quot;</td><td>237186</td><td>3</td></tr><tr><td>&quot;Vermont&quot;</td><td>&quot;Lamoille&quot;</td><td>26126</td><td>8</td></tr><tr><td>&quot;Virginia&quot;</td><td>&quot;Amherst&quot;</td><td>31273</td><td>2</td></tr><tr><td>&quot;Virginia&quot;</td><td>&quot;Sussex&quot;</td><td>10763</td><td>1</td></tr><tr><td>&quot;Washington&quot;</td><td>&quot;Asotin&quot;</td><td>22397</td><td>3</td></tr><tr><td>&quot;Vermont&quot;</td><td>&quot;Windham&quot;</td><td>46090</td><td>7</td></tr><tr><td>&quot;Texas&quot;</td><td>&quot;Shelby&quot;</td><td>23939</td><td>7</td></tr><tr><td>&quot;Virginia&quot;</td><td>&quot;Appomattox&quot;</td><td>16353</td><td>2</td></tr><tr><td>&quot;Virginia&quot;</td><td>&quot;Hopewell&quot;</td><td>23140</td><td>1</td></tr><tr><td>&hellip;</td><td>&hellip;</td><td>&hellip;</td><td>&hellip;</td></tr><tr><td>&quot;Oklahoma&quot;</td><td>&quot;Adair&quot;</td><td>19414</td><td>8</td></tr><tr><td>&quot;Ohio&quot;</td><td>&quot;Mercer&quot;</td><td>42309</td><td>7</td></tr><tr><td>&quot;North Dakota&quot;</td><td>&quot;Stutsman&quot;</td><td>21576</td><td>7</td></tr><tr><td>&quot;North Dakota&quot;</td><td>&quot;Benson&quot;</td><td>5809</td><td>9</td></tr><tr><td>&quot;Ohio&quot;</td><td>&quot;Trumbull&quot;</td><td>201335</td><td>2</td></tr><tr><td>&quot;Ohio&quot;</td><td>&quot;Pike&quot;</td><td>27089</td><td>9</td></tr><tr><td>&quot;Oklahoma&quot;</td><td>&quot;Noble&quot;</td><td>10933</td><td>8</td></tr><tr><td>&quot;North Dakota&quot;</td><td>&quot;Burke&quot;</td><td>2158</td><td>8</td></tr><tr><td>&quot;Oklahoma&quot;</td><td>&quot;Comanche&quot;</td><td>122063</td><td>3</td></tr><tr><td>&quot;Ohio&quot;</td><td>&quot;Stark&quot;</td><td>373834</td><td>2</td></tr><tr><td>&quot;Ohio&quot;</td><td>&quot;Jackson&quot;</td><td>32511</td><td>7</td></tr><tr><td>&quot;Oklahoma&quot;</td><td>&quot;Canadian&quot;</td><td>161737</td><td>1</td></tr></tbody></table></div>"
      ],
      "text/plain": [
       "shape: (3_135, 4)\n",
       "┌──────────────┬───────────────┬──────────────────┬──────┐\n",
       "│ STATE_NAME   ┆ COUNTY_NAME   ┆ TOTAL_POPULATION ┆ RUCC │\n",
       "│ ---          ┆ ---           ┆ ---              ┆ ---  │\n",
       "│ str          ┆ str           ┆ i64              ┆ i64  │\n",
       "╞══════════════╪═══════════════╪══════════════════╪══════╡\n",
       "│ Vermont      ┆ Franklin      ┆ 50325            ┆ 3    │\n",
       "│ Virginia     ┆ Craig         ┆ 4865             ┆ 2    │\n",
       "│ Virginia     ┆ Prince Edward ┆ 21932            ┆ 6    │\n",
       "│ Texas        ┆ Smith         ┆ 237186           ┆ 3    │\n",
       "│ Vermont      ┆ Lamoille      ┆ 26126            ┆ 8    │\n",
       "│ …            ┆ …             ┆ …                ┆ …    │\n",
       "│ North Dakota ┆ Burke         ┆ 2158             ┆ 8    │\n",
       "│ Oklahoma     ┆ Comanche      ┆ 122063           ┆ 3    │\n",
       "│ Ohio         ┆ Stark         ┆ 373834           ┆ 2    │\n",
       "│ Ohio         ┆ Jackson       ┆ 32511            ┆ 7    │\n",
       "│ Oklahoma     ┆ Canadian      ┆ 161737           ┆ 1    │\n",
       "└──────────────┴───────────────┴──────────────────┴──────┘"
      ]
     },
     "execution_count": 25,
     "metadata": {},
     "output_type": "execute_result"
    }
   ],
   "source": [
    "df.unique(keep='first') #.select(['STATE_NAME', 'COUNTY_NAME', 'RUCC'])"
   ]
  },
  {
   "cell_type": "code",
   "execution_count": 27,
   "id": "fba13490-1791-4f8e-a32f-87fd00e6f231",
   "metadata": {},
   "outputs": [],
   "source": [
    "pop_rcc_by_county = pop_by_county.join(\n",
    "    df.select(['STATE_NAME', 'COUNTY_NAME', 'RUCC']), on=['STATE_NAME', 'COUNTY_NAME'], how='inner')\\\n",
    ".select(['STATE_NAME', 'COUNTY_NAME', 'TOTAL_POPULATION', 'RUCC'])"
   ]
  },
  {
   "cell_type": "code",
   "execution_count": 37,
   "id": "1e061d1a-8165-4c24-919b-c9961110c520",
   "metadata": {},
   "outputs": [
    {
     "data": {
      "text/html": [
       "<div><style>\n",
       ".dataframe > thead > tr,\n",
       ".dataframe > tbody > tr {\n",
       "  text-align: right;\n",
       "  white-space: pre-wrap;\n",
       "}\n",
       "</style>\n",
       "<small>shape: (50, 2)</small><table border=\"1\" class=\"dataframe\"><thead><tr><th>STATE_NAME</th><th>WEIGHTED_RUCC</th></tr><tr><td>str</td><td>f64</td></tr></thead><tbody><tr><td>&quot;Vermont&quot;</td><td>5.531581</td></tr><tr><td>&quot;Wyoming&quot;</td><td>5.514712</td></tr><tr><td>&quot;South Dakota&quot;</td><td>4.822907</td></tr><tr><td>&quot;Montana&quot;</td><td>4.703812</td></tr><tr><td>&quot;North Dakota&quot;</td><td>4.666474</td></tr><tr><td>&quot;Mississippi&quot;</td><td>4.275869</td></tr><tr><td>&quot;West Virginia&quot;</td><td>4.220974</td></tr><tr><td>&quot;Maine&quot;</td><td>4.025817</td></tr><tr><td>&quot;Iowa&quot;</td><td>3.994349</td></tr><tr><td>&quot;Arkansas&quot;</td><td>3.927411</td></tr><tr><td>&quot;Alaska&quot;</td><td>3.915988</td></tr><tr><td>&quot;Nebraska&quot;</td><td>3.650416</td></tr><tr><td>&hellip;</td><td>&hellip;</td></tr><tr><td>&quot;Washington&quot;</td><td>1.813696</td></tr><tr><td>&quot;Texas&quot;</td><td>1.781744</td></tr><tr><td>&quot;Nevada&quot;</td><td>1.537062</td></tr><tr><td>&quot;Florida&quot;</td><td>1.526163</td></tr><tr><td>&quot;New York&quot;</td><td>1.508108</td></tr><tr><td>&quot;Arizona&quot;</td><td>1.474365</td></tr><tr><td>&quot;Massachusetts&quot;</td><td>1.400388</td></tr><tr><td>&quot;Maryland&quot;</td><td>1.325412</td></tr><tr><td>&quot;California&quot;</td><td>1.30588</td></tr><tr><td>&quot;New Jersey&quot;</td><td>1.126739</td></tr><tr><td>&quot;District of Co…</td><td>1.0</td></tr><tr><td>&quot;Rhode Island&quot;</td><td>1.0</td></tr></tbody></table></div>"
      ],
      "text/plain": [
       "shape: (50, 2)\n",
       "┌──────────────────────┬───────────────┐\n",
       "│ STATE_NAME           ┆ WEIGHTED_RUCC │\n",
       "│ ---                  ┆ ---           │\n",
       "│ str                  ┆ f64           │\n",
       "╞══════════════════════╪═══════════════╡\n",
       "│ Vermont              ┆ 5.531581      │\n",
       "│ Wyoming              ┆ 5.514712      │\n",
       "│ South Dakota         ┆ 4.822907      │\n",
       "│ Montana              ┆ 4.703812      │\n",
       "│ North Dakota         ┆ 4.666474      │\n",
       "│ …                    ┆ …             │\n",
       "│ Maryland             ┆ 1.325412      │\n",
       "│ California           ┆ 1.30588       │\n",
       "│ New Jersey           ┆ 1.126739      │\n",
       "│ District of Columbia ┆ 1.0           │\n",
       "│ Rhode Island         ┆ 1.0           │\n",
       "└──────────────────────┴───────────────┘"
      ]
     },
     "execution_count": 37,
     "metadata": {},
     "output_type": "execute_result"
    }
   ],
   "source": [
    "pop_rcc_by_county\\\n",
    ".with_columns( WEIGHTED_RUCC=pl.col('TOTAL_POPULATION') * pl.col('RUCC'))\\\n",
    ".group_by(['STATE_NAME'])\\\n",
    ".agg( pl.col('WEIGHTED_RUCC').sum()).sort('WEIGHTED_RUCC', descending=True)"
   ]
  },
  {
   "cell_type": "code",
   "execution_count": 4,
   "id": "c88dcb5a-601b-46dc-9442-a310db8be32e",
   "metadata": {},
   "outputs": [
    {
     "ename": "NameError",
     "evalue": "name 'df2' is not defined",
     "output_type": "error",
     "traceback": [
      "\u001b[0;31m---------------------------------------------------------------------------\u001b[0m",
      "\u001b[0;31mNameError\u001b[0m                                 Traceback (most recent call last)",
      "Cell \u001b[0;32mIn[4], line 1\u001b[0m\n\u001b[0;32m----> 1\u001b[0m pop_by_rucc \u001b[38;5;241m=\u001b[39m \u001b[43mdf2\u001b[49m\u001b[38;5;241m.\u001b[39mjoin(\u001b[38;5;124m'\u001b[39m\u001b[38;5;124mRUCC\u001b[39m\u001b[38;5;124m'\u001b[39m, \u001b[38;5;124m'\u001b[39m\u001b[38;5;124mCOUNTY_NAME\u001b[39m\u001b[38;5;124m'\u001b[39m)\\\n\u001b[1;32m      2\u001b[0m \u001b[38;5;241m.\u001b[39mgroup_by([\u001b[38;5;124m'\u001b[39m\u001b[38;5;124mCOUNTY_NAME\u001b[39m\u001b[38;5;124m'\u001b[39m])\\\n\u001b[1;32m      3\u001b[0m \u001b[38;5;241m.\u001b[39magg( pl\u001b[38;5;241m.\u001b[39mcol(\u001b[38;5;124m'\u001b[39m\u001b[38;5;124mRUCC\u001b[39m\u001b[38;5;124m'\u001b[39m)\u001b[38;5;241m.\u001b[39msum())\u001b[38;5;241m.\u001b[39msort(\u001b[38;5;124m'\u001b[39m\u001b[38;5;124mRUCC\u001b[39m\u001b[38;5;124m'\u001b[39m, descending\u001b[38;5;241m=\u001b[39m\u001b[38;5;28;01mTrue\u001b[39;00m)\n",
      "\u001b[0;31mNameError\u001b[0m: name 'df2' is not defined"
     ]
    }
   ],
   "source": [
    "df2 = pl.from_dicts(result.named_results(), infer_schema_length=400)\n",
    "pop_by_rucc = df2.join('RUCC', 'COUNTY_NAME')\\\n",
    ".group_by(['COUNTY_NAME'])\\\n",
    ".agg( pl.col('RUCC').sum()).sort('RUCC', descending=True)"
   ]
  },
  {
   "cell_type": "code",
   "execution_count": null,
   "id": "15c3eda0-9e71-4df0-b9fc-9020a1d75636",
   "metadata": {},
   "outputs": [],
   "source": [
    "pop_by_rucc"
   ]
  }
 ],
 "metadata": {
  "kernelspec": {
   "display_name": "Python 3 (ipykernel)",
   "language": "python",
   "name": "python3"
  },
  "language_info": {
   "codemirror_mode": {
    "name": "ipython",
    "version": 3
   },
   "file_extension": ".py",
   "mimetype": "text/x-python",
   "name": "python",
   "nbconvert_exporter": "python",
   "pygments_lexer": "ipython3",
   "version": "3.10.12"
  }
 },
 "nbformat": 4,
 "nbformat_minor": 5
}
