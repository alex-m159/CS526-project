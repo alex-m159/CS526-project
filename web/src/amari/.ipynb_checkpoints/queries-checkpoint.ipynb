{
 "cells": [
  {
   "cell_type": "code",
   "execution_count": 1,
   "id": "d4e5c95e-1f89-4ae2-aadd-cc23282d0705",
   "metadata": {},
   "outputs": [],
   "source": [
    "import clickhouse_connect\n",
    "import polars as pl\n",
    "import matplotlib.pyplot as plt\n",
    "import numpy as np\n",
    "client = clickhouse_connect.get_client(host='hub.publichealthhq.xyz', port=18123, username='default', password='Password123!')\n",
    "result = client.query(\"\"\"\n",
    "SELECT STATE_FIPS, STATE_NAME, COUNTY_FIPS, TOTAL_POPULATION, RUCC\n",
    "FROM (\n",
    "    SELECT DISTINCT STATE_NAME, FIPS as COUNTY_FIPS, TOTAL_POPULATION, RUCC\n",
    "    FROM cps_00004.places_county \n",
    "    JOIN cps_00004.rural_urban_codes \n",
    "    ON cps_00004.places_county.COUNTY_FIPS = rural_urban_codes.FIPS \n",
    ") as inside\n",
    "JOIN cps_00004.state_fips\n",
    "ON cps_00004.state_fips.STATE_NAME = inside.STATE_NAME\n",
    "\"\"\")\n",
    "\n",
    "df = pl.from_dicts(result.named_results(), infer_schema_length=400)"
   ]
  },
  {
   "cell_type": "code",
   "execution_count": 4,
   "id": "7dee78cc-8550-4b7f-b0b4-e4ce044d17d2",
   "metadata": {},
   "outputs": [
    {
     "data": {
      "text/html": [
       "<div><style>\n",
       ".dataframe > thead > tr,\n",
       ".dataframe > tbody > tr {\n",
       "  text-align: right;\n",
       "  white-space: pre-wrap;\n",
       "}\n",
       "</style>\n",
       "<small>shape: (49, 2)</small><table border=\"1\" class=\"dataframe\"><thead><tr><th>STATE_NAME</th><th>WEIGHTED_RUCC</th></tr><tr><td>str</td><td>f64</td></tr></thead><tbody><tr><td>&quot;Vermont&quot;</td><td>5.531581</td></tr><tr><td>&quot;Wyoming&quot;</td><td>5.514712</td></tr><tr><td>&quot;South Dakota&quot;</td><td>4.822907</td></tr><tr><td>&quot;Montana&quot;</td><td>4.703812</td></tr><tr><td>&quot;North Dakota&quot;</td><td>4.666474</td></tr><tr><td>&quot;Mississippi&quot;</td><td>4.275869</td></tr><tr><td>&quot;West Virginia&quot;</td><td>4.220974</td></tr><tr><td>&quot;Maine&quot;</td><td>4.025817</td></tr><tr><td>&quot;Iowa&quot;</td><td>3.994349</td></tr><tr><td>&quot;Arkansas&quot;</td><td>3.927411</td></tr><tr><td>&quot;Alaska&quot;</td><td>3.915988</td></tr><tr><td>&quot;Nebraska&quot;</td><td>3.650416</td></tr><tr><td>&hellip;</td><td>&hellip;</td></tr><tr><td>&quot;Illinois&quot;</td><td>1.857125</td></tr><tr><td>&quot;Washington&quot;</td><td>1.813696</td></tr><tr><td>&quot;Texas&quot;</td><td>1.781744</td></tr><tr><td>&quot;Nevada&quot;</td><td>1.537062</td></tr><tr><td>&quot;Florida&quot;</td><td>1.526163</td></tr><tr><td>&quot;New York&quot;</td><td>1.508108</td></tr><tr><td>&quot;Arizona&quot;</td><td>1.474365</td></tr><tr><td>&quot;Massachusetts&quot;</td><td>1.400388</td></tr><tr><td>&quot;Maryland&quot;</td><td>1.325412</td></tr><tr><td>&quot;California&quot;</td><td>1.30588</td></tr><tr><td>&quot;New Jersey&quot;</td><td>1.126739</td></tr><tr><td>&quot;Rhode Island&quot;</td><td>1.0</td></tr></tbody></table></div>"
      ],
      "text/plain": [
       "shape: (49, 2)\n",
       "┌───────────────┬───────────────┐\n",
       "│ STATE_NAME    ┆ WEIGHTED_RUCC │\n",
       "│ ---           ┆ ---           │\n",
       "│ str           ┆ f64           │\n",
       "╞═══════════════╪═══════════════╡\n",
       "│ Vermont       ┆ 5.531581      │\n",
       "│ Wyoming       ┆ 5.514712      │\n",
       "│ South Dakota  ┆ 4.822907      │\n",
       "│ Montana       ┆ 4.703812      │\n",
       "│ North Dakota  ┆ 4.666474      │\n",
       "│ …             ┆ …             │\n",
       "│ Massachusetts ┆ 1.400388      │\n",
       "│ Maryland      ┆ 1.325412      │\n",
       "│ California    ┆ 1.30588       │\n",
       "│ New Jersey    ┆ 1.126739      │\n",
       "│ Rhode Island  ┆ 1.0           │\n",
       "└───────────────┴───────────────┘"
      ]
     },
     "execution_count": 4,
     "metadata": {},
     "output_type": "execute_result"
    }
   ],
   "source": [
    "statepop = df.group_by(['STATE_NAME']).agg( pl.col('TOTAL_POPULATION').sum() )\n",
    "statepopstep = df.join(statepop, 'STATE_NAME')\\\n",
    ".group_by(['STATE_NAME', 'COUNTY_FIPS'])\\\n",
    ".agg( pl.col('TOTAL_POPULATION').sum() / pl.col('TOTAL_POPULATION_right').first() )\n",
    "statepopstep\n",
    "stateweighted = statepopstep.join(\n",
    "    df.select(['STATE_NAME', 'COUNTY_FIPS', 'RUCC']), on=['STATE_NAME', 'COUNTY_FIPS'], how='inner')\\\n",
    ".select(['STATE_NAME', 'COUNTY_FIPS', 'TOTAL_POPULATION', 'RUCC'])\n",
    "stateweighted\\\n",
    ".with_columns( WEIGHTED_RUCC=pl.col('TOTAL_POPULATION') * pl.col('RUCC'))\\\n",
    ".group_by(['STATE_NAME'])\\\n",
    ".agg( pl.col('WEIGHTED_RUCC').sum()).sort('WEIGHTED_RUCC', descending=True)"
   ]
  },
  {
   "cell_type": "code",
   "execution_count": 6,
   "id": "09795487-8536-45b7-be53-8902dac46812",
   "metadata": {},
   "outputs": [
    {
     "ename": "ColumnNotFoundError",
     "evalue": "COUNTY_NAME\n\nError originated just after this operation:\nDF [\"STATE_FIPS\", \"STATE_NAME\", \"COUNTY_FIPS\", \"TOTAL_POPULATION\"]; PROJECT */5 COLUMNS; SELECTION: \"None\"",
     "output_type": "error",
     "traceback": [
      "\u001b[0;31m---------------------------------------------------------------------------\u001b[0m",
      "\u001b[0;31mColumnNotFoundError\u001b[0m                       Traceback (most recent call last)",
      "Cell \u001b[0;32mIn[6], line 1\u001b[0m\n\u001b[0;32m----> 1\u001b[0m countyRUCC \u001b[38;5;241m=\u001b[39m \u001b[43mdf\u001b[49m\u001b[38;5;241;43m.\u001b[39;49m\u001b[43mgroup_by\u001b[49m\u001b[43m(\u001b[49m\u001b[43m[\u001b[49m\u001b[38;5;124;43m'\u001b[39;49m\u001b[38;5;124;43mSTATE_NAME\u001b[39;49m\u001b[38;5;124;43m'\u001b[39;49m\u001b[43m,\u001b[49m\u001b[43m \u001b[49m\u001b[38;5;124;43m'\u001b[39;49m\u001b[38;5;124;43mCOUNTY_NAME\u001b[39;49m\u001b[38;5;124;43m'\u001b[39;49m\u001b[43m]\u001b[49m\u001b[43m)\u001b[49m\u001b[38;5;241;43m.\u001b[39;49m\u001b[43magg\u001b[49m\u001b[43m(\u001b[49m\u001b[43m \u001b[49m\u001b[43mpl\u001b[49m\u001b[38;5;241;43m.\u001b[39;49m\u001b[43mcol\u001b[49m\u001b[43m(\u001b[49m\u001b[38;5;124;43m'\u001b[39;49m\u001b[38;5;124;43mRUCC\u001b[39;49m\u001b[38;5;124;43m'\u001b[39;49m\u001b[43m)\u001b[49m\u001b[38;5;241;43m.\u001b[39;49m\u001b[43msum\u001b[49m\u001b[43m(\u001b[49m\u001b[43m)\u001b[49m\u001b[43m \u001b[49m\u001b[43m)\u001b[49m\n\u001b[1;32m      2\u001b[0m countyRUCC\n",
      "File \u001b[0;32m~/cs526/CS526-project/web/venv/lib/python3.10/site-packages/polars/dataframe/group_by.py:247\u001b[0m, in \u001b[0;36mGroupBy.agg\u001b[0;34m(self, *aggs, **named_aggs)\u001b[0m\n\u001b[1;32m    141\u001b[0m \u001b[38;5;28;01mdef\u001b[39;00m \u001b[38;5;21magg\u001b[39m(\n\u001b[1;32m    142\u001b[0m     \u001b[38;5;28mself\u001b[39m,\n\u001b[1;32m    143\u001b[0m     \u001b[38;5;241m*\u001b[39maggs: IntoExpr \u001b[38;5;241m|\u001b[39m Iterable[IntoExpr],\n\u001b[1;32m    144\u001b[0m     \u001b[38;5;241m*\u001b[39m\u001b[38;5;241m*\u001b[39mnamed_aggs: IntoExpr,\n\u001b[1;32m    145\u001b[0m ) \u001b[38;5;241m-\u001b[39m\u001b[38;5;241m>\u001b[39m DataFrame:\n\u001b[1;32m    146\u001b[0m \u001b[38;5;250m    \u001b[39m\u001b[38;5;124;03m\"\"\"\u001b[39;00m\n\u001b[1;32m    147\u001b[0m \u001b[38;5;124;03m    Compute aggregations for each group of a group by operation.\u001b[39;00m\n\u001b[1;32m    148\u001b[0m \n\u001b[0;32m   (...)\u001b[0m\n\u001b[1;32m    244\u001b[0m \u001b[38;5;124;03m    └─────┴───────┴────────────────┘\u001b[39;00m\n\u001b[1;32m    245\u001b[0m \u001b[38;5;124;03m    \"\"\"\u001b[39;00m\n\u001b[1;32m    246\u001b[0m     \u001b[38;5;28;01mreturn\u001b[39;00m (\n\u001b[0;32m--> 247\u001b[0m         \u001b[38;5;28;43mself\u001b[39;49m\u001b[38;5;241;43m.\u001b[39;49m\u001b[43mdf\u001b[49m\u001b[38;5;241;43m.\u001b[39;49m\u001b[43mlazy\u001b[49m\u001b[43m(\u001b[49m\u001b[43m)\u001b[49m\n\u001b[1;32m    248\u001b[0m \u001b[43m        \u001b[49m\u001b[38;5;241;43m.\u001b[39;49m\u001b[43mgroup_by\u001b[49m\u001b[43m(\u001b[49m\u001b[38;5;241;43m*\u001b[39;49m\u001b[38;5;28;43mself\u001b[39;49m\u001b[38;5;241;43m.\u001b[39;49m\u001b[43mby\u001b[49m\u001b[43m,\u001b[49m\u001b[43m \u001b[49m\u001b[38;5;241;43m*\u001b[39;49m\u001b[38;5;241;43m*\u001b[39;49m\u001b[38;5;28;43mself\u001b[39;49m\u001b[38;5;241;43m.\u001b[39;49m\u001b[43mnamed_by\u001b[49m\u001b[43m,\u001b[49m\u001b[43m \u001b[49m\u001b[43mmaintain_order\u001b[49m\u001b[38;5;241;43m=\u001b[39;49m\u001b[38;5;28;43mself\u001b[39;49m\u001b[38;5;241;43m.\u001b[39;49m\u001b[43mmaintain_order\u001b[49m\u001b[43m)\u001b[49m\n\u001b[1;32m    249\u001b[0m \u001b[43m        \u001b[49m\u001b[38;5;241;43m.\u001b[39;49m\u001b[43magg\u001b[49m\u001b[43m(\u001b[49m\u001b[38;5;241;43m*\u001b[39;49m\u001b[43maggs\u001b[49m\u001b[43m,\u001b[49m\u001b[43m \u001b[49m\u001b[38;5;241;43m*\u001b[39;49m\u001b[38;5;241;43m*\u001b[39;49m\u001b[43mnamed_aggs\u001b[49m\u001b[43m)\u001b[49m\n\u001b[1;32m    250\u001b[0m \u001b[43m        \u001b[49m\u001b[38;5;241;43m.\u001b[39;49m\u001b[43mcollect\u001b[49m\u001b[43m(\u001b[49m\u001b[43mno_optimization\u001b[49m\u001b[38;5;241;43m=\u001b[39;49m\u001b[38;5;28;43;01mTrue\u001b[39;49;00m\u001b[43m)\u001b[49m\n\u001b[1;32m    251\u001b[0m     )\n",
      "File \u001b[0;32m~/cs526/CS526-project/web/venv/lib/python3.10/site-packages/polars/lazyframe/frame.py:1937\u001b[0m, in \u001b[0;36mLazyFrame.collect\u001b[0;34m(self, type_coercion, predicate_pushdown, projection_pushdown, simplify_expression, slice_pushdown, comm_subplan_elim, comm_subexpr_elim, no_optimization, streaming, background, _eager)\u001b[0m\n\u001b[1;32m   1934\u001b[0m \u001b[38;5;28;01mif\u001b[39;00m background:\n\u001b[1;32m   1935\u001b[0m     \u001b[38;5;28;01mreturn\u001b[39;00m InProcessQuery(ldf\u001b[38;5;241m.\u001b[39mcollect_concurrently())\n\u001b[0;32m-> 1937\u001b[0m \u001b[38;5;28;01mreturn\u001b[39;00m wrap_df(\u001b[43mldf\u001b[49m\u001b[38;5;241;43m.\u001b[39;49m\u001b[43mcollect\u001b[49m\u001b[43m(\u001b[49m\u001b[43m)\u001b[49m)\n",
      "\u001b[0;31mColumnNotFoundError\u001b[0m: COUNTY_NAME\n\nError originated just after this operation:\nDF [\"STATE_FIPS\", \"STATE_NAME\", \"COUNTY_FIPS\", \"TOTAL_POPULATION\"]; PROJECT */5 COLUMNS; SELECTION: \"None\""
     ]
    }
   ],
   "source": [
    "countyRUCC = df.group_by(['STATE_NAME', 'COUNTY_FIPS']).agg( pl.col('RUCC').sum() )\n",
    "countyRUCC"
   ]
  },
  {
   "cell_type": "code",
   "execution_count": null,
   "id": "12815c7f-5dff-4654-a190-0cc0bcd2618f",
   "metadata": {},
   "outputs": [],
   "source": []
  },
  {
   "cell_type": "code",
   "execution_count": null,
   "id": "874fce2f-1a5f-4640-82c8-12e2839aeab5",
   "metadata": {},
   "outputs": [],
   "source": []
  }
 ],
 "metadata": {
  "kernelspec": {
   "display_name": "Python 3 (ipykernel)",
   "language": "python",
   "name": "python3"
  },
  "language_info": {
   "codemirror_mode": {
    "name": "ipython",
    "version": 3
   },
   "file_extension": ".py",
   "mimetype": "text/x-python",
   "name": "python",
   "nbconvert_exporter": "python",
   "pygments_lexer": "ipython3",
   "version": "3.10.12"
  }
 },
 "nbformat": 4,
 "nbformat_minor": 5
}
