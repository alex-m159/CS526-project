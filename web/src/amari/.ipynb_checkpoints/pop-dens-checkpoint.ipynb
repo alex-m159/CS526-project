{
 "cells": [
  {
   "cell_type": "code",
   "execution_count": 9,
   "id": "1dc116f3-5585-4c60-97b3-f424a837e139",
   "metadata": {},
   "outputs": [],
   "source": [
    "import clickhouse_connect\n",
    "import polars as pl\n",
    "import matplotlib.pyplot as plt\n",
    "import numpy as np"
   ]
  },
  {
   "cell_type": "code",
   "execution_count": 10,
   "id": "8c76341d-43da-4d1f-9491-506a3288c54b",
   "metadata": {},
   "outputs": [],
   "source": [
    "client = clickhouse_connect.get_client(host='hub.publichealthhq.xyz', port=18123, username='default', password='Password123!')"
   ]
  },
  {
   "cell_type": "code",
   "execution_count": 28,
   "id": "34afa736-23fd-4fe3-bcf5-6ded6e335ddb",
   "metadata": {},
   "outputs": [
    {
     "ename": "DatabaseError",
     "evalue": ":HTTPDriver for http://hub.publichealthhq.xyz:18123 returned response code 400)\n Code: 62. DB::Exception: Syntax error: failed at position 44 ('ON') (line 4, col 1): ON cps_00004.COUNTY = rural_urban_codes.COUNTY_NAME\n\n FORMAT Native. Expected one of: token, Dot, OpeningRoundBracket, UUID, alias, AS, identifier, FINAL, SAMPLE, table, table function, subquery or list of joined tables, array join, LEFT ARRAY JOIN, INNER, ARRAY JOIN, JOIN, PREWHERE, WHERE, GROUP BY, WITH, HAVING, WINDOW, ORDER BY, LIMIT, OFFSET, FETCH, SETTINGS, UNION, EXCEPT, INTERSECT, INTO OUTFILE, FORMAT, end of query. (SYNTAX_ERROR) (version 24.1.5.6 (official build))\n",
     "output_type": "error",
     "traceback": [
      "\u001b[0;31m---------------------------------------------------------------------------\u001b[0m",
      "\u001b[0;31mDatabaseError\u001b[0m                             Traceback (most recent call last)",
      "Cell \u001b[0;32mIn[28], line 1\u001b[0m\n\u001b[0;32m----> 1\u001b[0m result \u001b[38;5;241m=\u001b[39m \u001b[43mclient\u001b[49m\u001b[38;5;241;43m.\u001b[39;49m\u001b[43mquery\u001b[49m\u001b[43m(\u001b[49m\u001b[38;5;124;43m\"\"\"\u001b[39;49m\n\u001b[1;32m      2\u001b[0m \u001b[38;5;124;43mSELECT *\u001b[39;49m\n\u001b[1;32m      3\u001b[0m \u001b[38;5;124;43mFROM cps_00004.rural_urban_codes\u001b[39;49m\n\u001b[1;32m      4\u001b[0m \u001b[38;5;124;43mON cps_00004.COUNTY = rural_urban_codes.COUNTY_NAME\u001b[39;49m\n\u001b[1;32m      5\u001b[0m \u001b[38;5;124;43m\"\"\"\u001b[39;49m\u001b[43m)\u001b[49m\n",
      "File \u001b[0;32m~/cs526/CS526-project/web/venv/lib/python3.10/site-packages/clickhouse_connect/driver/client.py:193\u001b[0m, in \u001b[0;36mClient.query\u001b[0;34m(self, query, parameters, settings, query_formats, column_formats, encoding, use_none, column_oriented, use_numpy, max_str_len, context, query_tz, column_tzs, external_data)\u001b[0m\n\u001b[1;32m    191\u001b[0m         \u001b[38;5;28;01mreturn\u001b[39;00m response\u001b[38;5;241m.\u001b[39mas_query_result()\n\u001b[1;32m    192\u001b[0m     \u001b[38;5;28;01mreturn\u001b[39;00m QueryResult([response] \u001b[38;5;28;01mif\u001b[39;00m \u001b[38;5;28misinstance\u001b[39m(response, \u001b[38;5;28mlist\u001b[39m) \u001b[38;5;28;01melse\u001b[39;00m [[response]])\n\u001b[0;32m--> 193\u001b[0m \u001b[38;5;28;01mreturn\u001b[39;00m \u001b[38;5;28;43mself\u001b[39;49m\u001b[38;5;241;43m.\u001b[39;49m\u001b[43m_query_with_context\u001b[49m\u001b[43m(\u001b[49m\u001b[43mquery_context\u001b[49m\u001b[43m)\u001b[49m\n",
      "File \u001b[0;32m~/cs526/CS526-project/web/venv/lib/python3.10/site-packages/clickhouse_connect/driver/httpclient.py:213\u001b[0m, in \u001b[0;36mHttpClient._query_with_context\u001b[0;34m(self, context)\u001b[0m\n\u001b[1;32m    211\u001b[0m     fields \u001b[38;5;241m=\u001b[39m \u001b[38;5;28;01mNone\u001b[39;00m\n\u001b[1;32m    212\u001b[0m     headers[\u001b[38;5;124m'\u001b[39m\u001b[38;5;124mContent-Type\u001b[39m\u001b[38;5;124m'\u001b[39m] \u001b[38;5;241m=\u001b[39m \u001b[38;5;124m'\u001b[39m\u001b[38;5;124mtext/plain; charset=utf-8\u001b[39m\u001b[38;5;124m'\u001b[39m\n\u001b[0;32m--> 213\u001b[0m response \u001b[38;5;241m=\u001b[39m \u001b[38;5;28;43mself\u001b[39;49m\u001b[38;5;241;43m.\u001b[39;49m\u001b[43m_raw_request\u001b[49m\u001b[43m(\u001b[49m\u001b[43mbody\u001b[49m\u001b[43m,\u001b[49m\n\u001b[1;32m    214\u001b[0m \u001b[43m                             \u001b[49m\u001b[43mparams\u001b[49m\u001b[43m,\u001b[49m\n\u001b[1;32m    215\u001b[0m \u001b[43m                             \u001b[49m\u001b[43mheaders\u001b[49m\u001b[43m,\u001b[49m\n\u001b[1;32m    216\u001b[0m \u001b[43m                             \u001b[49m\u001b[43mstream\u001b[49m\u001b[38;5;241;43m=\u001b[39;49m\u001b[38;5;28;43;01mTrue\u001b[39;49;00m\u001b[43m,\u001b[49m\n\u001b[1;32m    217\u001b[0m \u001b[43m                             \u001b[49m\u001b[43mretries\u001b[49m\u001b[38;5;241;43m=\u001b[39;49m\u001b[38;5;28;43mself\u001b[39;49m\u001b[38;5;241;43m.\u001b[39;49m\u001b[43mquery_retries\u001b[49m\u001b[43m,\u001b[49m\n\u001b[1;32m    218\u001b[0m \u001b[43m                             \u001b[49m\u001b[43mfields\u001b[49m\u001b[38;5;241;43m=\u001b[39;49m\u001b[43mfields\u001b[49m\u001b[43m,\u001b[49m\n\u001b[1;32m    219\u001b[0m \u001b[43m                             \u001b[49m\u001b[43mserver_wait\u001b[49m\u001b[38;5;241;43m=\u001b[39;49m\u001b[38;5;129;43;01mnot\u001b[39;49;00m\u001b[43m \u001b[49m\u001b[43mcontext\u001b[49m\u001b[38;5;241;43m.\u001b[39;49m\u001b[43mstreaming\u001b[49m\u001b[43m)\u001b[49m\n\u001b[1;32m    220\u001b[0m byte_source \u001b[38;5;241m=\u001b[39m RespBuffCls(ResponseSource(response))  \u001b[38;5;66;03m# pylint: disable=not-callable\u001b[39;00m\n\u001b[1;32m    221\u001b[0m context\u001b[38;5;241m.\u001b[39mset_response_tz(\u001b[38;5;28mself\u001b[39m\u001b[38;5;241m.\u001b[39m_check_tz_change(response\u001b[38;5;241m.\u001b[39mheaders\u001b[38;5;241m.\u001b[39mget(\u001b[38;5;124m'\u001b[39m\u001b[38;5;124mX-ClickHouse-Timezone\u001b[39m\u001b[38;5;124m'\u001b[39m)))\n",
      "File \u001b[0;32m~/cs526/CS526-project/web/venv/lib/python3.10/site-packages/clickhouse_connect/driver/httpclient.py:437\u001b[0m, in \u001b[0;36mHttpClient._raw_request\u001b[0;34m(self, data, params, headers, method, retries, stream, server_wait, fields, error_handler)\u001b[0m\n\u001b[1;32m    435\u001b[0m     error_handler(response)\n\u001b[1;32m    436\u001b[0m \u001b[38;5;28;01melse\u001b[39;00m:\n\u001b[0;32m--> 437\u001b[0m     \u001b[38;5;28;43mself\u001b[39;49m\u001b[38;5;241;43m.\u001b[39;49m\u001b[43m_error_handler\u001b[49m\u001b[43m(\u001b[49m\u001b[43mresponse\u001b[49m\u001b[43m)\u001b[49m\n",
      "File \u001b[0;32m~/cs526/CS526-project/web/venv/lib/python3.10/site-packages/clickhouse_connect/driver/httpclient.py:361\u001b[0m, in \u001b[0;36mHttpClient._error_handler\u001b[0;34m(self, response, retried)\u001b[0m\n\u001b[1;32m    359\u001b[0m     err_msg \u001b[38;5;241m=\u001b[39m common\u001b[38;5;241m.\u001b[39mformat_error(err_content\u001b[38;5;241m.\u001b[39mdecode(errors\u001b[38;5;241m=\u001b[39m\u001b[38;5;124m'\u001b[39m\u001b[38;5;124mbackslashreplace\u001b[39m\u001b[38;5;124m'\u001b[39m))\n\u001b[1;32m    360\u001b[0m     err_str \u001b[38;5;241m=\u001b[39m \u001b[38;5;124mf\u001b[39m\u001b[38;5;124m'\u001b[39m\u001b[38;5;124m:\u001b[39m\u001b[38;5;132;01m{\u001b[39;00merr_str\u001b[38;5;132;01m}\u001b[39;00m\u001b[38;5;130;01m\\n\u001b[39;00m\u001b[38;5;124m \u001b[39m\u001b[38;5;132;01m{\u001b[39;00merr_msg\u001b[38;5;132;01m}\u001b[39;00m\u001b[38;5;124m'\u001b[39m\n\u001b[0;32m--> 361\u001b[0m \u001b[38;5;28;01mraise\u001b[39;00m OperationalError(err_str) \u001b[38;5;28;01mif\u001b[39;00m retried \u001b[38;5;28;01melse\u001b[39;00m DatabaseError(err_str) \u001b[38;5;28;01mfrom\u001b[39;00m \u001b[38;5;28;01mNone\u001b[39;00m\n",
      "\u001b[0;31mDatabaseError\u001b[0m: :HTTPDriver for http://hub.publichealthhq.xyz:18123 returned response code 400)\n Code: 62. DB::Exception: Syntax error: failed at position 44 ('ON') (line 4, col 1): ON cps_00004.COUNTY = rural_urban_codes.COUNTY_NAME\n\n FORMAT Native. Expected one of: token, Dot, OpeningRoundBracket, UUID, alias, AS, identifier, FINAL, SAMPLE, table, table function, subquery or list of joined tables, array join, LEFT ARRAY JOIN, INNER, ARRAY JOIN, JOIN, PREWHERE, WHERE, GROUP BY, WITH, HAVING, WINDOW, ORDER BY, LIMIT, OFFSET, FETCH, SETTINGS, UNION, EXCEPT, INTERSECT, INTO OUTFILE, FORMAT, end of query. (SYNTAX_ERROR) (version 24.1.5.6 (official build))\n"
     ]
    }
   ],
   "source": [
    "result = client.query(\"\"\"\n",
    "SELECT *\n",
    "FROM cps_00004.rural_urban_codes\n",
    "ON cps_00004.rural_urban_codes.COUNTY = rural_urban_codes.COUNTY_NAME\n",
    "\"\"\")"
   ]
  },
  {
   "cell_type": "code",
   "execution_count": 33,
   "id": "a985f485-725e-407d-a2eb-8097cdcaea4d",
   "metadata": {},
   "outputs": [
    {
     "ename": "DatabaseError",
     "evalue": ":HTTPDriver for http://hub.publichealthhq.xyz:18123 returned response code 404)\n Code: 47. DB::Exception: Missing columns: 'cps_00004.COUNTY' while processing query: 'SELECT ROWNUM, YEAR, STATE_ABBREV, STATE_NAME, COUNTY_NAME, DATASOURCE, CATEGORY, MEASURE, DATA_VALUE_UNIT, DATA_VALUE_TYPE, DATA_VALUE, DATA_VALUE_FOOTNOTE_SYMBOL, DATA_VALUE_FOOTNOTE, LOW_CONFIDENCE_LIMIT, HIGH_CONFIDENCE_LIMIT, TOTAL_POPULATION, COUNTY_FIPS, CATEGORY_ID, MEASURE_ID, DATA_VALUE_TYPE_ID, SHORT_QUESTION_TEXT, GEOLOCATION, FIPS, rural_urban_codes.STATE_ABBREV, rural_urban_codes.COUNTY_NAME, POP, RUCC, DESCR FROM cps_00004.places_county ALL INNER JOIN cps_00004.rural_urban_codes ON cps_00004.COUNTY = FIPS WHERE YEAR > 1994', required columns: 'ROWNUM' 'STATE_ABBREV' 'MEASURE_ID' 'COUNTY_FIPS' 'COUNTY_NAME' 'LOW_CONFIDENCE_LIMIT' 'STATE_NAME' 'CATEGORY' 'DATA_VALUE_UNIT' 'rural_urban_codes.STATE_ABBREV' 'DESCR' 'DATA_VALUE_TYPE' 'DATASOURCE' 'cps_00004.COUNTY' 'MEASURE' 'CATEGORY_ID' 'SHORT_QUESTION_TEXT' 'DATA_VALUE_FOOTNOTE_SYMBOL' 'YEAR' 'rural_urban_codes.COUNTY_NAME' 'POP' 'HIGH_CONFIDENCE_LIMIT' 'DATA_VALUE_TYPE_ID' 'FIPS' 'TOTAL_POPULATION' 'GEOLOCATION' 'DATA_VALUE_FOOTNOTE' 'DATA_VALUE' 'RUCC', maybe you meant: 'ROWNUM', 'STATE_ABBREV', 'MEASURE_ID', 'COUNTY_FIPS', 'COUNTY_NAME', 'LOW_CONFIDENCE_LIMIT', 'STATE_NAME', 'CATEGORY', 'DATA_VALUE_UNIT', 'DATA_VALUE_TYPE', 'DATASOURCE', 'MEASURE', 'CATEGORY_ID', 'SHORT_QUESTION_TEXT', 'DATA_VALUE_FOOTNOTE_SYMBOL', 'YEAR', 'HIGH_CONFIDENCE_LIMIT', 'DATA_VALUE_TYPE_ID', 'TOTAL_POPULATION', 'GEOLOCATION', 'DATA_VALUE_FOOTNOTE' or 'DATA_VALUE', joined columns: 'FIPS' 'rural_urban_codes.STATE_ABBREV' 'rural_urban_codes.COUNTY_NAME' 'POP' 'RUCC' 'DESCR' '_part' '_part_index' '_part_uuid' '_partition_id' '_partition_value' '_sample_factor' '_part_offset' '_row_exists' '_block_number'. (UNKNOWN_IDENTIFIER) (version 24.1.5.6 (official build))\n",
     "output_type": "error",
     "traceback": [
      "\u001b[0;31m---------------------------------------------------------------------------\u001b[0m",
      "\u001b[0;31mDatabaseError\u001b[0m                             Traceback (most recent call last)",
      "Cell \u001b[0;32mIn[33], line 1\u001b[0m\n\u001b[0;32m----> 1\u001b[0m result \u001b[38;5;241m=\u001b[39m \u001b[43mclient\u001b[49m\u001b[38;5;241;43m.\u001b[39;49m\u001b[43mquery\u001b[49m\u001b[43m(\u001b[49m\u001b[38;5;124;43m\"\"\"\u001b[39;49m\n\u001b[1;32m      2\u001b[0m \u001b[38;5;124;43mSELECT * \u001b[39;49m\n\u001b[1;32m      3\u001b[0m \u001b[38;5;124;43mFROM cps_00004.places_county\u001b[39;49m\n\u001b[1;32m      4\u001b[0m \u001b[38;5;124;43mJOIN cps_00004.rural_urban_codes \u001b[39;49m\n\u001b[1;32m      5\u001b[0m \u001b[38;5;124;43mON cps_00004.COUNTY = rural_urban_codes.FIPS\u001b[39;49m\n\u001b[1;32m      6\u001b[0m \u001b[38;5;124;43mWHERE cps_00004.places_county.YEAR > 1994\u001b[39;49m\n\u001b[1;32m      7\u001b[0m \u001b[38;5;124;43m\"\"\"\u001b[39;49m\u001b[43m)\u001b[49m\n",
      "File \u001b[0;32m~/cs526/CS526-project/web/venv/lib/python3.10/site-packages/clickhouse_connect/driver/client.py:193\u001b[0m, in \u001b[0;36mClient.query\u001b[0;34m(self, query, parameters, settings, query_formats, column_formats, encoding, use_none, column_oriented, use_numpy, max_str_len, context, query_tz, column_tzs, external_data)\u001b[0m\n\u001b[1;32m    191\u001b[0m         \u001b[38;5;28;01mreturn\u001b[39;00m response\u001b[38;5;241m.\u001b[39mas_query_result()\n\u001b[1;32m    192\u001b[0m     \u001b[38;5;28;01mreturn\u001b[39;00m QueryResult([response] \u001b[38;5;28;01mif\u001b[39;00m \u001b[38;5;28misinstance\u001b[39m(response, \u001b[38;5;28mlist\u001b[39m) \u001b[38;5;28;01melse\u001b[39;00m [[response]])\n\u001b[0;32m--> 193\u001b[0m \u001b[38;5;28;01mreturn\u001b[39;00m \u001b[38;5;28;43mself\u001b[39;49m\u001b[38;5;241;43m.\u001b[39;49m\u001b[43m_query_with_context\u001b[49m\u001b[43m(\u001b[49m\u001b[43mquery_context\u001b[49m\u001b[43m)\u001b[49m\n",
      "File \u001b[0;32m~/cs526/CS526-project/web/venv/lib/python3.10/site-packages/clickhouse_connect/driver/httpclient.py:213\u001b[0m, in \u001b[0;36mHttpClient._query_with_context\u001b[0;34m(self, context)\u001b[0m\n\u001b[1;32m    211\u001b[0m     fields \u001b[38;5;241m=\u001b[39m \u001b[38;5;28;01mNone\u001b[39;00m\n\u001b[1;32m    212\u001b[0m     headers[\u001b[38;5;124m'\u001b[39m\u001b[38;5;124mContent-Type\u001b[39m\u001b[38;5;124m'\u001b[39m] \u001b[38;5;241m=\u001b[39m \u001b[38;5;124m'\u001b[39m\u001b[38;5;124mtext/plain; charset=utf-8\u001b[39m\u001b[38;5;124m'\u001b[39m\n\u001b[0;32m--> 213\u001b[0m response \u001b[38;5;241m=\u001b[39m \u001b[38;5;28;43mself\u001b[39;49m\u001b[38;5;241;43m.\u001b[39;49m\u001b[43m_raw_request\u001b[49m\u001b[43m(\u001b[49m\u001b[43mbody\u001b[49m\u001b[43m,\u001b[49m\n\u001b[1;32m    214\u001b[0m \u001b[43m                             \u001b[49m\u001b[43mparams\u001b[49m\u001b[43m,\u001b[49m\n\u001b[1;32m    215\u001b[0m \u001b[43m                             \u001b[49m\u001b[43mheaders\u001b[49m\u001b[43m,\u001b[49m\n\u001b[1;32m    216\u001b[0m \u001b[43m                             \u001b[49m\u001b[43mstream\u001b[49m\u001b[38;5;241;43m=\u001b[39;49m\u001b[38;5;28;43;01mTrue\u001b[39;49;00m\u001b[43m,\u001b[49m\n\u001b[1;32m    217\u001b[0m \u001b[43m                             \u001b[49m\u001b[43mretries\u001b[49m\u001b[38;5;241;43m=\u001b[39;49m\u001b[38;5;28;43mself\u001b[39;49m\u001b[38;5;241;43m.\u001b[39;49m\u001b[43mquery_retries\u001b[49m\u001b[43m,\u001b[49m\n\u001b[1;32m    218\u001b[0m \u001b[43m                             \u001b[49m\u001b[43mfields\u001b[49m\u001b[38;5;241;43m=\u001b[39;49m\u001b[43mfields\u001b[49m\u001b[43m,\u001b[49m\n\u001b[1;32m    219\u001b[0m \u001b[43m                             \u001b[49m\u001b[43mserver_wait\u001b[49m\u001b[38;5;241;43m=\u001b[39;49m\u001b[38;5;129;43;01mnot\u001b[39;49;00m\u001b[43m \u001b[49m\u001b[43mcontext\u001b[49m\u001b[38;5;241;43m.\u001b[39;49m\u001b[43mstreaming\u001b[49m\u001b[43m)\u001b[49m\n\u001b[1;32m    220\u001b[0m byte_source \u001b[38;5;241m=\u001b[39m RespBuffCls(ResponseSource(response))  \u001b[38;5;66;03m# pylint: disable=not-callable\u001b[39;00m\n\u001b[1;32m    221\u001b[0m context\u001b[38;5;241m.\u001b[39mset_response_tz(\u001b[38;5;28mself\u001b[39m\u001b[38;5;241m.\u001b[39m_check_tz_change(response\u001b[38;5;241m.\u001b[39mheaders\u001b[38;5;241m.\u001b[39mget(\u001b[38;5;124m'\u001b[39m\u001b[38;5;124mX-ClickHouse-Timezone\u001b[39m\u001b[38;5;124m'\u001b[39m)))\n",
      "File \u001b[0;32m~/cs526/CS526-project/web/venv/lib/python3.10/site-packages/clickhouse_connect/driver/httpclient.py:437\u001b[0m, in \u001b[0;36mHttpClient._raw_request\u001b[0;34m(self, data, params, headers, method, retries, stream, server_wait, fields, error_handler)\u001b[0m\n\u001b[1;32m    435\u001b[0m     error_handler(response)\n\u001b[1;32m    436\u001b[0m \u001b[38;5;28;01melse\u001b[39;00m:\n\u001b[0;32m--> 437\u001b[0m     \u001b[38;5;28;43mself\u001b[39;49m\u001b[38;5;241;43m.\u001b[39;49m\u001b[43m_error_handler\u001b[49m\u001b[43m(\u001b[49m\u001b[43mresponse\u001b[49m\u001b[43m)\u001b[49m\n",
      "File \u001b[0;32m~/cs526/CS526-project/web/venv/lib/python3.10/site-packages/clickhouse_connect/driver/httpclient.py:361\u001b[0m, in \u001b[0;36mHttpClient._error_handler\u001b[0;34m(self, response, retried)\u001b[0m\n\u001b[1;32m    359\u001b[0m     err_msg \u001b[38;5;241m=\u001b[39m common\u001b[38;5;241m.\u001b[39mformat_error(err_content\u001b[38;5;241m.\u001b[39mdecode(errors\u001b[38;5;241m=\u001b[39m\u001b[38;5;124m'\u001b[39m\u001b[38;5;124mbackslashreplace\u001b[39m\u001b[38;5;124m'\u001b[39m))\n\u001b[1;32m    360\u001b[0m     err_str \u001b[38;5;241m=\u001b[39m \u001b[38;5;124mf\u001b[39m\u001b[38;5;124m'\u001b[39m\u001b[38;5;124m:\u001b[39m\u001b[38;5;132;01m{\u001b[39;00merr_str\u001b[38;5;132;01m}\u001b[39;00m\u001b[38;5;130;01m\\n\u001b[39;00m\u001b[38;5;124m \u001b[39m\u001b[38;5;132;01m{\u001b[39;00merr_msg\u001b[38;5;132;01m}\u001b[39;00m\u001b[38;5;124m'\u001b[39m\n\u001b[0;32m--> 361\u001b[0m \u001b[38;5;28;01mraise\u001b[39;00m OperationalError(err_str) \u001b[38;5;28;01mif\u001b[39;00m retried \u001b[38;5;28;01melse\u001b[39;00m DatabaseError(err_str) \u001b[38;5;28;01mfrom\u001b[39;00m \u001b[38;5;28;01mNone\u001b[39;00m\n",
      "\u001b[0;31mDatabaseError\u001b[0m: :HTTPDriver for http://hub.publichealthhq.xyz:18123 returned response code 404)\n Code: 47. DB::Exception: Missing columns: 'cps_00004.COUNTY' while processing query: 'SELECT ROWNUM, YEAR, STATE_ABBREV, STATE_NAME, COUNTY_NAME, DATASOURCE, CATEGORY, MEASURE, DATA_VALUE_UNIT, DATA_VALUE_TYPE, DATA_VALUE, DATA_VALUE_FOOTNOTE_SYMBOL, DATA_VALUE_FOOTNOTE, LOW_CONFIDENCE_LIMIT, HIGH_CONFIDENCE_LIMIT, TOTAL_POPULATION, COUNTY_FIPS, CATEGORY_ID, MEASURE_ID, DATA_VALUE_TYPE_ID, SHORT_QUESTION_TEXT, GEOLOCATION, FIPS, rural_urban_codes.STATE_ABBREV, rural_urban_codes.COUNTY_NAME, POP, RUCC, DESCR FROM cps_00004.places_county ALL INNER JOIN cps_00004.rural_urban_codes ON cps_00004.COUNTY = FIPS WHERE YEAR > 1994', required columns: 'ROWNUM' 'STATE_ABBREV' 'MEASURE_ID' 'COUNTY_FIPS' 'COUNTY_NAME' 'LOW_CONFIDENCE_LIMIT' 'STATE_NAME' 'CATEGORY' 'DATA_VALUE_UNIT' 'rural_urban_codes.STATE_ABBREV' 'DESCR' 'DATA_VALUE_TYPE' 'DATASOURCE' 'cps_00004.COUNTY' 'MEASURE' 'CATEGORY_ID' 'SHORT_QUESTION_TEXT' 'DATA_VALUE_FOOTNOTE_SYMBOL' 'YEAR' 'rural_urban_codes.COUNTY_NAME' 'POP' 'HIGH_CONFIDENCE_LIMIT' 'DATA_VALUE_TYPE_ID' 'FIPS' 'TOTAL_POPULATION' 'GEOLOCATION' 'DATA_VALUE_FOOTNOTE' 'DATA_VALUE' 'RUCC', maybe you meant: 'ROWNUM', 'STATE_ABBREV', 'MEASURE_ID', 'COUNTY_FIPS', 'COUNTY_NAME', 'LOW_CONFIDENCE_LIMIT', 'STATE_NAME', 'CATEGORY', 'DATA_VALUE_UNIT', 'DATA_VALUE_TYPE', 'DATASOURCE', 'MEASURE', 'CATEGORY_ID', 'SHORT_QUESTION_TEXT', 'DATA_VALUE_FOOTNOTE_SYMBOL', 'YEAR', 'HIGH_CONFIDENCE_LIMIT', 'DATA_VALUE_TYPE_ID', 'TOTAL_POPULATION', 'GEOLOCATION', 'DATA_VALUE_FOOTNOTE' or 'DATA_VALUE', joined columns: 'FIPS' 'rural_urban_codes.STATE_ABBREV' 'rural_urban_codes.COUNTY_NAME' 'POP' 'RUCC' 'DESCR' '_part' '_part_index' '_part_uuid' '_partition_id' '_partition_value' '_sample_factor' '_part_offset' '_row_exists' '_block_number'. (UNKNOWN_IDENTIFIER) (version 24.1.5.6 (official build))\n"
     ]
    }
   ],
   "source": [
    "result = client.query(\"\"\"\n",
    "SELECT * \n",
    "FROM cps_00004.places_county\n",
    "JOIN cps_00004.rural_urban_codes \n",
    "ON cps_00004.places_county.COUNTY_FIPS = rural_urban_codes.FIPS\n",
    "WHERE cps_00004.places_county.YEAR > 1994\n",
    "\"\"\")\n"
   ]
  },
  {
   "cell_type": "code",
   "execution_count": null,
   "id": "cd96e86b-dcb3-45ba-8cdd-055a1f9aa8fb",
   "metadata": {},
   "outputs": [],
   "source": []
  }
 ],
 "metadata": {
  "kernelspec": {
   "display_name": "Python 3 (ipykernel)",
   "language": "python",
   "name": "python3"
  },
  "language_info": {
   "codemirror_mode": {
    "name": "ipython",
    "version": 3
   },
   "file_extension": ".py",
   "mimetype": "text/x-python",
   "name": "python",
   "nbconvert_exporter": "python",
   "pygments_lexer": "ipython3",
   "version": "3.10.12"
  }
 },
 "nbformat": 4,
 "nbformat_minor": 5
}
