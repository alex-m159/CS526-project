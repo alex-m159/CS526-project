{
 "cells": [
  {
   "cell_type": "code",
   "execution_count": 13,
   "id": "ab95652f-7392-4869-83d1-77380208d1e8",
   "metadata": {},
   "outputs": [],
   "source": [
    "import clickhouse_connect\n",
    "import polars as pl\n",
    "import matplotlib.pyplot as plt\n",
    "import numpy as np\n",
    "import plotly.express as px\n",
    "import matplotlib.pyplot as plt\n",
    "from matplotlib.colors import Normalize\n",
    "from matplotlib.cm import ScalarMappable"
   ]
  },
  {
   "cell_type": "code",
   "execution_count": 14,
   "id": "9bb0dbd9-46d6-4b68-af87-807c38632c64",
   "metadata": {},
   "outputs": [],
   "source": [
    "client = clickhouse_connect.get_client(host='hub.publichealthhq.xyz', port=18123, username='default', password='Password123!')"
   ]
  },
  {
   "cell_type": "code",
   "execution_count": 15,
   "id": "aea245a6-9de1-41b0-ba06-a0e346eb329e",
   "metadata": {},
   "outputs": [
    {
     "ename": "NameError",
     "evalue": "name 'ccrs' is not defined",
     "output_type": "error",
     "traceback": [
      "\u001b[0;31m---------------------------------------------------------------------------\u001b[0m",
      "\u001b[0;31mNameError\u001b[0m                                 Traceback (most recent call last)",
      "Cell \u001b[0;32mIn[15], line 5\u001b[0m\n\u001b[1;32m      2\u001b[0m namemap \u001b[38;5;241m=\u001b[39m {\u001b[38;5;241m.\u001b[39m\u001b[38;5;241m.\u001b[39m\u001b[38;5;241m.\u001b[39m}       \u001b[38;5;66;03m# Assuming you have a dictionary mapping names to IDs\u001b[39;00m\n\u001b[1;32m      4\u001b[0m \u001b[38;5;66;03m# Create a figure and axis with a PlateCarree projection\u001b[39;00m\n\u001b[0;32m----> 5\u001b[0m fig, ax \u001b[38;5;241m=\u001b[39m plt\u001b[38;5;241m.\u001b[39msubplots(subplot_kw\u001b[38;5;241m=\u001b[39m{\u001b[38;5;124m'\u001b[39m\u001b[38;5;124mprojection\u001b[39m\u001b[38;5;124m'\u001b[39m: \u001b[43mccrs\u001b[49m\u001b[38;5;241m.\u001b[39mPlateCarree()}, figsize\u001b[38;5;241m=\u001b[39m(\u001b[38;5;241m10\u001b[39m, \u001b[38;5;241m6\u001b[39m))\n\u001b[1;32m      7\u001b[0m \u001b[38;5;66;03m# Plot the county shapes\u001b[39;00m\n\u001b[1;32m      8\u001b[0m \u001b[38;5;28;01mfor\u001b[39;00m shape, rate \u001b[38;5;129;01min\u001b[39;00m \u001b[38;5;28mzip\u001b[39m(us_shapes, unemployment):\n",
      "\u001b[0;31mNameError\u001b[0m: name 'ccrs' is not defined"
     ]
    }
   ],
   "source": [
    "unemployment = [...]  # Assuming you have a list of unemployment rates\n",
    "namemap = {...}       # Assuming you have a dictionary mapping names to IDs\n",
    "\n",
    "# Create a figure and axis with a PlateCarree projection\n",
    "fig, ax = plt.subplots(subplot_kw={'projection': ccrs.PlateCarree()}, figsize=(10, 6))\n",
    "\n",
    "# Plot the county shapes\n",
    "for shape, rate in zip(us_shapes, unemployment):\n",
    "    ax.add_geometries([shape], ccrs.PlateCarree(), facecolor=cmap(rate))\n",
    "\n",
    "# Add colorbar\n",
    "cmap = plt.cm.get_cmap('Blues')  # Choose a colormap\n",
    "norm = Normalize(vmin=min(unemployment), vmax=max(unemployment))\n",
    "sm = ScalarMappable(norm=norm, cmap=cmap)\n",
    "cbar = fig.colorbar(sm, ax=ax, orientation='vertical', fraction=0.03, pad=0.04)\n",
    "cbar.set_label('Unemployment rate (%)')\n",
    "\n",
    "# Set title\n",
    "ax.set_title('Unemployment Rate by County')\n",
    "\n",
    "# Show plot\n",
    "plt.show()"
   ]
  },
  {
   "cell_type": "code",
   "execution_count": null,
   "id": "ebc8d634-d19f-4707-85ea-19f5b0b003e7",
   "metadata": {},
   "outputs": [],
   "source": []
  }
 ],
 "metadata": {
  "kernelspec": {
   "display_name": "Python 3 (ipykernel)",
   "language": "python",
   "name": "python3"
  },
  "language_info": {
   "codemirror_mode": {
    "name": "ipython",
    "version": 3
   },
   "file_extension": ".py",
   "mimetype": "text/x-python",
   "name": "python",
   "nbconvert_exporter": "python",
   "pygments_lexer": "ipython3",
   "version": "3.10.12"
  }
 },
 "nbformat": 4,
 "nbformat_minor": 5
}
