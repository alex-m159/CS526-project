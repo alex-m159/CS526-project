{
 "cells": [
  {
   "cell_type": "code",
   "execution_count": 3,
   "id": "05c33778-1310-4404-b394-d82e8877d2f3",
   "metadata": {},
   "outputs": [],
   "source": [
    "import clickhouse_connect\n",
    "import polars as pl"
   ]
  },
  {
   "cell_type": "markdown",
   "id": "763d3626-3949-4b46-bf19-f2d53fb07f2e",
   "metadata": {},
   "source": [
    "Use the following command to get the IP Address of the docker container running the database, and then\n",
    "use that for the host argument below:\n",
    "docker inspect -f '{{range.NetworkSettings.Networks}}{{.IPAddress}}{{end}}' database"
   ]
  },
  {
   "cell_type": "code",
   "execution_count": 4,
   "id": "4d9f6ea4-1f2d-465f-8de9-0bfbefd132d2",
   "metadata": {
    "scrolled": true
   },
   "outputs": [
    {
     "ename": "DatabaseError",
     "evalue": ":HTTPDriver for http://hub.publichealthhq.xyz:18123 returned response code 403)\n Code: 516. DB::Exception: default: Authentication failed: password is incorrect, or there is no user with such name.\n\nIf you have installed ClickHouse and forgot password you can reset it in the configuration file.\nThe password for default user is typically located at /etc/clickhouse-server/users.d/default-password.xml\nand deleting this file will reset the password.\nSee also /etc/clickhouse-server/users.xml on the server where ClickHouse is installed.\n\n. (AUTHENTICATION_FAILED) (version 24.1.5.6 (official build))\n",
     "output_type": "error",
     "traceback": [
      "\u001b[0;31m---------------------------------------------------------------------------\u001b[0m",
      "\u001b[0;31mDatabaseError\u001b[0m                             Traceback (most recent call last)",
      "Cell \u001b[0;32mIn[4], line 2\u001b[0m\n\u001b[1;32m      1\u001b[0m \u001b[38;5;66;03m# client = clickhouse_connect.get_client(host='172.20.0.2', username='default', password='Password123!')\u001b[39;00m\n\u001b[0;32m----> 2\u001b[0m client \u001b[38;5;241m=\u001b[39m \u001b[43mclickhouse_connect\u001b[49m\u001b[38;5;241;43m.\u001b[39;49m\u001b[43mget_client\u001b[49m\u001b[43m(\u001b[49m\u001b[43mhost\u001b[49m\u001b[38;5;241;43m=\u001b[39;49m\u001b[38;5;124;43m'\u001b[39;49m\u001b[38;5;124;43mhub.publichealthhq.xyz\u001b[39;49m\u001b[38;5;124;43m'\u001b[39;49m\u001b[43m,\u001b[49m\u001b[43m \u001b[49m\u001b[43mport\u001b[49m\u001b[38;5;241;43m=\u001b[39;49m\u001b[38;5;241;43m18123\u001b[39;49m\u001b[43m,\u001b[49m\u001b[43m \u001b[49m\u001b[43musername\u001b[49m\u001b[38;5;241;43m=\u001b[39;49m\u001b[38;5;124;43m'\u001b[39;49m\u001b[38;5;124;43mdefault\u001b[39;49m\u001b[38;5;124;43m'\u001b[39;49m\u001b[43m,\u001b[49m\u001b[43m \u001b[49m\u001b[43mpassword\u001b[49m\u001b[38;5;241;43m=\u001b[39;49m\u001b[38;5;124;43m'\u001b[39;49m\u001b[38;5;124;43mPassword123!\u001b[39;49m\u001b[38;5;124;43m'\u001b[39;49m\u001b[43m)\u001b[49m\n",
      "File \u001b[0;32m~/cs526/CS526-project/web/venv/lib/python3.10/site-packages/clickhouse_connect/driver/__init__.py:111\u001b[0m, in \u001b[0;36mcreate_client\u001b[0;34m(host, username, password, database, interface, port, secure, dsn, settings, generic_args, **kwargs)\u001b[0m\n\u001b[1;32m    109\u001b[0m                     name \u001b[38;5;241m=\u001b[39m name[\u001b[38;5;241m3\u001b[39m:]\n\u001b[1;32m    110\u001b[0m                 settings[name] \u001b[38;5;241m=\u001b[39m value\n\u001b[0;32m--> 111\u001b[0m     \u001b[38;5;28;01mreturn\u001b[39;00m \u001b[43mHttpClient\u001b[49m\u001b[43m(\u001b[49m\u001b[43minterface\u001b[49m\u001b[43m,\u001b[49m\u001b[43m \u001b[49m\u001b[43mhost\u001b[49m\u001b[43m,\u001b[49m\u001b[43m \u001b[49m\u001b[43mport\u001b[49m\u001b[43m,\u001b[49m\u001b[43m \u001b[49m\u001b[43musername\u001b[49m\u001b[43m,\u001b[49m\u001b[43m \u001b[49m\u001b[43mpassword\u001b[49m\u001b[43m,\u001b[49m\u001b[43m \u001b[49m\u001b[43mdatabase\u001b[49m\u001b[43m,\u001b[49m\u001b[43m \u001b[49m\u001b[43msettings\u001b[49m\u001b[38;5;241;43m=\u001b[39;49m\u001b[43msettings\u001b[49m\u001b[43m,\u001b[49m\u001b[43m \u001b[49m\u001b[38;5;241;43m*\u001b[39;49m\u001b[38;5;241;43m*\u001b[39;49m\u001b[43mkwargs\u001b[49m\u001b[43m)\u001b[49m\n\u001b[1;32m    112\u001b[0m \u001b[38;5;28;01mraise\u001b[39;00m ProgrammingError(\u001b[38;5;124mf\u001b[39m\u001b[38;5;124m'\u001b[39m\u001b[38;5;124mUnrecognized client type \u001b[39m\u001b[38;5;132;01m{\u001b[39;00minterface\u001b[38;5;132;01m}\u001b[39;00m\u001b[38;5;124m'\u001b[39m)\n",
      "File \u001b[0;32m~/cs526/CS526-project/web/venv/lib/python3.10/site-packages/clickhouse_connect/driver/httpclient.py:144\u001b[0m, in \u001b[0;36mHttpClient.__init__\u001b[0;34m(self, interface, host, port, username, password, database, compress, query_limit, query_retries, connect_timeout, send_receive_timeout, client_name, verify, ca_cert, client_cert, client_cert_key, session_id, settings, pool_mgr, http_proxy, https_proxy, server_host_name, apply_server_timezone)\u001b[0m\n\u001b[1;32m    141\u001b[0m \u001b[38;5;28;01melse\u001b[39;00m:\n\u001b[1;32m    142\u001b[0m     compression \u001b[38;5;241m=\u001b[39m \u001b[38;5;28;01mNone\u001b[39;00m\n\u001b[0;32m--> 144\u001b[0m \u001b[38;5;28;43msuper\u001b[39;49m\u001b[43m(\u001b[49m\u001b[43m)\u001b[49m\u001b[38;5;241;43m.\u001b[39;49m\u001b[38;5;21;43m__init__\u001b[39;49m\u001b[43m(\u001b[49m\u001b[43mdatabase\u001b[49m\u001b[38;5;241;43m=\u001b[39;49m\u001b[43mdatabase\u001b[49m\u001b[43m,\u001b[49m\n\u001b[1;32m    145\u001b[0m \u001b[43m                 \u001b[49m\u001b[43muri\u001b[49m\u001b[38;5;241;43m=\u001b[39;49m\u001b[38;5;28;43mself\u001b[39;49m\u001b[38;5;241;43m.\u001b[39;49m\u001b[43murl\u001b[49m\u001b[43m,\u001b[49m\n\u001b[1;32m    146\u001b[0m \u001b[43m                 \u001b[49m\u001b[43mquery_limit\u001b[49m\u001b[38;5;241;43m=\u001b[39;49m\u001b[43mquery_limit\u001b[49m\u001b[43m,\u001b[49m\n\u001b[1;32m    147\u001b[0m \u001b[43m                 \u001b[49m\u001b[43mquery_retries\u001b[49m\u001b[38;5;241;43m=\u001b[39;49m\u001b[43mquery_retries\u001b[49m\u001b[43m,\u001b[49m\n\u001b[1;32m    148\u001b[0m \u001b[43m                 \u001b[49m\u001b[43mserver_host_name\u001b[49m\u001b[38;5;241;43m=\u001b[39;49m\u001b[43mserver_host_name\u001b[49m\u001b[43m,\u001b[49m\n\u001b[1;32m    149\u001b[0m \u001b[43m                 \u001b[49m\u001b[43mapply_server_timezone\u001b[49m\u001b[38;5;241;43m=\u001b[39;49m\u001b[43mapply_server_timezone\u001b[49m\u001b[43m)\u001b[49m\n\u001b[1;32m    150\u001b[0m \u001b[38;5;28mself\u001b[39m\u001b[38;5;241m.\u001b[39mparams \u001b[38;5;241m=\u001b[39m \u001b[38;5;28mself\u001b[39m\u001b[38;5;241m.\u001b[39m_validate_settings(ch_settings)\n\u001b[1;32m    151\u001b[0m comp_setting \u001b[38;5;241m=\u001b[39m \u001b[38;5;28mself\u001b[39m\u001b[38;5;241m.\u001b[39m_setting_status(\u001b[38;5;124m'\u001b[39m\u001b[38;5;124menable_http_compression\u001b[39m\u001b[38;5;124m'\u001b[39m)\n",
      "File \u001b[0;32m~/cs526/CS526-project/web/venv/lib/python3.10/site-packages/clickhouse_connect/driver/client.py:60\u001b[0m, in \u001b[0;36mClient.__init__\u001b[0;34m(self, database, query_limit, uri, query_retries, server_host_name, apply_server_timezone)\u001b[0m\n\u001b[1;32m     57\u001b[0m \u001b[38;5;28mself\u001b[39m\u001b[38;5;241m.\u001b[39mserver_host_name \u001b[38;5;241m=\u001b[39m server_host_name\n\u001b[1;32m     58\u001b[0m \u001b[38;5;28mself\u001b[39m\u001b[38;5;241m.\u001b[39mserver_tz \u001b[38;5;241m=\u001b[39m pytz\u001b[38;5;241m.\u001b[39mUTC\n\u001b[1;32m     59\u001b[0m \u001b[38;5;28mself\u001b[39m\u001b[38;5;241m.\u001b[39mserver_version, server_tz \u001b[38;5;241m=\u001b[39m \\\n\u001b[0;32m---> 60\u001b[0m     \u001b[38;5;28mtuple\u001b[39m(\u001b[38;5;28;43mself\u001b[39;49m\u001b[38;5;241;43m.\u001b[39;49m\u001b[43mcommand\u001b[49m\u001b[43m(\u001b[49m\u001b[38;5;124;43m'\u001b[39;49m\u001b[38;5;124;43mSELECT version(), timezone()\u001b[39;49m\u001b[38;5;124;43m'\u001b[39;49m\u001b[43m,\u001b[49m\u001b[43m \u001b[49m\u001b[43muse_database\u001b[49m\u001b[38;5;241;43m=\u001b[39;49m\u001b[38;5;28;43;01mFalse\u001b[39;49;00m\u001b[43m)\u001b[49m)\n\u001b[1;32m     61\u001b[0m \u001b[38;5;28;01mtry\u001b[39;00m:\n\u001b[1;32m     62\u001b[0m     \u001b[38;5;28mself\u001b[39m\u001b[38;5;241m.\u001b[39mserver_tz \u001b[38;5;241m=\u001b[39m pytz\u001b[38;5;241m.\u001b[39mtimezone(server_tz)\n",
      "File \u001b[0;32m~/cs526/CS526-project/web/venv/lib/python3.10/site-packages/clickhouse_connect/driver/httpclient.py:335\u001b[0m, in \u001b[0;36mHttpClient.command\u001b[0;34m(self, cmd, parameters, data, settings, use_database, external_data)\u001b[0m\n\u001b[1;32m    332\u001b[0m params\u001b[38;5;241m.\u001b[39mupdate(\u001b[38;5;28mself\u001b[39m\u001b[38;5;241m.\u001b[39m_validate_settings(settings \u001b[38;5;129;01mor\u001b[39;00m {}))\n\u001b[1;32m    334\u001b[0m method \u001b[38;5;241m=\u001b[39m \u001b[38;5;124m'\u001b[39m\u001b[38;5;124mPOST\u001b[39m\u001b[38;5;124m'\u001b[39m \u001b[38;5;28;01mif\u001b[39;00m payload \u001b[38;5;129;01mor\u001b[39;00m fields \u001b[38;5;28;01melse\u001b[39;00m \u001b[38;5;124m'\u001b[39m\u001b[38;5;124mGET\u001b[39m\u001b[38;5;124m'\u001b[39m\n\u001b[0;32m--> 335\u001b[0m response \u001b[38;5;241m=\u001b[39m \u001b[38;5;28;43mself\u001b[39;49m\u001b[38;5;241;43m.\u001b[39;49m\u001b[43m_raw_request\u001b[49m\u001b[43m(\u001b[49m\u001b[43mpayload\u001b[49m\u001b[43m,\u001b[49m\u001b[43m \u001b[49m\u001b[43mparams\u001b[49m\u001b[43m,\u001b[49m\u001b[43m \u001b[49m\u001b[43mheaders\u001b[49m\u001b[43m,\u001b[49m\u001b[43m \u001b[49m\u001b[43mmethod\u001b[49m\u001b[43m,\u001b[49m\u001b[43m \u001b[49m\u001b[43mfields\u001b[49m\u001b[38;5;241;43m=\u001b[39;49m\u001b[43mfields\u001b[49m\u001b[43m)\u001b[49m\n\u001b[1;32m    336\u001b[0m \u001b[38;5;28;01mif\u001b[39;00m response\u001b[38;5;241m.\u001b[39mdata:\n\u001b[1;32m    337\u001b[0m     \u001b[38;5;28;01mtry\u001b[39;00m:\n",
      "File \u001b[0;32m~/cs526/CS526-project/web/venv/lib/python3.10/site-packages/clickhouse_connect/driver/httpclient.py:437\u001b[0m, in \u001b[0;36mHttpClient._raw_request\u001b[0;34m(self, data, params, headers, method, retries, stream, server_wait, fields, error_handler)\u001b[0m\n\u001b[1;32m    435\u001b[0m     error_handler(response)\n\u001b[1;32m    436\u001b[0m \u001b[38;5;28;01melse\u001b[39;00m:\n\u001b[0;32m--> 437\u001b[0m     \u001b[38;5;28;43mself\u001b[39;49m\u001b[38;5;241;43m.\u001b[39;49m\u001b[43m_error_handler\u001b[49m\u001b[43m(\u001b[49m\u001b[43mresponse\u001b[49m\u001b[43m)\u001b[49m\n",
      "File \u001b[0;32m~/cs526/CS526-project/web/venv/lib/python3.10/site-packages/clickhouse_connect/driver/httpclient.py:361\u001b[0m, in \u001b[0;36mHttpClient._error_handler\u001b[0;34m(self, response, retried)\u001b[0m\n\u001b[1;32m    359\u001b[0m     err_msg \u001b[38;5;241m=\u001b[39m common\u001b[38;5;241m.\u001b[39mformat_error(err_content\u001b[38;5;241m.\u001b[39mdecode(errors\u001b[38;5;241m=\u001b[39m\u001b[38;5;124m'\u001b[39m\u001b[38;5;124mbackslashreplace\u001b[39m\u001b[38;5;124m'\u001b[39m))\n\u001b[1;32m    360\u001b[0m     err_str \u001b[38;5;241m=\u001b[39m \u001b[38;5;124mf\u001b[39m\u001b[38;5;124m'\u001b[39m\u001b[38;5;124m:\u001b[39m\u001b[38;5;132;01m{\u001b[39;00merr_str\u001b[38;5;132;01m}\u001b[39;00m\u001b[38;5;130;01m\\n\u001b[39;00m\u001b[38;5;124m \u001b[39m\u001b[38;5;132;01m{\u001b[39;00merr_msg\u001b[38;5;132;01m}\u001b[39;00m\u001b[38;5;124m'\u001b[39m\n\u001b[0;32m--> 361\u001b[0m \u001b[38;5;28;01mraise\u001b[39;00m OperationalError(err_str) \u001b[38;5;28;01mif\u001b[39;00m retried \u001b[38;5;28;01melse\u001b[39;00m DatabaseError(err_str) \u001b[38;5;28;01mfrom\u001b[39;00m \u001b[38;5;28;01mNone\u001b[39;00m\n",
      "\u001b[0;31mDatabaseError\u001b[0m: :HTTPDriver for http://hub.publichealthhq.xyz:18123 returned response code 403)\n Code: 516. DB::Exception: default: Authentication failed: password is incorrect, or there is no user with such name.\n\nIf you have installed ClickHouse and forgot password you can reset it in the configuration file.\nThe password for default user is typically located at /etc/clickhouse-server/users.d/default-password.xml\nand deleting this file will reset the password.\nSee also /etc/clickhouse-server/users.xml on the server where ClickHouse is installed.\n\n. (AUTHENTICATION_FAILED) (version 24.1.5.6 (official build))\n"
     ]
    }
   ],
   "source": [
    "# client = clickhouse_connect.get_client(host='172.20.0.2', username='default', password='Password123!')\n",
    "client = clickhouse_connect.get_client(host='hub.publichealthhq.xyz', port=18123, username='default', password='Password123!')"
   ]
  },
  {
   "cell_type": "code",
   "execution_count": 3,
   "id": "777a8d1d-dbed-46d6-93b7-742e2a2aeb15",
   "metadata": {},
   "outputs": [],
   "source": [
    "result = client.query(\"SELECT YEAR, MONTH, MONTH_NAME, STATEFIP, STATEFIP_NAME, COUNTY, METAREA_NAME, EDUC_NAME, HIGRADE_NAME, FTOTVAL, INCTOT FROM cps_00004.cps_00004 LIMIT 1000000\")"
   ]
  },
  {
   "cell_type": "code",
   "execution_count": 4,
   "id": "bae47680-935e-4c35-a96e-4f948641804f",
   "metadata": {},
   "outputs": [
    {
     "data": {
      "text/plain": [
       "{'YEAR': 2005,\n",
       " 'MONTH': 3,\n",
       " 'MONTH_NAME': 'March',\n",
       " 'STATEFIP': 48,\n",
       " 'STATEFIP_NAME': '48',\n",
       " 'COUNTY': 0,\n",
       " 'METAREA_NAME': 'Houston-Baytown-Sugar Land, TX',\n",
       " 'EDUC_NAME': 'Grade 9',\n",
       " 'HIGRADE_NAME': '',\n",
       " 'FTOTVAL': 0,\n",
       " 'INCTOT': 0}"
      ]
     },
     "execution_count": 4,
     "metadata": {},
     "output_type": "execute_result"
    }
   ],
   "source": [
    "next(result.named_results())"
   ]
  },
  {
   "cell_type": "code",
   "execution_count": 5,
   "id": "89173b6e-cd09-449d-9d6b-fe172d0a2c8c",
   "metadata": {},
   "outputs": [],
   "source": [
    "df = pl.from_dicts(result.named_results(), infer_schema_length=400)"
   ]
  },
  {
   "cell_type": "code",
   "execution_count": 6,
   "id": "9a4dad01-8b59-4ae6-ac9f-a23ea722c9bf",
   "metadata": {},
   "outputs": [
    {
     "data": {
      "text/html": [
       "<div><style>\n",
       ".dataframe > thead > tr,\n",
       ".dataframe > tbody > tr {\n",
       "  text-align: right;\n",
       "  white-space: pre-wrap;\n",
       "}\n",
       "</style>\n",
       "<small>shape: (1_000_000, 11)</small><table border=\"1\" class=\"dataframe\"><thead><tr><th>YEAR</th><th>MONTH</th><th>MONTH_NAME</th><th>STATEFIP</th><th>STATEFIP_NAME</th><th>COUNTY</th><th>METAREA_NAME</th><th>EDUC_NAME</th><th>HIGRADE_NAME</th><th>FTOTVAL</th><th>INCTOT</th></tr><tr><td>i64</td><td>i64</td><td>str</td><td>i64</td><td>str</td><td>i64</td><td>str</td><td>str</td><td>str</td><td>i64</td><td>i64</td></tr></thead><tbody><tr><td>2005</td><td>3</td><td>&quot;March&quot;</td><td>48</td><td>&quot;48&quot;</td><td>0</td><td>&quot;Houston-Baytow…</td><td>&quot;Grade 9&quot;</td><td>&quot;&quot;</td><td>0</td><td>0</td></tr><tr><td>2005</td><td>3</td><td>&quot;March&quot;</td><td>48</td><td>&quot;48&quot;</td><td>0</td><td>&quot;Houston-Baytow…</td><td>&quot;Grade 9&quot;</td><td>&quot;&quot;</td><td>1800</td><td>1800</td></tr><tr><td>2005</td><td>3</td><td>&quot;March&quot;</td><td>48</td><td>&quot;48&quot;</td><td>0</td><td>&quot;Houston-Baytow…</td><td>&quot;Associate&#x27;s de…</td><td>&quot;&quot;</td><td>42000</td><td>22000</td></tr><tr><td>2005</td><td>3</td><td>&quot;March&quot;</td><td>48</td><td>&quot;48&quot;</td><td>0</td><td>&quot;Houston-Baytow…</td><td>&quot;High school di…</td><td>&quot;&quot;</td><td>42000</td><td>20000</td></tr><tr><td>2005</td><td>3</td><td>&quot;March&quot;</td><td>48</td><td>&quot;48&quot;</td><td>0</td><td>&quot;Houston-Baytow…</td><td>&quot;Some college b…</td><td>&quot;&quot;</td><td>7056</td><td>7056</td></tr><tr><td>2005</td><td>3</td><td>&quot;March&quot;</td><td>48</td><td>&quot;48&quot;</td><td>0</td><td>&quot;Houston-Baytow…</td><td>&quot;NIU or blank&quot;</td><td>&quot;&quot;</td><td>7056</td><td>999999999</td></tr><tr><td>2005</td><td>3</td><td>&quot;March&quot;</td><td>48</td><td>&quot;48&quot;</td><td>0</td><td>&quot;Houston-Baytow…</td><td>&quot;High school di…</td><td>&quot;&quot;</td><td>32000</td><td>32000</td></tr><tr><td>2005</td><td>3</td><td>&quot;March&quot;</td><td>48</td><td>&quot;48&quot;</td><td>0</td><td>&quot;Houston-Baytow…</td><td>&quot;Master&#x27;s degre…</td><td>&quot;&quot;</td><td>52288</td><td>52288</td></tr><tr><td>2005</td><td>3</td><td>&quot;March&quot;</td><td>48</td><td>&quot;48&quot;</td><td>0</td><td>&quot;Houston-Baytow…</td><td>&quot;Grades 5 or 6&quot;</td><td>&quot;&quot;</td><td>8400</td><td>8400</td></tr><tr><td>2005</td><td>3</td><td>&quot;March&quot;</td><td>48</td><td>&quot;48&quot;</td><td>0</td><td>&quot;Houston-Baytow…</td><td>&quot;Bachelor&#x27;s deg…</td><td>&quot;&quot;</td><td>8400</td><td>0</td></tr><tr><td>2005</td><td>3</td><td>&quot;March&quot;</td><td>48</td><td>&quot;48&quot;</td><td>0</td><td>&quot;Houston-Baytow…</td><td>&quot;Grades 1, 2, 3…</td><td>&quot;&quot;</td><td>21600</td><td>21600</td></tr><tr><td>2005</td><td>3</td><td>&quot;March&quot;</td><td>48</td><td>&quot;48&quot;</td><td>0</td><td>&quot;Houston-Baytow…</td><td>&quot;Associate&#x27;s de…</td><td>&quot;&quot;</td><td>60400</td><td>36000</td></tr><tr><td>&hellip;</td><td>&hellip;</td><td>&hellip;</td><td>&hellip;</td><td>&hellip;</td><td>&hellip;</td><td>&hellip;</td><td>&hellip;</td><td>&hellip;</td><td>&hellip;</td><td>&hellip;</td></tr><tr><td>1966</td><td>3</td><td>&quot;March&quot;</td><td>36</td><td>&quot;36&quot;</td><td>null</td><td>&quot;New York, NY&quot;</td><td>&quot;Grade 8&quot;</td><td>&quot;8th grade&quot;</td><td>8716</td><td>5600</td></tr><tr><td>1966</td><td>3</td><td>&quot;March&quot;</td><td>36</td><td>&quot;36&quot;</td><td>null</td><td>&quot;New York, NY&quot;</td><td>&quot;Grade 8&quot;</td><td>&quot;8th grade&quot;</td><td>8716</td><td>3116</td></tr><tr><td>1966</td><td>3</td><td>&quot;March&quot;</td><td>36</td><td>&quot;36&quot;</td><td>null</td><td>&quot;New York, NY&quot;</td><td>&quot;12th grade, di…</td><td>&quot;12th grade&quot;</td><td>7000</td><td>7000</td></tr><tr><td>1966</td><td>3</td><td>&quot;March&quot;</td><td>36</td><td>&quot;36&quot;</td><td>null</td><td>&quot;New York, NY&quot;</td><td>&quot;12th grade, di…</td><td>&quot;12th grade&quot;</td><td>7000</td><td>0</td></tr><tr><td>1966</td><td>3</td><td>&quot;March&quot;</td><td>36</td><td>&quot;36&quot;</td><td>null</td><td>&quot;New York, NY&quot;</td><td>&quot;Grade 7&quot;</td><td>&quot;Did not finish…</td><td>8000</td><td>8000</td></tr><tr><td>1966</td><td>3</td><td>&quot;March&quot;</td><td>36</td><td>&quot;36&quot;</td><td>null</td><td>&quot;New York, NY&quot;</td><td>&quot;Grade 10&quot;</td><td>&quot;10th grade&quot;</td><td>8000</td><td>0</td></tr><tr><td>1966</td><td>3</td><td>&quot;March&quot;</td><td>36</td><td>&quot;36&quot;</td><td>null</td><td>&quot;New York, NY&quot;</td><td>&quot;Grade 8&quot;</td><td>&quot;8th grade&quot;</td><td>1260</td><td>1260</td></tr><tr><td>1966</td><td>3</td><td>&quot;March&quot;</td><td>36</td><td>&quot;36&quot;</td><td>null</td><td>&quot;New York, NY&quot;</td><td>&quot;Grade 8&quot;</td><td>&quot;8th grade&quot;</td><td>1260</td><td>0</td></tr><tr><td>1966</td><td>3</td><td>&quot;March&quot;</td><td>36</td><td>&quot;36&quot;</td><td>null</td><td>&quot;New York, NY&quot;</td><td>&quot;Grade 8&quot;</td><td>&quot;8th grade&quot;</td><td>5035</td><td>5035</td></tr><tr><td>1966</td><td>3</td><td>&quot;March&quot;</td><td>36</td><td>&quot;36&quot;</td><td>null</td><td>&quot;New York, NY&quot;</td><td>&quot;Grade 8&quot;</td><td>&quot;8th grade&quot;</td><td>5035</td><td>0</td></tr><tr><td>1966</td><td>3</td><td>&quot;March&quot;</td><td>36</td><td>&quot;36&quot;</td><td>null</td><td>&quot;New York, NY&quot;</td><td>&quot;Grade 7&quot;</td><td>&quot;7th grade&quot;</td><td>2705</td><td>2705</td></tr><tr><td>1966</td><td>3</td><td>&quot;March&quot;</td><td>36</td><td>&quot;36&quot;</td><td>null</td><td>&quot;New York, NY&quot;</td><td>&quot;Grade 6&quot;</td><td>&quot;6th grade&quot;</td><td>1998</td><td>1096</td></tr></tbody></table></div>"
      ],
      "text/plain": [
       "shape: (1_000_000, 11)\n",
       "┌──────┬───────┬────────────┬──────────┬───┬─────────────────────┬──────────────┬─────────┬────────┐\n",
       "│ YEAR ┆ MONTH ┆ MONTH_NAME ┆ STATEFIP ┆ … ┆ EDUC_NAME           ┆ HIGRADE_NAME ┆ FTOTVAL ┆ INCTOT │\n",
       "│ ---  ┆ ---   ┆ ---        ┆ ---      ┆   ┆ ---                 ┆ ---          ┆ ---     ┆ ---    │\n",
       "│ i64  ┆ i64   ┆ str        ┆ i64      ┆   ┆ str                 ┆ str          ┆ i64     ┆ i64    │\n",
       "╞══════╪═══════╪════════════╪══════════╪═══╪═════════════════════╪══════════════╪═════════╪════════╡\n",
       "│ 2005 ┆ 3     ┆ March      ┆ 48       ┆ … ┆ Grade 9             ┆              ┆ 0       ┆ 0      │\n",
       "│ 2005 ┆ 3     ┆ March      ┆ 48       ┆ … ┆ Grade 9             ┆              ┆ 1800    ┆ 1800   │\n",
       "│ 2005 ┆ 3     ┆ March      ┆ 48       ┆ … ┆ Associate's degree, ┆              ┆ 42000   ┆ 22000  │\n",
       "│      ┆       ┆            ┆          ┆   ┆ occupational…       ┆              ┆         ┆        │\n",
       "│ 2005 ┆ 3     ┆ March      ┆ 48       ┆ … ┆ High school diploma ┆              ┆ 42000   ┆ 20000  │\n",
       "│      ┆       ┆            ┆          ┆   ┆ or equivalen…       ┆              ┆         ┆        │\n",
       "│ 2005 ┆ 3     ┆ March      ┆ 48       ┆ … ┆ Some college but no ┆              ┆ 7056    ┆ 7056   │\n",
       "│      ┆       ┆            ┆          ┆   ┆ degree              ┆              ┆         ┆        │\n",
       "│ …    ┆ …     ┆ …          ┆ …        ┆ … ┆ …                   ┆ …            ┆ …       ┆ …      │\n",
       "│ 1966 ┆ 3     ┆ March      ┆ 36       ┆ … ┆ Grade 8             ┆ 8th grade    ┆ 1260    ┆ 0      │\n",
       "│ 1966 ┆ 3     ┆ March      ┆ 36       ┆ … ┆ Grade 8             ┆ 8th grade    ┆ 5035    ┆ 5035   │\n",
       "│ 1966 ┆ 3     ┆ March      ┆ 36       ┆ … ┆ Grade 8             ┆ 8th grade    ┆ 5035    ┆ 0      │\n",
       "│ 1966 ┆ 3     ┆ March      ┆ 36       ┆ … ┆ Grade 7             ┆ 7th grade    ┆ 2705    ┆ 2705   │\n",
       "│ 1966 ┆ 3     ┆ March      ┆ 36       ┆ … ┆ Grade 6             ┆ 6th grade    ┆ 1998    ┆ 1096   │\n",
       "└──────┴───────┴────────────┴──────────┴───┴─────────────────────┴──────────────┴─────────┴────────┘"
      ]
     },
     "execution_count": 6,
     "metadata": {},
     "output_type": "execute_result"
    }
   ],
   "source": [
    "df"
   ]
  },
  {
   "cell_type": "code",
   "execution_count": 7,
   "id": "8cf266c3-db24-4541-b37c-2d12322b9bd6",
   "metadata": {},
   "outputs": [],
   "source": [
    "# Filter out the codes related to missing data\n",
    "df = df.filter(pl.col('INCTOT') != 999999999).filter(pl.col('INCTOT')  != 999999998)"
   ]
  },
  {
   "cell_type": "code",
   "execution_count": 8,
   "id": "fcb8b4c4-c2c4-452f-92b5-91ee5aacaf7a",
   "metadata": {},
   "outputs": [
    {
     "data": {
      "text/html": [
       "<div><style>\n",
       ".dataframe > thead > tr,\n",
       ".dataframe > tbody > tr {\n",
       "  text-align: right;\n",
       "  white-space: pre-wrap;\n",
       "}\n",
       "</style>\n",
       "<small>shape: (779_723, 11)</small><table border=\"1\" class=\"dataframe\"><thead><tr><th>YEAR</th><th>MONTH</th><th>MONTH_NAME</th><th>STATEFIP</th><th>STATEFIP_NAME</th><th>COUNTY</th><th>METAREA_NAME</th><th>EDUC_NAME</th><th>HIGRADE_NAME</th><th>FTOTVAL</th><th>INCTOT</th></tr><tr><td>i64</td><td>i64</td><td>str</td><td>i64</td><td>str</td><td>i64</td><td>str</td><td>str</td><td>str</td><td>i64</td><td>i64</td></tr></thead><tbody><tr><td>2005</td><td>3</td><td>&quot;March&quot;</td><td>48</td><td>&quot;48&quot;</td><td>0</td><td>&quot;Houston-Baytow…</td><td>&quot;Grade 9&quot;</td><td>&quot;&quot;</td><td>0</td><td>0</td></tr><tr><td>2005</td><td>3</td><td>&quot;March&quot;</td><td>48</td><td>&quot;48&quot;</td><td>0</td><td>&quot;Houston-Baytow…</td><td>&quot;Grade 9&quot;</td><td>&quot;&quot;</td><td>1800</td><td>1800</td></tr><tr><td>2005</td><td>3</td><td>&quot;March&quot;</td><td>48</td><td>&quot;48&quot;</td><td>0</td><td>&quot;Houston-Baytow…</td><td>&quot;Associate&#x27;s de…</td><td>&quot;&quot;</td><td>42000</td><td>22000</td></tr><tr><td>2005</td><td>3</td><td>&quot;March&quot;</td><td>48</td><td>&quot;48&quot;</td><td>0</td><td>&quot;Houston-Baytow…</td><td>&quot;High school di…</td><td>&quot;&quot;</td><td>42000</td><td>20000</td></tr><tr><td>2005</td><td>3</td><td>&quot;March&quot;</td><td>48</td><td>&quot;48&quot;</td><td>0</td><td>&quot;Houston-Baytow…</td><td>&quot;Some college b…</td><td>&quot;&quot;</td><td>7056</td><td>7056</td></tr><tr><td>2005</td><td>3</td><td>&quot;March&quot;</td><td>48</td><td>&quot;48&quot;</td><td>0</td><td>&quot;Houston-Baytow…</td><td>&quot;High school di…</td><td>&quot;&quot;</td><td>32000</td><td>32000</td></tr><tr><td>2005</td><td>3</td><td>&quot;March&quot;</td><td>48</td><td>&quot;48&quot;</td><td>0</td><td>&quot;Houston-Baytow…</td><td>&quot;Master&#x27;s degre…</td><td>&quot;&quot;</td><td>52288</td><td>52288</td></tr><tr><td>2005</td><td>3</td><td>&quot;March&quot;</td><td>48</td><td>&quot;48&quot;</td><td>0</td><td>&quot;Houston-Baytow…</td><td>&quot;Grades 5 or 6&quot;</td><td>&quot;&quot;</td><td>8400</td><td>8400</td></tr><tr><td>2005</td><td>3</td><td>&quot;March&quot;</td><td>48</td><td>&quot;48&quot;</td><td>0</td><td>&quot;Houston-Baytow…</td><td>&quot;Bachelor&#x27;s deg…</td><td>&quot;&quot;</td><td>8400</td><td>0</td></tr><tr><td>2005</td><td>3</td><td>&quot;March&quot;</td><td>48</td><td>&quot;48&quot;</td><td>0</td><td>&quot;Houston-Baytow…</td><td>&quot;Grades 1, 2, 3…</td><td>&quot;&quot;</td><td>21600</td><td>21600</td></tr><tr><td>2005</td><td>3</td><td>&quot;March&quot;</td><td>48</td><td>&quot;48&quot;</td><td>0</td><td>&quot;Houston-Baytow…</td><td>&quot;Associate&#x27;s de…</td><td>&quot;&quot;</td><td>60400</td><td>36000</td></tr><tr><td>2005</td><td>3</td><td>&quot;March&quot;</td><td>48</td><td>&quot;48&quot;</td><td>0</td><td>&quot;Houston-Baytow…</td><td>&quot;Associate&#x27;s de…</td><td>&quot;&quot;</td><td>60400</td><td>24400</td></tr><tr><td>&hellip;</td><td>&hellip;</td><td>&hellip;</td><td>&hellip;</td><td>&hellip;</td><td>&hellip;</td><td>&hellip;</td><td>&hellip;</td><td>&hellip;</td><td>&hellip;</td><td>&hellip;</td></tr><tr><td>1966</td><td>3</td><td>&quot;March&quot;</td><td>36</td><td>&quot;36&quot;</td><td>null</td><td>&quot;New York, NY&quot;</td><td>&quot;Grade 8&quot;</td><td>&quot;8th grade&quot;</td><td>8716</td><td>5600</td></tr><tr><td>1966</td><td>3</td><td>&quot;March&quot;</td><td>36</td><td>&quot;36&quot;</td><td>null</td><td>&quot;New York, NY&quot;</td><td>&quot;Grade 8&quot;</td><td>&quot;8th grade&quot;</td><td>8716</td><td>3116</td></tr><tr><td>1966</td><td>3</td><td>&quot;March&quot;</td><td>36</td><td>&quot;36&quot;</td><td>null</td><td>&quot;New York, NY&quot;</td><td>&quot;12th grade, di…</td><td>&quot;12th grade&quot;</td><td>7000</td><td>7000</td></tr><tr><td>1966</td><td>3</td><td>&quot;March&quot;</td><td>36</td><td>&quot;36&quot;</td><td>null</td><td>&quot;New York, NY&quot;</td><td>&quot;12th grade, di…</td><td>&quot;12th grade&quot;</td><td>7000</td><td>0</td></tr><tr><td>1966</td><td>3</td><td>&quot;March&quot;</td><td>36</td><td>&quot;36&quot;</td><td>null</td><td>&quot;New York, NY&quot;</td><td>&quot;Grade 7&quot;</td><td>&quot;Did not finish…</td><td>8000</td><td>8000</td></tr><tr><td>1966</td><td>3</td><td>&quot;March&quot;</td><td>36</td><td>&quot;36&quot;</td><td>null</td><td>&quot;New York, NY&quot;</td><td>&quot;Grade 10&quot;</td><td>&quot;10th grade&quot;</td><td>8000</td><td>0</td></tr><tr><td>1966</td><td>3</td><td>&quot;March&quot;</td><td>36</td><td>&quot;36&quot;</td><td>null</td><td>&quot;New York, NY&quot;</td><td>&quot;Grade 8&quot;</td><td>&quot;8th grade&quot;</td><td>1260</td><td>1260</td></tr><tr><td>1966</td><td>3</td><td>&quot;March&quot;</td><td>36</td><td>&quot;36&quot;</td><td>null</td><td>&quot;New York, NY&quot;</td><td>&quot;Grade 8&quot;</td><td>&quot;8th grade&quot;</td><td>1260</td><td>0</td></tr><tr><td>1966</td><td>3</td><td>&quot;March&quot;</td><td>36</td><td>&quot;36&quot;</td><td>null</td><td>&quot;New York, NY&quot;</td><td>&quot;Grade 8&quot;</td><td>&quot;8th grade&quot;</td><td>5035</td><td>5035</td></tr><tr><td>1966</td><td>3</td><td>&quot;March&quot;</td><td>36</td><td>&quot;36&quot;</td><td>null</td><td>&quot;New York, NY&quot;</td><td>&quot;Grade 8&quot;</td><td>&quot;8th grade&quot;</td><td>5035</td><td>0</td></tr><tr><td>1966</td><td>3</td><td>&quot;March&quot;</td><td>36</td><td>&quot;36&quot;</td><td>null</td><td>&quot;New York, NY&quot;</td><td>&quot;Grade 7&quot;</td><td>&quot;7th grade&quot;</td><td>2705</td><td>2705</td></tr><tr><td>1966</td><td>3</td><td>&quot;March&quot;</td><td>36</td><td>&quot;36&quot;</td><td>null</td><td>&quot;New York, NY&quot;</td><td>&quot;Grade 6&quot;</td><td>&quot;6th grade&quot;</td><td>1998</td><td>1096</td></tr></tbody></table></div>"
      ],
      "text/plain": [
       "shape: (779_723, 11)\n",
       "┌──────┬───────┬────────────┬──────────┬───┬─────────────────────┬──────────────┬─────────┬────────┐\n",
       "│ YEAR ┆ MONTH ┆ MONTH_NAME ┆ STATEFIP ┆ … ┆ EDUC_NAME           ┆ HIGRADE_NAME ┆ FTOTVAL ┆ INCTOT │\n",
       "│ ---  ┆ ---   ┆ ---        ┆ ---      ┆   ┆ ---                 ┆ ---          ┆ ---     ┆ ---    │\n",
       "│ i64  ┆ i64   ┆ str        ┆ i64      ┆   ┆ str                 ┆ str          ┆ i64     ┆ i64    │\n",
       "╞══════╪═══════╪════════════╪══════════╪═══╪═════════════════════╪══════════════╪═════════╪════════╡\n",
       "│ 2005 ┆ 3     ┆ March      ┆ 48       ┆ … ┆ Grade 9             ┆              ┆ 0       ┆ 0      │\n",
       "│ 2005 ┆ 3     ┆ March      ┆ 48       ┆ … ┆ Grade 9             ┆              ┆ 1800    ┆ 1800   │\n",
       "│ 2005 ┆ 3     ┆ March      ┆ 48       ┆ … ┆ Associate's degree, ┆              ┆ 42000   ┆ 22000  │\n",
       "│      ┆       ┆            ┆          ┆   ┆ occupational…       ┆              ┆         ┆        │\n",
       "│ 2005 ┆ 3     ┆ March      ┆ 48       ┆ … ┆ High school diploma ┆              ┆ 42000   ┆ 20000  │\n",
       "│      ┆       ┆            ┆          ┆   ┆ or equivalen…       ┆              ┆         ┆        │\n",
       "│ 2005 ┆ 3     ┆ March      ┆ 48       ┆ … ┆ Some college but no ┆              ┆ 7056    ┆ 7056   │\n",
       "│      ┆       ┆            ┆          ┆   ┆ degree              ┆              ┆         ┆        │\n",
       "│ …    ┆ …     ┆ …          ┆ …        ┆ … ┆ …                   ┆ …            ┆ …       ┆ …      │\n",
       "│ 1966 ┆ 3     ┆ March      ┆ 36       ┆ … ┆ Grade 8             ┆ 8th grade    ┆ 1260    ┆ 0      │\n",
       "│ 1966 ┆ 3     ┆ March      ┆ 36       ┆ … ┆ Grade 8             ┆ 8th grade    ┆ 5035    ┆ 5035   │\n",
       "│ 1966 ┆ 3     ┆ March      ┆ 36       ┆ … ┆ Grade 8             ┆ 8th grade    ┆ 5035    ┆ 0      │\n",
       "│ 1966 ┆ 3     ┆ March      ┆ 36       ┆ … ┆ Grade 7             ┆ 7th grade    ┆ 2705    ┆ 2705   │\n",
       "│ 1966 ┆ 3     ┆ March      ┆ 36       ┆ … ┆ Grade 6             ┆ 6th grade    ┆ 1998    ┆ 1096   │\n",
       "└──────┴───────┴────────────┴──────────┴───┴─────────────────────┴──────────────┴─────────┴────────┘"
      ]
     },
     "execution_count": 8,
     "metadata": {},
     "output_type": "execute_result"
    }
   ],
   "source": [
    "df"
   ]
  },
  {
   "cell_type": "code",
   "execution_count": 9,
   "id": "4d9f25f1-f1be-4965-af1b-e9464f51f724",
   "metadata": {},
   "outputs": [],
   "source": [
    "grouped = df.group_by([\"EDUC_NAME\"]).agg(pl.col('INCTOT').median()).sort('INCTOT')\n",
    "\n"
   ]
  },
  {
   "cell_type": "code",
   "execution_count": 10,
   "id": "3cb06297-e4c3-4ed7-ae4e-d9a80c5ca421",
   "metadata": {},
   "outputs": [
    {
     "name": "stdout",
     "output_type": "stream",
     "text": [
      "Grade 9: 828.5\n",
      "Grade 7: 1116.0\n",
      ": 1200.0\n",
      "Grade 8: 1512.0\n",
      "Grade 1: 1571.0\n",
      "None or preschool: 1700.0\n",
      "Grade 10: 1820.0\n",
      "Grade 3: 1848.0\n",
      "Grade 2: 1860.0\n",
      "Grade 5: 1900.0\n",
      "Grade 4: 1949.0\n",
      "Grade 6: 2100.0\n",
      "Grade 11: 2220.0\n",
      "12th grade, diploma unclear: 5035.0\n",
      "1 year of college: 5860.0\n",
      "3 years of college: 6000.0\n",
      "Grades 7 or 8: 6371.0\n",
      "2 years of college: 7500.0\n",
      "Grades 1, 2, 3, or 4: 8587.5\n",
      "12th grade, no diploma: 8722.5\n",
      "Grades 5 or 6: 10000.0\n",
      "4 years of college: 10500.0\n",
      "5 years of college: 11208.5\n",
      "High school diploma or equivalent: 14858.0\n",
      "Some college but no degree: 19215.0\n",
      "6+ years of college: 19671.0\n",
      "Associate's degree, occupational/vocational program: 26013.5\n",
      "Associate's degree, academic program: 28000.0\n",
      "Bachelor's degree: 35000.0\n",
      "Master's degree: 46000.0\n",
      "Doctorate degree: 62826.0\n",
      "Professional school degree: 70039.0\n"
     ]
    }
   ],
   "source": [
    "for (educ, inc) in grouped.rows():\n",
    "    print(f\"{educ}: {inc}\")"
   ]
  },
  {
   "cell_type": "code",
   "execution_count": null,
   "id": "5f2a7e20-bf5f-450d-ae0a-66fc7343f982",
   "metadata": {},
   "outputs": [],
   "source": []
  }
 ],
 "metadata": {
  "kernelspec": {
   "display_name": "Python 3 (ipykernel)",
   "language": "python",
   "name": "python3"
  },
  "language_info": {
   "codemirror_mode": {
    "name": "ipython",
    "version": 3
   },
   "file_extension": ".py",
   "mimetype": "text/x-python",
   "name": "python",
   "nbconvert_exporter": "python",
   "pygments_lexer": "ipython3",
   "version": "3.10.12"
  }
 },
 "nbformat": 4,
 "nbformat_minor": 5
}
