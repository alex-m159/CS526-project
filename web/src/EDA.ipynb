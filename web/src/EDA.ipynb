{
 "cells": [
  {
   "cell_type": "code",
   "execution_count": 5,
   "id": "05c33778-1310-4404-b394-d82e8877d2f3",
   "metadata": {},
   "outputs": [],
   "source": [
    "import clickhouse_connect\n",
    "import polars as pl"
   ]
  },
  {
   "cell_type": "code",
   "execution_count": 81,
   "id": "4d9f6ea4-1f2d-465f-8de9-0bfbefd132d2",
   "metadata": {},
   "outputs": [],
   "source": [
    "client = clickhouse_connect.get_client(host='172.25.0.2', username='default', password='Password123!')"
   ]
  },
  {
   "cell_type": "code",
   "execution_count": 82,
   "id": "777a8d1d-dbed-46d6-93b7-742e2a2aeb15",
   "metadata": {},
   "outputs": [],
   "source": [
    "result = client.query(\"SELECT YEAR, MONTH, MONTH_NAME, STATEFIP, STATEFIP_NAME, COUNTY, METAREA_NAME, EDUC_NAME, HIGRADE_NAME, FTOTVAL, INCTOT FROM cps_00004.cps_00004 LIMIT 1000000\")"
   ]
  },
  {
   "cell_type": "code",
   "execution_count": 83,
   "id": "bae47680-935e-4c35-a96e-4f948641804f",
   "metadata": {},
   "outputs": [
    {
     "data": {
      "text/plain": [
       "{'YEAR': 2005,\n",
       " 'MONTH': 3,\n",
       " 'MONTH_NAME': 'March',\n",
       " 'STATEFIP': 48,\n",
       " 'STATEFIP_NAME': '48',\n",
       " 'COUNTY': 0,\n",
       " 'METAREA_NAME': 'Houston-Baytown-Sugar Land, TX',\n",
       " 'EDUC_NAME': 'Grade 9',\n",
       " 'HIGRADE_NAME': '',\n",
       " 'FTOTVAL': 0,\n",
       " 'INCTOT': 0}"
      ]
     },
     "execution_count": 83,
     "metadata": {},
     "output_type": "execute_result"
    }
   ],
   "source": [
    "next(result.named_results())"
   ]
  },
  {
   "cell_type": "code",
   "execution_count": 84,
   "id": "89173b6e-cd09-449d-9d6b-fe172d0a2c8c",
   "metadata": {},
   "outputs": [],
   "source": [
    "df = pl.from_dicts(result.named_results(), infer_schema_length=400)"
   ]
  },
  {
   "cell_type": "code",
   "execution_count": null,
   "id": "9a4dad01-8b59-4ae6-ac9f-a23ea722c9bf",
   "metadata": {},
   "outputs": [],
   "source": [
    "df"
   ]
  },
  {
   "cell_type": "code",
   "execution_count": 85,
   "id": "8cf266c3-db24-4541-b37c-2d12322b9bd6",
   "metadata": {},
   "outputs": [],
   "source": [
    "df = df.filter(pl.col('INCTOT') != 999999999).filter(pl.col('INCTOT')  != 999999998)"
   ]
  },
  {
   "cell_type": "code",
   "execution_count": 86,
   "id": "fcb8b4c4-c2c4-452f-92b5-91ee5aacaf7a",
   "metadata": {},
   "outputs": [
    {
     "data": {
      "text/html": [
       "<div><style>\n",
       ".dataframe > thead > tr,\n",
       ".dataframe > tbody > tr {\n",
       "  text-align: right;\n",
       "  white-space: pre-wrap;\n",
       "}\n",
       "</style>\n",
       "<small>shape: (779_723, 11)</small><table border=\"1\" class=\"dataframe\"><thead><tr><th>YEAR</th><th>MONTH</th><th>MONTH_NAME</th><th>STATEFIP</th><th>STATEFIP_NAME</th><th>COUNTY</th><th>METAREA_NAME</th><th>EDUC_NAME</th><th>HIGRADE_NAME</th><th>FTOTVAL</th><th>INCTOT</th></tr><tr><td>i64</td><td>i64</td><td>str</td><td>i64</td><td>str</td><td>i64</td><td>str</td><td>str</td><td>str</td><td>i64</td><td>i64</td></tr></thead><tbody><tr><td>2005</td><td>3</td><td>&quot;March&quot;</td><td>48</td><td>&quot;48&quot;</td><td>0</td><td>&quot;Houston-Baytow…</td><td>&quot;Grade 9&quot;</td><td>&quot;&quot;</td><td>0</td><td>0</td></tr><tr><td>2005</td><td>3</td><td>&quot;March&quot;</td><td>48</td><td>&quot;48&quot;</td><td>0</td><td>&quot;Houston-Baytow…</td><td>&quot;Grade 9&quot;</td><td>&quot;&quot;</td><td>1800</td><td>1800</td></tr><tr><td>2005</td><td>3</td><td>&quot;March&quot;</td><td>48</td><td>&quot;48&quot;</td><td>0</td><td>&quot;Houston-Baytow…</td><td>&quot;Associate&#x27;s de…</td><td>&quot;&quot;</td><td>42000</td><td>22000</td></tr><tr><td>2005</td><td>3</td><td>&quot;March&quot;</td><td>48</td><td>&quot;48&quot;</td><td>0</td><td>&quot;Houston-Baytow…</td><td>&quot;High school di…</td><td>&quot;&quot;</td><td>42000</td><td>20000</td></tr><tr><td>2005</td><td>3</td><td>&quot;March&quot;</td><td>48</td><td>&quot;48&quot;</td><td>0</td><td>&quot;Houston-Baytow…</td><td>&quot;Some college b…</td><td>&quot;&quot;</td><td>7056</td><td>7056</td></tr><tr><td>2005</td><td>3</td><td>&quot;March&quot;</td><td>48</td><td>&quot;48&quot;</td><td>0</td><td>&quot;Houston-Baytow…</td><td>&quot;High school di…</td><td>&quot;&quot;</td><td>32000</td><td>32000</td></tr><tr><td>2005</td><td>3</td><td>&quot;March&quot;</td><td>48</td><td>&quot;48&quot;</td><td>0</td><td>&quot;Houston-Baytow…</td><td>&quot;Master&#x27;s degre…</td><td>&quot;&quot;</td><td>52288</td><td>52288</td></tr><tr><td>2005</td><td>3</td><td>&quot;March&quot;</td><td>48</td><td>&quot;48&quot;</td><td>0</td><td>&quot;Houston-Baytow…</td><td>&quot;Grades 5 or 6&quot;</td><td>&quot;&quot;</td><td>8400</td><td>8400</td></tr><tr><td>2005</td><td>3</td><td>&quot;March&quot;</td><td>48</td><td>&quot;48&quot;</td><td>0</td><td>&quot;Houston-Baytow…</td><td>&quot;Bachelor&#x27;s deg…</td><td>&quot;&quot;</td><td>8400</td><td>0</td></tr><tr><td>2005</td><td>3</td><td>&quot;March&quot;</td><td>48</td><td>&quot;48&quot;</td><td>0</td><td>&quot;Houston-Baytow…</td><td>&quot;Grades 1, 2, 3…</td><td>&quot;&quot;</td><td>21600</td><td>21600</td></tr><tr><td>2005</td><td>3</td><td>&quot;March&quot;</td><td>48</td><td>&quot;48&quot;</td><td>0</td><td>&quot;Houston-Baytow…</td><td>&quot;Associate&#x27;s de…</td><td>&quot;&quot;</td><td>60400</td><td>36000</td></tr><tr><td>2005</td><td>3</td><td>&quot;March&quot;</td><td>48</td><td>&quot;48&quot;</td><td>0</td><td>&quot;Houston-Baytow…</td><td>&quot;Associate&#x27;s de…</td><td>&quot;&quot;</td><td>60400</td><td>24400</td></tr><tr><td>&hellip;</td><td>&hellip;</td><td>&hellip;</td><td>&hellip;</td><td>&hellip;</td><td>&hellip;</td><td>&hellip;</td><td>&hellip;</td><td>&hellip;</td><td>&hellip;</td><td>&hellip;</td></tr><tr><td>1966</td><td>3</td><td>&quot;March&quot;</td><td>36</td><td>&quot;36&quot;</td><td>null</td><td>&quot;New York, NY&quot;</td><td>&quot;Grade 8&quot;</td><td>&quot;8th grade&quot;</td><td>8716</td><td>5600</td></tr><tr><td>1966</td><td>3</td><td>&quot;March&quot;</td><td>36</td><td>&quot;36&quot;</td><td>null</td><td>&quot;New York, NY&quot;</td><td>&quot;Grade 8&quot;</td><td>&quot;8th grade&quot;</td><td>8716</td><td>3116</td></tr><tr><td>1966</td><td>3</td><td>&quot;March&quot;</td><td>36</td><td>&quot;36&quot;</td><td>null</td><td>&quot;New York, NY&quot;</td><td>&quot;12th grade, di…</td><td>&quot;12th grade&quot;</td><td>7000</td><td>7000</td></tr><tr><td>1966</td><td>3</td><td>&quot;March&quot;</td><td>36</td><td>&quot;36&quot;</td><td>null</td><td>&quot;New York, NY&quot;</td><td>&quot;12th grade, di…</td><td>&quot;12th grade&quot;</td><td>7000</td><td>0</td></tr><tr><td>1966</td><td>3</td><td>&quot;March&quot;</td><td>36</td><td>&quot;36&quot;</td><td>null</td><td>&quot;New York, NY&quot;</td><td>&quot;Grade 7&quot;</td><td>&quot;Did not finish…</td><td>8000</td><td>8000</td></tr><tr><td>1966</td><td>3</td><td>&quot;March&quot;</td><td>36</td><td>&quot;36&quot;</td><td>null</td><td>&quot;New York, NY&quot;</td><td>&quot;Grade 10&quot;</td><td>&quot;10th grade&quot;</td><td>8000</td><td>0</td></tr><tr><td>1966</td><td>3</td><td>&quot;March&quot;</td><td>36</td><td>&quot;36&quot;</td><td>null</td><td>&quot;New York, NY&quot;</td><td>&quot;Grade 8&quot;</td><td>&quot;8th grade&quot;</td><td>1260</td><td>1260</td></tr><tr><td>1966</td><td>3</td><td>&quot;March&quot;</td><td>36</td><td>&quot;36&quot;</td><td>null</td><td>&quot;New York, NY&quot;</td><td>&quot;Grade 8&quot;</td><td>&quot;8th grade&quot;</td><td>1260</td><td>0</td></tr><tr><td>1966</td><td>3</td><td>&quot;March&quot;</td><td>36</td><td>&quot;36&quot;</td><td>null</td><td>&quot;New York, NY&quot;</td><td>&quot;Grade 8&quot;</td><td>&quot;8th grade&quot;</td><td>5035</td><td>5035</td></tr><tr><td>1966</td><td>3</td><td>&quot;March&quot;</td><td>36</td><td>&quot;36&quot;</td><td>null</td><td>&quot;New York, NY&quot;</td><td>&quot;Grade 8&quot;</td><td>&quot;8th grade&quot;</td><td>5035</td><td>0</td></tr><tr><td>1966</td><td>3</td><td>&quot;March&quot;</td><td>36</td><td>&quot;36&quot;</td><td>null</td><td>&quot;New York, NY&quot;</td><td>&quot;Grade 7&quot;</td><td>&quot;7th grade&quot;</td><td>2705</td><td>2705</td></tr><tr><td>1966</td><td>3</td><td>&quot;March&quot;</td><td>36</td><td>&quot;36&quot;</td><td>null</td><td>&quot;New York, NY&quot;</td><td>&quot;Grade 6&quot;</td><td>&quot;6th grade&quot;</td><td>1998</td><td>1096</td></tr></tbody></table></div>"
      ],
      "text/plain": [
       "shape: (779_723, 11)\n",
       "┌──────┬───────┬────────────┬──────────┬───┬─────────────────────┬──────────────┬─────────┬────────┐\n",
       "│ YEAR ┆ MONTH ┆ MONTH_NAME ┆ STATEFIP ┆ … ┆ EDUC_NAME           ┆ HIGRADE_NAME ┆ FTOTVAL ┆ INCTOT │\n",
       "│ ---  ┆ ---   ┆ ---        ┆ ---      ┆   ┆ ---                 ┆ ---          ┆ ---     ┆ ---    │\n",
       "│ i64  ┆ i64   ┆ str        ┆ i64      ┆   ┆ str                 ┆ str          ┆ i64     ┆ i64    │\n",
       "╞══════╪═══════╪════════════╪══════════╪═══╪═════════════════════╪══════════════╪═════════╪════════╡\n",
       "│ 2005 ┆ 3     ┆ March      ┆ 48       ┆ … ┆ Grade 9             ┆              ┆ 0       ┆ 0      │\n",
       "│ 2005 ┆ 3     ┆ March      ┆ 48       ┆ … ┆ Grade 9             ┆              ┆ 1800    ┆ 1800   │\n",
       "│ 2005 ┆ 3     ┆ March      ┆ 48       ┆ … ┆ Associate's degree, ┆              ┆ 42000   ┆ 22000  │\n",
       "│      ┆       ┆            ┆          ┆   ┆ occupational…       ┆              ┆         ┆        │\n",
       "│ 2005 ┆ 3     ┆ March      ┆ 48       ┆ … ┆ High school diploma ┆              ┆ 42000   ┆ 20000  │\n",
       "│      ┆       ┆            ┆          ┆   ┆ or equivalen…       ┆              ┆         ┆        │\n",
       "│ 2005 ┆ 3     ┆ March      ┆ 48       ┆ … ┆ Some college but no ┆              ┆ 7056    ┆ 7056   │\n",
       "│      ┆       ┆            ┆          ┆   ┆ degree              ┆              ┆         ┆        │\n",
       "│ …    ┆ …     ┆ …          ┆ …        ┆ … ┆ …                   ┆ …            ┆ …       ┆ …      │\n",
       "│ 1966 ┆ 3     ┆ March      ┆ 36       ┆ … ┆ Grade 8             ┆ 8th grade    ┆ 1260    ┆ 0      │\n",
       "│ 1966 ┆ 3     ┆ March      ┆ 36       ┆ … ┆ Grade 8             ┆ 8th grade    ┆ 5035    ┆ 5035   │\n",
       "│ 1966 ┆ 3     ┆ March      ┆ 36       ┆ … ┆ Grade 8             ┆ 8th grade    ┆ 5035    ┆ 0      │\n",
       "│ 1966 ┆ 3     ┆ March      ┆ 36       ┆ … ┆ Grade 7             ┆ 7th grade    ┆ 2705    ┆ 2705   │\n",
       "│ 1966 ┆ 3     ┆ March      ┆ 36       ┆ … ┆ Grade 6             ┆ 6th grade    ┆ 1998    ┆ 1096   │\n",
       "└──────┴───────┴────────────┴──────────┴───┴─────────────────────┴──────────────┴─────────┴────────┘"
      ]
     },
     "execution_count": 86,
     "metadata": {},
     "output_type": "execute_result"
    }
   ],
   "source": [
    "df"
   ]
  },
  {
   "cell_type": "code",
   "execution_count": 87,
   "id": "4d9f25f1-f1be-4965-af1b-e9464f51f724",
   "metadata": {},
   "outputs": [
    {
     "name": "stdout",
     "output_type": "stream",
     "text": [
      "shape: (32, 2)\n",
      "┌───────────────────────────────────┬───────────────┐\n",
      "│ EDUC_NAME                         ┆ INCTOT        │\n",
      "│ ---                               ┆ ---           │\n",
      "│ str                               ┆ f64           │\n",
      "╞═══════════════════════════════════╪═══════════════╡\n",
      "│                                   ┆ 2597.249342   │\n",
      "│ Grade 7                           ┆ 2918.08252    │\n",
      "│ Grade 1                           ┆ 2921.529358   │\n",
      "│ Grade 3                           ┆ 3140.377948   │\n",
      "│ Grade 2                           ┆ 3329.912671   │\n",
      "│ …                                 ┆ …             │\n",
      "│ Associate's degree, academic pro… ┆ 33617.450334  │\n",
      "│ Bachelor's degree                 ┆ 45425.98721   │\n",
      "│ Master's degree                   ┆ 58583.712619  │\n",
      "│ Doctorate degree                  ┆ 82560.905947  │\n",
      "│ Professional school degree        ┆ 101969.509904 │\n",
      "└───────────────────────────────────┴───────────────┘\n"
     ]
    }
   ],
   "source": [
    "print(df.group_by([\"EDUC_NAME\"]).agg(pl.col('INCTOT').mean()).sort('INCTOT') )\n"
   ]
  },
  {
   "cell_type": "code",
   "execution_count": null,
   "id": "591dd9c2-6da6-4060-a007-82902d4cfa04",
   "metadata": {},
   "outputs": [],
   "source": []
  }
 ],
 "metadata": {
  "kernelspec": {
   "display_name": "Python 3 (ipykernel)",
   "language": "python",
   "name": "python3"
  },
  "language_info": {
   "codemirror_mode": {
    "name": "ipython",
    "version": 3
   },
   "file_extension": ".py",
   "mimetype": "text/x-python",
   "name": "python",
   "nbconvert_exporter": "python",
   "pygments_lexer": "ipython3",
   "version": "3.11.6"
  }
 },
 "nbformat": 4,
 "nbformat_minor": 5
}
