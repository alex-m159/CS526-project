{
 "cells": [
  {
   "cell_type": "markdown",
   "id": "cff18113-57e3-4d66-a8b3-224b453fc4d3",
   "metadata": {},
   "source": [
    "# Income Inequality\n",
    "## Is it more beneficial to be poor in a rich county or rich in a poor county?"
   ]
  },
  {
   "cell_type": "markdown",
   "id": "49638285-507a-4c83-b9b0-e09f3a37e716",
   "metadata": {},
   "source": [
    "There's a few ways to answer that question.\n",
    "1. Find information on individuals' income and health that can be mapped to a metro area or county\n",
    "2. Find neighboring counties in which the income inequality is high and then compare the health outcomes between those high inequality counties to poor counties that are surrounded by poor counties and rich counties that are surrounded by rich counties - this is probably the best choice since it's difficult to get health information about specific individuals.\n",
    "    a. More precise details for 2 - we form a baseline for rich and poor counties by finding counties that are surrounded by counties of similar income (so a rich county would form a baseline if it was only adjacent to counties that are +/- 1.0 weighted stub average), then for the comparison counties, we find a poor county that is adjacent to a county that is i.e. +2.5 weighted stub average. We end up with baselines as a control group and the inequal county pairs as the test group."
   ]
  },
  {
   "cell_type": "code",
   "execution_count": 1,
   "id": "f3e1cbd5-ba76-456b-ae0c-a22a169a5b05",
   "metadata": {},
   "outputs": [],
   "source": [
    "import clickhouse_connect\n",
    "import polars as pl\n",
    "import matplotlib.pyplot as plt\n",
    "import numpy as np\n",
    "import geopandas as gp\n",
    "import pandas as pd"
   ]
  },
  {
   "cell_type": "code",
   "execution_count": null,
   "id": "dd6c4c77-35d7-421a-90ac-848effa74fbf",
   "metadata": {},
   "outputs": [],
   "source": []
  },
  {
   "cell_type": "code",
   "execution_count": 2,
   "id": "cf68075d-3627-4c83-b8ea-1c6607e5efcb",
   "metadata": {},
   "outputs": [],
   "source": [
    "client = clickhouse_connect.get_client(host='hub.publichealthhq.xyz', port=18123, username='default', password='Password123!')"
   ]
  },
  {
   "cell_type": "code",
   "execution_count": 3,
   "id": "bef02ddc-c569-461e-8278-21c124969b59",
   "metadata": {},
   "outputs": [
    {
     "name": "stdout",
     "output_type": "stream",
     "text": [
      "{'agiavg': 248351.2928022362, 'taxavg': 7794.619147449336, 'any(STATE_NAME)': 'Wyoming', 'any(COUNTY_NAME)': 'Teton', 'MEASURE': 'Chronic obstructive pulmonary disease among adults aged >=18 years', 'avg(DATA_VALUE)': 4.65, 'median(DATA_VALUE)': Decimal('4.6')}\n"
     ]
    }
   ],
   "source": [
    "result = client.query(\"\"\"\n",
    "SELECT (sum(ADJUSTED_GROSS_INCOME) / sum(NUM_RETURNS)) as agiavg, (sum(TAXES_PAID_AMOUNT) / sum(NUM_RETURNS)) as taxavg, any(STATE_NAME), any(COUNTY_NAME), MEASURE, avg(DATA_VALUE), median(DATA_VALUE) \n",
    "FROM cps_00004.places_county \n",
    "JOIN cps_00004.income_tax \n",
    "ON cps_00004.places_county.COUNTY_FIPS = cps_00004.income_tax.COUNTYFIP \n",
    "GROUP BY COUNTY_FIPS, MEASURE\n",
    "ORDER BY agiavg DESC\n",
    "\"\"\")\n",
    "print(next(result.named_results()))\n",
    "df = pl.from_dicts(result.named_results(), infer_schema_length=400)"
   ]
  },
  {
   "cell_type": "code",
   "execution_count": 4,
   "id": "874fc177-c950-4ab3-a61b-5e82c4f6648c",
   "metadata": {},
   "outputs": [],
   "source": [
    "def query(q):\n",
    "    result = client.query(q)\n",
    "    return pl.from_dicts(result.named_results(), infer_schema_length=400)"
   ]
  },
  {
   "cell_type": "code",
   "execution_count": 5,
   "id": "2732c667-a3e5-42c7-8bca-b42808eb1e9a",
   "metadata": {},
   "outputs": [],
   "source": [
    "df = query(\"\"\"\n",
    "    SELECT DISTINCT STATE_ABBREV, COUNTY_NAME, AGI_STUB, NUM_RETURNS, COUNTYFIP, ADJUSTED_GROSS_INCOME\n",
    "    FROM cps_00004.income_tax \n",
    "    \"\"\")\n",
    "returns_per_county = query(\"\"\"\n",
    "    SELECT DISTINCT any(STATE_ABBREV) as STATE_ABBREV, any(COUNTY_NAME) as COUNTY_NAME, sum(NUM_RETURNS) as TOTAL_RETURNS, COUNTYFIP\n",
    "    FROM cps_00004.income_tax\n",
    "    GROUP BY COUNTYFIP\n",
    "    \"\"\")"
   ]
  },
  {
   "cell_type": "code",
   "execution_count": 6,
   "id": "5d1b01bd-5d04-47f1-80d4-a81ad595e38b",
   "metadata": {},
   "outputs": [
    {
     "data": {
      "text/html": [
       "<div><style>\n",
       ".dataframe > thead > tr,\n",
       ".dataframe > tbody > tr {\n",
       "  text-align: right;\n",
       "  white-space: pre-wrap;\n",
       "}\n",
       "</style>\n",
       "<small>shape: (8, 6)</small><table border=\"1\" class=\"dataframe\"><thead><tr><th>STATE_ABBREV</th><th>COUNTY_NAME</th><th>AGI_STUB</th><th>NUM_RETURNS</th><th>COUNTYFIP</th><th>ADJUSTED_GROSS_INCOME</th></tr><tr><td>str</td><td>str</td><td>i64</td><td>i64</td><td>i64</td><td>i64</td></tr></thead><tbody><tr><td>&quot;VA&quot;</td><td>&quot;Alexandria cit…</td><td>1</td><td>780</td><td>51510</td><td>-70287000</td></tr><tr><td>&quot;VA&quot;</td><td>&quot;Alexandria cit…</td><td>2</td><td>6950</td><td>51510</td><td>36209000</td></tr><tr><td>&quot;VA&quot;</td><td>&quot;Alexandria cit…</td><td>3</td><td>11910</td><td>51510</td><td>206421000</td></tr><tr><td>&quot;VA&quot;</td><td>&quot;Alexandria cit…</td><td>4</td><td>16540</td><td>51510</td><td>614136000</td></tr><tr><td>&quot;VA&quot;</td><td>&quot;Alexandria cit…</td><td>5</td><td>13200</td><td>51510</td><td>818113000</td></tr><tr><td>&quot;VA&quot;</td><td>&quot;Alexandria cit…</td><td>6</td><td>9850</td><td>51510</td><td>854645000</td></tr><tr><td>&quot;VA&quot;</td><td>&quot;Alexandria cit…</td><td>7</td><td>16690</td><td>51510</td><td>2323196000</td></tr><tr><td>&quot;VA&quot;</td><td>&quot;Alexandria cit…</td><td>8</td><td>8940</td><td>51510</td><td>3861600000</td></tr></tbody></table></div>"
      ],
      "text/plain": [
       "shape: (8, 6)\n",
       "┌──────────────┬─────────────────┬──────────┬─────────────┬───────────┬───────────────────────┐\n",
       "│ STATE_ABBREV ┆ COUNTY_NAME     ┆ AGI_STUB ┆ NUM_RETURNS ┆ COUNTYFIP ┆ ADJUSTED_GROSS_INCOME │\n",
       "│ ---          ┆ ---             ┆ ---      ┆ ---         ┆ ---       ┆ ---                   │\n",
       "│ str          ┆ str             ┆ i64      ┆ i64         ┆ i64       ┆ i64                   │\n",
       "╞══════════════╪═════════════════╪══════════╪═════════════╪═══════════╪═══════════════════════╡\n",
       "│ VA           ┆ Alexandria city ┆ 1        ┆ 780         ┆ 51510     ┆ -70287000             │\n",
       "│ VA           ┆ Alexandria city ┆ 2        ┆ 6950        ┆ 51510     ┆ 36209000              │\n",
       "│ VA           ┆ Alexandria city ┆ 3        ┆ 11910       ┆ 51510     ┆ 206421000             │\n",
       "│ VA           ┆ Alexandria city ┆ 4        ┆ 16540       ┆ 51510     ┆ 614136000             │\n",
       "│ VA           ┆ Alexandria city ┆ 5        ┆ 13200       ┆ 51510     ┆ 818113000             │\n",
       "│ VA           ┆ Alexandria city ┆ 6        ┆ 9850        ┆ 51510     ┆ 854645000             │\n",
       "│ VA           ┆ Alexandria city ┆ 7        ┆ 16690       ┆ 51510     ┆ 2323196000            │\n",
       "│ VA           ┆ Alexandria city ┆ 8        ┆ 8940        ┆ 51510     ┆ 3861600000            │\n",
       "└──────────────┴─────────────────┴──────────┴─────────────┴───────────┴───────────────────────┘"
      ]
     },
     "execution_count": 6,
     "metadata": {},
     "output_type": "execute_result"
    }
   ],
   "source": [
    "df.filter(pl.col('COUNTY_NAME') == 'Alexandria city')"
   ]
  },
  {
   "cell_type": "code",
   "execution_count": 7,
   "id": "4ffdb419-0537-4630-acdd-44b170c17810",
   "metadata": {},
   "outputs": [
    {
     "data": {
      "text/html": [
       "<div><style>\n",
       ".dataframe > thead > tr,\n",
       ".dataframe > tbody > tr {\n",
       "  text-align: right;\n",
       "  white-space: pre-wrap;\n",
       "}\n",
       "</style>\n",
       "<small>shape: (1, 2)</small><table border=\"1\" class=\"dataframe\"><thead><tr><th>COUNTYFIP</th><th>NUM_RETURNS</th></tr><tr><td>i64</td><td>i64</td></tr></thead><tbody><tr><td>51510</td><td>84860</td></tr></tbody></table></div>"
      ],
      "text/plain": [
       "shape: (1, 2)\n",
       "┌───────────┬─────────────┐\n",
       "│ COUNTYFIP ┆ NUM_RETURNS │\n",
       "│ ---       ┆ ---         │\n",
       "│ i64       ┆ i64         │\n",
       "╞═══════════╪═════════════╡\n",
       "│ 51510     ┆ 84860       │\n",
       "└───────────┴─────────────┘"
      ]
     },
     "execution_count": 7,
     "metadata": {},
     "output_type": "execute_result"
    }
   ],
   "source": [
    "# We want a weight average AGI_STUB value\n",
    "df.filter(pl.col('COUNTY_NAME') == 'Alexandria city').group_by(['COUNTYFIP']).agg(pl.col('NUM_RETURNS').sum())"
   ]
  },
  {
   "cell_type": "code",
   "execution_count": 8,
   "id": "01441ccd-6afc-41b2-ae57-46a1064da70c",
   "metadata": {},
   "outputs": [
    {
     "data": {
      "text/html": [
       "<div><style>\n",
       ".dataframe > thead > tr,\n",
       ".dataframe > tbody > tr {\n",
       "  text-align: right;\n",
       "  white-space: pre-wrap;\n",
       "}\n",
       "</style>\n",
       "<small>shape: (3_192, 4)</small><table border=\"1\" class=\"dataframe\"><thead><tr><th>STATE_ABBREV</th><th>COUNTY_NAME</th><th>TOTAL_RETURNS</th><th>COUNTYFIP</th></tr><tr><td>str</td><td>str</td><td>i64</td><td>i64</td></tr></thead><tbody><tr><td>&quot;SD&quot;</td><td>&quot;Lyman County&quot;</td><td>1720</td><td>46085</td></tr><tr><td>&quot;PA&quot;</td><td>&quot;Juniata County…</td><td>11210</td><td>42067</td></tr><tr><td>&quot;GA&quot;</td><td>&quot;Hart County&quot;</td><td>10180</td><td>13147</td></tr><tr><td>&quot;GA&quot;</td><td>&quot;Twiggs County&quot;</td><td>3580</td><td>13289</td></tr><tr><td>&quot;WI&quot;</td><td>&quot;Kenosha County…</td><td>80820</td><td>55059</td></tr><tr><td>&quot;VA&quot;</td><td>&quot;Arlington Coun…</td><td>125580</td><td>51013</td></tr><tr><td>&quot;VA&quot;</td><td>&quot;Washington Cou…</td><td>22590</td><td>51191</td></tr><tr><td>&quot;KY&quot;</td><td>&quot;Christian Coun…</td><td>30060</td><td>21047</td></tr><tr><td>&quot;TN&quot;</td><td>&quot;Carroll County…</td><td>11430</td><td>47017</td></tr><tr><td>&quot;IL&quot;</td><td>&quot;Logan County&quot;</td><td>12570</td><td>17107</td></tr><tr><td>&quot;KY&quot;</td><td>&quot;Laurel County&quot;</td><td>23760</td><td>21125</td></tr><tr><td>&quot;IL&quot;</td><td>&quot;Randolph Count…</td><td>13680</td><td>17157</td></tr><tr><td>&hellip;</td><td>&hellip;</td><td>&hellip;</td><td>&hellip;</td></tr><tr><td>&quot;IA&quot;</td><td>&quot;Grundy County&quot;</td><td>5710</td><td>19075</td></tr><tr><td>&quot;TX&quot;</td><td>&quot;Oldham County&quot;</td><td>940</td><td>48359</td></tr><tr><td>&quot;TX&quot;</td><td>&quot;Henderson Coun…</td><td>32860</td><td>48213</td></tr><tr><td>&quot;TX&quot;</td><td>&quot;Stonewall Coun…</td><td>620</td><td>48433</td></tr><tr><td>&quot;WA&quot;</td><td>&quot;Columbia Count…</td><td>1720</td><td>53013</td></tr><tr><td>&quot;NV&quot;</td><td>&quot;White Pine Cou…</td><td>4010</td><td>32033</td></tr><tr><td>&quot;NM&quot;</td><td>&quot;Santa Fe Count…</td><td>75540</td><td>35049</td></tr><tr><td>&quot;AZ&quot;</td><td>&quot;Santa Cruz Cou…</td><td>20080</td><td>4023</td></tr><tr><td>&quot;MS&quot;</td><td>&quot;Clarke County&quot;</td><td>6630</td><td>28023</td></tr><tr><td>&quot;MS&quot;</td><td>&quot;Newton County&quot;</td><td>8900</td><td>28101</td></tr><tr><td>&quot;OH&quot;</td><td>&quot;Medina County&quot;</td><td>91480</td><td>39103</td></tr><tr><td>&quot;CO&quot;</td><td>&quot;Clear Creek Co…</td><td>4620</td><td>8019</td></tr></tbody></table></div>"
      ],
      "text/plain": [
       "shape: (3_192, 4)\n",
       "┌──────────────┬────────────────────┬───────────────┬───────────┐\n",
       "│ STATE_ABBREV ┆ COUNTY_NAME        ┆ TOTAL_RETURNS ┆ COUNTYFIP │\n",
       "│ ---          ┆ ---                ┆ ---           ┆ ---       │\n",
       "│ str          ┆ str                ┆ i64           ┆ i64       │\n",
       "╞══════════════╪════════════════════╪═══════════════╪═══════════╡\n",
       "│ SD           ┆ Lyman County       ┆ 1720          ┆ 46085     │\n",
       "│ PA           ┆ Juniata County     ┆ 11210         ┆ 42067     │\n",
       "│ GA           ┆ Hart County        ┆ 10180         ┆ 13147     │\n",
       "│ GA           ┆ Twiggs County      ┆ 3580          ┆ 13289     │\n",
       "│ WI           ┆ Kenosha County     ┆ 80820         ┆ 55059     │\n",
       "│ …            ┆ …                  ┆ …             ┆ …         │\n",
       "│ AZ           ┆ Santa Cruz County  ┆ 20080         ┆ 4023      │\n",
       "│ MS           ┆ Clarke County      ┆ 6630          ┆ 28023     │\n",
       "│ MS           ┆ Newton County      ┆ 8900          ┆ 28101     │\n",
       "│ OH           ┆ Medina County      ┆ 91480         ┆ 39103     │\n",
       "│ CO           ┆ Clear Creek County ┆ 4620          ┆ 8019      │\n",
       "└──────────────┴────────────────────┴───────────────┴───────────┘"
      ]
     },
     "execution_count": 8,
     "metadata": {},
     "output_type": "execute_result"
    }
   ],
   "source": [
    "returns_per_county"
   ]
  },
  {
   "cell_type": "code",
   "execution_count": 9,
   "id": "cd4bb52b-d65b-4cf0-b10d-c9019a81f30e",
   "metadata": {},
   "outputs": [],
   "source": [
    "proportion_stub = df.join(returns_per_county, on='COUNTYFIP').with_columns( PROPORTION_RETURNS=(pl.col('NUM_RETURNS') / pl.col('TOTAL_RETURNS')) )"
   ]
  },
  {
   "cell_type": "code",
   "execution_count": 10,
   "id": "e00157e4-57f0-4c67-ae14-e8a085a04892",
   "metadata": {},
   "outputs": [],
   "source": [
    "weighted_average_stub = proportion_stub.group_by('COUNTYFIP').agg( (pl.col('AGI_STUB') * pl.col('PROPORTION_RETURNS')).sum() / pl.col('PROPORTION_RETURNS').sum() )"
   ]
  },
  {
   "cell_type": "code",
   "execution_count": 11,
   "id": "0ac9edbf-073b-4eb9-9259-fcca02b6a49e",
   "metadata": {},
   "outputs": [],
   "source": [
    "was = weighted_average_stub.with_columns(WEIGHTED_COUNTY_STUB_AVG=pl.col('AGI_STUB')).sort('WEIGHTED_COUNTY_STUB_AVG', descending=True).join(proportion_stub, on='COUNTYFIP')"
   ]
  },
  {
   "cell_type": "code",
   "execution_count": 12,
   "id": "48910c23-b628-4a03-80ca-b523d03ac550",
   "metadata": {},
   "outputs": [],
   "source": [
    "normalized_was = was.with_columns(NORMALIZED_COUNTY_STUB_AVG=pl.col('WEIGHTED_COUNTY_STUB_AVG') / pl.col('WEIGHTED_COUNTY_STUB_AVG').mean() )\\\n",
    ".select(['STATE_ABBREV', 'COUNTY_NAME', 'WEIGHTED_COUNTY_STUB_AVG', 'NORMALIZED_COUNTY_STUB_AVG', 'COUNTYFIP'])\\\n",
    ".sort(['NORMALIZED_COUNTY_STUB_AVG'])"
   ]
  },
  {
   "cell_type": "code",
   "execution_count": 13,
   "id": "1046d775-17b7-4c52-8a7f-e7a21dcc47ed",
   "metadata": {},
   "outputs": [],
   "source": [
    "# counties = proportion_stub\\\n",
    "# .with_columns(AVG_COUNTY_AGI=pl.col('ADJUSTED_GROSS_INCOME') / pl.col('NUM_RETURNS'))\\\n",
    "# .group_by(['COUNTYFIP'])\\\n",
    "# .agg( \n",
    "#     pl.col('AVG_COUNTY_AGI'), \n",
    "#     pl.col('TOTAL_RETURNS')\n",
    "# )\n",
    "\n",
    "# def gini(indivs):\n",
    "#     difference_sum = 0\n",
    "#     n = len(indivs)\n",
    "#     avg = sum(indivs) / n\n",
    "    \n",
    "#     for i in indivs:\n",
    "#         for j in indivs:\n",
    "#             difference_sum += abs(i - j)\n",
    "#     g = difference_sum / (2 * (n**2) * avg)\n",
    "#     return g\n",
    "\n",
    "# # for (county, frame) in counties:\n",
    "# #     indivs = []\n",
    "# #     for row in frame.rows(named=True):\n",
    "# #         indivs.extend( [row['AVG_COUNTY_AGI'] for _ in range(row['TOTAL_RETURNS'])] )\n",
    "# #     g = gini(indivs)\n",
    "# #     print(f'{county[0]}: {g}')\n",
    "    \n",
    "# counties"
   ]
  },
  {
   "cell_type": "code",
   "execution_count": 25,
   "id": "3905d5fe-6e29-43b6-ad82-8893e773289b",
   "metadata": {},
   "outputs": [
    {
     "name": "stdout",
     "output_type": "stream",
     "text": [
      "Running group by\n"
     ]
    }
   ],
   "source": [
    "counties = proportion_stub\\\n",
    "    .with_columns(AVG_COUNTY_AGI=pl.col('ADJUSTED_GROSS_INCOME') / pl.col('NUM_RETURNS'))\\\n",
    "    .group_by(['COUNTYFIP'])\n",
    "\n",
    "def expand(groups):\n",
    "    pos = []\n",
    "    neg = []\n",
    "\n",
    "    for (agi, count) in groups:\n",
    "        for _ in range(count):\n",
    "            if agi < 0:\n",
    "                neg.apped(agi)\n",
    "            else:\n",
    "                pos.append(agi)\n",
    "    return neg, pos\n",
    "\n",
    "def gini(groups):\n",
    "    neg, pos = expand(groups)\n",
    "    T_n = np.sum(np.abs(neg)))\n",
    "\n",
    "    T_a = np.sum(pos)\n",
    "\n",
    "    S = 0\n",
    "\n",
    "    M = len(neg) + len(pos)\n",
    "    \n",
    "    indivs = np.array(neg.extend(pos))\n",
    "    for i in indivs:\n",
    "        for j in indivs:\n",
    "            S += abs(i - j)\n",
    "\n",
    "    G = S / (2 * (M - 1) * (T_a - T_n))\n",
    "    return G\n",
    "    \n",
    "    \n",
    "    \n",
    "\n",
    "import time\n",
    "import json\n",
    "\n",
    "print(\"Running group by\")\n",
    "\n",
    "with open('county_tax.json', 'w') as f:\n",
    "    cd = {}\n",
    "    for (county, frame) in counties:\n",
    "        # print(f'county: {county[0]}')\n",
    "        indivs = []\n",
    "        for row in frame.rows(named=True):\n",
    "            indivs.append( (row['AVG_COUNTY_AGI'], row['TOTAL_RETURNS']) )\n",
    "        cd[county[0]] = gini(indivs)\n",
    "    json.dump(cd, f)\n",
    "    "
   ]
  },
  {
   "cell_type": "code",
   "execution_count": null,
   "id": "9b7a41bc-4e86-464d-87a2-f68040e5f626",
   "metadata": {},
   "outputs": [],
   "source": [
    "proportion_stub.group_by(['COUNTYFIP', 'AGI_STUB']).agg( pl.col('ADJUSTED_GROSS_INCOME').sum() / pl.col('NUM_RETURNS').sum() )"
   ]
  },
  {
   "cell_type": "code",
   "execution_count": null,
   "id": "b97fa3c9-0b9d-4d53-b447-457d50979e27",
   "metadata": {},
   "outputs": [],
   "source": [
    "unique_normalized = normalized_was.unique()\n",
    "pd_unique = unique_normalized.to_pandas()\n",
    "pd_unique"
   ]
  },
  {
   "cell_type": "code",
   "execution_count": null,
   "id": "f65aabfc-132b-4418-a6ac-b54b14c8b437",
   "metadata": {},
   "outputs": [],
   "source": [
    "import plotly as pt\n",
    "import plotly.express as px\n",
    "import json"
   ]
  },
  {
   "cell_type": "code",
   "execution_count": null,
   "id": "e5be57d5-79f8-4892-9ccf-ae34926a74bb",
   "metadata": {},
   "outputs": [],
   "source": [
    "# with open('./counties.geojson', 'r').read() \n",
    "counties = json.load(open('./counties.geojson', 'r'))"
   ]
  },
  {
   "cell_type": "code",
   "execution_count": null,
   "id": "540ffafe-b5ec-488a-9946-b2a57fa9e30e",
   "metadata": {},
   "outputs": [],
   "source": [
    "len(counties['features'])"
   ]
  },
  {
   "cell_type": "code",
   "execution_count": null,
   "id": "84d41c9e-02cf-4785-b9b3-c659a0f3455a",
   "metadata": {},
   "outputs": [],
   "source": [
    "fig = px.choropleth_mapbox(pd_unique, \n",
    "                           geojson=counties, \n",
    "                           locations='COUNTYFIP', \n",
    "                           color='NORMALIZED_COUNTY_STUB_AVG',\n",
    "                           color_continuous_scale=\"Viridis\",\n",
    "                           range_color=(0.74, 1.35),\n",
    "                           mapbox_style=\"carto-positron\",\n",
    "                           zoom=3, \n",
    "                           center={\"lat\": 37.0902, \"lon\": -95.7129},\n",
    "                           opacity=0.5,\n",
    "                           labels={'NORMALIZED_COUNTY_STUB_AVG':'Nationally Normalized AGI Stub Avg', 'COUNTY_NAME': 'County', 'STATE_ABBREV': 'State'}\n",
    "                          )\n",
    "fig.update_layout(margin={\"r\":0,\"t\":0,\"l\":0,\"b\":0})\n",
    "fig.show()"
   ]
  },
  {
   "cell_type": "code",
   "execution_count": null,
   "id": "f5f7ac76-6f9a-49d4-b115-90acab8c0cfe",
   "metadata": {},
   "outputs": [],
   "source": [
    "gdf = gp.read_file('./counties.geojson')"
   ]
  },
  {
   "cell_type": "code",
   "execution_count": null,
   "id": "11bfe89d-70f3-459b-9189-ec57a04610ad",
   "metadata": {},
   "outputs": [],
   "source": [
    "gdf['COUNTYFIP'] = pd.to_numeric(gdf['STATE'].astype(str) + gdf['COUNTY'].astype(str))"
   ]
  },
  {
   "cell_type": "code",
   "execution_count": null,
   "id": "63156b05-e480-4d1f-af67-2a1e1429d224",
   "metadata": {},
   "outputs": [],
   "source": [
    "merged = gdf.merge(pd_unique, on='COUNTYFIP', how='inner')        \n",
    "merged"
   ]
  },
  {
   "cell_type": "code",
   "execution_count": null,
   "id": "9f8452e7-5d78-46bc-8561-7d86938b231e",
   "metadata": {},
   "outputs": [],
   "source": [
    "merged['buffered'] = merged['geometry'].buffer(1.0)\n",
    "\n",
    "joined = merged.sjoin(merged, how='inner', predicate='touches')\n",
    "joined"
   ]
  },
  {
   "cell_type": "code",
   "execution_count": null,
   "id": "e0501867-d122-4315-bae4-55708b7f7629",
   "metadata": {},
   "outputs": [],
   "source": [
    "joined[ (0.85 * joined['NORMALIZED_COUNTY_STUB_AVG_left'] <=  joined['NORMALIZED_COUNTY_STUB_AVG_right']) &  (joined['NORMALIZED_COUNTY_STUB_AVG_right'] <= 1.15*joined['NORMALIZED_COUNTY_STUB_AVG_left']) ]"
   ]
  },
  {
   "cell_type": "code",
   "execution_count": null,
   "id": "b0dbc238-0c7c-4a3a-96fc-7c4d9ae028dd",
   "metadata": {},
   "outputs": [],
   "source": [
    "# js = joined['geometry'].unique()\n",
    "# js.to_json()\n",
    "joined = joined.drop('buffered_left' ,axis=1)\n",
    "joined.to_file('./data.geojson', driver='GeoJSON')\n",
    "# full_js = joined.to_json()"
   ]
  },
  {
   "cell_type": "code",
   "execution_count": null,
   "id": "51990562-9e24-4983-9f4b-f084a82b1874",
   "metadata": {},
   "outputs": [],
   "source": [
    "counties = json.load(open('./data.geojson', 'r'))"
   ]
  },
  {
   "cell_type": "code",
   "execution_count": null,
   "id": "e1ddd1d7-8512-4aa1-a343-92eab38f99f2",
   "metadata": {},
   "outputs": [],
   "source": [
    "fig = px.choropleth_mapbox(pd_unique, \n",
    "                           geojson=counties, \n",
    "                           locations='COUNTYFIP', \n",
    "                           color='NORMALIZED_COUNTY_STUB_AVG',\n",
    "                           color_continuous_scale=\"Viridis\",\n",
    "                           range_color=(0.74, 1.35),\n",
    "                           mapbox_style=\"carto-positron\",\n",
    "                           zoom=3, \n",
    "                           center={\"lat\": 37.0902, \"lon\": -95.7129},\n",
    "                           opacity=0.5,\n",
    "                           labels={'NORMALIZED_COUNTY_STUB_AVG':'Nationally Normalized AGI Stub Avg', 'COUNTY_NAME': 'County', 'STATE_ABBREV': 'State'}\n",
    "                          )\n",
    "fig.update_layout(margin={\"r\":0,\"t\":0,\"l\":0,\"b\":0})\n",
    "fig.show()"
   ]
  },
  {
   "cell_type": "code",
   "execution_count": null,
   "id": "b87bee8a-c7c0-4dcd-97ba-e1b3f73ae13b",
   "metadata": {},
   "outputs": [],
   "source": []
  },
  {
   "cell_type": "code",
   "execution_count": null,
   "id": "41825917-09d7-4a6e-904c-8d20f5bf4b83",
   "metadata": {},
   "outputs": [],
   "source": []
  }
 ],
 "metadata": {
  "kernelspec": {
   "display_name": "Python 3 (ipykernel)",
   "language": "python",
   "name": "python3"
  },
  "language_info": {
   "codemirror_mode": {
    "name": "ipython",
    "version": 3
   },
   "file_extension": ".py",
   "mimetype": "text/x-python",
   "name": "python",
   "nbconvert_exporter": "python",
   "pygments_lexer": "ipython3",
   "version": "3.10.12"
  }
 },
 "nbformat": 4,
 "nbformat_minor": 5
}
