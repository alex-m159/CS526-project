{
 "cells": [
  {
   "cell_type": "code",
   "execution_count": 1,
   "id": "2a7e6bce-353e-4e4a-a8e2-b6ce2d4ffe85",
   "metadata": {},
   "outputs": [
    {
     "name": "stdout",
     "output_type": "stream",
     "text": [
      "Hello"
     ]
    }
   ],
   "source": [
    "print(\"Hello\")"
   ]
  },
  {
   "cell_type": "code",
   "execution_count": null,
   "id": "b57f59f8-c6bb-45b7-ba8b-5cb0c6b26940",
   "metadata": {},
   "outputs": [],
   "source": [
    "# using Pkg\n",
    "# Pkg.add(\"JSON\")"
   ]
  },
  {
   "cell_type": "code",
   "execution_count": null,
   "id": "26ddf249-653d-405e-8090-dbb90bf3e163",
   "metadata": {},
   "outputs": [],
   "source": [
    "import JSON"
   ]
  },
  {
   "cell_type": "code",
   "execution_count": null,
   "id": "e4b2a0e3-c92d-45d5-a127-358f5ce24d3b",
   "metadata": {},
   "outputs": [],
   "source": [
    "ct = JSON.parsefile(\"./county_tax.json\")"
   ]
  },
  {
   "cell_type": "code",
   "execution_count": null,
   "id": "8c7d5e9a-3181-4723-9f24-e4169df96b50",
   "metadata": {},
   "outputs": [],
   "source": [
    "d = Dict{Int64, Vector{Tuple{Float64, Int64}}}()\n",
    "for (k, v) in ct\n",
    "    new = map(a -> (a[1], a[2]), v)\n",
    "    # println(new)\n",
    "    # println(typeof(new))\n",
    "    d[parse(Int64, k)] = new\n",
    "    break\n",
    "end"
   ]
  },
  {
   "cell_type": "code",
   "execution_count": null,
   "id": "dcc72a02-4c4c-4d99-9032-cfe0237e2da0",
   "metadata": {},
   "outputs": [],
   "source": [
    "function expand(indivs::Vector{Tuple{Float64, Int64}})::Vector{Float64}\n",
    "    \n",
    "    \n",
    "    count_sum = 0\n",
    "    for (agi, count) in indivs\n",
    "        count_sum += count\n",
    "    end\n",
    "    println(\"count_sum\")\n",
    "    println(count_sum)\n",
    "    v = Vector{Float64}(undef, count_sum)\n",
    "    println(\"Vector Length\")\n",
    "    println(length(v))\n",
    "    # for (agi, count) in indivs\n",
    "    #     for _ in 0:count\n",
    "    #         append!(v, agi)\n",
    "            \n",
    "    #     end\n",
    "    # end\n",
    "    return v\n",
    "end\n",
    "function gini(groups::Vector{Tuple{Float64, Int64}})::Nothing\n",
    "    indivs = expand(groups)\n",
    "    println(\"Expanded groups\")\n",
    "    n = length(indivs)    \n",
    "    println(\"Got length\")\n",
    "    avg = sum(indivs) / n\n",
    "    abs_sum = 0\n",
    "    println(\"Summing differences\")\n",
    "    for i in indivs\n",
    "        for j in indivs\n",
    "            abs_sum += abs(i - j)\n",
    "        end\n",
    "    end\n",
    "    g = abs_sum / (2 * n^2 * avg)\n",
    "    println(g)\n",
    "end"
   ]
  },
  {
   "cell_type": "code",
   "execution_count": null,
   "id": "71dd1bea-b050-4077-a160-56407c00df1e",
   "metadata": {},
   "outputs": [],
   "source": [
    "for (k, v) in d\n",
    "    new = map(a -> (a[1], a[2]), v)\n",
    "    println(new)\n",
    "    println(typeof(new))\n",
    "    i = expand(new)\n",
    "    # gini(new)\n",
    "    break\n",
    "end"
   ]
  },
  {
   "cell_type": "code",
   "execution_count": null,
   "id": "5c8bdd14-982a-4372-aea1-c444f5e4a7b1",
   "metadata": {},
   "outputs": [],
   "source": []
  }
 ],
 "metadata": {
  "kernelspec": {
   "display_name": "Julia 1.10.2",
   "language": "julia",
   "name": "julia-1.10"
  },
  "language_info": {
   "file_extension": ".jl",
   "mimetype": "application/julia",
   "name": "julia",
   "version": "1.10.2"
  }
 },
 "nbformat": 4,
 "nbformat_minor": 5
}
