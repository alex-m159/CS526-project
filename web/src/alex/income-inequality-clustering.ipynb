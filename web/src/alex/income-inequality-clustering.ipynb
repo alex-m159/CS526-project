{
 "cells": [
  {
   "cell_type": "markdown",
   "id": "80fc40ef-e4d3-468d-ac67-a42dbb0043a9",
   "metadata": {},
   "source": [
    "# Population Density"
   ]
  },
  {
   "cell_type": "code",
   "execution_count": 177,
   "id": "5d6cdcec-30c6-43ed-aff3-758a8fa0a4f4",
   "metadata": {},
   "outputs": [],
   "source": [
    "import clickhouse_connect\n",
    "import polars as pl\n",
    "import matplotlib.pyplot as plt\n",
    "import numpy as np\n",
    "import geopandas as gp\n",
    "import pandas as pd"
   ]
  },
  {
   "cell_type": "code",
   "execution_count": 178,
   "id": "281024d5-9ffa-4c89-9388-c604ccdaf9ba",
   "metadata": {},
   "outputs": [],
   "source": [
    "client = clickhouse_connect.get_client(host='hub.publichealthhq.xyz', port=18123, username='default', password='Password123!')"
   ]
  },
  {
   "cell_type": "markdown",
   "id": "c559538b-4aed-450e-bd88-b010e873a7b7",
   "metadata": {},
   "source": [
    "## Get Pre-computed Gini Coefficients"
   ]
  },
  {
   "cell_type": "code",
   "execution_count": 179,
   "id": "b31cdbe8-b7db-4978-9943-a5ab52c19c8e",
   "metadata": {},
   "outputs": [],
   "source": [
    "res = client.query('SELECT STATE_COUNTY_FIPS, GINI FROM cps_00004.county_gini')\n",
    "gini_df = pl.from_dicts(res.named_results(), infer_schema_length=400)\n",
    "gini_df = gini_df.to_pandas()"
   ]
  },
  {
   "cell_type": "code",
   "execution_count": 180,
   "id": "550da44a-0e60-4dd0-a189-1be8621e3d78",
   "metadata": {},
   "outputs": [],
   "source": [
    "gini_df['STATE_COUNTY_FIPS'] = gini_df['STATE_COUNTY_FIPS'].astype(int)\n",
    "# Get rid of extreme outliers\n",
    "gini_filtered = gini_df[ (0 < gini_df['GINI']) & (gini_df['GINI'] < 100) ]"
   ]
  },
  {
   "cell_type": "markdown",
   "id": "2ae1fd79-205f-437f-9322-7d1330b923c4",
   "metadata": {},
   "source": [
    "## Get Tax Data"
   ]
  },
  {
   "cell_type": "code",
   "execution_count": 181,
   "id": "ee55eef8-fff7-495d-aeee-a944f97af8da",
   "metadata": {},
   "outputs": [],
   "source": [
    "res = client.query('SELECT COUNTYFIP, (sum(ADJUSTED_GROSS_INCOME) / sum(NUM_RETURNS)) as avg_agi FROM cps_00004.income_tax GROUP BY COUNTYFIP')\n",
    "tax_df = pl.from_dicts(res.named_results(), infer_schema_length=400).to_pandas()\n",
    "tax_df['STATE_COUNTY_FIPS'] = tax_df['COUNTYFIP']"
   ]
  },
  {
   "cell_type": "code",
   "execution_count": 182,
   "id": "42c6303a-5483-48b3-8bb0-547bb2388856",
   "metadata": {},
   "outputs": [],
   "source": [
    "tax_gini_filtered = pd.merge(gini_filtered, tax_df, on='STATE_COUNTY_FIPS', how='inner', validate='1:1')"
   ]
  },
  {
   "cell_type": "markdown",
   "id": "4df83c74-a90b-4e69-9f6d-3f99089ebf01",
   "metadata": {},
   "source": [
    "## Get Geospatial Data"
   ]
  },
  {
   "cell_type": "code",
   "execution_count": 183,
   "id": "d73dc8a2-0455-4094-b420-81808fe4bed2",
   "metadata": {},
   "outputs": [
    {
     "data": {
      "text/plain": [
       "0       POLYGON ((-86.49677 32.34444, -86.71790 32.402...\n",
       "1       POLYGON ((-86.57780 33.76532, -86.75914 33.840...\n",
       "2       POLYGON ((-85.18413 32.87053, -85.12342 32.772...\n",
       "3       POLYGON ((-86.51734 33.02057, -86.51596 32.929...\n",
       "4       POLYGON ((-88.13999 34.58170, -88.13925 34.587...\n",
       "                              ...                        \n",
       "3216    MULTIPOLYGON (((-75.24227 38.02721, -75.29687 ...\n",
       "3217    POLYGON ((-81.22510 37.23487, -81.20477 37.243...\n",
       "3218    POLYGON ((-81.96830 37.53780, -81.92787 37.512...\n",
       "3219    POLYGON ((-78.44332 37.07940, -78.49303 36.891...\n",
       "3220    POLYGON ((-77.85180 37.35487, -77.85515 37.418...\n",
       "Name: geometry, Length: 3221, dtype: geometry"
      ]
     },
     "execution_count": 183,
     "metadata": {},
     "output_type": "execute_result"
    }
   ],
   "source": [
    "gdf = gp.read_file('counties.geojson')\n",
    "gdf['STATE_COUNTY_FIPS'] = (gdf['STATE'].astype(str) + gdf['COUNTY'].astype(str)).astype(int)\n",
    "gdf['geometry']"
   ]
  },
  {
   "cell_type": "code",
   "execution_count": 184,
   "id": "c3de9623-4d78-4a41-8eff-2bb6da05abc2",
   "metadata": {},
   "outputs": [],
   "source": [
    "gdf.to_crs(crs='EPSG:3857', inplace=True)\n",
    "gdf_buf = gdf.copy()\n",
    "gdf_buf['geometry'] = gdf.buffer(100)\n"
   ]
  },
  {
   "cell_type": "code",
   "execution_count": null,
   "id": "143483b2-6451-4aa9-a6ae-a831f39a2fca",
   "metadata": {},
   "outputs": [],
   "source": []
  },
  {
   "cell_type": "code",
   "execution_count": 185,
   "id": "1562ef26-026f-49b4-8a85-168e7c7a9404",
   "metadata": {},
   "outputs": [],
   "source": [
    "joined_gini = pd.merge(gdf_buf, tax_gini_filtered, on=['STATE_COUNTY_FIPS'], how='inner', validate='1:1')"
   ]
  },
  {
   "cell_type": "markdown",
   "id": "b3d82d94-e3d6-40f6-bb3a-9a8e2d553c92",
   "metadata": {},
   "source": [
    "## Spatial Join\n",
    "The single line below is really critical since it is performing the spatial join that will match up each county with the its neighboring counties.\n",
    "\n",
    "The projected/selected spatial join results will be saved in Clickhouse to be used as a precomputed table. This will give us the ability to make some parts of the analysis interactive without having to wait for the expensive joins."
   ]
  },
  {
   "cell_type": "code",
   "execution_count": 186,
   "id": "4ee2843d-92b7-4c7f-bdda-6a7015932a34",
   "metadata": {},
   "outputs": [],
   "source": [
    "cross_joined = gp.sjoin(joined_gini, joined_gini, how='inner', predicate='intersects')\n",
    "cross_joined = cross_joined[ cross_joined['STATE_COUNTY_FIPS_left'] !=  cross_joined['STATE_COUNTY_FIPS_right']]"
   ]
  },
  {
   "cell_type": "code",
   "execution_count": 187,
   "id": "6bb9e371-9e50-4ee3-a112-51f8369e6eb9",
   "metadata": {},
   "outputs": [],
   "source": [
    "selected = cross_joined[['STATE_left',  'STATE_COUNTY_FIPS_left', 'GINI_left', 'avg_agi_left','STATE_right', 'STATE_COUNTY_FIPS_right', 'GINI_right', 'avg_agi_right']]"
   ]
  },
  {
   "cell_type": "markdown",
   "id": "55320f05-1121-4eef-a0b7-fdc4e835f1a9",
   "metadata": {},
   "source": [
    "### Save as CSV\n",
    "We'll use this as a pre-computed table in the database since I never got turf to work for the spatial joins."
   ]
  },
  {
   "cell_type": "code",
   "execution_count": 188,
   "id": "cd3a62a8-ed1b-4fe0-ba55-6417b430d1d0",
   "metadata": {},
   "outputs": [],
   "source": [
    "import csv\n",
    "with open('neighboring_counties.csv', 'w') as f:\n",
    "    writer = csv.DictWriter(f, fieldnames=['ROWNUM', 'STATE_COUNTY_FIPS_left', 'GINI_left', 'AVG_AGI_left', 'STATE_COUNTY_FIPS_right', 'GINI_right', 'AVG_AGI_right'])\n",
    "    for (i, (_, row)) in enumerate(selected.iterrows()):\n",
    "        writer.writerow({\n",
    "            'ROWNUM': i,\n",
    "            'STATE_COUNTY_FIPS_left': row['STATE_COUNTY_FIPS_left'],\n",
    "            'GINI_left': row['GINI_left'],\n",
    "            'AVG_AGI_left': row['avg_agi_left'],\n",
    "            'STATE_COUNTY_FIPS_right': row['STATE_COUNTY_FIPS_right'],\n",
    "            'GINI_right': row['GINI_right'],\n",
    "            'AVG_AGI_right': row['avg_agi_right']\n",
    "        })"
   ]
  },
  {
   "cell_type": "markdown",
   "id": "2ab1179a-760a-4f3c-9b3f-255fa42fa9ed",
   "metadata": {},
   "source": [
    "## Group counties\n",
    "Here we group the counties into four groups:\n",
    "\n",
    "1. Poor counties neighbored only by poor counties\n",
    "2. Rich counties neighbored only by rich counties\n",
    "3. Poor counties neighbored by at least one rich county\n",
    "4. Rich counties neighbored by at least one poor county"
   ]
  },
  {
   "cell_type": "code",
   "execution_count": 189,
   "id": "e044c5ac-248f-406e-a4ed-9120e002b98f",
   "metadata": {},
   "outputs": [
    {
     "name": "stdout",
     "output_type": "stream",
     "text": [
      "poor: $38848.62\n",
      "rich: $66677.44\n"
     ]
    }
   ],
   "source": [
    "poor = selected['avg_agi_right'].quantile(0.10)\n",
    "rich = selected['avg_agi_right'].quantile(0.90)\n",
    "\n",
    "\n",
    "selected_pl = pl.from_pandas(selected)\n",
    "\n",
    "# Just showing the same thing with polars\n",
    "# poor_pl = selected_pl['avg_agi_left'].quantile(0.10)\n",
    "\n",
    "print(f'poor: ${poor:.2f}')\n",
    "print(f'rich: ${rich:.2f}')\n",
    "\n",
    "poor_near_poor = selected_pl\\\n",
    ".filter(pl.col('avg_agi_left') <= poor )\\\n",
    ".group_by('STATE_COUNTY_FIPS_left')\\\n",
    "    .agg( avg_agi_right_max=pl.col('avg_agi_right').max() )\\\n",
    ".filter( pl.col('avg_agi_right_max') <= poor )\n",
    "\n",
    "rich_near_rich = selected_pl\\\n",
    ".filter( pl.col('avg_agi_left') >= rich )\\\n",
    ".group_by('STATE_COUNTY_FIPS_left')\\\n",
    "    .agg( avg_agi_right_max=pl.col('avg_agi_right').max() )\\\n",
    ".filter( pl.col('avg_agi_right_max') >= rich )\n",
    "\n",
    "poor_near_rich = selected_pl\\\n",
    ".filter(pl.col('avg_agi_left') <= poor )\\\n",
    ".group_by('STATE_COUNTY_FIPS_left')\\\n",
    "    .agg( avg_agi_right_max=pl.col('avg_agi_right').max() )\\\n",
    ".filter( pl.col('avg_agi_right_max') >= rich )\n",
    "\n",
    "# Notice that this uses min in the agg, not max\n",
    "rich_near_poor = selected_pl\\\n",
    ".filter(pl.col('avg_agi_left') >= rich )\\\n",
    ".group_by('STATE_COUNTY_FIPS_left')\\\n",
    "    .agg( avg_agi_right_max=pl.col('avg_agi_right').min() )\\\n",
    ".filter( pl.col('avg_agi_right_max') <= poor )"
   ]
  },
  {
   "cell_type": "code",
   "execution_count": 190,
   "id": "9afdd0f2-914c-4c35-9b5f-06989468a1e0",
   "metadata": {},
   "outputs": [
    {
     "name": "stdout",
     "output_type": "stream",
     "text": [
      "poor_near_poor: 9\n",
      "rich_near_rich: 279\n",
      "poor_near_rich: 30\n",
      "rich_near_poor: 27\n"
     ]
    }
   ],
   "source": [
    "print(f'poor_near_poor: {len(poor_near_poor)}')\n",
    "print(f'rich_near_rich: {len(rich_near_rich)}')\n",
    "print(f'poor_near_rich: {len(poor_near_rich)}')\n",
    "print(f'rich_near_poor: {len(rich_near_poor)}')"
   ]
  },
  {
   "cell_type": "code",
   "execution_count": 191,
   "id": "2a7dadac-d2df-4ca0-8d3c-348fe4f0fdf0",
   "metadata": {},
   "outputs": [],
   "source": [
    "pnp_list = list(poor_near_poor['STATE_COUNTY_FIPS_left'])\n",
    "rnr_list = list(rich_near_rich['STATE_COUNTY_FIPS_left'])\n",
    "pnr_list = list(poor_near_rich['STATE_COUNTY_FIPS_left'])\n",
    "rnp_list = list(rich_near_poor['STATE_COUNTY_FIPS_left'])"
   ]
  },
  {
   "cell_type": "code",
   "execution_count": 192,
   "id": "2d3c3e51-dce9-4708-854b-815a53bb3ed8",
   "metadata": {},
   "outputs": [
    {
     "data": {
      "text/plain": [
       "[13243, 48215, 48489, 28119, 51595, 48061, 29179, 21057, 21129]"
      ]
     },
     "execution_count": 192,
     "metadata": {},
     "output_type": "execute_result"
    }
   ],
   "source": [
    "pnp_list"
   ]
  },
  {
   "cell_type": "code",
   "execution_count": 193,
   "id": "2278c317-0de1-4aa3-b727-275ea312b4d7",
   "metadata": {},
   "outputs": [],
   "source": [
    "pnp_fips = poor_near_poor.select(['STATE_COUNTY_FIPS_left'])\n",
    "renamed_pnp = selected_pl\\\n",
    ".join(pnp_fips, on='STATE_COUNTY_FIPS_left', how='inner')\\\n",
    ".rename({\n",
    "    'STATE_left': 'STATE_FIPS_focus',\n",
    "    'STATE_COUNTY_FIPS_left': 'STATE_COUNTY_FIPS_focus',\n",
    "    'GINI_left': 'GINI_focus',\n",
    "    'avg_agi_left': 'AVG_AGI_focus',\n",
    "    'STATE_right': 'STATE_FIPS_adj',\n",
    "    'STATE_COUNTY_FIPS_right': 'STATE_COUNTY_FIPS_adj',\n",
    "    'GINI_right': 'GINI_adj',\n",
    "    'avg_agi_right': 'AVG_AGI_adj'\n",
    "})"
   ]
  },
  {
   "cell_type": "code",
   "execution_count": 194,
   "id": "f76254d0-f287-427d-9b40-8dee32c95971",
   "metadata": {},
   "outputs": [],
   "source": [
    "rnr_fips = rich_near_rich.select(['STATE_COUNTY_FIPS_left'])\n",
    "renamed_rnr = selected_pl\\\n",
    ".join(rnr_fips, on='STATE_COUNTY_FIPS_left', how='inner')\\\n",
    ".rename({\n",
    "    'STATE_left': 'STATE_FIPS_focus',\n",
    "    'STATE_COUNTY_FIPS_left': 'STATE_COUNTY_FIPS_focus',\n",
    "    'GINI_left': 'GINI_focus',\n",
    "    'avg_agi_left': 'AVG_AGI_focus',\n",
    "    'STATE_right': 'STATE_FIPS_adj',\n",
    "    'STATE_COUNTY_FIPS_right': 'STATE_COUNTY_FIPS_adj',\n",
    "    'GINI_right': 'GINI_adj',\n",
    "    'avg_agi_right': 'AVG_AGI_adj'\n",
    "})"
   ]
  },
  {
   "cell_type": "code",
   "execution_count": 195,
   "id": "43e16adf-617b-4fad-9e36-b7461cb1c319",
   "metadata": {},
   "outputs": [],
   "source": [
    "pnr_fips = poor_near_poor.select(['STATE_COUNTY_FIPS_left'])\n",
    "renamed_pnr = selected_pl\\\n",
    ".join(pnr_fips, on='STATE_COUNTY_FIPS_left', how='inner')\\\n",
    ".rename({\n",
    "    'STATE_left': 'STATE_FIPS_focus',\n",
    "    'STATE_COUNTY_FIPS_left': 'STATE_COUNTY_FIPS_focus',\n",
    "    'GINI_left': 'GINI_focus',\n",
    "    'avg_agi_left': 'AVG_AGI_focus',\n",
    "    'STATE_right': 'STATE_FIPS_adj',\n",
    "    'STATE_COUNTY_FIPS_right': 'STATE_COUNTY_FIPS_adj',\n",
    "    'GINI_right': 'GINI_adj',\n",
    "    'avg_agi_right': 'AVG_AGI_adj'\n",
    "})"
   ]
  },
  {
   "cell_type": "code",
   "execution_count": 196,
   "id": "e8b290f4-a1db-4c61-ab68-4b888b0a6226",
   "metadata": {},
   "outputs": [],
   "source": [
    "rnp_fips = poor_near_poor.select(['STATE_COUNTY_FIPS_left'])\n",
    "renamed_rnp = selected_pl\\\n",
    ".join(rnp_fips, on='STATE_COUNTY_FIPS_left', how='inner')\\\n",
    ".rename({\n",
    "    'STATE_left': 'STATE_FIPS_focus',\n",
    "    'STATE_COUNTY_FIPS_left': 'STATE_COUNTY_FIPS_focus',\n",
    "    'GINI_left': 'GINI_focus',\n",
    "    'avg_agi_left': 'AVG_AGI_focus',\n",
    "    'STATE_right': 'STATE_FIPS_adj',\n",
    "    'STATE_COUNTY_FIPS_right': 'STATE_COUNTY_FIPS_adj',\n",
    "    'GINI_right': 'GINI_adj',\n",
    "    'avg_agi_right': 'AVG_AGI_adj'\n",
    "})"
   ]
  },
  {
   "cell_type": "code",
   "execution_count": null,
   "id": "4c8211ea-c80a-499e-b551-9b9c4885feef",
   "metadata": {},
   "outputs": [],
   "source": []
  },
  {
   "cell_type": "code",
   "execution_count": 197,
   "id": "9e7bcd59-3584-428c-96f3-06904b0e5050",
   "metadata": {},
   "outputs": [],
   "source": [
    "res = client.query('''\n",
    "        SELECT STATE_COUNTY_FIPS_left, GINI_left, AVG_AGI_left, STATE_COUNTY_FIPS_right, GINI_right, AVG_AGI_right \n",
    "        FROM cps_00004.neighboring_counties\n",
    "    ''')\n",
    "df = pl.from_dicts(res.named_results(), infer_schema_length=400)\n",
    "df = df.select(\n",
    "    pl.col('STATE_COUNTY_FIPS_left'), \n",
    "    pl.col('GINI_left'), \n",
    "    pl.col('AVG_AGI_left').cast(pl.Float64), \n",
    "    pl.col('STATE_COUNTY_FIPS_right'), \n",
    "    pl.col('GINI_right'), \n",
    "    pl.col('AVG_AGI_right').cast(pl.Float64)\n",
    ")\n",
    "poor = df['AVG_AGI_left'].quantile(0.10)\n",
    "rich = df['AVG_AGI_left'].quantile(0.90)\n",
    "\n",
    "poor_near_poor = df\\\n",
    ".filter(pl.col('AVG_AGI_left') <= poor )\\\n",
    ".group_by('STATE_COUNTY_FIPS_left')\\\n",
    "    .agg( AVG_AGI_right_max=pl.col('AVG_AGI_right').max() )\\\n",
    ".filter( pl.col('AVG_AGI_right_max') <= poor )\\\n",
    "\n",
    "\n",
    "rich_near_rich = df\\\n",
    ".filter( pl.col('AVG_AGI_left') >= rich )\\\n",
    ".group_by('STATE_COUNTY_FIPS_left')\\\n",
    "    .agg( AVG_AGI_right_max=pl.col('AVG_AGI_right').max() )\\\n",
    ".filter( pl.col('AVG_AGI_right_max') >= rich )\\\n",
    "\n",
    "poor_near_rich = df\\\n",
    ".filter(pl.col('AVG_AGI_left') <= poor )\\\n",
    ".group_by('STATE_COUNTY_FIPS_left')\\\n",
    "    .agg( AVG_AGI_right_max=pl.col('AVG_AGI_right').max() )\\\n",
    ".filter( pl.col('AVG_AGI_right_max') >= rich )\\\n",
    "\n",
    "# Notice that this uses min in the agg, not max\n",
    "rich_near_poor = df\\\n",
    ".filter(pl.col('AVG_AGI_left') >= rich )\\\n",
    ".group_by('STATE_COUNTY_FIPS_left')\\\n",
    "    .agg( AVG_AGI_right_max=pl.col('AVG_AGI_right').min() )\\\n",
    ".filter( pl.col('AVG_AGI_right_max') <= poor ) \\\n",
    "\n",
    "\n",
    "pnp_fips = poor_near_poor.select(['STATE_COUNTY_FIPS_left'])\n",
    "renamed_pnp = df\\\n",
    ".join(pnp_fips, on='STATE_COUNTY_FIPS_left', how='inner')\\\n",
    ".filter( pl.col('STATE_COUNTY_FIPS_left').ne(pl.col('STATE_COUNTY_FIPS_right')) )\\\n",
    ".rename({\n",
    "    'STATE_COUNTY_FIPS_left': 'STATE_COUNTY_FIPS_focus',\n",
    "    'GINI_left': 'GINI_focus',\n",
    "    'AVG_AGI_left': 'AVG_AGI_focus',\n",
    "    'STATE_COUNTY_FIPS_right': 'STATE_COUNTY_FIPS_adj',\n",
    "    'GINI_right': 'GINI_adj',\n",
    "    'AVG_AGI_right': 'AVG_AGI_adj'\n",
    "})\n",
    "\n",
    "rnr_fips = rich_near_rich.select(['STATE_COUNTY_FIPS_left'])\n",
    "renamed_rnr = df\\\n",
    ".join(rnr_fips, on='STATE_COUNTY_FIPS_left', how='inner')\\\n",
    ".filter( pl.col('STATE_COUNTY_FIPS_left').ne(pl.col('STATE_COUNTY_FIPS_right')) )\\\n",
    ".rename({\n",
    "    'STATE_COUNTY_FIPS_left': 'STATE_COUNTY_FIPS_focus',\n",
    "    'GINI_left': 'GINI_focus',\n",
    "    'AVG_AGI_left': 'AVG_AGI_focus',\n",
    "    'STATE_COUNTY_FIPS_right': 'STATE_COUNTY_FIPS_adj',\n",
    "    'GINI_right': 'GINI_adj',\n",
    "    'AVG_AGI_right': 'AVG_AGI_adj'\n",
    "})\n",
    "\n",
    "pnr_fips = poor_near_rich.select(['STATE_COUNTY_FIPS_left'])\n",
    "renamed_pnr = df\\\n",
    ".join(pnr_fips, on='STATE_COUNTY_FIPS_left', how='inner')\\\n",
    ".filter( pl.col('STATE_COUNTY_FIPS_left').ne(pl.col('STATE_COUNTY_FIPS_right')) )\\\n",
    ".rename({\n",
    "    'STATE_COUNTY_FIPS_left': 'STATE_COUNTY_FIPS_focus',\n",
    "    'GINI_left': 'GINI_focus',\n",
    "    'AVG_AGI_left': 'AVG_AGI_focus',\n",
    "    'STATE_COUNTY_FIPS_right': 'STATE_COUNTY_FIPS_adj',\n",
    "    'GINI_right': 'GINI_adj',\n",
    "    'AVG_AGI_right': 'AVG_AGI_adj'\n",
    "})\n",
    "\n",
    "rnp_fips = rich_near_poor.select(['STATE_COUNTY_FIPS_left'])\n",
    "renamed_rnp = df\\\n",
    ".join(rnp_fips, on='STATE_COUNTY_FIPS_left', how='inner')\\\n",
    ".filter( pl.col('STATE_COUNTY_FIPS_left').ne(pl.col('STATE_COUNTY_FIPS_right')) )\\\n",
    ".rename({\n",
    "    'STATE_COUNTY_FIPS_left': 'STATE_COUNTY_FIPS_focus',\n",
    "    'GINI_left': 'GINI_focus',\n",
    "    'AVG_AGI_left': 'AVG_AGI_focus',\n",
    "    'STATE_COUNTY_FIPS_right': 'STATE_COUNTY_FIPS_adj',\n",
    "    'GINI_right': 'GINI_adj',\n",
    "    'AVG_AGI_right': 'AVG_AGI_adj'\n",
    "})"
   ]
  },
  {
   "cell_type": "code",
   "execution_count": 198,
   "id": "5a781071-45c0-49b5-a35a-30a397a49c6b",
   "metadata": {},
   "outputs": [
    {
     "data": {
      "text/html": [
       "<div><style>\n",
       ".dataframe > thead > tr,\n",
       ".dataframe > tbody > tr {\n",
       "  text-align: right;\n",
       "  white-space: pre-wrap;\n",
       "}\n",
       "</style>\n",
       "<small>shape: (217, 11)</small><table border=\"1\" class=\"dataframe\"><thead><tr><th>STATE_COUNTY_FIPS_focus</th><th>GINI_focus</th><th>AVG_AGI_focus</th><th>STATE_COUNTY_FIPS_adj</th><th>GINI_adj</th><th>AVG_AGI_adj</th><th>GINI_focus_right</th><th>AVG_AGI_focus_right</th><th>STATE_COUNTY_FIPS_adj_right</th><th>GINI_adj_right</th><th>AVG_AGI_adj_right</th></tr><tr><td>i64</td><td>f64</td><td>f64</td><td>i64</td><td>f64</td><td>f64</td><td>f64</td><td>f64</td><td>i64</td><td>f64</td><td>f64</td></tr></thead><tbody><tr><td>13145</td><td>0.820368</td><td>68696.014</td><td>1017</td><td>0.815764</td><td>35732.164</td><td>0.815764</td><td>35732.164</td><td>1081</td><td>0.895927</td><td>54672.451</td></tr><tr><td>13145</td><td>0.820368</td><td>68696.014</td><td>1017</td><td>0.815764</td><td>35732.164</td><td>0.815764</td><td>35732.164</td><td>1123</td><td>0.816752</td><td>45983.304</td></tr><tr><td>13145</td><td>0.820368</td><td>68696.014</td><td>1017</td><td>0.815764</td><td>35732.164</td><td>0.815764</td><td>35732.164</td><td>1111</td><td>0.792802</td><td>41133.896</td></tr><tr><td>13145</td><td>0.820368</td><td>68696.014</td><td>1017</td><td>0.815764</td><td>35732.164</td><td>0.815764</td><td>35732.164</td><td>13145</td><td>0.820368</td><td>68696.014</td></tr><tr><td>13145</td><td>0.820368</td><td>68696.014</td><td>1017</td><td>0.815764</td><td>35732.164</td><td>0.815764</td><td>35732.164</td><td>13285</td><td>0.915647</td><td>45676.001</td></tr><tr><td>2122</td><td>0.859251</td><td>67674.62</td><td>2050</td><td>0.843077</td><td>37838.746</td><td>0.843077</td><td>37838.746</td><td>2164</td><td>0.551697</td><td>34755.405</td></tr><tr><td>2170</td><td>0.875339</td><td>68762.228</td><td>2050</td><td>0.843077</td><td>37838.746</td><td>0.843077</td><td>37838.746</td><td>2164</td><td>0.551697</td><td>34755.405</td></tr><tr><td>2122</td><td>0.859251</td><td>67674.62</td><td>2050</td><td>0.843077</td><td>37838.746</td><td>0.843077</td><td>37838.746</td><td>2070</td><td>0.643346</td><td>44266.81</td></tr><tr><td>2170</td><td>0.875339</td><td>68762.228</td><td>2050</td><td>0.843077</td><td>37838.746</td><td>0.843077</td><td>37838.746</td><td>2070</td><td>0.643346</td><td>44266.81</td></tr><tr><td>2122</td><td>0.859251</td><td>67674.62</td><td>2050</td><td>0.843077</td><td>37838.746</td><td>0.843077</td><td>37838.746</td><td>2122</td><td>0.859251</td><td>67674.62</td></tr><tr><td>2170</td><td>0.875339</td><td>68762.228</td><td>2050</td><td>0.843077</td><td>37838.746</td><td>0.843077</td><td>37838.746</td><td>2122</td><td>0.859251</td><td>67674.62</td></tr><tr><td>2122</td><td>0.859251</td><td>67674.62</td><td>2050</td><td>0.843077</td><td>37838.746</td><td>0.843077</td><td>37838.746</td><td>2170</td><td>0.875339</td><td>68762.228</td></tr><tr><td>&hellip;</td><td>&hellip;</td><td>&hellip;</td><td>&hellip;</td><td>&hellip;</td><td>&hellip;</td><td>&hellip;</td><td>&hellip;</td><td>&hellip;</td><td>&hellip;</td><td>&hellip;</td></tr><tr><td>32007</td><td>0.85274</td><td>66721.388</td><td>16073</td><td>1.277498</td><td>35338.359</td><td>1.277498</td><td>35338.359</td><td>16001</td><td>1.109902</td><td>66654.849</td></tr><tr><td>13145</td><td>0.820368</td><td>68696.014</td><td>13263</td><td>1.164536</td><td>38125.096</td><td>1.164536</td><td>38125.096</td><td>13197</td><td>0.882984</td><td>40858.844</td></tr><tr><td>13145</td><td>0.820368</td><td>68696.014</td><td>13263</td><td>1.164536</td><td>38125.096</td><td>1.164536</td><td>38125.096</td><td>13053</td><td>0.53122</td><td>37180.827</td></tr><tr><td>13145</td><td>0.820368</td><td>68696.014</td><td>13263</td><td>1.164536</td><td>38125.096</td><td>1.164536</td><td>38125.096</td><td>13215</td><td>0.903231</td><td>49221.487</td></tr><tr><td>13145</td><td>0.820368</td><td>68696.014</td><td>13263</td><td>1.164536</td><td>38125.096</td><td>1.164536</td><td>38125.096</td><td>13269</td><td>0.716021</td><td>38529.595</td></tr><tr><td>13145</td><td>0.820368</td><td>68696.014</td><td>13263</td><td>1.164536</td><td>38125.096</td><td>1.164536</td><td>38125.096</td><td>13145</td><td>0.820368</td><td>68696.014</td></tr><tr><td>13145</td><td>0.820368</td><td>68696.014</td><td>13263</td><td>1.164536</td><td>38125.096</td><td>1.164536</td><td>38125.096</td><td>13293</td><td>0.841222</td><td>41001.407</td></tr><tr><td>13145</td><td>0.820368</td><td>68696.014</td><td>13263</td><td>1.164536</td><td>38125.096</td><td>1.164536</td><td>38125.096</td><td>13199</td><td>0.830496</td><td>38813.854</td></tr><tr><td>33009</td><td>0.92351</td><td>73894.779</td><td>50009</td><td>0.721978</td><td>36830.902</td><td>0.721978</td><td>36830.902</td><td>33009</td><td>0.92351</td><td>73894.779</td></tr><tr><td>33009</td><td>0.92351</td><td>73894.779</td><td>50009</td><td>0.721978</td><td>36830.902</td><td>0.721978</td><td>36830.902</td><td>50005</td><td>0.84341</td><td>45430.69</td></tr><tr><td>33009</td><td>0.92351</td><td>73894.779</td><td>50009</td><td>0.721978</td><td>36830.902</td><td>0.721978</td><td>36830.902</td><td>33007</td><td>0.770097</td><td>44032.933</td></tr><tr><td>33009</td><td>0.92351</td><td>73894.779</td><td>50009</td><td>0.721978</td><td>36830.902</td><td>0.721978</td><td>36830.902</td><td>50019</td><td>0.773303</td><td>42178.618</td></tr></tbody></table></div>"
      ],
      "text/plain": [
       "shape: (217, 11)\n",
       "┌───────────┬───────────┬───────────┬───────────┬───┬───────────┬───────────┬───────────┬──────────┐\n",
       "│ STATE_COU ┆ GINI_focu ┆ AVG_AGI_f ┆ STATE_COU ┆ … ┆ AVG_AGI_f ┆ STATE_COU ┆ GINI_adj_ ┆ AVG_AGI_ │\n",
       "│ NTY_FIPS_ ┆ s         ┆ ocus      ┆ NTY_FIPS_ ┆   ┆ ocus_righ ┆ NTY_FIPS_ ┆ right     ┆ adj_righ │\n",
       "│ focus     ┆ ---       ┆ ---       ┆ adj       ┆   ┆ t         ┆ adj_right ┆ ---       ┆ t        │\n",
       "│ ---       ┆ f64       ┆ f64       ┆ ---       ┆   ┆ ---       ┆ ---       ┆ f64       ┆ ---      │\n",
       "│ i64       ┆           ┆           ┆ i64       ┆   ┆ f64       ┆ i64       ┆           ┆ f64      │\n",
       "╞═══════════╪═══════════╪═══════════╪═══════════╪═══╪═══════════╪═══════════╪═══════════╪══════════╡\n",
       "│ 13145     ┆ 0.820368  ┆ 68696.014 ┆ 1017      ┆ … ┆ 35732.164 ┆ 1081      ┆ 0.895927  ┆ 54672.45 │\n",
       "│           ┆           ┆           ┆           ┆   ┆           ┆           ┆           ┆ 1        │\n",
       "│ 13145     ┆ 0.820368  ┆ 68696.014 ┆ 1017      ┆ … ┆ 35732.164 ┆ 1123      ┆ 0.816752  ┆ 45983.30 │\n",
       "│           ┆           ┆           ┆           ┆   ┆           ┆           ┆           ┆ 4        │\n",
       "│ 13145     ┆ 0.820368  ┆ 68696.014 ┆ 1017      ┆ … ┆ 35732.164 ┆ 1111      ┆ 0.792802  ┆ 41133.89 │\n",
       "│           ┆           ┆           ┆           ┆   ┆           ┆           ┆           ┆ 6        │\n",
       "│ 13145     ┆ 0.820368  ┆ 68696.014 ┆ 1017      ┆ … ┆ 35732.164 ┆ 13145     ┆ 0.820368  ┆ 68696.01 │\n",
       "│           ┆           ┆           ┆           ┆   ┆           ┆           ┆           ┆ 4        │\n",
       "│ 13145     ┆ 0.820368  ┆ 68696.014 ┆ 1017      ┆ … ┆ 35732.164 ┆ 13285     ┆ 0.915647  ┆ 45676.00 │\n",
       "│           ┆           ┆           ┆           ┆   ┆           ┆           ┆           ┆ 1        │\n",
       "│ …         ┆ …         ┆ …         ┆ …         ┆ … ┆ …         ┆ …         ┆ …         ┆ …        │\n",
       "│ 13145     ┆ 0.820368  ┆ 68696.014 ┆ 13263     ┆ … ┆ 38125.096 ┆ 13199     ┆ 0.830496  ┆ 38813.85 │\n",
       "│           ┆           ┆           ┆           ┆   ┆           ┆           ┆           ┆ 4        │\n",
       "│ 33009     ┆ 0.92351   ┆ 73894.779 ┆ 50009     ┆ … ┆ 36830.902 ┆ 33009     ┆ 0.92351   ┆ 73894.77 │\n",
       "│           ┆           ┆           ┆           ┆   ┆           ┆           ┆           ┆ 9        │\n",
       "│ 33009     ┆ 0.92351   ┆ 73894.779 ┆ 50009     ┆ … ┆ 36830.902 ┆ 50005     ┆ 0.84341   ┆ 45430.69 │\n",
       "│ 33009     ┆ 0.92351   ┆ 73894.779 ┆ 50009     ┆ … ┆ 36830.902 ┆ 33007     ┆ 0.770097  ┆ 44032.93 │\n",
       "│           ┆           ┆           ┆           ┆   ┆           ┆           ┆           ┆ 3        │\n",
       "│ 33009     ┆ 0.92351   ┆ 73894.779 ┆ 50009     ┆ … ┆ 36830.902 ┆ 50019     ┆ 0.773303  ┆ 42178.61 │\n",
       "│           ┆           ┆           ┆           ┆   ┆           ┆           ┆           ┆ 8        │\n",
       "└───────────┴───────────┴───────────┴───────────┴───┴───────────┴───────────┴───────────┴──────────┘"
      ]
     },
     "execution_count": 198,
     "metadata": {},
     "output_type": "execute_result"
    }
   ],
   "source": [
    "renamed_rnp.join(renamed_pnr, left_on='STATE_COUNTY_FIPS_adj', right_on='STATE_COUNTY_FIPS_focus', how='inner')"
   ]
  },
  {
   "cell_type": "code",
   "execution_count": null,
   "id": "aa234943-2448-4137-8f24-545fdb408279",
   "metadata": {},
   "outputs": [],
   "source": []
  }
 ],
 "metadata": {
  "kernelspec": {
   "display_name": "Python 3 (ipykernel)",
   "language": "python",
   "name": "python3"
  },
  "language_info": {
   "codemirror_mode": {
    "name": "ipython",
    "version": 3
   },
   "file_extension": ".py",
   "mimetype": "text/x-python",
   "name": "python",
   "nbconvert_exporter": "python",
   "pygments_lexer": "ipython3",
   "version": "3.10.12"
  }
 },
 "nbformat": 4,
 "nbformat_minor": 5
}
