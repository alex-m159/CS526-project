{
 "cells": [
  {
   "cell_type": "code",
   "execution_count": 1,
   "id": "2a7e6bce-353e-4e4a-a8e2-b6ce2d4ffe85",
   "metadata": {},
   "outputs": [
    {
     "name": "stdout",
     "output_type": "stream",
     "text": [
      "Hello"
     ]
    }
   ],
   "source": [
    "print(\"Hello\")"
   ]
  },
  {
   "cell_type": "code",
   "execution_count": null,
   "id": "b57f59f8-c6bb-45b7-ba8b-5cb0c6b26940",
   "metadata": {},
   "outputs": [],
   "source": [
    "# using Pkg\n",
    "# Pkg.add(\"JSON\")"
   ]
  },
  {
   "cell_type": "code",
   "execution_count": 2,
   "id": "26ddf249-653d-405e-8090-dbb90bf3e163",
   "metadata": {},
   "outputs": [],
   "source": [
    "import JSON"
   ]
  },
  {
   "cell_type": "code",
   "execution_count": 3,
   "id": "e4b2a0e3-c92d-45d5-a127-358f5ce24d3b",
   "metadata": {},
   "outputs": [
    {
     "data": {
      "text/plain": [
       "Dict{String, Any} with 3192 entries:\n",
       "  \"51153\" => Any[Any[-42620.9, 214250], Any[5091.14, 214250], Any[17212.9, 2142…\n",
       "  \"30011\" => Any[Any[-27466.7, 570], Any[4814.29, 570], Any[16746.2, 570], Any[…\n",
       "  \"37031\" => Any[Any[-58693.5, 32340], Any[5265.1, 32340], Any[17064.6, 32340],…\n",
       "  \"48189\" => Any[Any[-95832.1, 13380], Any[5339.46, 13380], Any[17279.6, 13380]…\n",
       "  \"51790\" => Any[Any[-31115.4, 11770], Any[5552.41, 11770], Any[17138.3, 11770]…\n",
       "  \"30061\" => Any[Any[-33583.3, 1850], Any[5278.57, 1850], Any[17131.9, 1850], A…\n",
       "  \"54015\" => Any[Any[-10033.3, 3170], Any[5333.96, 3170], Any[16987.0, 3170], A…\n",
       "  \"55043\" => Any[Any[-1.01181e5, 22730], Any[5064.86, 22730], Any[17072.6, 2273…\n",
       "  \"48097\" => Any[Any[-73236.1, 17970], Any[5210.89, 17970], Any[17230.5, 17970]…\n",
       "  \"51036\" => Any[Any[-23900.0, 3540], Any[5473.91, 3540], Any[17423.5, 3540], A…\n",
       "  \"18001\" => Any[Any[-40737.5, 15150], Any[4846.15, 15150], Any[17226.6, 15150]…\n",
       "  \"18183\" => Any[Any[-26531.8, 16500], Any[4825.84, 16500], Any[17175.1, 16500]…\n",
       "  \"40021\" => Any[Any[-46700.0, 17960], Any[5351.88, 17960], Any[17348.7, 17960]…\n",
       "  \"5031\"  => Any[Any[-96252.8, 42270], Any[5576.21, 42270], Any[16875.0, 42270]…\n",
       "  \"48035\" => Any[Any[-50647.8, 7560], Any[5091.15, 7560], Any[17587.9, 7560], A…\n",
       "  \"47065\" => Any[Any[-1.18931e5, 164850], Any[5282.78, 164850], Any[17130.9, 16…\n",
       "  \"31039\" => Any[Any[-78263.6, 4420], Any[5163.64, 4420], Any[16996.0, 4420], A…\n",
       "  \"27115\" => Any[Any[-50421.1, 12710], Any[5167.69, 12710], Any[17467.1, 12710]…\n",
       "  \"19031\" => Any[Any[-57230.8, 8840], Any[5198.1, 8840], Any[17272.5, 8840], An…\n",
       "  \"6077\"  => Any[Any[-91912.7, 302600], Any[5541.28, 302600], Any[17190.6, 3026…\n",
       "  \"48229\" => Any[Any[-81300.0, 1770], Any[5500.0, 1770], Any[16895.7, 1770], An…\n",
       "  \"19111\" => Any[Any[-60095.0, 15810], Any[5416.16, 15810], Any[17175.3, 15810]…\n",
       "  \"29121\" => Any[Any[-38573.7, 6940], Any[5021.64, 6940], Any[17150.3, 6940], A…\n",
       "  \"26073\" => Any[Any[-32938.1, 26610], Any[4958.79, 26610], Any[16876.0, 26610]…\n",
       "  \"40073\" => Any[Any[-93826.7, 6810], Any[5267.44, 6810], Any[17194.9, 6810], A…\n",
       "  ⋮       => ⋮"
      ]
     },
     "execution_count": 3,
     "metadata": {},
     "output_type": "execute_result"
    }
   ],
   "source": [
    "ct = JSON.parsefile(\"./county_tax.json\")"
   ]
  },
  {
   "cell_type": "code",
   "execution_count": 4,
   "id": "8c7d5e9a-3181-4723-9f24-e4169df96b50",
   "metadata": {},
   "outputs": [],
   "source": [
    "d = Dict{Int64, Vector{Tuple{Float64, Int64}}}()\n",
    "for (k, v) in ct\n",
    "    new = map(a -> (a[1], a[2]), v)\n",
    "    # println(new)\n",
    "    # println(typeof(new))\n",
    "    d[parse(Int64, k)] = new\n",
    "    break\n",
    "end"
   ]
  },
  {
   "cell_type": "code",
   "execution_count": 48,
   "id": "dcc72a02-4c4c-4d99-9032-cfe0237e2da0",
   "metadata": {},
   "outputs": [
    {
     "data": {
      "text/plain": [
       "gini (generic function with 2 methods)"
      ]
     },
     "execution_count": 48,
     "metadata": {},
     "output_type": "execute_result"
    }
   ],
   "source": [
    "function expand(indivs::Vector{Tuple{Float64, Int64}})::Vector{Float64}\n",
    "    \n",
    "    \n",
    "    count_sum = 0\n",
    "    for (agi, count) in indivs\n",
    "        count_sum += count\n",
    "    end\n",
    "    \n",
    "    v = Vector{Float64}(undef, count_sum)\n",
    "    i = 1\n",
    "    \n",
    "    for (agi, count) in indivs\n",
    "        for _ in 0:count\n",
    "            v[i] = agi\n",
    "            return v\n",
    "        end\n",
    "    end\n",
    "\n",
    "    return v\n",
    "end\n",
    "\n",
    "function gini(indivs::Vector{Float64})::Nothing\n",
    "    n = length(indivs)    \n",
    "    println(\"Got length\")\n",
    "    println(n)    \n",
    "    \n",
    "    non_neg = filter(n -> n >= 0, indivs)\n",
    "    T_a = sum(non_neg)\n",
    "    neg = filter(n -> n < 0, indivs)\n",
    "    abs_neg = map(n -> abs(n), neg)\n",
    "    \n",
    "    T_n = sum(abs_neg)\n",
    "\n",
    "    s::BigFloat = 0.0\n",
    "    for i in indivs\n",
    "        s += i\n",
    "    end\n",
    "    println(s)\n",
    "    println(n)\n",
    "    avg = s / n\n",
    "    \n",
    "    println(\"Avg Indivs\")\n",
    "    println(avg)\n",
    "    \n",
    "    abs_sum = 0\n",
    "    println(\"Summing differences\")\n",
    "    \n",
    "    for i in indivs\n",
    "        for j in indivs\n",
    "            abs_sum += abs(i - j)\n",
    "        end\n",
    "        g = abs_sum / (2 * (n-1) * (T_a - T_n))\n",
    "        println(abs_sum)\n",
    "        println(g)\n",
    "        return \n",
    "    end\n",
    "end"
   ]
  },
  {
   "cell_type": "code",
   "execution_count": 49,
   "id": "71dd1bea-b050-4077-a160-56407c00df1e",
   "metadata": {},
   "outputs": [
    {
     "name": "stdout",
     "output_type": "stream",
     "text": [
      "[(-42620.85889570552, 214250), (5091.142191142191, 214250), (17212.88850869689, 214250), (36739.36662043458, 214250), (61676.74813306178, 214250), (87072.30839416059, 214250), (139534.0206185567, 214250), (307303.2544378698, 214250)]\n",
      "Vector{Tuple{Float64, Int64}}\n",
      "Got length\n",
      "1714000\n",
      "5.734919510719431014491402765863118080688311761880246974720163356831051203556639e+308\n",
      "1714000\n",
      "Avg Indivs\n",
      "3.345927369147859401686932768881632485815817830735266613022265669096295918061051e+302\n",
      "Summing differences\n",
      "Inf\n",
      "NaN\n"
     ]
    }
   ],
   "source": [
    "for (k, v) in d\n",
    "    new = map(a -> (a[1], a[2]), v)\n",
    "    println(new)\n",
    "    println(typeof(new))\n",
    "    expanded = expand(new)\n",
    "    gini(expanded)\n",
    "    break\n",
    "end"
   ]
  },
  {
   "cell_type": "code",
   "execution_count": null,
   "id": "5c8bdd14-982a-4372-aea1-c444f5e4a7b1",
   "metadata": {},
   "outputs": [],
   "source": []
  }
 ],
 "metadata": {
  "kernelspec": {
   "display_name": "Julia 1.10.2",
   "language": "julia",
   "name": "julia-1.10"
  },
  "language_info": {
   "file_extension": ".jl",
   "mimetype": "application/julia",
   "name": "julia",
   "version": "1.10.2"
  }
 },
 "nbformat": 4,
 "nbformat_minor": 5
}
